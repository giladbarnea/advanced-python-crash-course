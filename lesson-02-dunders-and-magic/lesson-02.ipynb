{
 "cells": [
  {
   "cell_type": "code",
   "execution_count": 1,
   "id": "085ae97b-e8aa-4a32-b44b-f85a16b696b1",
   "metadata": {
    "tags": []
   },
   "outputs": [],
   "source": [
    "from rich.pretty import install\n",
    "from rich import inspect\n",
    "install()\n",
    "def what(obj, *args, **kwargs):\n",
    "    return inspect(obj, *args, dunder=kwargs.pop('dunder', True), **kwargs)\n",
    "def uniquedir(obj):\n",
    "    return sorted(set(dir(obj)) - set(dir(object)) - set(dir(type)))\n",
    "def is_from_ipython(prop):\n",
    "    return (prop.startswith(\"_i\") or (len(prop) > 1 and prop[1].isdigit()) or prop in (\"In\", \"Out\", \"_\", \"__\", \"___\", \"_dh\", \"_oh\", \"get_ipython\", \"exit\", \"open\", \"quit\", \"__builtin__\",))\n",
    "from typing import TypeVar, Generic, Type\n",
    "TInstance = TypeVar(\"TInstance\")\n",
    "TProperty = TypeVar(\"TProperty\", bound=Type)\n"
   ]
  },
  {
   "cell_type": "markdown",
   "id": "590abdb8-95f0-43ee-999c-a790528bb9ea",
   "metadata": {},
   "source": [
    "# Everything is an `object`"
   ]
  },
  {
   "cell_type": "markdown",
   "id": "a89b583e-ee7a-4960-9dfb-a55360843f3d",
   "metadata": {},
   "source": [
    "### `class type(object): ...`"
   ]
  },
  {
   "cell_type": "code",
   "execution_count": 3,
   "id": "2b944ba6-2199-4338-8a4f-344afc0af3b2",
   "metadata": {
    "tags": []
   },
   "outputs": [],
   "source": [
    "class Team:\n",
    "    pass"
   ]
  },
  {
   "cell_type": "code",
   "execution_count": 4,
   "id": "08724d81-f726-45b2-8fae-bd56846945e3",
   "metadata": {
    "tags": []
   },
   "outputs": [
    {
     "data": {
      "text/html": [
       "<pre style=\"white-space:pre;overflow-x:auto;line-height:normal;font-family:Menlo,'DejaVu Sans Mono',consolas,'Courier New',monospace\"><span style=\"font-weight: bold\">&lt;</span><span style=\"color: #ff00ff; text-decoration-color: #ff00ff; font-weight: bold\">class</span><span style=\"color: #000000; text-decoration-color: #000000\"> </span><span style=\"color: #008000; text-decoration-color: #008000\">'type'</span><span style=\"font-weight: bold\">&gt;</span>\n",
       "</pre>\n"
      ],
      "text/plain": [
       "\u001b[1m<\u001b[0m\u001b[1;95mclass\u001b[0m\u001b[39m \u001b[0m\u001b[32m'type'\u001b[0m\u001b[1m>\u001b[0m\n"
      ]
     },
     "metadata": {},
     "output_type": "display_data"
    }
   ],
   "source": [
    "type(Team)"
   ]
  },
  {
   "cell_type": "code",
   "execution_count": 5,
   "id": "7b5ed2a0-f871-48cf-9375-9f3a3333f515",
   "metadata": {},
   "outputs": [
    {
     "data": {
      "text/html": [
       "<pre style=\"white-space:pre;overflow-x:auto;line-height:normal;font-family:Menlo,'DejaVu Sans Mono',consolas,'Courier New',monospace\"><span style=\"font-weight: bold\">&lt;</span><span style=\"color: #ff00ff; text-decoration-color: #ff00ff; font-weight: bold\">class</span><span style=\"color: #000000; text-decoration-color: #000000\"> </span><span style=\"color: #008000; text-decoration-color: #008000\">'type'</span><span style=\"font-weight: bold\">&gt;</span>\n",
       "</pre>\n"
      ],
      "text/plain": [
       "\u001b[1m<\u001b[0m\u001b[1;95mclass\u001b[0m\u001b[39m \u001b[0m\u001b[32m'type'\u001b[0m\u001b[1m>\u001b[0m\n"
      ]
     },
     "metadata": {},
     "output_type": "display_data"
    }
   ],
   "source": [
    "Team.__class__"
   ]
  },
  {
   "cell_type": "code",
   "execution_count": 6,
   "id": "46def306-2e15-4e03-8760-2e6c14713b0a",
   "metadata": {},
   "outputs": [],
   "source": [
    "type_of_Team = type(Team)"
   ]
  },
  {
   "cell_type": "code",
   "execution_count": 7,
   "id": "8116551a-f1b6-410d-b5ee-8b94ce91d0bf",
   "metadata": {},
   "outputs": [
    {
     "data": {
      "text/html": [
       "<pre style=\"white-space:pre;overflow-x:auto;line-height:normal;font-family:Menlo,'DejaVu Sans Mono',consolas,'Courier New',monospace\"><span style=\"color: #00ff00; text-decoration-color: #00ff00; font-style: italic\">True</span>\n",
       "</pre>\n"
      ],
      "text/plain": [
       "\u001b[3;92mTrue\u001b[0m\n"
      ]
     },
     "metadata": {},
     "output_type": "display_data"
    }
   ],
   "source": [
    "isinstance(type_of_Team, object)"
   ]
  },
  {
   "cell_type": "code",
   "execution_count": 8,
   "id": "f230bc47-2fb6-428b-95c5-3068a87b3eed",
   "metadata": {},
   "outputs": [
    {
     "data": {
      "text/html": [
       "<pre style=\"white-space:pre;overflow-x:auto;line-height:normal;font-family:Menlo,'DejaVu Sans Mono',consolas,'Courier New',monospace\"><span style=\"color: #00ff00; text-decoration-color: #00ff00; font-style: italic\">True</span>\n",
       "</pre>\n"
      ],
      "text/plain": [
       "\u001b[3;92mTrue\u001b[0m\n"
      ]
     },
     "metadata": {},
     "output_type": "display_data"
    }
   ],
   "source": [
    "isinstance(type_of_Team, type)"
   ]
  },
  {
   "cell_type": "code",
   "execution_count": 9,
   "id": "78d313c6-a0c9-48d1-a098-eaf160b90385",
   "metadata": {},
   "outputs": [
    {
     "data": {
      "text/html": [
       "<pre style=\"white-space:pre;overflow-x:auto;line-height:normal;font-family:Menlo,'DejaVu Sans Mono',consolas,'Courier New',monospace\"><span style=\"color: #ff0000; text-decoration-color: #ff0000; font-style: italic\">False</span>\n",
       "</pre>\n"
      ],
      "text/plain": [
       "\u001b[3;91mFalse\u001b[0m\n"
      ]
     },
     "metadata": {},
     "output_type": "display_data"
    }
   ],
   "source": [
    "isinstance(type_of_Team, Team)"
   ]
  },
  {
   "cell_type": "code",
   "execution_count": 10,
   "id": "3e7c8216-e55c-44e6-a002-35df4ec8f134",
   "metadata": {
    "collapsed": true,
    "jupyter": {
     "outputs_hidden": true
    },
    "tags": []
   },
   "outputs": [
    {
     "data": {
      "text/html": [
       "<pre style=\"white-space:pre;overflow-x:auto;line-height:normal;font-family:Menlo,'DejaVu Sans Mono',consolas,'Courier New',monospace\"><span style=\"color: #000080; text-decoration-color: #000080\">╭───────────────────────────────────────────── </span><span style=\"color: #000080; text-decoration-color: #000080; font-weight: bold\">&lt;</span><span style=\"color: #ff00ff; text-decoration-color: #ff00ff; font-weight: bold\">class</span><span style=\"color: #000000; text-decoration-color: #000000\"> </span><span style=\"color: #008000; text-decoration-color: #008000\">'type'</span><span style=\"color: #000080; text-decoration-color: #000080; font-weight: bold\">&gt;</span><span style=\"color: #000080; text-decoration-color: #000080\"> ─────────────────────────────────────────────╮</span>\n",
       "<span style=\"color: #000080; text-decoration-color: #000080\">│</span> <span style=\"color: #00ffff; text-decoration-color: #00ffff; font-style: italic\">class </span><span style=\"color: #800000; text-decoration-color: #800000; font-weight: bold\">type</span><span style=\"font-weight: bold\">(</span><span style=\"color: #808000; text-decoration-color: #808000\">...</span><span style=\"font-weight: bold\">)</span>                                                                                          <span style=\"color: #000080; text-decoration-color: #000080\">│</span>\n",
       "<span style=\"color: #000080; text-decoration-color: #000080\">│</span>                                                                                                          <span style=\"color: #000080; text-decoration-color: #000080\">│</span>\n",
       "<span style=\"color: #000080; text-decoration-color: #000080\">│</span> <span style=\"color: #800080; text-decoration-color: #800080; font-weight: bold\">type</span><span style=\"color: #008080; text-decoration-color: #008080; font-weight: bold\">(</span><span style=\"color: #008080; text-decoration-color: #008080\">object</span><span style=\"color: #008080; text-decoration-color: #008080; font-weight: bold\">)</span><span style=\"color: #008080; text-decoration-color: #008080\"> -&gt; the object's type</span>                                                                        <span style=\"color: #000080; text-decoration-color: #000080\">│</span>\n",
       "<span style=\"color: #000080; text-decoration-color: #000080\">│</span> <span style=\"color: #800080; text-decoration-color: #800080; font-weight: bold\">type</span><span style=\"color: #008080; text-decoration-color: #008080; font-weight: bold\">(</span><span style=\"color: #008080; text-decoration-color: #008080\">name, bases, dict, **kwds</span><span style=\"color: #008080; text-decoration-color: #008080; font-weight: bold\">)</span><span style=\"color: #008080; text-decoration-color: #008080\"> -&gt; a new type</span>                                                            <span style=\"color: #000080; text-decoration-color: #000080\">│</span>\n",
       "<span style=\"color: #000080; text-decoration-color: #000080\">│</span>                                                                                                          <span style=\"color: #000080; text-decoration-color: #000080\">│</span>\n",
       "<span style=\"color: #000080; text-decoration-color: #000080\">│</span> <span style=\"color: #bf7f7f; text-decoration-color: #bf7f7f; font-weight: bold; font-style: italic\">__abstractmethods__</span><span style=\"color: #800000; text-decoration-color: #800000; font-weight: bold\"> =</span> <span style=\"color: #800080; text-decoration-color: #800080; font-weight: bold\">AttributeError</span><span style=\"font-weight: bold\">(</span><span style=\"color: #008000; text-decoration-color: #008000\">'__abstractmethods__'</span><span style=\"font-weight: bold\">)</span>                                              <span style=\"color: #000080; text-decoration-color: #000080\">│</span>\n",
       "<span style=\"color: #000080; text-decoration-color: #000080\">│</span>     <span style=\"color: #bf7f7f; text-decoration-color: #bf7f7f; font-weight: bold; font-style: italic\">__annotations__</span><span style=\"color: #800000; text-decoration-color: #800000; font-weight: bold\"> =</span> <span style=\"color: #800080; text-decoration-color: #800080; font-weight: bold\">AttributeError</span><span style=\"font-weight: bold\">(</span><span style=\"color: #008000; text-decoration-color: #008000\">\"type object 'type' has no attribute '__annotations__'\"</span><span style=\"font-weight: bold\">)</span>            <span style=\"color: #000080; text-decoration-color: #000080\">│</span>\n",
       "<span style=\"color: #000080; text-decoration-color: #000080\">│</span>           <span style=\"color: #bfbf7f; text-decoration-color: #bfbf7f; font-style: italic\">__bases__</span> = <span style=\"font-weight: bold\">(&lt;</span><span style=\"color: #ff00ff; text-decoration-color: #ff00ff; font-weight: bold\">class</span><span style=\"color: #000000; text-decoration-color: #000000\"> </span><span style=\"color: #008000; text-decoration-color: #008000\">'object'</span><span style=\"font-weight: bold\">&gt;</span>,<span style=\"font-weight: bold\">)</span>                                                                <span style=\"color: #000080; text-decoration-color: #000080\">│</span>\n",
       "<span style=\"color: #000080; text-decoration-color: #000080\">│</span>       <span style=\"color: #bfbf7f; text-decoration-color: #bfbf7f; font-style: italic\">__basicsize__</span> = <span style=\"color: #008080; text-decoration-color: #008080; font-weight: bold\">888</span>                                                                                <span style=\"color: #000080; text-decoration-color: #000080\">│</span>\n",
       "<span style=\"color: #000080; text-decoration-color: #000080\">│</span>            <span style=\"color: #bfbf7f; text-decoration-color: #bfbf7f; font-style: italic\">__dict__</span> = <span style=\"color: #800080; text-decoration-color: #800080; font-weight: bold\">mappingproxy</span><span style=\"font-weight: bold\">({</span>                                                                     <span style=\"color: #000080; text-decoration-color: #000080\">│</span>\n",
       "<span style=\"color: #000080; text-decoration-color: #000080\">│</span>                           <span style=\"color: #008000; text-decoration-color: #008000\">'__new__'</span>: <span style=\"font-weight: bold\">&lt;</span><span style=\"color: #ff00ff; text-decoration-color: #ff00ff; font-weight: bold\">built-in</span><span style=\"color: #000000; text-decoration-color: #000000\"> method __new__ of type object at </span><span style=\"color: #008080; text-decoration-color: #008080; font-weight: bold\">0x100932718</span><span style=\"font-weight: bold\">&gt;</span>,            <span style=\"color: #000080; text-decoration-color: #000080\">│</span>\n",
       "<span style=\"color: #000080; text-decoration-color: #000080\">│</span>                           <span style=\"color: #008000; text-decoration-color: #008000\">'__repr__'</span>: <span style=\"font-weight: bold\">&lt;</span><span style=\"color: #ff00ff; text-decoration-color: #ff00ff; font-weight: bold\">slot</span><span style=\"color: #000000; text-decoration-color: #000000\"> wrapper </span><span style=\"color: #008000; text-decoration-color: #008000\">'__repr__'</span><span style=\"color: #000000; text-decoration-color: #000000\"> of </span><span style=\"color: #008000; text-decoration-color: #008000\">'type'</span><span style=\"color: #000000; text-decoration-color: #000000\"> objects</span><span style=\"font-weight: bold\">&gt;</span>,                       <span style=\"color: #000080; text-decoration-color: #000080\">│</span>\n",
       "<span style=\"color: #000080; text-decoration-color: #000080\">│</span>                           <span style=\"color: #008000; text-decoration-color: #008000\">'__call__'</span>: <span style=\"font-weight: bold\">&lt;</span><span style=\"color: #ff00ff; text-decoration-color: #ff00ff; font-weight: bold\">slot</span><span style=\"color: #000000; text-decoration-color: #000000\"> wrapper </span><span style=\"color: #008000; text-decoration-color: #008000\">'__call__'</span><span style=\"color: #000000; text-decoration-color: #000000\"> of </span><span style=\"color: #008000; text-decoration-color: #008000\">'type'</span><span style=\"color: #000000; text-decoration-color: #000000\"> objects</span><span style=\"font-weight: bold\">&gt;</span>,                       <span style=\"color: #000080; text-decoration-color: #000080\">│</span>\n",
       "<span style=\"color: #000080; text-decoration-color: #000080\">│</span>                           <span style=\"color: #008000; text-decoration-color: #008000\">'__getattribute__'</span>: <span style=\"font-weight: bold\">&lt;</span><span style=\"color: #ff00ff; text-decoration-color: #ff00ff; font-weight: bold\">slot</span><span style=\"color: #000000; text-decoration-color: #000000\"> wrapper </span><span style=\"color: #008000; text-decoration-color: #008000\">'__getattribute__'</span><span style=\"color: #000000; text-decoration-color: #000000\"> of </span><span style=\"color: #008000; text-decoration-color: #008000\">'type'</span><span style=\"color: #000000; text-decoration-color: #000000\"> objects</span><span style=\"font-weight: bold\">&gt;</span>,       <span style=\"color: #000080; text-decoration-color: #000080\">│</span>\n",
       "<span style=\"color: #000080; text-decoration-color: #000080\">│</span>                           <span style=\"color: #008000; text-decoration-color: #008000\">'__setattr__'</span>: <span style=\"font-weight: bold\">&lt;</span><span style=\"color: #ff00ff; text-decoration-color: #ff00ff; font-weight: bold\">slot</span><span style=\"color: #000000; text-decoration-color: #000000\"> wrapper </span><span style=\"color: #008000; text-decoration-color: #008000\">'__setattr__'</span><span style=\"color: #000000; text-decoration-color: #000000\"> of </span><span style=\"color: #008000; text-decoration-color: #008000\">'type'</span><span style=\"color: #000000; text-decoration-color: #000000\"> objects</span><span style=\"font-weight: bold\">&gt;</span>,                 <span style=\"color: #000080; text-decoration-color: #000080\">│</span>\n",
       "<span style=\"color: #000080; text-decoration-color: #000080\">│</span>                           <span style=\"color: #008000; text-decoration-color: #008000\">'__delattr__'</span>: <span style=\"font-weight: bold\">&lt;</span><span style=\"color: #ff00ff; text-decoration-color: #ff00ff; font-weight: bold\">slot</span><span style=\"color: #000000; text-decoration-color: #000000\"> wrapper </span><span style=\"color: #008000; text-decoration-color: #008000\">'__delattr__'</span><span style=\"color: #000000; text-decoration-color: #000000\"> of </span><span style=\"color: #008000; text-decoration-color: #008000\">'type'</span><span style=\"color: #000000; text-decoration-color: #000000\"> objects</span><span style=\"font-weight: bold\">&gt;</span>,                 <span style=\"color: #000080; text-decoration-color: #000080\">│</span>\n",
       "<span style=\"color: #000080; text-decoration-color: #000080\">│</span>                           <span style=\"color: #008000; text-decoration-color: #008000\">'__init__'</span>: <span style=\"font-weight: bold\">&lt;</span><span style=\"color: #ff00ff; text-decoration-color: #ff00ff; font-weight: bold\">slot</span><span style=\"color: #000000; text-decoration-color: #000000\"> wrapper </span><span style=\"color: #008000; text-decoration-color: #008000\">'__init__'</span><span style=\"color: #000000; text-decoration-color: #000000\"> of </span><span style=\"color: #008000; text-decoration-color: #008000\">'type'</span><span style=\"color: #000000; text-decoration-color: #000000\"> objects</span><span style=\"font-weight: bold\">&gt;</span>,                       <span style=\"color: #000080; text-decoration-color: #000080\">│</span>\n",
       "<span style=\"color: #000080; text-decoration-color: #000080\">│</span>                           <span style=\"color: #008000; text-decoration-color: #008000\">'__or__'</span>: <span style=\"font-weight: bold\">&lt;</span><span style=\"color: #ff00ff; text-decoration-color: #ff00ff; font-weight: bold\">slot</span><span style=\"color: #000000; text-decoration-color: #000000\"> wrapper </span><span style=\"color: #008000; text-decoration-color: #008000\">'__or__'</span><span style=\"color: #000000; text-decoration-color: #000000\"> of </span><span style=\"color: #008000; text-decoration-color: #008000\">'type'</span><span style=\"color: #000000; text-decoration-color: #000000\"> objects</span><span style=\"font-weight: bold\">&gt;</span>,                           <span style=\"color: #000080; text-decoration-color: #000080\">│</span>\n",
       "<span style=\"color: #000080; text-decoration-color: #000080\">│</span>                           <span style=\"color: #008000; text-decoration-color: #008000\">'__ror__'</span>: <span style=\"font-weight: bold\">&lt;</span><span style=\"color: #ff00ff; text-decoration-color: #ff00ff; font-weight: bold\">slot</span><span style=\"color: #000000; text-decoration-color: #000000\"> wrapper </span><span style=\"color: #008000; text-decoration-color: #008000\">'__ror__'</span><span style=\"color: #000000; text-decoration-color: #000000\"> of </span><span style=\"color: #008000; text-decoration-color: #008000\">'type'</span><span style=\"color: #000000; text-decoration-color: #000000\"> objects</span><span style=\"font-weight: bold\">&gt;</span>,                         <span style=\"color: #000080; text-decoration-color: #000080\">│</span>\n",
       "<span style=\"color: #000080; text-decoration-color: #000080\">│</span>                           <span style=\"color: #008000; text-decoration-color: #008000\">'mro'</span>: <span style=\"font-weight: bold\">&lt;</span><span style=\"color: #ff00ff; text-decoration-color: #ff00ff; font-weight: bold\">method</span><span style=\"color: #000000; text-decoration-color: #000000\"> </span><span style=\"color: #008000; text-decoration-color: #008000\">'mro'</span><span style=\"color: #000000; text-decoration-color: #000000\"> of </span><span style=\"color: #008000; text-decoration-color: #008000\">'type'</span><span style=\"color: #000000; text-decoration-color: #000000\"> objects</span><span style=\"font-weight: bold\">&gt;</span>,                                       <span style=\"color: #000080; text-decoration-color: #000080\">│</span>\n",
       "<span style=\"color: #000080; text-decoration-color: #000080\">│</span>                           <span style=\"color: #008000; text-decoration-color: #008000\">'__subclasses__'</span>: <span style=\"font-weight: bold\">&lt;</span><span style=\"color: #ff00ff; text-decoration-color: #ff00ff; font-weight: bold\">method</span><span style=\"color: #000000; text-decoration-color: #000000\"> </span><span style=\"color: #008000; text-decoration-color: #008000\">'__subclasses__'</span><span style=\"color: #000000; text-decoration-color: #000000\"> of </span><span style=\"color: #008000; text-decoration-color: #008000\">'type'</span><span style=\"color: #000000; text-decoration-color: #000000\"> objects</span><span style=\"font-weight: bold\">&gt;</span>,                 <span style=\"color: #000080; text-decoration-color: #000080\">│</span>\n",
       "<span style=\"color: #000080; text-decoration-color: #000080\">│</span>                           <span style=\"color: #008000; text-decoration-color: #008000\">'__prepare__'</span>: <span style=\"font-weight: bold\">&lt;</span><span style=\"color: #ff00ff; text-decoration-color: #ff00ff; font-weight: bold\">method</span><span style=\"color: #000000; text-decoration-color: #000000\"> </span><span style=\"color: #008000; text-decoration-color: #008000\">'__prepare__'</span><span style=\"color: #000000; text-decoration-color: #000000\"> of </span><span style=\"color: #008000; text-decoration-color: #008000\">'type'</span><span style=\"color: #000000; text-decoration-color: #000000\"> objects</span><span style=\"font-weight: bold\">&gt;</span>,                       <span style=\"color: #000080; text-decoration-color: #000080\">│</span>\n",
       "<span style=\"color: #000080; text-decoration-color: #000080\">│</span>                           <span style=\"color: #008000; text-decoration-color: #008000\">'__instancecheck__'</span>: <span style=\"font-weight: bold\">&lt;</span><span style=\"color: #ff00ff; text-decoration-color: #ff00ff; font-weight: bold\">method</span><span style=\"color: #000000; text-decoration-color: #000000\"> </span><span style=\"color: #008000; text-decoration-color: #008000\">'__instancecheck__'</span><span style=\"color: #000000; text-decoration-color: #000000\"> of </span><span style=\"color: #008000; text-decoration-color: #008000\">'type'</span><span style=\"color: #000000; text-decoration-color: #000000\"> objects</span><span style=\"font-weight: bold\">&gt;</span>,           <span style=\"color: #000080; text-decoration-color: #000080\">│</span>\n",
       "<span style=\"color: #000080; text-decoration-color: #000080\">│</span>                           <span style=\"color: #008000; text-decoration-color: #008000\">'__subclasscheck__'</span>: <span style=\"font-weight: bold\">&lt;</span><span style=\"color: #ff00ff; text-decoration-color: #ff00ff; font-weight: bold\">method</span><span style=\"color: #000000; text-decoration-color: #000000\"> </span><span style=\"color: #008000; text-decoration-color: #008000\">'__subclasscheck__'</span><span style=\"color: #000000; text-decoration-color: #000000\"> of </span><span style=\"color: #008000; text-decoration-color: #008000\">'type'</span><span style=\"color: #000000; text-decoration-color: #000000\"> objects</span><span style=\"font-weight: bold\">&gt;</span>,           <span style=\"color: #000080; text-decoration-color: #000080\">│</span>\n",
       "<span style=\"color: #000080; text-decoration-color: #000080\">│</span>                           <span style=\"color: #008000; text-decoration-color: #008000\">'__dir__'</span>: <span style=\"font-weight: bold\">&lt;</span><span style=\"color: #ff00ff; text-decoration-color: #ff00ff; font-weight: bold\">method</span><span style=\"color: #000000; text-decoration-color: #000000\"> </span><span style=\"color: #008000; text-decoration-color: #008000\">'__dir__'</span><span style=\"color: #000000; text-decoration-color: #000000\"> of </span><span style=\"color: #008000; text-decoration-color: #008000\">'type'</span><span style=\"color: #000000; text-decoration-color: #000000\"> objects</span><span style=\"font-weight: bold\">&gt;</span>,                               <span style=\"color: #000080; text-decoration-color: #000080\">│</span>\n",
       "<span style=\"color: #000080; text-decoration-color: #000080\">│</span>                           <span style=\"color: #008000; text-decoration-color: #008000\">'__sizeof__'</span>: <span style=\"font-weight: bold\">&lt;</span><span style=\"color: #ff00ff; text-decoration-color: #ff00ff; font-weight: bold\">method</span><span style=\"color: #000000; text-decoration-color: #000000\"> </span><span style=\"color: #008000; text-decoration-color: #008000\">'__sizeof__'</span><span style=\"color: #000000; text-decoration-color: #000000\"> of </span><span style=\"color: #008000; text-decoration-color: #008000\">'type'</span><span style=\"color: #000000; text-decoration-color: #000000\"> objects</span><span style=\"font-weight: bold\">&gt;</span>,                         <span style=\"color: #000080; text-decoration-color: #000080\">│</span>\n",
       "<span style=\"color: #000080; text-decoration-color: #000080\">│</span>                           <span style=\"color: #008000; text-decoration-color: #008000\">'__basicsize__'</span>: <span style=\"font-weight: bold\">&lt;</span><span style=\"color: #ff00ff; text-decoration-color: #ff00ff; font-weight: bold\">member</span><span style=\"color: #000000; text-decoration-color: #000000\"> </span><span style=\"color: #008000; text-decoration-color: #008000\">'__basicsize__'</span><span style=\"color: #000000; text-decoration-color: #000000\"> of </span><span style=\"color: #008000; text-decoration-color: #008000\">'type'</span><span style=\"color: #000000; text-decoration-color: #000000\"> objects</span><span style=\"font-weight: bold\">&gt;</span>,                   <span style=\"color: #000080; text-decoration-color: #000080\">│</span>\n",
       "<span style=\"color: #000080; text-decoration-color: #000080\">│</span>                           <span style=\"color: #008000; text-decoration-color: #008000\">'__itemsize__'</span>: <span style=\"font-weight: bold\">&lt;</span><span style=\"color: #ff00ff; text-decoration-color: #ff00ff; font-weight: bold\">member</span><span style=\"color: #000000; text-decoration-color: #000000\"> </span><span style=\"color: #008000; text-decoration-color: #008000\">'__itemsize__'</span><span style=\"color: #000000; text-decoration-color: #000000\"> of </span><span style=\"color: #008000; text-decoration-color: #008000\">'type'</span><span style=\"color: #000000; text-decoration-color: #000000\"> objects</span><span style=\"font-weight: bold\">&gt;</span>,                     <span style=\"color: #000080; text-decoration-color: #000080\">│</span>\n",
       "<span style=\"color: #000080; text-decoration-color: #000080\">│</span>                           <span style=\"color: #008000; text-decoration-color: #008000\">'__flags__'</span>: <span style=\"font-weight: bold\">&lt;</span><span style=\"color: #ff00ff; text-decoration-color: #ff00ff; font-weight: bold\">member</span><span style=\"color: #000000; text-decoration-color: #000000\"> </span><span style=\"color: #008000; text-decoration-color: #008000\">'__flags__'</span><span style=\"color: #000000; text-decoration-color: #000000\"> of </span><span style=\"color: #008000; text-decoration-color: #008000\">'type'</span><span style=\"color: #000000; text-decoration-color: #000000\"> objects</span><span style=\"font-weight: bold\">&gt;</span>,                           <span style=\"color: #000080; text-decoration-color: #000080\">│</span>\n",
       "<span style=\"color: #000080; text-decoration-color: #000080\">│</span>                           <span style=\"color: #008000; text-decoration-color: #008000\">'__weakrefoffset__'</span>: <span style=\"font-weight: bold\">&lt;</span><span style=\"color: #ff00ff; text-decoration-color: #ff00ff; font-weight: bold\">member</span><span style=\"color: #000000; text-decoration-color: #000000\"> </span><span style=\"color: #008000; text-decoration-color: #008000\">'__weakrefoffset__'</span><span style=\"color: #000000; text-decoration-color: #000000\"> of </span><span style=\"color: #008000; text-decoration-color: #008000\">'type'</span><span style=\"color: #000000; text-decoration-color: #000000\"> objects</span><span style=\"font-weight: bold\">&gt;</span>,           <span style=\"color: #000080; text-decoration-color: #000080\">│</span>\n",
       "<span style=\"color: #000080; text-decoration-color: #000080\">│</span>                           <span style=\"color: #008000; text-decoration-color: #008000\">'__base__'</span>: <span style=\"font-weight: bold\">&lt;</span><span style=\"color: #ff00ff; text-decoration-color: #ff00ff; font-weight: bold\">member</span><span style=\"color: #000000; text-decoration-color: #000000\"> </span><span style=\"color: #008000; text-decoration-color: #008000\">'__base__'</span><span style=\"color: #000000; text-decoration-color: #000000\"> of </span><span style=\"color: #008000; text-decoration-color: #008000\">'type'</span><span style=\"color: #000000; text-decoration-color: #000000\"> objects</span><span style=\"font-weight: bold\">&gt;</span>,                             <span style=\"color: #000080; text-decoration-color: #000080\">│</span>\n",
       "<span style=\"color: #000080; text-decoration-color: #000080\">│</span>                           <span style=\"color: #008000; text-decoration-color: #008000\">'__dictoffset__'</span>: <span style=\"font-weight: bold\">&lt;</span><span style=\"color: #ff00ff; text-decoration-color: #ff00ff; font-weight: bold\">member</span><span style=\"color: #000000; text-decoration-color: #000000\"> </span><span style=\"color: #008000; text-decoration-color: #008000\">'__dictoffset__'</span><span style=\"color: #000000; text-decoration-color: #000000\"> of </span><span style=\"color: #008000; text-decoration-color: #008000\">'type'</span><span style=\"color: #000000; text-decoration-color: #000000\"> objects</span><span style=\"font-weight: bold\">&gt;</span>,                 <span style=\"color: #000080; text-decoration-color: #000080\">│</span>\n",
       "<span style=\"color: #000080; text-decoration-color: #000080\">│</span>                           <span style=\"color: #008000; text-decoration-color: #008000\">'__mro__'</span>: <span style=\"font-weight: bold\">&lt;</span><span style=\"color: #ff00ff; text-decoration-color: #ff00ff; font-weight: bold\">member</span><span style=\"color: #000000; text-decoration-color: #000000\"> </span><span style=\"color: #008000; text-decoration-color: #008000\">'__mro__'</span><span style=\"color: #000000; text-decoration-color: #000000\"> of </span><span style=\"color: #008000; text-decoration-color: #008000\">'type'</span><span style=\"color: #000000; text-decoration-color: #000000\"> objects</span><span style=\"font-weight: bold\">&gt;</span>,                               <span style=\"color: #000080; text-decoration-color: #000080\">│</span>\n",
       "<span style=\"color: #000080; text-decoration-color: #000080\">│</span>                           <span style=\"color: #008000; text-decoration-color: #008000\">'__name__'</span>: <span style=\"font-weight: bold\">&lt;</span><span style=\"color: #ff00ff; text-decoration-color: #ff00ff; font-weight: bold\">attribute</span><span style=\"color: #000000; text-decoration-color: #000000\"> </span><span style=\"color: #008000; text-decoration-color: #008000\">'__name__'</span><span style=\"color: #000000; text-decoration-color: #000000\"> of </span><span style=\"color: #008000; text-decoration-color: #008000\">'type'</span><span style=\"color: #000000; text-decoration-color: #000000\"> objects</span><span style=\"font-weight: bold\">&gt;</span>,                          <span style=\"color: #000080; text-decoration-color: #000080\">│</span>\n",
       "<span style=\"color: #000080; text-decoration-color: #000080\">│</span>                           <span style=\"color: #008000; text-decoration-color: #008000\">'__qualname__'</span>: <span style=\"font-weight: bold\">&lt;</span><span style=\"color: #ff00ff; text-decoration-color: #ff00ff; font-weight: bold\">attribute</span><span style=\"color: #000000; text-decoration-color: #000000\"> </span><span style=\"color: #008000; text-decoration-color: #008000\">'__qualname__'</span><span style=\"color: #000000; text-decoration-color: #000000\"> of </span><span style=\"color: #008000; text-decoration-color: #008000\">'type'</span><span style=\"color: #000000; text-decoration-color: #000000\"> objects</span><span style=\"font-weight: bold\">&gt;</span>,                  <span style=\"color: #000080; text-decoration-color: #000080\">│</span>\n",
       "<span style=\"color: #000080; text-decoration-color: #000080\">│</span>                           <span style=\"color: #008000; text-decoration-color: #008000\">'__bases__'</span>: <span style=\"font-weight: bold\">&lt;</span><span style=\"color: #ff00ff; text-decoration-color: #ff00ff; font-weight: bold\">attribute</span><span style=\"color: #000000; text-decoration-color: #000000\"> </span><span style=\"color: #008000; text-decoration-color: #008000\">'__bases__'</span><span style=\"color: #000000; text-decoration-color: #000000\"> of </span><span style=\"color: #008000; text-decoration-color: #008000\">'type'</span><span style=\"color: #000000; text-decoration-color: #000000\"> objects</span><span style=\"font-weight: bold\">&gt;</span>,                        <span style=\"color: #000080; text-decoration-color: #000080\">│</span>\n",
       "<span style=\"color: #000080; text-decoration-color: #000080\">│</span>                           <span style=\"color: #008000; text-decoration-color: #008000\">'__module__'</span>: <span style=\"font-weight: bold\">&lt;</span><span style=\"color: #ff00ff; text-decoration-color: #ff00ff; font-weight: bold\">attribute</span><span style=\"color: #000000; text-decoration-color: #000000\"> </span><span style=\"color: #008000; text-decoration-color: #008000\">'__module__'</span><span style=\"color: #000000; text-decoration-color: #000000\"> of </span><span style=\"color: #008000; text-decoration-color: #008000\">'type'</span><span style=\"color: #000000; text-decoration-color: #000000\"> objects</span><span style=\"font-weight: bold\">&gt;</span>,                      <span style=\"color: #000080; text-decoration-color: #000080\">│</span>\n",
       "<span style=\"color: #000080; text-decoration-color: #000080\">│</span>                           <span style=\"color: #008000; text-decoration-color: #008000\">'__abstractmethods__'</span>: <span style=\"font-weight: bold\">&lt;</span><span style=\"color: #ff00ff; text-decoration-color: #ff00ff; font-weight: bold\">attribute</span><span style=\"color: #000000; text-decoration-color: #000000\"> </span><span style=\"color: #008000; text-decoration-color: #008000\">'__abstractmethods__'</span><span style=\"color: #000000; text-decoration-color: #000000\"> of </span><span style=\"color: #008000; text-decoration-color: #008000\">'type'</span><span style=\"color: #000000; text-decoration-color: #000000\"> objects</span><span style=\"font-weight: bold\">&gt;</span>,    <span style=\"color: #000080; text-decoration-color: #000080\">│</span>\n",
       "<span style=\"color: #000080; text-decoration-color: #000080\">│</span>                           <span style=\"color: #008000; text-decoration-color: #008000\">'__dict__'</span>: <span style=\"font-weight: bold\">&lt;</span><span style=\"color: #ff00ff; text-decoration-color: #ff00ff; font-weight: bold\">attribute</span><span style=\"color: #000000; text-decoration-color: #000000\"> </span><span style=\"color: #008000; text-decoration-color: #008000\">'__dict__'</span><span style=\"color: #000000; text-decoration-color: #000000\"> of </span><span style=\"color: #008000; text-decoration-color: #008000\">'type'</span><span style=\"color: #000000; text-decoration-color: #000000\"> objects</span><span style=\"font-weight: bold\">&gt;</span>,                          <span style=\"color: #000080; text-decoration-color: #000080\">│</span>\n",
       "<span style=\"color: #000080; text-decoration-color: #000080\">│</span>                           <span style=\"color: #008000; text-decoration-color: #008000\">'__doc__'</span>: <span style=\"font-weight: bold\">&lt;</span><span style=\"color: #ff00ff; text-decoration-color: #ff00ff; font-weight: bold\">attribute</span><span style=\"color: #000000; text-decoration-color: #000000\"> </span><span style=\"color: #008000; text-decoration-color: #008000\">'__doc__'</span><span style=\"color: #000000; text-decoration-color: #000000\"> of </span><span style=\"color: #008000; text-decoration-color: #008000\">'type'</span><span style=\"color: #000000; text-decoration-color: #000000\"> objects</span><span style=\"font-weight: bold\">&gt;</span>,                            <span style=\"color: #000080; text-decoration-color: #000080\">│</span>\n",
       "<span style=\"color: #000080; text-decoration-color: #000080\">│</span>                           <span style=\"color: #008000; text-decoration-color: #008000\">'__text_signature__'</span>: <span style=\"font-weight: bold\">&lt;</span><span style=\"color: #ff00ff; text-decoration-color: #ff00ff; font-weight: bold\">attribute</span><span style=\"color: #000000; text-decoration-color: #000000\"> </span><span style=\"color: #008000; text-decoration-color: #008000\">'__text_signature__'</span><span style=\"color: #000000; text-decoration-color: #000000\"> of </span><span style=\"color: #008000; text-decoration-color: #008000\">'type'</span><span style=\"color: #000000; text-decoration-color: #000000\"> objects</span><span style=\"font-weight: bold\">&gt;</span>,      <span style=\"color: #000080; text-decoration-color: #000080\">│</span>\n",
       "<span style=\"color: #000080; text-decoration-color: #000080\">│</span>                           <span style=\"color: #008000; text-decoration-color: #008000\">'__annotations__'</span>: <span style=\"font-weight: bold\">&lt;</span><span style=\"color: #ff00ff; text-decoration-color: #ff00ff; font-weight: bold\">attribute</span><span style=\"color: #000000; text-decoration-color: #000000\"> </span><span style=\"color: #008000; text-decoration-color: #008000\">'__annotations__'</span><span style=\"color: #000000; text-decoration-color: #000000\"> of </span><span style=\"color: #008000; text-decoration-color: #008000\">'type'</span><span style=\"color: #000000; text-decoration-color: #000000\"> objects</span><span style=\"font-weight: bold\">&gt;</span>             <span style=\"color: #000080; text-decoration-color: #000080\">│</span>\n",
       "<span style=\"color: #000080; text-decoration-color: #000080\">│</span>                       <span style=\"font-weight: bold\">})</span>                                                                                 <span style=\"color: #000080; text-decoration-color: #000080\">│</span>\n",
       "<span style=\"color: #000080; text-decoration-color: #000080\">│</span>      <span style=\"color: #bfbf7f; text-decoration-color: #bfbf7f; font-style: italic\">__dictoffset__</span> = <span style=\"color: #008080; text-decoration-color: #008080; font-weight: bold\">264</span>                                                                                <span style=\"color: #000080; text-decoration-color: #000080\">│</span>\n",
       "<span style=\"color: #000080; text-decoration-color: #000080\">│</span>             <span style=\"color: #bfbf7f; text-decoration-color: #bfbf7f; font-style: italic\">__doc__</span> = <span style=\"color: #008000; text-decoration-color: #008000\">\"type(object) -&gt; the object's type\\ntype(name, bases, dict, **kwds) -&gt; a new type\"</span> <span style=\"color: #000080; text-decoration-color: #000080\">│</span>\n",
       "<span style=\"color: #000080; text-decoration-color: #000080\">│</span>           <span style=\"color: #bfbf7f; text-decoration-color: #bfbf7f; font-style: italic\">__flags__</span> = <span style=\"color: #008080; text-decoration-color: #008080; font-weight: bold\">2148031744</span>                                                                         <span style=\"color: #000080; text-decoration-color: #000080\">│</span>\n",
       "<span style=\"color: #000080; text-decoration-color: #000080\">│</span>        <span style=\"color: #bfbf7f; text-decoration-color: #bfbf7f; font-style: italic\">__itemsize__</span> = <span style=\"color: #008080; text-decoration-color: #008080; font-weight: bold\">40</span>                                                                                 <span style=\"color: #000080; text-decoration-color: #000080\">│</span>\n",
       "<span style=\"color: #000080; text-decoration-color: #000080\">│</span>          <span style=\"color: #bfbf7f; text-decoration-color: #bfbf7f; font-style: italic\">__module__</span> = <span style=\"color: #008000; text-decoration-color: #008000\">'builtins'</span>                                                                         <span style=\"color: #000080; text-decoration-color: #000080\">│</span>\n",
       "<span style=\"color: #000080; text-decoration-color: #000080\">│</span>             <span style=\"color: #bfbf7f; text-decoration-color: #bfbf7f; font-style: italic\">__mro__</span> = <span style=\"font-weight: bold\">(&lt;</span><span style=\"color: #ff00ff; text-decoration-color: #ff00ff; font-weight: bold\">class</span><span style=\"color: #000000; text-decoration-color: #000000\"> </span><span style=\"color: #008000; text-decoration-color: #008000\">'type'</span><span style=\"font-weight: bold\">&gt;</span>, <span style=\"font-weight: bold\">&lt;</span><span style=\"color: #ff00ff; text-decoration-color: #ff00ff; font-weight: bold\">class</span><span style=\"color: #000000; text-decoration-color: #000000\"> </span><span style=\"color: #008000; text-decoration-color: #008000\">'object'</span><span style=\"font-weight: bold\">&gt;)</span>                                                 <span style=\"color: #000080; text-decoration-color: #000080\">│</span>\n",
       "<span style=\"color: #000080; text-decoration-color: #000080\">│</span>            <span style=\"color: #bfbf7f; text-decoration-color: #bfbf7f; font-style: italic\">__name__</span> = <span style=\"color: #008000; text-decoration-color: #008000\">'type'</span>                                                                             <span style=\"color: #000080; text-decoration-color: #000080\">│</span>\n",
       "<span style=\"color: #000080; text-decoration-color: #000080\">│</span>        <span style=\"color: #bfbf7f; text-decoration-color: #bfbf7f; font-style: italic\">__qualname__</span> = <span style=\"color: #008000; text-decoration-color: #008000\">'type'</span>                                                                             <span style=\"color: #000080; text-decoration-color: #000080\">│</span>\n",
       "<span style=\"color: #000080; text-decoration-color: #000080\">│</span>  <span style=\"color: #bfbf7f; text-decoration-color: #bfbf7f; font-style: italic\">__text_signature__</span> = <span style=\"color: #800080; text-decoration-color: #800080; font-style: italic\">None</span>                                                                               <span style=\"color: #000080; text-decoration-color: #000080\">│</span>\n",
       "<span style=\"color: #000080; text-decoration-color: #000080\">│</span>   <span style=\"color: #bfbf7f; text-decoration-color: #bfbf7f; font-style: italic\">__weakrefoffset__</span> = <span style=\"color: #008080; text-decoration-color: #008080; font-weight: bold\">368</span>                                                                                <span style=\"color: #000080; text-decoration-color: #000080\">│</span>\n",
       "<span style=\"color: #000080; text-decoration-color: #000080\">╰──────────────────────────────────────────────────────────────────────────────────────────────────────────╯</span>\n",
       "</pre>\n"
      ],
      "text/plain": [
       "\u001b[34m╭─\u001b[0m\u001b[34m────────────────────────────────────────────\u001b[0m\u001b[34m \u001b[0m\u001b[1;34m<\u001b[0m\u001b[1;95mclass\u001b[0m\u001b[39m \u001b[0m\u001b[32m'type'\u001b[0m\u001b[1;34m>\u001b[0m\u001b[34m \u001b[0m\u001b[34m────────────────────────────────────────────\u001b[0m\u001b[34m─╮\u001b[0m\n",
       "\u001b[34m│\u001b[0m \u001b[3;96mclass \u001b[0m\u001b[1;31mtype\u001b[0m\u001b[1m(\u001b[0m\u001b[33m...\u001b[0m\u001b[1m)\u001b[0m                                                                                          \u001b[34m│\u001b[0m\n",
       "\u001b[34m│\u001b[0m                                                                                                          \u001b[34m│\u001b[0m\n",
       "\u001b[34m│\u001b[0m \u001b[1;35mtype\u001b[0m\u001b[1;36m(\u001b[0m\u001b[36mobject\u001b[0m\u001b[1;36m)\u001b[0m\u001b[36m -> the object's type\u001b[0m                                                                        \u001b[34m│\u001b[0m\n",
       "\u001b[34m│\u001b[0m \u001b[1;35mtype\u001b[0m\u001b[1;36m(\u001b[0m\u001b[36mname, bases, dict, **kwds\u001b[0m\u001b[1;36m)\u001b[0m\u001b[36m -> a new type\u001b[0m                                                            \u001b[34m│\u001b[0m\n",
       "\u001b[34m│\u001b[0m                                                                                                          \u001b[34m│\u001b[0m\n",
       "\u001b[34m│\u001b[0m \u001b[1;2;3;31m__abstractmethods__\u001b[0m\u001b[1;31m =\u001b[0m \u001b[1;35mAttributeError\u001b[0m\u001b[1m(\u001b[0m\u001b[32m'__abstractmethods__'\u001b[0m\u001b[1m)\u001b[0m                                              \u001b[34m│\u001b[0m\n",
       "\u001b[34m│\u001b[0m     \u001b[1;2;3;31m__annotations__\u001b[0m\u001b[1;31m =\u001b[0m \u001b[1;35mAttributeError\u001b[0m\u001b[1m(\u001b[0m\u001b[32m\"type object 'type' has no attribute '__annotations__'\"\u001b[0m\u001b[1m)\u001b[0m            \u001b[34m│\u001b[0m\n",
       "\u001b[34m│\u001b[0m           \u001b[2;3;33m__bases__\u001b[0m = \u001b[1m(\u001b[0m\u001b[1m<\u001b[0m\u001b[1;95mclass\u001b[0m\u001b[39m \u001b[0m\u001b[32m'object'\u001b[0m\u001b[1m>\u001b[0m,\u001b[1m)\u001b[0m                                                                \u001b[34m│\u001b[0m\n",
       "\u001b[34m│\u001b[0m       \u001b[2;3;33m__basicsize__\u001b[0m = \u001b[1;36m888\u001b[0m                                                                                \u001b[34m│\u001b[0m\n",
       "\u001b[34m│\u001b[0m            \u001b[2;3;33m__dict__\u001b[0m = \u001b[1;35mmappingproxy\u001b[0m\u001b[1m(\u001b[0m\u001b[1m{\u001b[0m                                                                     \u001b[34m│\u001b[0m\n",
       "\u001b[34m│\u001b[0m                           \u001b[32m'__new__'\u001b[0m: \u001b[1m<\u001b[0m\u001b[1;95mbuilt-in\u001b[0m\u001b[39m method __new__ of type object at \u001b[0m\u001b[1;36m0x100932718\u001b[0m\u001b[1m>\u001b[0m,            \u001b[34m│\u001b[0m\n",
       "\u001b[34m│\u001b[0m                           \u001b[32m'__repr__'\u001b[0m: \u001b[1m<\u001b[0m\u001b[1;95mslot\u001b[0m\u001b[39m wrapper \u001b[0m\u001b[32m'__repr__'\u001b[0m\u001b[39m of \u001b[0m\u001b[32m'type'\u001b[0m\u001b[39m objects\u001b[0m\u001b[1m>\u001b[0m,                       \u001b[34m│\u001b[0m\n",
       "\u001b[34m│\u001b[0m                           \u001b[32m'__call__'\u001b[0m: \u001b[1m<\u001b[0m\u001b[1;95mslot\u001b[0m\u001b[39m wrapper \u001b[0m\u001b[32m'__call__'\u001b[0m\u001b[39m of \u001b[0m\u001b[32m'type'\u001b[0m\u001b[39m objects\u001b[0m\u001b[1m>\u001b[0m,                       \u001b[34m│\u001b[0m\n",
       "\u001b[34m│\u001b[0m                           \u001b[32m'__getattribute__'\u001b[0m: \u001b[1m<\u001b[0m\u001b[1;95mslot\u001b[0m\u001b[39m wrapper \u001b[0m\u001b[32m'__getattribute__'\u001b[0m\u001b[39m of \u001b[0m\u001b[32m'type'\u001b[0m\u001b[39m objects\u001b[0m\u001b[1m>\u001b[0m,       \u001b[34m│\u001b[0m\n",
       "\u001b[34m│\u001b[0m                           \u001b[32m'__setattr__'\u001b[0m: \u001b[1m<\u001b[0m\u001b[1;95mslot\u001b[0m\u001b[39m wrapper \u001b[0m\u001b[32m'__setattr__'\u001b[0m\u001b[39m of \u001b[0m\u001b[32m'type'\u001b[0m\u001b[39m objects\u001b[0m\u001b[1m>\u001b[0m,                 \u001b[34m│\u001b[0m\n",
       "\u001b[34m│\u001b[0m                           \u001b[32m'__delattr__'\u001b[0m: \u001b[1m<\u001b[0m\u001b[1;95mslot\u001b[0m\u001b[39m wrapper \u001b[0m\u001b[32m'__delattr__'\u001b[0m\u001b[39m of \u001b[0m\u001b[32m'type'\u001b[0m\u001b[39m objects\u001b[0m\u001b[1m>\u001b[0m,                 \u001b[34m│\u001b[0m\n",
       "\u001b[34m│\u001b[0m                           \u001b[32m'__init__'\u001b[0m: \u001b[1m<\u001b[0m\u001b[1;95mslot\u001b[0m\u001b[39m wrapper \u001b[0m\u001b[32m'__init__'\u001b[0m\u001b[39m of \u001b[0m\u001b[32m'type'\u001b[0m\u001b[39m objects\u001b[0m\u001b[1m>\u001b[0m,                       \u001b[34m│\u001b[0m\n",
       "\u001b[34m│\u001b[0m                           \u001b[32m'__or__'\u001b[0m: \u001b[1m<\u001b[0m\u001b[1;95mslot\u001b[0m\u001b[39m wrapper \u001b[0m\u001b[32m'__or__'\u001b[0m\u001b[39m of \u001b[0m\u001b[32m'type'\u001b[0m\u001b[39m objects\u001b[0m\u001b[1m>\u001b[0m,                           \u001b[34m│\u001b[0m\n",
       "\u001b[34m│\u001b[0m                           \u001b[32m'__ror__'\u001b[0m: \u001b[1m<\u001b[0m\u001b[1;95mslot\u001b[0m\u001b[39m wrapper \u001b[0m\u001b[32m'__ror__'\u001b[0m\u001b[39m of \u001b[0m\u001b[32m'type'\u001b[0m\u001b[39m objects\u001b[0m\u001b[1m>\u001b[0m,                         \u001b[34m│\u001b[0m\n",
       "\u001b[34m│\u001b[0m                           \u001b[32m'mro'\u001b[0m: \u001b[1m<\u001b[0m\u001b[1;95mmethod\u001b[0m\u001b[39m \u001b[0m\u001b[32m'mro'\u001b[0m\u001b[39m of \u001b[0m\u001b[32m'type'\u001b[0m\u001b[39m objects\u001b[0m\u001b[1m>\u001b[0m,                                       \u001b[34m│\u001b[0m\n",
       "\u001b[34m│\u001b[0m                           \u001b[32m'__subclasses__'\u001b[0m: \u001b[1m<\u001b[0m\u001b[1;95mmethod\u001b[0m\u001b[39m \u001b[0m\u001b[32m'__subclasses__'\u001b[0m\u001b[39m of \u001b[0m\u001b[32m'type'\u001b[0m\u001b[39m objects\u001b[0m\u001b[1m>\u001b[0m,                 \u001b[34m│\u001b[0m\n",
       "\u001b[34m│\u001b[0m                           \u001b[32m'__prepare__'\u001b[0m: \u001b[1m<\u001b[0m\u001b[1;95mmethod\u001b[0m\u001b[39m \u001b[0m\u001b[32m'__prepare__'\u001b[0m\u001b[39m of \u001b[0m\u001b[32m'type'\u001b[0m\u001b[39m objects\u001b[0m\u001b[1m>\u001b[0m,                       \u001b[34m│\u001b[0m\n",
       "\u001b[34m│\u001b[0m                           \u001b[32m'__instancecheck__'\u001b[0m: \u001b[1m<\u001b[0m\u001b[1;95mmethod\u001b[0m\u001b[39m \u001b[0m\u001b[32m'__instancecheck__'\u001b[0m\u001b[39m of \u001b[0m\u001b[32m'type'\u001b[0m\u001b[39m objects\u001b[0m\u001b[1m>\u001b[0m,           \u001b[34m│\u001b[0m\n",
       "\u001b[34m│\u001b[0m                           \u001b[32m'__subclasscheck__'\u001b[0m: \u001b[1m<\u001b[0m\u001b[1;95mmethod\u001b[0m\u001b[39m \u001b[0m\u001b[32m'__subclasscheck__'\u001b[0m\u001b[39m of \u001b[0m\u001b[32m'type'\u001b[0m\u001b[39m objects\u001b[0m\u001b[1m>\u001b[0m,           \u001b[34m│\u001b[0m\n",
       "\u001b[34m│\u001b[0m                           \u001b[32m'__dir__'\u001b[0m: \u001b[1m<\u001b[0m\u001b[1;95mmethod\u001b[0m\u001b[39m \u001b[0m\u001b[32m'__dir__'\u001b[0m\u001b[39m of \u001b[0m\u001b[32m'type'\u001b[0m\u001b[39m objects\u001b[0m\u001b[1m>\u001b[0m,                               \u001b[34m│\u001b[0m\n",
       "\u001b[34m│\u001b[0m                           \u001b[32m'__sizeof__'\u001b[0m: \u001b[1m<\u001b[0m\u001b[1;95mmethod\u001b[0m\u001b[39m \u001b[0m\u001b[32m'__sizeof__'\u001b[0m\u001b[39m of \u001b[0m\u001b[32m'type'\u001b[0m\u001b[39m objects\u001b[0m\u001b[1m>\u001b[0m,                         \u001b[34m│\u001b[0m\n",
       "\u001b[34m│\u001b[0m                           \u001b[32m'__basicsize__'\u001b[0m: \u001b[1m<\u001b[0m\u001b[1;95mmember\u001b[0m\u001b[39m \u001b[0m\u001b[32m'__basicsize__'\u001b[0m\u001b[39m of \u001b[0m\u001b[32m'type'\u001b[0m\u001b[39m objects\u001b[0m\u001b[1m>\u001b[0m,                   \u001b[34m│\u001b[0m\n",
       "\u001b[34m│\u001b[0m                           \u001b[32m'__itemsize__'\u001b[0m: \u001b[1m<\u001b[0m\u001b[1;95mmember\u001b[0m\u001b[39m \u001b[0m\u001b[32m'__itemsize__'\u001b[0m\u001b[39m of \u001b[0m\u001b[32m'type'\u001b[0m\u001b[39m objects\u001b[0m\u001b[1m>\u001b[0m,                     \u001b[34m│\u001b[0m\n",
       "\u001b[34m│\u001b[0m                           \u001b[32m'__flags__'\u001b[0m: \u001b[1m<\u001b[0m\u001b[1;95mmember\u001b[0m\u001b[39m \u001b[0m\u001b[32m'__flags__'\u001b[0m\u001b[39m of \u001b[0m\u001b[32m'type'\u001b[0m\u001b[39m objects\u001b[0m\u001b[1m>\u001b[0m,                           \u001b[34m│\u001b[0m\n",
       "\u001b[34m│\u001b[0m                           \u001b[32m'__weakrefoffset__'\u001b[0m: \u001b[1m<\u001b[0m\u001b[1;95mmember\u001b[0m\u001b[39m \u001b[0m\u001b[32m'__weakrefoffset__'\u001b[0m\u001b[39m of \u001b[0m\u001b[32m'type'\u001b[0m\u001b[39m objects\u001b[0m\u001b[1m>\u001b[0m,           \u001b[34m│\u001b[0m\n",
       "\u001b[34m│\u001b[0m                           \u001b[32m'__base__'\u001b[0m: \u001b[1m<\u001b[0m\u001b[1;95mmember\u001b[0m\u001b[39m \u001b[0m\u001b[32m'__base__'\u001b[0m\u001b[39m of \u001b[0m\u001b[32m'type'\u001b[0m\u001b[39m objects\u001b[0m\u001b[1m>\u001b[0m,                             \u001b[34m│\u001b[0m\n",
       "\u001b[34m│\u001b[0m                           \u001b[32m'__dictoffset__'\u001b[0m: \u001b[1m<\u001b[0m\u001b[1;95mmember\u001b[0m\u001b[39m \u001b[0m\u001b[32m'__dictoffset__'\u001b[0m\u001b[39m of \u001b[0m\u001b[32m'type'\u001b[0m\u001b[39m objects\u001b[0m\u001b[1m>\u001b[0m,                 \u001b[34m│\u001b[0m\n",
       "\u001b[34m│\u001b[0m                           \u001b[32m'__mro__'\u001b[0m: \u001b[1m<\u001b[0m\u001b[1;95mmember\u001b[0m\u001b[39m \u001b[0m\u001b[32m'__mro__'\u001b[0m\u001b[39m of \u001b[0m\u001b[32m'type'\u001b[0m\u001b[39m objects\u001b[0m\u001b[1m>\u001b[0m,                               \u001b[34m│\u001b[0m\n",
       "\u001b[34m│\u001b[0m                           \u001b[32m'__name__'\u001b[0m: \u001b[1m<\u001b[0m\u001b[1;95mattribute\u001b[0m\u001b[39m \u001b[0m\u001b[32m'__name__'\u001b[0m\u001b[39m of \u001b[0m\u001b[32m'type'\u001b[0m\u001b[39m objects\u001b[0m\u001b[1m>\u001b[0m,                          \u001b[34m│\u001b[0m\n",
       "\u001b[34m│\u001b[0m                           \u001b[32m'__qualname__'\u001b[0m: \u001b[1m<\u001b[0m\u001b[1;95mattribute\u001b[0m\u001b[39m \u001b[0m\u001b[32m'__qualname__'\u001b[0m\u001b[39m of \u001b[0m\u001b[32m'type'\u001b[0m\u001b[39m objects\u001b[0m\u001b[1m>\u001b[0m,                  \u001b[34m│\u001b[0m\n",
       "\u001b[34m│\u001b[0m                           \u001b[32m'__bases__'\u001b[0m: \u001b[1m<\u001b[0m\u001b[1;95mattribute\u001b[0m\u001b[39m \u001b[0m\u001b[32m'__bases__'\u001b[0m\u001b[39m of \u001b[0m\u001b[32m'type'\u001b[0m\u001b[39m objects\u001b[0m\u001b[1m>\u001b[0m,                        \u001b[34m│\u001b[0m\n",
       "\u001b[34m│\u001b[0m                           \u001b[32m'__module__'\u001b[0m: \u001b[1m<\u001b[0m\u001b[1;95mattribute\u001b[0m\u001b[39m \u001b[0m\u001b[32m'__module__'\u001b[0m\u001b[39m of \u001b[0m\u001b[32m'type'\u001b[0m\u001b[39m objects\u001b[0m\u001b[1m>\u001b[0m,                      \u001b[34m│\u001b[0m\n",
       "\u001b[34m│\u001b[0m                           \u001b[32m'__abstractmethods__'\u001b[0m: \u001b[1m<\u001b[0m\u001b[1;95mattribute\u001b[0m\u001b[39m \u001b[0m\u001b[32m'__abstractmethods__'\u001b[0m\u001b[39m of \u001b[0m\u001b[32m'type'\u001b[0m\u001b[39m objects\u001b[0m\u001b[1m>\u001b[0m,    \u001b[34m│\u001b[0m\n",
       "\u001b[34m│\u001b[0m                           \u001b[32m'__dict__'\u001b[0m: \u001b[1m<\u001b[0m\u001b[1;95mattribute\u001b[0m\u001b[39m \u001b[0m\u001b[32m'__dict__'\u001b[0m\u001b[39m of \u001b[0m\u001b[32m'type'\u001b[0m\u001b[39m objects\u001b[0m\u001b[1m>\u001b[0m,                          \u001b[34m│\u001b[0m\n",
       "\u001b[34m│\u001b[0m                           \u001b[32m'__doc__'\u001b[0m: \u001b[1m<\u001b[0m\u001b[1;95mattribute\u001b[0m\u001b[39m \u001b[0m\u001b[32m'__doc__'\u001b[0m\u001b[39m of \u001b[0m\u001b[32m'type'\u001b[0m\u001b[39m objects\u001b[0m\u001b[1m>\u001b[0m,                            \u001b[34m│\u001b[0m\n",
       "\u001b[34m│\u001b[0m                           \u001b[32m'__text_signature__'\u001b[0m: \u001b[1m<\u001b[0m\u001b[1;95mattribute\u001b[0m\u001b[39m \u001b[0m\u001b[32m'__text_signature__'\u001b[0m\u001b[39m of \u001b[0m\u001b[32m'type'\u001b[0m\u001b[39m objects\u001b[0m\u001b[1m>\u001b[0m,      \u001b[34m│\u001b[0m\n",
       "\u001b[34m│\u001b[0m                           \u001b[32m'__annotations__'\u001b[0m: \u001b[1m<\u001b[0m\u001b[1;95mattribute\u001b[0m\u001b[39m \u001b[0m\u001b[32m'__annotations__'\u001b[0m\u001b[39m of \u001b[0m\u001b[32m'type'\u001b[0m\u001b[39m objects\u001b[0m\u001b[1m>\u001b[0m             \u001b[34m│\u001b[0m\n",
       "\u001b[34m│\u001b[0m                       \u001b[1m}\u001b[0m\u001b[1m)\u001b[0m                                                                                 \u001b[34m│\u001b[0m\n",
       "\u001b[34m│\u001b[0m      \u001b[2;3;33m__dictoffset__\u001b[0m = \u001b[1;36m264\u001b[0m                                                                                \u001b[34m│\u001b[0m\n",
       "\u001b[34m│\u001b[0m             \u001b[2;3;33m__doc__\u001b[0m = \u001b[32m\"type\u001b[0m\u001b[32m(\u001b[0m\u001b[32mobject\u001b[0m\u001b[32m)\u001b[0m\u001b[32m -> the object's type\\ntype\u001b[0m\u001b[32m(\u001b[0m\u001b[32mname, bases, dict, **kwds\u001b[0m\u001b[32m)\u001b[0m\u001b[32m -> a new type\"\u001b[0m \u001b[34m│\u001b[0m\n",
       "\u001b[34m│\u001b[0m           \u001b[2;3;33m__flags__\u001b[0m = \u001b[1;36m2148031744\u001b[0m                                                                         \u001b[34m│\u001b[0m\n",
       "\u001b[34m│\u001b[0m        \u001b[2;3;33m__itemsize__\u001b[0m = \u001b[1;36m40\u001b[0m                                                                                 \u001b[34m│\u001b[0m\n",
       "\u001b[34m│\u001b[0m          \u001b[2;3;33m__module__\u001b[0m = \u001b[32m'builtins'\u001b[0m                                                                         \u001b[34m│\u001b[0m\n",
       "\u001b[34m│\u001b[0m             \u001b[2;3;33m__mro__\u001b[0m = \u001b[1m(\u001b[0m\u001b[1m<\u001b[0m\u001b[1;95mclass\u001b[0m\u001b[39m \u001b[0m\u001b[32m'type'\u001b[0m\u001b[1m>\u001b[0m, \u001b[1m<\u001b[0m\u001b[1;95mclass\u001b[0m\u001b[39m \u001b[0m\u001b[32m'object'\u001b[0m\u001b[1m>\u001b[0m\u001b[1m)\u001b[0m                                                 \u001b[34m│\u001b[0m\n",
       "\u001b[34m│\u001b[0m            \u001b[2;3;33m__name__\u001b[0m = \u001b[32m'type'\u001b[0m                                                                             \u001b[34m│\u001b[0m\n",
       "\u001b[34m│\u001b[0m        \u001b[2;3;33m__qualname__\u001b[0m = \u001b[32m'type'\u001b[0m                                                                             \u001b[34m│\u001b[0m\n",
       "\u001b[34m│\u001b[0m  \u001b[2;3;33m__text_signature__\u001b[0m = \u001b[3;35mNone\u001b[0m                                                                               \u001b[34m│\u001b[0m\n",
       "\u001b[34m│\u001b[0m   \u001b[2;3;33m__weakrefoffset__\u001b[0m = \u001b[1;36m368\u001b[0m                                                                                \u001b[34m│\u001b[0m\n",
       "\u001b[34m╰──────────────────────────────────────────────────────────────────────────────────────────────────────────╯\u001b[0m\n"
      ]
     },
     "metadata": {},
     "output_type": "display_data"
    }
   ],
   "source": [
    "what(type_of_Team)"
   ]
  },
  {
   "cell_type": "markdown",
   "id": "69fd23aa-e226-4a5f-9f6e-6681a42d7a1c",
   "metadata": {
    "tags": []
   },
   "source": [
    "We see that even classes are just instances of `type`, which itself is a subclass of `object`. "
   ]
  },
  {
   "cell_type": "markdown",
   "id": "23a20a43-ba68-4a58-8569-f1a6da14e5bd",
   "metadata": {},
   "source": [
    "These `type` instances are assigned to a name (to a variable) in a specific namespace, at runtime. "
   ]
  },
  {
   "cell_type": "markdown",
   "id": "db6458e8-eee8-416c-9a0c-2ac5afe4fab2",
   "metadata": {},
   "source": [
    "Usually this namespace is a module, but it's not mandatory (same restrictions as `num = 42`)"
   ]
  },
  {
   "cell_type": "markdown",
   "id": "15712a3e-ec4c-4e90-9ed4-1b15b2ae7937",
   "metadata": {},
   "source": [
    "### Let's unsugar `class`"
   ]
  },
  {
   "cell_type": "code",
   "execution_count": 11,
   "id": "fe02440f-09cb-4c80-9360-5d4884d4280d",
   "metadata": {},
   "outputs": [],
   "source": [
    "del Team"
   ]
  },
  {
   "cell_type": "code",
   "execution_count": 13,
   "id": "ba477277-589b-407e-8f6d-52a78582d837",
   "metadata": {},
   "outputs": [],
   "source": [
    "Team = type(\"Team\", (object,), {})  # type(name: str, bases: iterable[type], attributes: dict)"
   ]
  },
  {
   "cell_type": "code",
   "execution_count": 14,
   "id": "34e2e8a4-b3cb-4404-9131-d94dbd4bea74",
   "metadata": {},
   "outputs": [],
   "source": [
    "class Team:\n",
    "    members = []"
   ]
  },
  {
   "cell_type": "code",
   "execution_count": 15,
   "id": "e7fd4482-5188-4faf-8cf5-25dacb9f9ecb",
   "metadata": {
    "tags": []
   },
   "outputs": [
    {
     "data": {
      "text/html": [
       "<pre style=\"white-space:pre;overflow-x:auto;line-height:normal;font-family:Menlo,'DejaVu Sans Mono',consolas,'Courier New',monospace\">\n",
       "<span style=\"color: #800080; text-decoration-color: #800080; font-weight: bold\">mappingproxy</span><span style=\"font-weight: bold\">({</span>\n",
       "    <span style=\"color: #008000; text-decoration-color: #008000\">'__module__'</span>: <span style=\"color: #008000; text-decoration-color: #008000\">'__main__'</span>,\n",
       "    <span style=\"color: #008000; text-decoration-color: #008000\">'members'</span>: <span style=\"font-weight: bold\">[]</span>,\n",
       "    <span style=\"color: #008000; text-decoration-color: #008000\">'__dict__'</span>: <span style=\"font-weight: bold\">&lt;</span><span style=\"color: #ff00ff; text-decoration-color: #ff00ff; font-weight: bold\">attribute</span><span style=\"color: #000000; text-decoration-color: #000000\"> </span><span style=\"color: #008000; text-decoration-color: #008000\">'__dict__'</span><span style=\"color: #000000; text-decoration-color: #000000\"> of </span><span style=\"color: #008000; text-decoration-color: #008000\">'Team'</span><span style=\"color: #000000; text-decoration-color: #000000\"> objects</span><span style=\"font-weight: bold\">&gt;</span>,\n",
       "    <span style=\"color: #008000; text-decoration-color: #008000\">'__weakref__'</span>: <span style=\"font-weight: bold\">&lt;</span><span style=\"color: #ff00ff; text-decoration-color: #ff00ff; font-weight: bold\">attribute</span><span style=\"color: #000000; text-decoration-color: #000000\"> </span><span style=\"color: #008000; text-decoration-color: #008000\">'__weakref__'</span><span style=\"color: #000000; text-decoration-color: #000000\"> of </span><span style=\"color: #008000; text-decoration-color: #008000\">'Team'</span><span style=\"color: #000000; text-decoration-color: #000000\"> objects</span><span style=\"font-weight: bold\">&gt;</span>,\n",
       "    <span style=\"color: #008000; text-decoration-color: #008000\">'__doc__'</span>: <span style=\"color: #800080; text-decoration-color: #800080; font-style: italic\">None</span>\n",
       "<span style=\"font-weight: bold\">})</span>\n",
       "</pre>\n"
      ],
      "text/plain": [
       "\n",
       "\u001b[1;35mmappingproxy\u001b[0m\u001b[1m(\u001b[0m\u001b[1m{\u001b[0m\n",
       "    \u001b[32m'__module__'\u001b[0m: \u001b[32m'__main__'\u001b[0m,\n",
       "    \u001b[32m'members'\u001b[0m: \u001b[1m[\u001b[0m\u001b[1m]\u001b[0m,\n",
       "    \u001b[32m'__dict__'\u001b[0m: \u001b[1m<\u001b[0m\u001b[1;95mattribute\u001b[0m\u001b[39m \u001b[0m\u001b[32m'__dict__'\u001b[0m\u001b[39m of \u001b[0m\u001b[32m'Team'\u001b[0m\u001b[39m objects\u001b[0m\u001b[1m>\u001b[0m,\n",
       "    \u001b[32m'__weakref__'\u001b[0m: \u001b[1m<\u001b[0m\u001b[1;95mattribute\u001b[0m\u001b[39m \u001b[0m\u001b[32m'__weakref__'\u001b[0m\u001b[39m of \u001b[0m\u001b[32m'Team'\u001b[0m\u001b[39m objects\u001b[0m\u001b[1m>\u001b[0m,\n",
       "    \u001b[32m'__doc__'\u001b[0m: \u001b[3;35mNone\u001b[0m\n",
       "\u001b[1m}\u001b[0m\u001b[1m)\u001b[0m\n"
      ]
     },
     "metadata": {},
     "output_type": "display_data"
    }
   ],
   "source": [
    "Team.__dict__"
   ]
  },
  {
   "cell_type": "markdown",
   "id": "b69e8286-a8c5-4629-babc-4dcb630f5b27",
   "metadata": {},
   "source": [
    "### `class module(object): ...`"
   ]
  },
  {
   "cell_type": "code",
   "execution_count": 16,
   "id": "f1f05367-2a95-480b-98a2-8c61c0a8f1dd",
   "metadata": {},
   "outputs": [],
   "source": [
    "import sys\n",
    "this_module = sys.modules['__main__']"
   ]
  },
  {
   "cell_type": "code",
   "execution_count": 17,
   "id": "e898ea53-11b8-47cc-a5d9-0860f36bc684",
   "metadata": {},
   "outputs": [
    {
     "data": {
      "text/html": [
       "<pre style=\"white-space:pre;overflow-x:auto;line-height:normal;font-family:Menlo,'DejaVu Sans Mono',consolas,'Courier New',monospace\"><span style=\"font-weight: bold\">&lt;</span><span style=\"color: #ff00ff; text-decoration-color: #ff00ff; font-weight: bold\">module</span><span style=\"color: #000000; text-decoration-color: #000000\"> </span><span style=\"color: #008000; text-decoration-color: #008000\">'__main__'</span><span style=\"font-weight: bold\">&gt;</span>\n",
       "</pre>\n"
      ],
      "text/plain": [
       "\u001b[1m<\u001b[0m\u001b[1;95mmodule\u001b[0m\u001b[39m \u001b[0m\u001b[32m'__main__'\u001b[0m\u001b[1m>\u001b[0m\n"
      ]
     },
     "metadata": {},
     "output_type": "display_data"
    }
   ],
   "source": [
    "this_module"
   ]
  },
  {
   "cell_type": "code",
   "execution_count": 18,
   "id": "4d752b09-5b76-4536-b4c3-da2e69ee8611",
   "metadata": {
    "tags": []
   },
   "outputs": [
    {
     "data": {
      "text/html": [
       "<pre style=\"white-space:pre;overflow-x:auto;line-height:normal;font-family:Menlo,'DejaVu Sans Mono',consolas,'Courier New',monospace\">\n",
       "<span style=\"font-weight: bold\">[</span>\n",
       "    <span style=\"color: #008000; text-decoration-color: #008000\">'Generic'</span>,\n",
       "    <span style=\"color: #008000; text-decoration-color: #008000\">'TInstance'</span>,\n",
       "    <span style=\"color: #008000; text-decoration-color: #008000\">'TProperty'</span>,\n",
       "    <span style=\"color: #008000; text-decoration-color: #008000\">'Team'</span>,\n",
       "    <span style=\"color: #008000; text-decoration-color: #008000\">'Type'</span>,\n",
       "    <span style=\"color: #008000; text-decoration-color: #008000\">'TypeVar'</span>,\n",
       "    <span style=\"color: #008000; text-decoration-color: #008000\">'__builtins__'</span>,\n",
       "    <span style=\"color: #008000; text-decoration-color: #008000\">'__doc__'</span>,\n",
       "    <span style=\"color: #008000; text-decoration-color: #008000\">'__loader__'</span>,\n",
       "    <span style=\"color: #008000; text-decoration-color: #008000\">'__name__'</span>,\n",
       "    <span style=\"color: #008000; text-decoration-color: #008000\">'__package__'</span>,\n",
       "    <span style=\"color: #008000; text-decoration-color: #008000\">'__spec__'</span>,\n",
       "    <span style=\"color: #008000; text-decoration-color: #008000\">'inspect'</span>,\n",
       "    <span style=\"color: #008000; text-decoration-color: #008000\">'install'</span>,\n",
       "    <span style=\"color: #008000; text-decoration-color: #008000\">'is_from_ipython'</span>,\n",
       "    <span style=\"color: #008000; text-decoration-color: #008000\">'sys'</span>,\n",
       "    <span style=\"color: #008000; text-decoration-color: #008000\">'this_module'</span>,\n",
       "    <span style=\"color: #008000; text-decoration-color: #008000\">'type_of_Team'</span>,\n",
       "    <span style=\"color: #008000; text-decoration-color: #008000\">'uniquedir'</span>,\n",
       "    <span style=\"color: #008000; text-decoration-color: #008000\">'what'</span>\n",
       "<span style=\"font-weight: bold\">]</span>\n",
       "</pre>\n"
      ],
      "text/plain": [
       "\n",
       "\u001b[1m[\u001b[0m\n",
       "    \u001b[32m'Generic'\u001b[0m,\n",
       "    \u001b[32m'TInstance'\u001b[0m,\n",
       "    \u001b[32m'TProperty'\u001b[0m,\n",
       "    \u001b[32m'Team'\u001b[0m,\n",
       "    \u001b[32m'Type'\u001b[0m,\n",
       "    \u001b[32m'TypeVar'\u001b[0m,\n",
       "    \u001b[32m'__builtins__'\u001b[0m,\n",
       "    \u001b[32m'__doc__'\u001b[0m,\n",
       "    \u001b[32m'__loader__'\u001b[0m,\n",
       "    \u001b[32m'__name__'\u001b[0m,\n",
       "    \u001b[32m'__package__'\u001b[0m,\n",
       "    \u001b[32m'__spec__'\u001b[0m,\n",
       "    \u001b[32m'inspect'\u001b[0m,\n",
       "    \u001b[32m'install'\u001b[0m,\n",
       "    \u001b[32m'is_from_ipython'\u001b[0m,\n",
       "    \u001b[32m'sys'\u001b[0m,\n",
       "    \u001b[32m'this_module'\u001b[0m,\n",
       "    \u001b[32m'type_of_Team'\u001b[0m,\n",
       "    \u001b[32m'uniquedir'\u001b[0m,\n",
       "    \u001b[32m'what'\u001b[0m\n",
       "\u001b[1m]\u001b[0m\n"
      ]
     },
     "metadata": {},
     "output_type": "display_data"
    }
   ],
   "source": [
    "[prop for prop in dir(this_module) if not is_from_ipython(prop)]"
   ]
  },
  {
   "cell_type": "code",
   "execution_count": 19,
   "id": "b149cd9f-57a0-4549-b45a-8da804dc0dee",
   "metadata": {},
   "outputs": [],
   "source": [
    "this_module.__dict__[\"hello\"] = \"bye\""
   ]
  },
  {
   "cell_type": "code",
   "execution_count": 20,
   "id": "9835b4e3-0776-4540-93ce-fd66046b76b6",
   "metadata": {},
   "outputs": [
    {
     "data": {
      "text/html": [
       "<pre style=\"white-space:pre;overflow-x:auto;line-height:normal;font-family:Menlo,'DejaVu Sans Mono',consolas,'Courier New',monospace\"><span style=\"color: #008000; text-decoration-color: #008000\">'bye'</span>\n",
       "</pre>\n"
      ],
      "text/plain": [
       "\u001b[32m'bye'\u001b[0m\n"
      ]
     },
     "metadata": {},
     "output_type": "display_data"
    }
   ],
   "source": [
    "hello"
   ]
  },
  {
   "cell_type": "markdown",
   "id": "bd302b54-263d-4b0a-9876-721a86d67738",
   "metadata": {},
   "source": [
    "### `locals()` and `globals()` (builtin functions)\n",
    "(Can skip if short on time)"
   ]
  },
  {
   "cell_type": "code",
   "execution_count": 21,
   "id": "2cebca6a-59c7-48b8-8103-fa709c46c338",
   "metadata": {},
   "outputs": [
    {
     "data": {
      "text/html": [
       "<pre style=\"white-space:pre;overflow-x:auto;line-height:normal;font-family:Menlo,'DejaVu Sans Mono',consolas,'Courier New',monospace\"><span style=\"font-weight: bold\">{</span><span style=\"color: #008000; text-decoration-color: #008000\">'a'</span>: <span style=\"color: #008080; text-decoration-color: #008080; font-weight: bold\">5</span><span style=\"font-weight: bold\">}</span>\n",
       "</pre>\n"
      ],
      "text/plain": [
       "\u001b[1m{\u001b[0m\u001b[32m'a'\u001b[0m: \u001b[1;36m5\u001b[0m\u001b[1m}\u001b[0m\n"
      ]
     },
     "metadata": {},
     "output_type": "display_data"
    }
   ],
   "source": [
    "def returns_locals():\n",
    "    a = 5\n",
    "    return locals()\n",
    "\n",
    "returns_locals()"
   ]
  },
  {
   "cell_type": "code",
   "execution_count": 22,
   "id": "de06ea49-3b58-42ab-aaf2-e43ce53a56a3",
   "metadata": {},
   "outputs": [],
   "source": [
    "def globals_are_just_the_modules_namespace():\n",
    "    globals() == this_module.__dict__"
   ]
  },
  {
   "cell_type": "code",
   "execution_count": 24,
   "id": "8357d66f-bdd5-4489-b0fa-2a8fb67143fb",
   "metadata": {},
   "outputs": [
    {
     "data": {
      "text/html": [
       "<pre style=\"white-space:pre;overflow-x:auto;line-height:normal;font-family:Menlo,'DejaVu Sans Mono',consolas,'Courier New',monospace\">\n",
       "<span style=\"font-weight: bold\">{</span>\n",
       "    <span style=\"color: #008000; text-decoration-color: #008000\">'__name__'</span>: <span style=\"color: #008000; text-decoration-color: #008000\">'__main__'</span>,\n",
       "    <span style=\"color: #008000; text-decoration-color: #008000\">'__doc__'</span>: <span style=\"color: #008000; text-decoration-color: #008000\">'Automatically created module for IPython interactive environment'</span>,\n",
       "    <span style=\"color: #008000; text-decoration-color: #008000\">'__package__'</span>: <span style=\"color: #800080; text-decoration-color: #800080; font-style: italic\">None</span>,\n",
       "    <span style=\"color: #008000; text-decoration-color: #008000\">'__loader__'</span>: <span style=\"color: #800080; text-decoration-color: #800080; font-style: italic\">None</span>,\n",
       "    <span style=\"color: #008000; text-decoration-color: #008000\">'__spec__'</span>: <span style=\"color: #800080; text-decoration-color: #800080; font-style: italic\">None</span>,\n",
       "    <span style=\"color: #008000; text-decoration-color: #008000\">'__builtin__'</span>: <span style=\"font-weight: bold\">&lt;</span><span style=\"color: #ff00ff; text-decoration-color: #ff00ff; font-weight: bold\">module</span><span style=\"color: #000000; text-decoration-color: #000000\"> </span><span style=\"color: #008000; text-decoration-color: #008000\">'builtins'</span><span style=\"color: #000000; text-decoration-color: #000000\"> </span><span style=\"color: #000000; text-decoration-color: #000000; font-weight: bold\">(</span><span style=\"color: #000000; text-decoration-color: #000000\">built-in</span><span style=\"color: #000000; text-decoration-color: #000000; font-weight: bold\">)</span><span style=\"font-weight: bold\">&gt;</span>,\n",
       "    <span style=\"color: #008000; text-decoration-color: #008000\">'__builtins__'</span>: <span style=\"font-weight: bold\">&lt;</span><span style=\"color: #ff00ff; text-decoration-color: #ff00ff; font-weight: bold\">module</span><span style=\"color: #000000; text-decoration-color: #000000\"> </span><span style=\"color: #008000; text-decoration-color: #008000\">'builtins'</span><span style=\"color: #000000; text-decoration-color: #000000\"> </span><span style=\"color: #000000; text-decoration-color: #000000; font-weight: bold\">(</span><span style=\"color: #000000; text-decoration-color: #000000\">built-in</span><span style=\"color: #000000; text-decoration-color: #000000; font-weight: bold\">)</span><span style=\"font-weight: bold\">&gt;</span>,\n",
       "    <span style=\"color: #008000; text-decoration-color: #008000\">'_ih'</span>: <span style=\"font-weight: bold\">[</span>\n",
       "        <span style=\"color: #008000; text-decoration-color: #008000\">''</span>,\n",
       "        <span style=\"color: #008000; text-decoration-color: #008000\">'from rich.pretty import install\\nfrom rich import inspect\\ninstall()\\ndef what(obj, *args, **kwargs):\\n    return inspect(obj, *args, dunder=kwargs.pop(\\'dunder\\', True), **kwargs)\\ndef uniquedir(obj):\\n    return sorted(set(dir(obj)) - set(dir(object)) - set(dir(type)))\\ndef is_from_ipython(prop):\\n    return (prop.startswith(\"_i\") or (len(prop) &gt; 1 and prop[1].isdigit()) or prop in (\"In\", \"Out\", \"_\", \"__\", \"___\", \"_dh\", \"_oh\", \"get_ipython\", \"exit\", \"open\", \"quit\", \"__builtin__\",))\\nfrom typing import TypeVar, Generic, Type\\nTInstance = TypeVar(\"TInstance\")\\nTProperty = TypeVar(\"TProperty\", bound=Type)'</span>,\n",
       "        <span style=\"color: #008000; text-decoration-color: #008000\">'class Team:\\n    pass'</span>,\n",
       "        <span style=\"color: #008000; text-decoration-color: #008000\">'class Team:\\n    pass'</span>,\n",
       "        <span style=\"color: #008000; text-decoration-color: #008000\">'type(Team)'</span>,\n",
       "        <span style=\"color: #008000; text-decoration-color: #008000\">'Team.__class__'</span>,\n",
       "        <span style=\"color: #008000; text-decoration-color: #008000\">'type_of_Team = type(Team)'</span>,\n",
       "        <span style=\"color: #008000; text-decoration-color: #008000\">'isinstance(type_of_Team, object)'</span>,\n",
       "        <span style=\"color: #008000; text-decoration-color: #008000\">'isinstance(type_of_Team, type)'</span>,\n",
       "        <span style=\"color: #008000; text-decoration-color: #008000\">'isinstance(type_of_Team, Team)'</span>,\n",
       "        <span style=\"color: #008000; text-decoration-color: #008000\">'what(type_of_Team)'</span>,\n",
       "        <span style=\"color: #008000; text-decoration-color: #008000\">'del Team'</span>,\n",
       "        <span style=\"color: #008000; text-decoration-color: #008000\">'Team = type(\"Team\", (object,), {})  # type(name: str, bases: iterable[type], attributes: dict)'</span>,\n",
       "        <span style=\"color: #008000; text-decoration-color: #008000\">'Team = type(\"Team\", (object,), {})  # type(name: str, bases: iterable[type], attributes: dict)'</span>,\n",
       "        <span style=\"color: #008000; text-decoration-color: #008000\">'class Team:\\n    members = []'</span>,\n",
       "        <span style=\"color: #008000; text-decoration-color: #008000\">'Team.__dict__'</span>,\n",
       "        <span style=\"color: #008000; text-decoration-color: #008000\">\"import sys\\nthis_module = sys.modules['__main__']\"</span>,\n",
       "        <span style=\"color: #008000; text-decoration-color: #008000\">'this_module'</span>,\n",
       "        <span style=\"color: #008000; text-decoration-color: #008000\">'[prop for prop in dir(this_module) if not is_from_ipython(prop)]'</span>,\n",
       "        <span style=\"color: #008000; text-decoration-color: #008000\">'this_module.__dict__[\"hello\"] = \"bye\"'</span>,\n",
       "        <span style=\"color: #008000; text-decoration-color: #008000\">'hello'</span>,\n",
       "        <span style=\"color: #008000; text-decoration-color: #008000\">'def returns_locals():\\n    a = 5\\n    return locals()\\n\\nreturns_locals()'</span>,\n",
       "        <span style=\"color: #008000; text-decoration-color: #008000\">'def globals_are_just_the_modules_namespace():\\n    assert globals() == this_module.__dict__'</span>,\n",
       "        <span style=\"color: #008000; text-decoration-color: #008000\">'globals_are_just_the_modules_namespace()'</span>,\n",
       "        <span style=\"color: #008000; text-decoration-color: #008000\">'this_module.__dict__'</span>\n",
       "    <span style=\"font-weight: bold\">]</span>,\n",
       "    <span style=\"color: #008000; text-decoration-color: #008000\">'_oh'</span>: <span style=\"font-weight: bold\">{</span>\n",
       "        <span style=\"color: #008080; text-decoration-color: #008080; font-weight: bold\">4</span>: <span style=\"font-weight: bold\">&lt;</span><span style=\"color: #ff00ff; text-decoration-color: #ff00ff; font-weight: bold\">class</span><span style=\"color: #000000; text-decoration-color: #000000\"> </span><span style=\"color: #008000; text-decoration-color: #008000\">'type'</span><span style=\"font-weight: bold\">&gt;</span>,\n",
       "        <span style=\"color: #008080; text-decoration-color: #008080; font-weight: bold\">5</span>: <span style=\"font-weight: bold\">&lt;</span><span style=\"color: #ff00ff; text-decoration-color: #ff00ff; font-weight: bold\">class</span><span style=\"color: #000000; text-decoration-color: #000000\"> </span><span style=\"color: #008000; text-decoration-color: #008000\">'type'</span><span style=\"font-weight: bold\">&gt;</span>,\n",
       "        <span style=\"color: #008080; text-decoration-color: #008080; font-weight: bold\">7</span>: <span style=\"color: #00ff00; text-decoration-color: #00ff00; font-style: italic\">True</span>,\n",
       "        <span style=\"color: #008080; text-decoration-color: #008080; font-weight: bold\">8</span>: <span style=\"color: #00ff00; text-decoration-color: #00ff00; font-style: italic\">True</span>,\n",
       "        <span style=\"color: #008080; text-decoration-color: #008080; font-weight: bold\">9</span>: <span style=\"color: #ff0000; text-decoration-color: #ff0000; font-style: italic\">False</span>,\n",
       "        <span style=\"color: #008080; text-decoration-color: #008080; font-weight: bold\">15</span>: <span style=\"color: #800080; text-decoration-color: #800080; font-weight: bold\">mappingproxy</span><span style=\"font-weight: bold\">({</span>\n",
       "            <span style=\"color: #008000; text-decoration-color: #008000\">'__module__'</span>: <span style=\"color: #008000; text-decoration-color: #008000\">'__main__'</span>,\n",
       "            <span style=\"color: #008000; text-decoration-color: #008000\">'members'</span>: <span style=\"font-weight: bold\">[]</span>,\n",
       "            <span style=\"color: #008000; text-decoration-color: #008000\">'__dict__'</span>: <span style=\"font-weight: bold\">&lt;</span><span style=\"color: #ff00ff; text-decoration-color: #ff00ff; font-weight: bold\">attribute</span><span style=\"color: #000000; text-decoration-color: #000000\"> </span><span style=\"color: #008000; text-decoration-color: #008000\">'__dict__'</span><span style=\"color: #000000; text-decoration-color: #000000\"> of </span><span style=\"color: #008000; text-decoration-color: #008000\">'Team'</span><span style=\"color: #000000; text-decoration-color: #000000\"> objects</span><span style=\"font-weight: bold\">&gt;</span>,\n",
       "            <span style=\"color: #008000; text-decoration-color: #008000\">'__weakref__'</span>: <span style=\"font-weight: bold\">&lt;</span><span style=\"color: #ff00ff; text-decoration-color: #ff00ff; font-weight: bold\">attribute</span><span style=\"color: #000000; text-decoration-color: #000000\"> </span><span style=\"color: #008000; text-decoration-color: #008000\">'__weakref__'</span><span style=\"color: #000000; text-decoration-color: #000000\"> of </span><span style=\"color: #008000; text-decoration-color: #008000\">'Team'</span><span style=\"color: #000000; text-decoration-color: #000000\"> objects</span><span style=\"font-weight: bold\">&gt;</span>,\n",
       "            <span style=\"color: #008000; text-decoration-color: #008000\">'__doc__'</span>: <span style=\"color: #800080; text-decoration-color: #800080; font-style: italic\">None</span>\n",
       "        <span style=\"font-weight: bold\">})</span>,\n",
       "        <span style=\"color: #008080; text-decoration-color: #008080; font-weight: bold\">17</span>: <span style=\"font-weight: bold\">&lt;</span><span style=\"color: #ff00ff; text-decoration-color: #ff00ff; font-weight: bold\">module</span><span style=\"color: #000000; text-decoration-color: #000000\"> </span><span style=\"color: #008000; text-decoration-color: #008000\">'__main__'</span><span style=\"font-weight: bold\">&gt;</span>,\n",
       "        <span style=\"color: #008080; text-decoration-color: #008080; font-weight: bold\">18</span>: <span style=\"font-weight: bold\">[</span>\n",
       "            <span style=\"color: #008000; text-decoration-color: #008000\">'Generic'</span>,\n",
       "            <span style=\"color: #008000; text-decoration-color: #008000\">'TInstance'</span>,\n",
       "            <span style=\"color: #008000; text-decoration-color: #008000\">'TProperty'</span>,\n",
       "            <span style=\"color: #008000; text-decoration-color: #008000\">'Team'</span>,\n",
       "            <span style=\"color: #008000; text-decoration-color: #008000\">'Type'</span>,\n",
       "            <span style=\"color: #008000; text-decoration-color: #008000\">'TypeVar'</span>,\n",
       "            <span style=\"color: #008000; text-decoration-color: #008000\">'__builtins__'</span>,\n",
       "            <span style=\"color: #008000; text-decoration-color: #008000\">'__doc__'</span>,\n",
       "            <span style=\"color: #008000; text-decoration-color: #008000\">'__loader__'</span>,\n",
       "            <span style=\"color: #008000; text-decoration-color: #008000\">'__name__'</span>,\n",
       "            <span style=\"color: #008000; text-decoration-color: #008000\">'__package__'</span>,\n",
       "            <span style=\"color: #008000; text-decoration-color: #008000\">'__spec__'</span>,\n",
       "            <span style=\"color: #008000; text-decoration-color: #008000\">'inspect'</span>,\n",
       "            <span style=\"color: #008000; text-decoration-color: #008000\">'install'</span>,\n",
       "            <span style=\"color: #008000; text-decoration-color: #008000\">'is_from_ipython'</span>,\n",
       "            <span style=\"color: #008000; text-decoration-color: #008000\">'sys'</span>,\n",
       "            <span style=\"color: #008000; text-decoration-color: #008000\">'this_module'</span>,\n",
       "            <span style=\"color: #008000; text-decoration-color: #008000\">'type_of_Team'</span>,\n",
       "            <span style=\"color: #008000; text-decoration-color: #008000\">'uniquedir'</span>,\n",
       "            <span style=\"color: #008000; text-decoration-color: #008000\">'what'</span>\n",
       "        <span style=\"font-weight: bold\">]</span>,\n",
       "        <span style=\"color: #008080; text-decoration-color: #008080; font-weight: bold\">20</span>: <span style=\"color: #008000; text-decoration-color: #008000\">'bye'</span>,\n",
       "        <span style=\"color: #008080; text-decoration-color: #008080; font-weight: bold\">21</span>: <span style=\"font-weight: bold\">{</span><span style=\"color: #008000; text-decoration-color: #008000\">'a'</span>: <span style=\"color: #008080; text-decoration-color: #008080; font-weight: bold\">5</span><span style=\"font-weight: bold\">}</span>\n",
       "    <span style=\"font-weight: bold\">}</span>,\n",
       "    <span style=\"color: #008000; text-decoration-color: #008000\">'_dh'</span>: <span style=\"font-weight: bold\">[</span><span style=\"color: #800080; text-decoration-color: #800080; font-weight: bold\">PosixPath</span><span style=\"font-weight: bold\">(</span><span style=\"color: #008000; text-decoration-color: #008000\">'/Users/gilad/dev/advanced-python-crash-course/2022/slides/lesson-02'</span><span style=\"font-weight: bold\">)]</span>,\n",
       "    <span style=\"color: #008000; text-decoration-color: #008000\">'In'</span>: <span style=\"font-weight: bold\">[</span>\n",
       "        <span style=\"color: #008000; text-decoration-color: #008000\">''</span>,\n",
       "        <span style=\"color: #008000; text-decoration-color: #008000\">'from rich.pretty import install\\nfrom rich import inspect\\ninstall()\\ndef what(obj, *args, **kwargs):\\n    return inspect(obj, *args, dunder=kwargs.pop(\\'dunder\\', True), **kwargs)\\ndef uniquedir(obj):\\n    return sorted(set(dir(obj)) - set(dir(object)) - set(dir(type)))\\ndef is_from_ipython(prop):\\n    return (prop.startswith(\"_i\") or (len(prop) &gt; 1 and prop[1].isdigit()) or prop in (\"In\", \"Out\", \"_\", \"__\", \"___\", \"_dh\", \"_oh\", \"get_ipython\", \"exit\", \"open\", \"quit\", \"__builtin__\",))\\nfrom typing import TypeVar, Generic, Type\\nTInstance = TypeVar(\"TInstance\")\\nTProperty = TypeVar(\"TProperty\", bound=Type)'</span>,\n",
       "        <span style=\"color: #008000; text-decoration-color: #008000\">'class Team:\\n    pass'</span>,\n",
       "        <span style=\"color: #008000; text-decoration-color: #008000\">'class Team:\\n    pass'</span>,\n",
       "        <span style=\"color: #008000; text-decoration-color: #008000\">'type(Team)'</span>,\n",
       "        <span style=\"color: #008000; text-decoration-color: #008000\">'Team.__class__'</span>,\n",
       "        <span style=\"color: #008000; text-decoration-color: #008000\">'type_of_Team = type(Team)'</span>,\n",
       "        <span style=\"color: #008000; text-decoration-color: #008000\">'isinstance(type_of_Team, object)'</span>,\n",
       "        <span style=\"color: #008000; text-decoration-color: #008000\">'isinstance(type_of_Team, type)'</span>,\n",
       "        <span style=\"color: #008000; text-decoration-color: #008000\">'isinstance(type_of_Team, Team)'</span>,\n",
       "        <span style=\"color: #008000; text-decoration-color: #008000\">'what(type_of_Team)'</span>,\n",
       "        <span style=\"color: #008000; text-decoration-color: #008000\">'del Team'</span>,\n",
       "        <span style=\"color: #008000; text-decoration-color: #008000\">'Team = type(\"Team\", (object,), {})  # type(name: str, bases: iterable[type], attributes: dict)'</span>,\n",
       "        <span style=\"color: #008000; text-decoration-color: #008000\">'Team = type(\"Team\", (object,), {})  # type(name: str, bases: iterable[type], attributes: dict)'</span>,\n",
       "        <span style=\"color: #008000; text-decoration-color: #008000\">'class Team:\\n    members = []'</span>,\n",
       "        <span style=\"color: #008000; text-decoration-color: #008000\">'Team.__dict__'</span>,\n",
       "        <span style=\"color: #008000; text-decoration-color: #008000\">\"import sys\\nthis_module = sys.modules['__main__']\"</span>,\n",
       "        <span style=\"color: #008000; text-decoration-color: #008000\">'this_module'</span>,\n",
       "        <span style=\"color: #008000; text-decoration-color: #008000\">'[prop for prop in dir(this_module) if not is_from_ipython(prop)]'</span>,\n",
       "        <span style=\"color: #008000; text-decoration-color: #008000\">'this_module.__dict__[\"hello\"] = \"bye\"'</span>,\n",
       "        <span style=\"color: #008000; text-decoration-color: #008000\">'hello'</span>,\n",
       "        <span style=\"color: #008000; text-decoration-color: #008000\">'def returns_locals():\\n    a = 5\\n    return locals()\\n\\nreturns_locals()'</span>,\n",
       "        <span style=\"color: #008000; text-decoration-color: #008000\">'def globals_are_just_the_modules_namespace():\\n    assert globals() == this_module.__dict__'</span>,\n",
       "        <span style=\"color: #008000; text-decoration-color: #008000\">'globals_are_just_the_modules_namespace()'</span>,\n",
       "        <span style=\"color: #008000; text-decoration-color: #008000\">'this_module.__dict__'</span>\n",
       "    <span style=\"font-weight: bold\">]</span>,\n",
       "    <span style=\"color: #008000; text-decoration-color: #008000\">'Out'</span>: <span style=\"font-weight: bold\">{</span>\n",
       "        <span style=\"color: #008080; text-decoration-color: #008080; font-weight: bold\">4</span>: <span style=\"font-weight: bold\">&lt;</span><span style=\"color: #ff00ff; text-decoration-color: #ff00ff; font-weight: bold\">class</span><span style=\"color: #000000; text-decoration-color: #000000\"> </span><span style=\"color: #008000; text-decoration-color: #008000\">'type'</span><span style=\"font-weight: bold\">&gt;</span>,\n",
       "        <span style=\"color: #008080; text-decoration-color: #008080; font-weight: bold\">5</span>: <span style=\"font-weight: bold\">&lt;</span><span style=\"color: #ff00ff; text-decoration-color: #ff00ff; font-weight: bold\">class</span><span style=\"color: #000000; text-decoration-color: #000000\"> </span><span style=\"color: #008000; text-decoration-color: #008000\">'type'</span><span style=\"font-weight: bold\">&gt;</span>,\n",
       "        <span style=\"color: #008080; text-decoration-color: #008080; font-weight: bold\">7</span>: <span style=\"color: #00ff00; text-decoration-color: #00ff00; font-style: italic\">True</span>,\n",
       "        <span style=\"color: #008080; text-decoration-color: #008080; font-weight: bold\">8</span>: <span style=\"color: #00ff00; text-decoration-color: #00ff00; font-style: italic\">True</span>,\n",
       "        <span style=\"color: #008080; text-decoration-color: #008080; font-weight: bold\">9</span>: <span style=\"color: #ff0000; text-decoration-color: #ff0000; font-style: italic\">False</span>,\n",
       "        <span style=\"color: #008080; text-decoration-color: #008080; font-weight: bold\">15</span>: <span style=\"color: #800080; text-decoration-color: #800080; font-weight: bold\">mappingproxy</span><span style=\"font-weight: bold\">({</span>\n",
       "            <span style=\"color: #008000; text-decoration-color: #008000\">'__module__'</span>: <span style=\"color: #008000; text-decoration-color: #008000\">'__main__'</span>,\n",
       "            <span style=\"color: #008000; text-decoration-color: #008000\">'members'</span>: <span style=\"font-weight: bold\">[]</span>,\n",
       "            <span style=\"color: #008000; text-decoration-color: #008000\">'__dict__'</span>: <span style=\"font-weight: bold\">&lt;</span><span style=\"color: #ff00ff; text-decoration-color: #ff00ff; font-weight: bold\">attribute</span><span style=\"color: #000000; text-decoration-color: #000000\"> </span><span style=\"color: #008000; text-decoration-color: #008000\">'__dict__'</span><span style=\"color: #000000; text-decoration-color: #000000\"> of </span><span style=\"color: #008000; text-decoration-color: #008000\">'Team'</span><span style=\"color: #000000; text-decoration-color: #000000\"> objects</span><span style=\"font-weight: bold\">&gt;</span>,\n",
       "            <span style=\"color: #008000; text-decoration-color: #008000\">'__weakref__'</span>: <span style=\"font-weight: bold\">&lt;</span><span style=\"color: #ff00ff; text-decoration-color: #ff00ff; font-weight: bold\">attribute</span><span style=\"color: #000000; text-decoration-color: #000000\"> </span><span style=\"color: #008000; text-decoration-color: #008000\">'__weakref__'</span><span style=\"color: #000000; text-decoration-color: #000000\"> of </span><span style=\"color: #008000; text-decoration-color: #008000\">'Team'</span><span style=\"color: #000000; text-decoration-color: #000000\"> objects</span><span style=\"font-weight: bold\">&gt;</span>,\n",
       "            <span style=\"color: #008000; text-decoration-color: #008000\">'__doc__'</span>: <span style=\"color: #800080; text-decoration-color: #800080; font-style: italic\">None</span>\n",
       "        <span style=\"font-weight: bold\">})</span>,\n",
       "        <span style=\"color: #008080; text-decoration-color: #008080; font-weight: bold\">17</span>: <span style=\"font-weight: bold\">&lt;</span><span style=\"color: #ff00ff; text-decoration-color: #ff00ff; font-weight: bold\">module</span><span style=\"color: #000000; text-decoration-color: #000000\"> </span><span style=\"color: #008000; text-decoration-color: #008000\">'__main__'</span><span style=\"font-weight: bold\">&gt;</span>,\n",
       "        <span style=\"color: #008080; text-decoration-color: #008080; font-weight: bold\">18</span>: <span style=\"font-weight: bold\">[</span>\n",
       "            <span style=\"color: #008000; text-decoration-color: #008000\">'Generic'</span>,\n",
       "            <span style=\"color: #008000; text-decoration-color: #008000\">'TInstance'</span>,\n",
       "            <span style=\"color: #008000; text-decoration-color: #008000\">'TProperty'</span>,\n",
       "            <span style=\"color: #008000; text-decoration-color: #008000\">'Team'</span>,\n",
       "            <span style=\"color: #008000; text-decoration-color: #008000\">'Type'</span>,\n",
       "            <span style=\"color: #008000; text-decoration-color: #008000\">'TypeVar'</span>,\n",
       "            <span style=\"color: #008000; text-decoration-color: #008000\">'__builtins__'</span>,\n",
       "            <span style=\"color: #008000; text-decoration-color: #008000\">'__doc__'</span>,\n",
       "            <span style=\"color: #008000; text-decoration-color: #008000\">'__loader__'</span>,\n",
       "            <span style=\"color: #008000; text-decoration-color: #008000\">'__name__'</span>,\n",
       "            <span style=\"color: #008000; text-decoration-color: #008000\">'__package__'</span>,\n",
       "            <span style=\"color: #008000; text-decoration-color: #008000\">'__spec__'</span>,\n",
       "            <span style=\"color: #008000; text-decoration-color: #008000\">'inspect'</span>,\n",
       "            <span style=\"color: #008000; text-decoration-color: #008000\">'install'</span>,\n",
       "            <span style=\"color: #008000; text-decoration-color: #008000\">'is_from_ipython'</span>,\n",
       "            <span style=\"color: #008000; text-decoration-color: #008000\">'sys'</span>,\n",
       "            <span style=\"color: #008000; text-decoration-color: #008000\">'this_module'</span>,\n",
       "            <span style=\"color: #008000; text-decoration-color: #008000\">'type_of_Team'</span>,\n",
       "            <span style=\"color: #008000; text-decoration-color: #008000\">'uniquedir'</span>,\n",
       "            <span style=\"color: #008000; text-decoration-color: #008000\">'what'</span>\n",
       "        <span style=\"font-weight: bold\">]</span>,\n",
       "        <span style=\"color: #008080; text-decoration-color: #008080; font-weight: bold\">20</span>: <span style=\"color: #008000; text-decoration-color: #008000\">'bye'</span>,\n",
       "        <span style=\"color: #008080; text-decoration-color: #008080; font-weight: bold\">21</span>: <span style=\"font-weight: bold\">{</span><span style=\"color: #008000; text-decoration-color: #008000\">'a'</span>: <span style=\"color: #008080; text-decoration-color: #008080; font-weight: bold\">5</span><span style=\"font-weight: bold\">}</span>\n",
       "    <span style=\"font-weight: bold\">}</span>,\n",
       "    <span style=\"color: #008000; text-decoration-color: #008000\">'get_ipython'</span>: <span style=\"font-weight: bold\">&lt;</span><span style=\"color: #ff00ff; text-decoration-color: #ff00ff; font-weight: bold\">bound</span><span style=\"color: #000000; text-decoration-color: #000000\"> method InteractiveShell.get_ipython of &lt;ipykernel.zmqshell.ZMQInteractiveShell object at </span><span style=\"color: #008080; text-decoration-color: #008080; font-weight: bold\">0x106158d90</span><span style=\"font-weight: bold\">&gt;</span>&gt;,\n",
       "    <span style=\"color: #008000; text-decoration-color: #008000\">'exit'</span>: <span style=\"font-weight: bold\">&lt;</span><span style=\"color: #ff00ff; text-decoration-color: #ff00ff; font-weight: bold\">IPython.core.autocall.ZMQExitAutocall</span><span style=\"color: #000000; text-decoration-color: #000000\"> object at </span><span style=\"color: #008080; text-decoration-color: #008080; font-weight: bold\">0x1060fefb0</span><span style=\"font-weight: bold\">&gt;</span>,\n",
       "    <span style=\"color: #008000; text-decoration-color: #008000\">'quit'</span>: <span style=\"font-weight: bold\">&lt;</span><span style=\"color: #ff00ff; text-decoration-color: #ff00ff; font-weight: bold\">IPython.core.autocall.ZMQExitAutocall</span><span style=\"color: #000000; text-decoration-color: #000000\"> object at </span><span style=\"color: #008080; text-decoration-color: #008080; font-weight: bold\">0x1060fefb0</span><span style=\"font-weight: bold\">&gt;</span>,\n",
       "    <span style=\"color: #008000; text-decoration-color: #008000\">'open'</span>: <span style=\"font-weight: bold\">&lt;</span><span style=\"color: #ff00ff; text-decoration-color: #ff00ff; font-weight: bold\">function</span><span style=\"color: #000000; text-decoration-color: #000000\"> open at </span><span style=\"color: #008080; text-decoration-color: #008080; font-weight: bold\">0x10388d360</span><span style=\"font-weight: bold\">&gt;</span>,\n",
       "    <span style=\"color: #008000; text-decoration-color: #008000\">'_'</span>: <span style=\"font-weight: bold\">{</span><span style=\"color: #008000; text-decoration-color: #008000\">'a'</span>: <span style=\"color: #008080; text-decoration-color: #008080; font-weight: bold\">5</span><span style=\"font-weight: bold\">}</span>,\n",
       "    <span style=\"color: #008000; text-decoration-color: #008000\">'__'</span>: <span style=\"color: #008000; text-decoration-color: #008000\">'bye'</span>,\n",
       "    <span style=\"color: #008000; text-decoration-color: #008000\">'___'</span>: <span style=\"font-weight: bold\">[</span>\n",
       "        <span style=\"color: #008000; text-decoration-color: #008000\">'Generic'</span>,\n",
       "        <span style=\"color: #008000; text-decoration-color: #008000\">'TInstance'</span>,\n",
       "        <span style=\"color: #008000; text-decoration-color: #008000\">'TProperty'</span>,\n",
       "        <span style=\"color: #008000; text-decoration-color: #008000\">'Team'</span>,\n",
       "        <span style=\"color: #008000; text-decoration-color: #008000\">'Type'</span>,\n",
       "        <span style=\"color: #008000; text-decoration-color: #008000\">'TypeVar'</span>,\n",
       "        <span style=\"color: #008000; text-decoration-color: #008000\">'__builtins__'</span>,\n",
       "        <span style=\"color: #008000; text-decoration-color: #008000\">'__doc__'</span>,\n",
       "        <span style=\"color: #008000; text-decoration-color: #008000\">'__loader__'</span>,\n",
       "        <span style=\"color: #008000; text-decoration-color: #008000\">'__name__'</span>,\n",
       "        <span style=\"color: #008000; text-decoration-color: #008000\">'__package__'</span>,\n",
       "        <span style=\"color: #008000; text-decoration-color: #008000\">'__spec__'</span>,\n",
       "        <span style=\"color: #008000; text-decoration-color: #008000\">'inspect'</span>,\n",
       "        <span style=\"color: #008000; text-decoration-color: #008000\">'install'</span>,\n",
       "        <span style=\"color: #008000; text-decoration-color: #008000\">'is_from_ipython'</span>,\n",
       "        <span style=\"color: #008000; text-decoration-color: #008000\">'sys'</span>,\n",
       "        <span style=\"color: #008000; text-decoration-color: #008000\">'this_module'</span>,\n",
       "        <span style=\"color: #008000; text-decoration-color: #008000\">'type_of_Team'</span>,\n",
       "        <span style=\"color: #008000; text-decoration-color: #008000\">'uniquedir'</span>,\n",
       "        <span style=\"color: #008000; text-decoration-color: #008000\">'what'</span>\n",
       "    <span style=\"font-weight: bold\">]</span>,\n",
       "    <span style=\"color: #008000; text-decoration-color: #008000\">'sys'</span>: <span style=\"font-weight: bold\">&lt;</span><span style=\"color: #ff00ff; text-decoration-color: #ff00ff; font-weight: bold\">module</span><span style=\"color: #000000; text-decoration-color: #000000\"> </span><span style=\"color: #008000; text-decoration-color: #008000\">'sys'</span><span style=\"color: #000000; text-decoration-color: #000000\"> </span><span style=\"color: #000000; text-decoration-color: #000000; font-weight: bold\">(</span><span style=\"color: #000000; text-decoration-color: #000000\">built-in</span><span style=\"color: #000000; text-decoration-color: #000000; font-weight: bold\">)</span><span style=\"font-weight: bold\">&gt;</span>,\n",
       "    <span style=\"color: #008000; text-decoration-color: #008000\">'_i'</span>: <span style=\"color: #008000; text-decoration-color: #008000\">'globals_are_just_the_modules_namespace()'</span>,\n",
       "    <span style=\"color: #008000; text-decoration-color: #008000\">'_ii'</span>: <span style=\"color: #008000; text-decoration-color: #008000\">'def globals_are_just_the_modules_namespace():\\n    assert globals() == this_module.__dict__'</span>,\n",
       "    <span style=\"color: #008000; text-decoration-color: #008000\">'_iii'</span>: <span style=\"color: #008000; text-decoration-color: #008000\">'def returns_locals():\\n    a = 5\\n    return locals()\\n\\nreturns_locals()'</span>,\n",
       "    <span style=\"color: #008000; text-decoration-color: #008000\">'_i1'</span>: <span style=\"color: #008000; text-decoration-color: #008000\">'from rich.pretty import install\\nfrom rich import inspect\\ninstall()\\ndef what(obj, *args, **kwargs):\\n    return inspect(obj, *args, dunder=kwargs.pop(\\'dunder\\', True), **kwargs)\\ndef uniquedir(obj):\\n    return sorted(set(dir(obj)) - set(dir(object)) - set(dir(type)))\\ndef is_from_ipython(prop):\\n    return (prop.startswith(\"_i\") or (len(prop) &gt; 1 and prop[1].isdigit()) or prop in (\"In\", \"Out\", \"_\", \"__\", \"___\", \"_dh\", \"_oh\", \"get_ipython\", \"exit\", \"open\", \"quit\", \"__builtin__\",))\\nfrom typing import TypeVar, Generic, Type\\nTInstance = TypeVar(\"TInstance\")\\nTProperty = TypeVar(\"TProperty\", bound=Type)'</span>,\n",
       "    <span style=\"color: #008000; text-decoration-color: #008000\">'install'</span>: <span style=\"font-weight: bold\">&lt;</span><span style=\"color: #ff00ff; text-decoration-color: #ff00ff; font-weight: bold\">function</span><span style=\"color: #000000; text-decoration-color: #000000\"> install at </span><span style=\"color: #008080; text-decoration-color: #008080; font-weight: bold\">0x10636d360</span><span style=\"font-weight: bold\">&gt;</span>,\n",
       "    <span style=\"color: #008000; text-decoration-color: #008000\">'inspect'</span>: <span style=\"font-weight: bold\">&lt;</span><span style=\"color: #ff00ff; text-decoration-color: #ff00ff; font-weight: bold\">function</span><span style=\"color: #000000; text-decoration-color: #000000\"> inspect at </span><span style=\"color: #008080; text-decoration-color: #008080; font-weight: bold\">0x1061e80d0</span><span style=\"font-weight: bold\">&gt;</span>,\n",
       "    <span style=\"color: #008000; text-decoration-color: #008000\">'what'</span>: <span style=\"font-weight: bold\">&lt;</span><span style=\"color: #ff00ff; text-decoration-color: #ff00ff; font-weight: bold\">function</span><span style=\"color: #000000; text-decoration-color: #000000\"> what at </span><span style=\"color: #008080; text-decoration-color: #008080; font-weight: bold\">0x1063efd00</span><span style=\"font-weight: bold\">&gt;</span>,\n",
       "    <span style=\"color: #008000; text-decoration-color: #008000\">'uniquedir'</span>: <span style=\"font-weight: bold\">&lt;</span><span style=\"color: #ff00ff; text-decoration-color: #ff00ff; font-weight: bold\">function</span><span style=\"color: #000000; text-decoration-color: #000000\"> uniquedir at </span><span style=\"color: #008080; text-decoration-color: #008080; font-weight: bold\">0x1063ef1c0</span><span style=\"font-weight: bold\">&gt;</span>,\n",
       "    <span style=\"color: #008000; text-decoration-color: #008000\">'is_from_ipython'</span>: <span style=\"font-weight: bold\">&lt;</span><span style=\"color: #ff00ff; text-decoration-color: #ff00ff; font-weight: bold\">function</span><span style=\"color: #000000; text-decoration-color: #000000\"> is_from_ipython at </span><span style=\"color: #008080; text-decoration-color: #008080; font-weight: bold\">0x1063ef400</span><span style=\"font-weight: bold\">&gt;</span>,\n",
       "    <span style=\"color: #008000; text-decoration-color: #008000\">'TypeVar'</span>: <span style=\"font-weight: bold\">&lt;</span><span style=\"color: #ff00ff; text-decoration-color: #ff00ff; font-weight: bold\">class</span><span style=\"color: #000000; text-decoration-color: #000000\"> </span><span style=\"color: #008000; text-decoration-color: #008000\">'typing.TypeVar'</span><span style=\"font-weight: bold\">&gt;</span>,\n",
       "    <span style=\"color: #008000; text-decoration-color: #008000\">'Generic'</span>: <span style=\"font-weight: bold\">&lt;</span><span style=\"color: #ff00ff; text-decoration-color: #ff00ff; font-weight: bold\">class</span><span style=\"color: #000000; text-decoration-color: #000000\"> </span><span style=\"color: #008000; text-decoration-color: #008000\">'typing.Generic'</span><span style=\"font-weight: bold\">&gt;</span>,\n",
       "    <span style=\"color: #008000; text-decoration-color: #008000\">'Type'</span>: typing.Type,\n",
       "    <span style=\"color: #008000; text-decoration-color: #008000\">'TInstance'</span>: ~TInstance,\n",
       "    <span style=\"color: #008000; text-decoration-color: #008000\">'TProperty'</span>: ~TProperty,\n",
       "    <span style=\"color: #008000; text-decoration-color: #008000\">'_i2'</span>: <span style=\"color: #008000; text-decoration-color: #008000\">'class Team:\\n    pass'</span>,\n",
       "    <span style=\"color: #008000; text-decoration-color: #008000\">'_i3'</span>: <span style=\"color: #008000; text-decoration-color: #008000\">'class Team:\\n    pass'</span>,\n",
       "    <span style=\"color: #008000; text-decoration-color: #008000\">'_i4'</span>: <span style=\"color: #008000; text-decoration-color: #008000\">'type(Team)'</span>,\n",
       "    <span style=\"color: #008000; text-decoration-color: #008000\">'_4'</span>: <span style=\"font-weight: bold\">&lt;</span><span style=\"color: #ff00ff; text-decoration-color: #ff00ff; font-weight: bold\">class</span><span style=\"color: #000000; text-decoration-color: #000000\"> </span><span style=\"color: #008000; text-decoration-color: #008000\">'type'</span><span style=\"font-weight: bold\">&gt;</span>,\n",
       "    <span style=\"color: #008000; text-decoration-color: #008000\">'_i5'</span>: <span style=\"color: #008000; text-decoration-color: #008000\">'Team.__class__'</span>,\n",
       "    <span style=\"color: #008000; text-decoration-color: #008000\">'_5'</span>: <span style=\"font-weight: bold\">&lt;</span><span style=\"color: #ff00ff; text-decoration-color: #ff00ff; font-weight: bold\">class</span><span style=\"color: #000000; text-decoration-color: #000000\"> </span><span style=\"color: #008000; text-decoration-color: #008000\">'type'</span><span style=\"font-weight: bold\">&gt;</span>,\n",
       "    <span style=\"color: #008000; text-decoration-color: #008000\">'_i6'</span>: <span style=\"color: #008000; text-decoration-color: #008000\">'type_of_Team = type(Team)'</span>,\n",
       "    <span style=\"color: #008000; text-decoration-color: #008000\">'type_of_Team'</span>: <span style=\"font-weight: bold\">&lt;</span><span style=\"color: #ff00ff; text-decoration-color: #ff00ff; font-weight: bold\">class</span><span style=\"color: #000000; text-decoration-color: #000000\"> </span><span style=\"color: #008000; text-decoration-color: #008000\">'type'</span><span style=\"font-weight: bold\">&gt;</span>,\n",
       "    <span style=\"color: #008000; text-decoration-color: #008000\">'_i7'</span>: <span style=\"color: #008000; text-decoration-color: #008000\">'isinstance(type_of_Team, object)'</span>,\n",
       "    <span style=\"color: #008000; text-decoration-color: #008000\">'_7'</span>: <span style=\"color: #00ff00; text-decoration-color: #00ff00; font-style: italic\">True</span>,\n",
       "    <span style=\"color: #008000; text-decoration-color: #008000\">'_i8'</span>: <span style=\"color: #008000; text-decoration-color: #008000\">'isinstance(type_of_Team, type)'</span>,\n",
       "    <span style=\"color: #008000; text-decoration-color: #008000\">'_8'</span>: <span style=\"color: #00ff00; text-decoration-color: #00ff00; font-style: italic\">True</span>,\n",
       "    <span style=\"color: #008000; text-decoration-color: #008000\">'_i9'</span>: <span style=\"color: #008000; text-decoration-color: #008000\">'isinstance(type_of_Team, Team)'</span>,\n",
       "    <span style=\"color: #008000; text-decoration-color: #008000\">'_9'</span>: <span style=\"color: #ff0000; text-decoration-color: #ff0000; font-style: italic\">False</span>,\n",
       "    <span style=\"color: #008000; text-decoration-color: #008000\">'_i10'</span>: <span style=\"color: #008000; text-decoration-color: #008000\">'what(type_of_Team)'</span>,\n",
       "    <span style=\"color: #008000; text-decoration-color: #008000\">'_i11'</span>: <span style=\"color: #008000; text-decoration-color: #008000\">'del Team'</span>,\n",
       "    <span style=\"color: #008000; text-decoration-color: #008000\">'_i12'</span>: <span style=\"color: #008000; text-decoration-color: #008000\">'Team = type(\"Team\", (object,), {})  # type(name: str, bases: iterable[type], attributes: dict)'</span>,\n",
       "    <span style=\"color: #008000; text-decoration-color: #008000\">'Team'</span>: <span style=\"font-weight: bold\">&lt;</span><span style=\"color: #ff00ff; text-decoration-color: #ff00ff; font-weight: bold\">class</span><span style=\"color: #000000; text-decoration-color: #000000\"> </span><span style=\"color: #008000; text-decoration-color: #008000\">'__main__.Team'</span><span style=\"font-weight: bold\">&gt;</span>,\n",
       "    <span style=\"color: #008000; text-decoration-color: #008000\">'_i13'</span>: <span style=\"color: #008000; text-decoration-color: #008000\">'Team = type(\"Team\", (object,), {})  # type(name: str, bases: iterable[type], attributes: dict)'</span>,\n",
       "    <span style=\"color: #008000; text-decoration-color: #008000\">'_i14'</span>: <span style=\"color: #008000; text-decoration-color: #008000\">'class Team:\\n    members = []'</span>,\n",
       "    <span style=\"color: #008000; text-decoration-color: #008000\">'_i15'</span>: <span style=\"color: #008000; text-decoration-color: #008000\">'Team.__dict__'</span>,\n",
       "    <span style=\"color: #008000; text-decoration-color: #008000\">'_15'</span>: <span style=\"color: #800080; text-decoration-color: #800080; font-weight: bold\">mappingproxy</span><span style=\"font-weight: bold\">({</span>\n",
       "        <span style=\"color: #008000; text-decoration-color: #008000\">'__module__'</span>: <span style=\"color: #008000; text-decoration-color: #008000\">'__main__'</span>,\n",
       "        <span style=\"color: #008000; text-decoration-color: #008000\">'members'</span>: <span style=\"font-weight: bold\">[]</span>,\n",
       "        <span style=\"color: #008000; text-decoration-color: #008000\">'__dict__'</span>: <span style=\"font-weight: bold\">&lt;</span><span style=\"color: #ff00ff; text-decoration-color: #ff00ff; font-weight: bold\">attribute</span><span style=\"color: #000000; text-decoration-color: #000000\"> </span><span style=\"color: #008000; text-decoration-color: #008000\">'__dict__'</span><span style=\"color: #000000; text-decoration-color: #000000\"> of </span><span style=\"color: #008000; text-decoration-color: #008000\">'Team'</span><span style=\"color: #000000; text-decoration-color: #000000\"> objects</span><span style=\"font-weight: bold\">&gt;</span>,\n",
       "        <span style=\"color: #008000; text-decoration-color: #008000\">'__weakref__'</span>: <span style=\"font-weight: bold\">&lt;</span><span style=\"color: #ff00ff; text-decoration-color: #ff00ff; font-weight: bold\">attribute</span><span style=\"color: #000000; text-decoration-color: #000000\"> </span><span style=\"color: #008000; text-decoration-color: #008000\">'__weakref__'</span><span style=\"color: #000000; text-decoration-color: #000000\"> of </span><span style=\"color: #008000; text-decoration-color: #008000\">'Team'</span><span style=\"color: #000000; text-decoration-color: #000000\"> objects</span><span style=\"font-weight: bold\">&gt;</span>,\n",
       "        <span style=\"color: #008000; text-decoration-color: #008000\">'__doc__'</span>: <span style=\"color: #800080; text-decoration-color: #800080; font-style: italic\">None</span>\n",
       "    <span style=\"font-weight: bold\">})</span>,\n",
       "    <span style=\"color: #008000; text-decoration-color: #008000\">'_i16'</span>: <span style=\"color: #008000; text-decoration-color: #008000\">\"import sys\\nthis_module = sys.modules['__main__']\"</span>,\n",
       "    <span style=\"color: #008000; text-decoration-color: #008000\">'this_module'</span>: <span style=\"font-weight: bold\">&lt;</span><span style=\"color: #ff00ff; text-decoration-color: #ff00ff; font-weight: bold\">module</span><span style=\"color: #000000; text-decoration-color: #000000\"> </span><span style=\"color: #008000; text-decoration-color: #008000\">'__main__'</span><span style=\"font-weight: bold\">&gt;</span>,\n",
       "    <span style=\"color: #008000; text-decoration-color: #008000\">'_i17'</span>: <span style=\"color: #008000; text-decoration-color: #008000\">'this_module'</span>,\n",
       "    <span style=\"color: #008000; text-decoration-color: #008000\">'_17'</span>: <span style=\"font-weight: bold\">&lt;</span><span style=\"color: #ff00ff; text-decoration-color: #ff00ff; font-weight: bold\">module</span><span style=\"color: #000000; text-decoration-color: #000000\"> </span><span style=\"color: #008000; text-decoration-color: #008000\">'__main__'</span><span style=\"font-weight: bold\">&gt;</span>,\n",
       "    <span style=\"color: #008000; text-decoration-color: #008000\">'_i18'</span>: <span style=\"color: #008000; text-decoration-color: #008000\">'[prop for prop in dir(this_module) if not is_from_ipython(prop)]'</span>,\n",
       "    <span style=\"color: #008000; text-decoration-color: #008000\">'_18'</span>: <span style=\"font-weight: bold\">[</span>\n",
       "        <span style=\"color: #008000; text-decoration-color: #008000\">'Generic'</span>,\n",
       "        <span style=\"color: #008000; text-decoration-color: #008000\">'TInstance'</span>,\n",
       "        <span style=\"color: #008000; text-decoration-color: #008000\">'TProperty'</span>,\n",
       "        <span style=\"color: #008000; text-decoration-color: #008000\">'Team'</span>,\n",
       "        <span style=\"color: #008000; text-decoration-color: #008000\">'Type'</span>,\n",
       "        <span style=\"color: #008000; text-decoration-color: #008000\">'TypeVar'</span>,\n",
       "        <span style=\"color: #008000; text-decoration-color: #008000\">'__builtins__'</span>,\n",
       "        <span style=\"color: #008000; text-decoration-color: #008000\">'__doc__'</span>,\n",
       "        <span style=\"color: #008000; text-decoration-color: #008000\">'__loader__'</span>,\n",
       "        <span style=\"color: #008000; text-decoration-color: #008000\">'__name__'</span>,\n",
       "        <span style=\"color: #008000; text-decoration-color: #008000\">'__package__'</span>,\n",
       "        <span style=\"color: #008000; text-decoration-color: #008000\">'__spec__'</span>,\n",
       "        <span style=\"color: #008000; text-decoration-color: #008000\">'inspect'</span>,\n",
       "        <span style=\"color: #008000; text-decoration-color: #008000\">'install'</span>,\n",
       "        <span style=\"color: #008000; text-decoration-color: #008000\">'is_from_ipython'</span>,\n",
       "        <span style=\"color: #008000; text-decoration-color: #008000\">'sys'</span>,\n",
       "        <span style=\"color: #008000; text-decoration-color: #008000\">'this_module'</span>,\n",
       "        <span style=\"color: #008000; text-decoration-color: #008000\">'type_of_Team'</span>,\n",
       "        <span style=\"color: #008000; text-decoration-color: #008000\">'uniquedir'</span>,\n",
       "        <span style=\"color: #008000; text-decoration-color: #008000\">'what'</span>\n",
       "    <span style=\"font-weight: bold\">]</span>,\n",
       "    <span style=\"color: #008000; text-decoration-color: #008000\">'_i19'</span>: <span style=\"color: #008000; text-decoration-color: #008000\">'this_module.__dict__[\"hello\"] = \"bye\"'</span>,\n",
       "    <span style=\"color: #008000; text-decoration-color: #008000\">'hello'</span>: <span style=\"color: #008000; text-decoration-color: #008000\">'bye'</span>,\n",
       "    <span style=\"color: #008000; text-decoration-color: #008000\">'_i20'</span>: <span style=\"color: #008000; text-decoration-color: #008000\">'hello'</span>,\n",
       "    <span style=\"color: #008000; text-decoration-color: #008000\">'_20'</span>: <span style=\"color: #008000; text-decoration-color: #008000\">'bye'</span>,\n",
       "    <span style=\"color: #008000; text-decoration-color: #008000\">'_i21'</span>: <span style=\"color: #008000; text-decoration-color: #008000\">'def returns_locals():\\n    a = 5\\n    return locals()\\n\\nreturns_locals()'</span>,\n",
       "    <span style=\"color: #008000; text-decoration-color: #008000\">'returns_locals'</span>: <span style=\"font-weight: bold\">&lt;</span><span style=\"color: #ff00ff; text-decoration-color: #ff00ff; font-weight: bold\">function</span><span style=\"color: #000000; text-decoration-color: #000000\"> returns_locals at </span><span style=\"color: #008080; text-decoration-color: #008080; font-weight: bold\">0x10643b370</span><span style=\"font-weight: bold\">&gt;</span>,\n",
       "    <span style=\"color: #008000; text-decoration-color: #008000\">'_21'</span>: <span style=\"font-weight: bold\">{</span><span style=\"color: #008000; text-decoration-color: #008000\">'a'</span>: <span style=\"color: #008080; text-decoration-color: #008080; font-weight: bold\">5</span><span style=\"font-weight: bold\">}</span>,\n",
       "    <span style=\"color: #008000; text-decoration-color: #008000\">'_i22'</span>: <span style=\"color: #008000; text-decoration-color: #008000\">'def globals_are_just_the_modules_namespace():\\n    assert globals() == this_module.__dict__'</span>,\n",
       "    <span style=\"color: #008000; text-decoration-color: #008000\">'globals_are_just_the_modules_namespace'</span>: <span style=\"font-weight: bold\">&lt;</span><span style=\"color: #ff00ff; text-decoration-color: #ff00ff; font-weight: bold\">function</span><span style=\"color: #000000; text-decoration-color: #000000\"> globals_are_just_the_modules_namespace at </span><span style=\"color: #008080; text-decoration-color: #008080; font-weight: bold\">0x10643b490</span><span style=\"font-weight: bold\">&gt;</span>,\n",
       "    <span style=\"color: #008000; text-decoration-color: #008000\">'_i23'</span>: <span style=\"color: #008000; text-decoration-color: #008000\">'globals_are_just_the_modules_namespace()'</span>,\n",
       "    <span style=\"color: #008000; text-decoration-color: #008000\">'_i24'</span>: <span style=\"color: #008000; text-decoration-color: #008000\">'this_module.__dict__'</span>\n",
       "<span style=\"font-weight: bold\">}</span>\n",
       "</pre>\n"
      ],
      "text/plain": [
       "\n",
       "\u001b[1m{\u001b[0m\n",
       "    \u001b[32m'__name__'\u001b[0m: \u001b[32m'__main__'\u001b[0m,\n",
       "    \u001b[32m'__doc__'\u001b[0m: \u001b[32m'Automatically created module for IPython interactive environment'\u001b[0m,\n",
       "    \u001b[32m'__package__'\u001b[0m: \u001b[3;35mNone\u001b[0m,\n",
       "    \u001b[32m'__loader__'\u001b[0m: \u001b[3;35mNone\u001b[0m,\n",
       "    \u001b[32m'__spec__'\u001b[0m: \u001b[3;35mNone\u001b[0m,\n",
       "    \u001b[32m'__builtin__'\u001b[0m: \u001b[1m<\u001b[0m\u001b[1;95mmodule\u001b[0m\u001b[39m \u001b[0m\u001b[32m'builtins'\u001b[0m\u001b[39m \u001b[0m\u001b[1;39m(\u001b[0m\u001b[39mbuilt-in\u001b[0m\u001b[1;39m)\u001b[0m\u001b[1m>\u001b[0m,\n",
       "    \u001b[32m'__builtins__'\u001b[0m: \u001b[1m<\u001b[0m\u001b[1;95mmodule\u001b[0m\u001b[39m \u001b[0m\u001b[32m'builtins'\u001b[0m\u001b[39m \u001b[0m\u001b[1;39m(\u001b[0m\u001b[39mbuilt-in\u001b[0m\u001b[1;39m)\u001b[0m\u001b[1m>\u001b[0m,\n",
       "    \u001b[32m'_ih'\u001b[0m: \u001b[1m[\u001b[0m\n",
       "        \u001b[32m''\u001b[0m,\n",
       "        \u001b[32m'from rich.pretty import install\\nfrom rich import inspect\\ninstall\u001b[0m\u001b[32m(\u001b[0m\u001b[32m)\u001b[0m\u001b[32m\\ndef what\u001b[0m\u001b[32m(\u001b[0m\u001b[32mobj, *args, **kwargs\u001b[0m\u001b[32m)\u001b[0m\u001b[32m:\\n    return inspect\u001b[0m\u001b[32m(\u001b[0m\u001b[32mobj, *args, \u001b[0m\u001b[32mdunder\u001b[0m\u001b[32m=\u001b[0m\u001b[32mkwargs\u001b[0m\u001b[32m.pop\u001b[0m\u001b[32m(\u001b[0m\u001b[32m\\'dunder\\', True\u001b[0m\u001b[32m)\u001b[0m\u001b[32m, **kwargs\u001b[0m\u001b[32m)\u001b[0m\u001b[32m\\ndef uniquedir\u001b[0m\u001b[32m(\u001b[0m\u001b[32mobj\u001b[0m\u001b[32m)\u001b[0m\u001b[32m:\\n    return sorted\u001b[0m\u001b[32m(\u001b[0m\u001b[32mset\u001b[0m\u001b[32m(\u001b[0m\u001b[32mdir\u001b[0m\u001b[32m(\u001b[0m\u001b[32mobj\u001b[0m\u001b[32m)\u001b[0m\u001b[32m)\u001b[0m\u001b[32m - set\u001b[0m\u001b[32m(\u001b[0m\u001b[32mdir\u001b[0m\u001b[32m(\u001b[0m\u001b[32mobject\u001b[0m\u001b[32m)\u001b[0m\u001b[32m)\u001b[0m\u001b[32m - set\u001b[0m\u001b[32m(\u001b[0m\u001b[32mdir\u001b[0m\u001b[32m(\u001b[0m\u001b[32mtype\u001b[0m\u001b[32m)\u001b[0m\u001b[32m)\u001b[0m\u001b[32m)\u001b[0m\u001b[32m\\ndef is_from_ipython\u001b[0m\u001b[32m(\u001b[0m\u001b[32mprop\u001b[0m\u001b[32m)\u001b[0m\u001b[32m:\\n    return \u001b[0m\u001b[32m(\u001b[0m\u001b[32mprop.startswith\u001b[0m\u001b[32m(\u001b[0m\u001b[32m\"_i\"\u001b[0m\u001b[32m)\u001b[0m\u001b[32m or \u001b[0m\u001b[32m(\u001b[0m\u001b[32mlen\u001b[0m\u001b[32m(\u001b[0m\u001b[32mprop\u001b[0m\u001b[32m)\u001b[0m\u001b[32m > 1 and prop\u001b[0m\u001b[32m[\u001b[0m\u001b[32m1\u001b[0m\u001b[32m]\u001b[0m\u001b[32m.isdigit\u001b[0m\u001b[32m(\u001b[0m\u001b[32m)\u001b[0m\u001b[32m)\u001b[0m\u001b[32m or prop in \u001b[0m\u001b[32m(\u001b[0m\u001b[32m\"In\", \"Out\", \"_\", \"__\", \"___\", \"_dh\", \"_oh\", \"get_ipython\", \"exit\", \"open\", \"quit\", \"__builtin__\",\u001b[0m\u001b[32m)\u001b[0m\u001b[32m)\u001b[0m\u001b[32m\\nfrom typing import TypeVar, Generic, Type\\nTInstance = TypeVar\u001b[0m\u001b[32m(\u001b[0m\u001b[32m\"TInstance\"\u001b[0m\u001b[32m)\u001b[0m\u001b[32m\\nTProperty = TypeVar\u001b[0m\u001b[32m(\u001b[0m\u001b[32m\"TProperty\", \u001b[0m\u001b[32mbound\u001b[0m\u001b[32m=\u001b[0m\u001b[32mType\u001b[0m\u001b[32m)\u001b[0m\u001b[32m'\u001b[0m,\n",
       "        \u001b[32m'class Team:\\n    pass'\u001b[0m,\n",
       "        \u001b[32m'class Team:\\n    pass'\u001b[0m,\n",
       "        \u001b[32m'type\u001b[0m\u001b[32m(\u001b[0m\u001b[32mTeam\u001b[0m\u001b[32m)\u001b[0m\u001b[32m'\u001b[0m,\n",
       "        \u001b[32m'Team.__class__'\u001b[0m,\n",
       "        \u001b[32m'type_of_Team = type\u001b[0m\u001b[32m(\u001b[0m\u001b[32mTeam\u001b[0m\u001b[32m)\u001b[0m\u001b[32m'\u001b[0m,\n",
       "        \u001b[32m'isinstance\u001b[0m\u001b[32m(\u001b[0m\u001b[32mtype_of_Team, object\u001b[0m\u001b[32m)\u001b[0m\u001b[32m'\u001b[0m,\n",
       "        \u001b[32m'isinstance\u001b[0m\u001b[32m(\u001b[0m\u001b[32mtype_of_Team, type\u001b[0m\u001b[32m)\u001b[0m\u001b[32m'\u001b[0m,\n",
       "        \u001b[32m'isinstance\u001b[0m\u001b[32m(\u001b[0m\u001b[32mtype_of_Team, Team\u001b[0m\u001b[32m)\u001b[0m\u001b[32m'\u001b[0m,\n",
       "        \u001b[32m'what\u001b[0m\u001b[32m(\u001b[0m\u001b[32mtype_of_Team\u001b[0m\u001b[32m)\u001b[0m\u001b[32m'\u001b[0m,\n",
       "        \u001b[32m'del Team'\u001b[0m,\n",
       "        \u001b[32m'Team = type\u001b[0m\u001b[32m(\u001b[0m\u001b[32m\"Team\", \u001b[0m\u001b[32m(\u001b[0m\u001b[32mobject,\u001b[0m\u001b[32m)\u001b[0m\u001b[32m, \u001b[0m\u001b[32m{\u001b[0m\u001b[32m}\u001b[0m\u001b[32m)\u001b[0m\u001b[32m  # type\u001b[0m\u001b[32m(\u001b[0m\u001b[32mname: str, bases: iterable\u001b[0m\u001b[32m[\u001b[0m\u001b[32mtype\u001b[0m\u001b[32m]\u001b[0m\u001b[32m, attributes: dict\u001b[0m\u001b[32m)\u001b[0m\u001b[32m'\u001b[0m,\n",
       "        \u001b[32m'Team = type\u001b[0m\u001b[32m(\u001b[0m\u001b[32m\"Team\", \u001b[0m\u001b[32m(\u001b[0m\u001b[32mobject,\u001b[0m\u001b[32m)\u001b[0m\u001b[32m, \u001b[0m\u001b[32m{\u001b[0m\u001b[32m}\u001b[0m\u001b[32m)\u001b[0m\u001b[32m  # type\u001b[0m\u001b[32m(\u001b[0m\u001b[32mname: str, bases: iterable\u001b[0m\u001b[32m[\u001b[0m\u001b[32mtype\u001b[0m\u001b[32m]\u001b[0m\u001b[32m, attributes: dict\u001b[0m\u001b[32m)\u001b[0m\u001b[32m'\u001b[0m,\n",
       "        \u001b[32m'class Team:\\n    members = \u001b[0m\u001b[32m[\u001b[0m\u001b[32m]\u001b[0m\u001b[32m'\u001b[0m,\n",
       "        \u001b[32m'Team.__dict__'\u001b[0m,\n",
       "        \u001b[32m\"import sys\\nthis_module = sys.modules\u001b[0m\u001b[32m[\u001b[0m\u001b[32m'__main__'\u001b[0m\u001b[32m]\u001b[0m\u001b[32m\"\u001b[0m,\n",
       "        \u001b[32m'this_module'\u001b[0m,\n",
       "        \u001b[32m'\u001b[0m\u001b[32m[\u001b[0m\u001b[32mprop for prop in dir\u001b[0m\u001b[32m(\u001b[0m\u001b[32mthis_module\u001b[0m\u001b[32m)\u001b[0m\u001b[32m if not is_from_ipython\u001b[0m\u001b[32m(\u001b[0m\u001b[32mprop\u001b[0m\u001b[32m)\u001b[0m\u001b[32m]\u001b[0m\u001b[32m'\u001b[0m,\n",
       "        \u001b[32m'this_module.__dict__\u001b[0m\u001b[32m[\u001b[0m\u001b[32m\"hello\"\u001b[0m\u001b[32m]\u001b[0m\u001b[32m = \"bye\"'\u001b[0m,\n",
       "        \u001b[32m'hello'\u001b[0m,\n",
       "        \u001b[32m'def returns_locals\u001b[0m\u001b[32m(\u001b[0m\u001b[32m)\u001b[0m\u001b[32m:\\n    a = 5\\n    return locals\u001b[0m\u001b[32m(\u001b[0m\u001b[32m)\u001b[0m\u001b[32m\\n\\nreturns_locals\u001b[0m\u001b[32m(\u001b[0m\u001b[32m)\u001b[0m\u001b[32m'\u001b[0m,\n",
       "        \u001b[32m'def globals_are_just_the_modules_namespace\u001b[0m\u001b[32m(\u001b[0m\u001b[32m)\u001b[0m\u001b[32m:\\n    assert globals\u001b[0m\u001b[32m(\u001b[0m\u001b[32m)\u001b[0m\u001b[32m == this_module.__dict__'\u001b[0m,\n",
       "        \u001b[32m'globals_are_just_the_modules_namespace\u001b[0m\u001b[32m(\u001b[0m\u001b[32m)\u001b[0m\u001b[32m'\u001b[0m,\n",
       "        \u001b[32m'this_module.__dict__'\u001b[0m\n",
       "    \u001b[1m]\u001b[0m,\n",
       "    \u001b[32m'_oh'\u001b[0m: \u001b[1m{\u001b[0m\n",
       "        \u001b[1;36m4\u001b[0m: \u001b[1m<\u001b[0m\u001b[1;95mclass\u001b[0m\u001b[39m \u001b[0m\u001b[32m'type'\u001b[0m\u001b[1m>\u001b[0m,\n",
       "        \u001b[1;36m5\u001b[0m: \u001b[1m<\u001b[0m\u001b[1;95mclass\u001b[0m\u001b[39m \u001b[0m\u001b[32m'type'\u001b[0m\u001b[1m>\u001b[0m,\n",
       "        \u001b[1;36m7\u001b[0m: \u001b[3;92mTrue\u001b[0m,\n",
       "        \u001b[1;36m8\u001b[0m: \u001b[3;92mTrue\u001b[0m,\n",
       "        \u001b[1;36m9\u001b[0m: \u001b[3;91mFalse\u001b[0m,\n",
       "        \u001b[1;36m15\u001b[0m: \u001b[1;35mmappingproxy\u001b[0m\u001b[1m(\u001b[0m\u001b[1m{\u001b[0m\n",
       "            \u001b[32m'__module__'\u001b[0m: \u001b[32m'__main__'\u001b[0m,\n",
       "            \u001b[32m'members'\u001b[0m: \u001b[1m[\u001b[0m\u001b[1m]\u001b[0m,\n",
       "            \u001b[32m'__dict__'\u001b[0m: \u001b[1m<\u001b[0m\u001b[1;95mattribute\u001b[0m\u001b[39m \u001b[0m\u001b[32m'__dict__'\u001b[0m\u001b[39m of \u001b[0m\u001b[32m'Team'\u001b[0m\u001b[39m objects\u001b[0m\u001b[1m>\u001b[0m,\n",
       "            \u001b[32m'__weakref__'\u001b[0m: \u001b[1m<\u001b[0m\u001b[1;95mattribute\u001b[0m\u001b[39m \u001b[0m\u001b[32m'__weakref__'\u001b[0m\u001b[39m of \u001b[0m\u001b[32m'Team'\u001b[0m\u001b[39m objects\u001b[0m\u001b[1m>\u001b[0m,\n",
       "            \u001b[32m'__doc__'\u001b[0m: \u001b[3;35mNone\u001b[0m\n",
       "        \u001b[1m}\u001b[0m\u001b[1m)\u001b[0m,\n",
       "        \u001b[1;36m17\u001b[0m: \u001b[1m<\u001b[0m\u001b[1;95mmodule\u001b[0m\u001b[39m \u001b[0m\u001b[32m'__main__'\u001b[0m\u001b[1m>\u001b[0m,\n",
       "        \u001b[1;36m18\u001b[0m: \u001b[1m[\u001b[0m\n",
       "            \u001b[32m'Generic'\u001b[0m,\n",
       "            \u001b[32m'TInstance'\u001b[0m,\n",
       "            \u001b[32m'TProperty'\u001b[0m,\n",
       "            \u001b[32m'Team'\u001b[0m,\n",
       "            \u001b[32m'Type'\u001b[0m,\n",
       "            \u001b[32m'TypeVar'\u001b[0m,\n",
       "            \u001b[32m'__builtins__'\u001b[0m,\n",
       "            \u001b[32m'__doc__'\u001b[0m,\n",
       "            \u001b[32m'__loader__'\u001b[0m,\n",
       "            \u001b[32m'__name__'\u001b[0m,\n",
       "            \u001b[32m'__package__'\u001b[0m,\n",
       "            \u001b[32m'__spec__'\u001b[0m,\n",
       "            \u001b[32m'inspect'\u001b[0m,\n",
       "            \u001b[32m'install'\u001b[0m,\n",
       "            \u001b[32m'is_from_ipython'\u001b[0m,\n",
       "            \u001b[32m'sys'\u001b[0m,\n",
       "            \u001b[32m'this_module'\u001b[0m,\n",
       "            \u001b[32m'type_of_Team'\u001b[0m,\n",
       "            \u001b[32m'uniquedir'\u001b[0m,\n",
       "            \u001b[32m'what'\u001b[0m\n",
       "        \u001b[1m]\u001b[0m,\n",
       "        \u001b[1;36m20\u001b[0m: \u001b[32m'bye'\u001b[0m,\n",
       "        \u001b[1;36m21\u001b[0m: \u001b[1m{\u001b[0m\u001b[32m'a'\u001b[0m: \u001b[1;36m5\u001b[0m\u001b[1m}\u001b[0m\n",
       "    \u001b[1m}\u001b[0m,\n",
       "    \u001b[32m'_dh'\u001b[0m: \u001b[1m[\u001b[0m\u001b[1;35mPosixPath\u001b[0m\u001b[1m(\u001b[0m\u001b[32m'/Users/gilad/dev/advanced-python-crash-course/2022/slides/lesson-02'\u001b[0m\u001b[1m)\u001b[0m\u001b[1m]\u001b[0m,\n",
       "    \u001b[32m'In'\u001b[0m: \u001b[1m[\u001b[0m\n",
       "        \u001b[32m''\u001b[0m,\n",
       "        \u001b[32m'from rich.pretty import install\\nfrom rich import inspect\\ninstall\u001b[0m\u001b[32m(\u001b[0m\u001b[32m)\u001b[0m\u001b[32m\\ndef what\u001b[0m\u001b[32m(\u001b[0m\u001b[32mobj, *args, **kwargs\u001b[0m\u001b[32m)\u001b[0m\u001b[32m:\\n    return inspect\u001b[0m\u001b[32m(\u001b[0m\u001b[32mobj, *args, \u001b[0m\u001b[32mdunder\u001b[0m\u001b[32m=\u001b[0m\u001b[32mkwargs\u001b[0m\u001b[32m.pop\u001b[0m\u001b[32m(\u001b[0m\u001b[32m\\'dunder\\', True\u001b[0m\u001b[32m)\u001b[0m\u001b[32m, **kwargs\u001b[0m\u001b[32m)\u001b[0m\u001b[32m\\ndef uniquedir\u001b[0m\u001b[32m(\u001b[0m\u001b[32mobj\u001b[0m\u001b[32m)\u001b[0m\u001b[32m:\\n    return sorted\u001b[0m\u001b[32m(\u001b[0m\u001b[32mset\u001b[0m\u001b[32m(\u001b[0m\u001b[32mdir\u001b[0m\u001b[32m(\u001b[0m\u001b[32mobj\u001b[0m\u001b[32m)\u001b[0m\u001b[32m)\u001b[0m\u001b[32m - set\u001b[0m\u001b[32m(\u001b[0m\u001b[32mdir\u001b[0m\u001b[32m(\u001b[0m\u001b[32mobject\u001b[0m\u001b[32m)\u001b[0m\u001b[32m)\u001b[0m\u001b[32m - set\u001b[0m\u001b[32m(\u001b[0m\u001b[32mdir\u001b[0m\u001b[32m(\u001b[0m\u001b[32mtype\u001b[0m\u001b[32m)\u001b[0m\u001b[32m)\u001b[0m\u001b[32m)\u001b[0m\u001b[32m\\ndef is_from_ipython\u001b[0m\u001b[32m(\u001b[0m\u001b[32mprop\u001b[0m\u001b[32m)\u001b[0m\u001b[32m:\\n    return \u001b[0m\u001b[32m(\u001b[0m\u001b[32mprop.startswith\u001b[0m\u001b[32m(\u001b[0m\u001b[32m\"_i\"\u001b[0m\u001b[32m)\u001b[0m\u001b[32m or \u001b[0m\u001b[32m(\u001b[0m\u001b[32mlen\u001b[0m\u001b[32m(\u001b[0m\u001b[32mprop\u001b[0m\u001b[32m)\u001b[0m\u001b[32m > 1 and prop\u001b[0m\u001b[32m[\u001b[0m\u001b[32m1\u001b[0m\u001b[32m]\u001b[0m\u001b[32m.isdigit\u001b[0m\u001b[32m(\u001b[0m\u001b[32m)\u001b[0m\u001b[32m)\u001b[0m\u001b[32m or prop in \u001b[0m\u001b[32m(\u001b[0m\u001b[32m\"In\", \"Out\", \"_\", \"__\", \"___\", \"_dh\", \"_oh\", \"get_ipython\", \"exit\", \"open\", \"quit\", \"__builtin__\",\u001b[0m\u001b[32m)\u001b[0m\u001b[32m)\u001b[0m\u001b[32m\\nfrom typing import TypeVar, Generic, Type\\nTInstance = TypeVar\u001b[0m\u001b[32m(\u001b[0m\u001b[32m\"TInstance\"\u001b[0m\u001b[32m)\u001b[0m\u001b[32m\\nTProperty = TypeVar\u001b[0m\u001b[32m(\u001b[0m\u001b[32m\"TProperty\", \u001b[0m\u001b[32mbound\u001b[0m\u001b[32m=\u001b[0m\u001b[32mType\u001b[0m\u001b[32m)\u001b[0m\u001b[32m'\u001b[0m,\n",
       "        \u001b[32m'class Team:\\n    pass'\u001b[0m,\n",
       "        \u001b[32m'class Team:\\n    pass'\u001b[0m,\n",
       "        \u001b[32m'type\u001b[0m\u001b[32m(\u001b[0m\u001b[32mTeam\u001b[0m\u001b[32m)\u001b[0m\u001b[32m'\u001b[0m,\n",
       "        \u001b[32m'Team.__class__'\u001b[0m,\n",
       "        \u001b[32m'type_of_Team = type\u001b[0m\u001b[32m(\u001b[0m\u001b[32mTeam\u001b[0m\u001b[32m)\u001b[0m\u001b[32m'\u001b[0m,\n",
       "        \u001b[32m'isinstance\u001b[0m\u001b[32m(\u001b[0m\u001b[32mtype_of_Team, object\u001b[0m\u001b[32m)\u001b[0m\u001b[32m'\u001b[0m,\n",
       "        \u001b[32m'isinstance\u001b[0m\u001b[32m(\u001b[0m\u001b[32mtype_of_Team, type\u001b[0m\u001b[32m)\u001b[0m\u001b[32m'\u001b[0m,\n",
       "        \u001b[32m'isinstance\u001b[0m\u001b[32m(\u001b[0m\u001b[32mtype_of_Team, Team\u001b[0m\u001b[32m)\u001b[0m\u001b[32m'\u001b[0m,\n",
       "        \u001b[32m'what\u001b[0m\u001b[32m(\u001b[0m\u001b[32mtype_of_Team\u001b[0m\u001b[32m)\u001b[0m\u001b[32m'\u001b[0m,\n",
       "        \u001b[32m'del Team'\u001b[0m,\n",
       "        \u001b[32m'Team = type\u001b[0m\u001b[32m(\u001b[0m\u001b[32m\"Team\", \u001b[0m\u001b[32m(\u001b[0m\u001b[32mobject,\u001b[0m\u001b[32m)\u001b[0m\u001b[32m, \u001b[0m\u001b[32m{\u001b[0m\u001b[32m}\u001b[0m\u001b[32m)\u001b[0m\u001b[32m  # type\u001b[0m\u001b[32m(\u001b[0m\u001b[32mname: str, bases: iterable\u001b[0m\u001b[32m[\u001b[0m\u001b[32mtype\u001b[0m\u001b[32m]\u001b[0m\u001b[32m, attributes: dict\u001b[0m\u001b[32m)\u001b[0m\u001b[32m'\u001b[0m,\n",
       "        \u001b[32m'Team = type\u001b[0m\u001b[32m(\u001b[0m\u001b[32m\"Team\", \u001b[0m\u001b[32m(\u001b[0m\u001b[32mobject,\u001b[0m\u001b[32m)\u001b[0m\u001b[32m, \u001b[0m\u001b[32m{\u001b[0m\u001b[32m}\u001b[0m\u001b[32m)\u001b[0m\u001b[32m  # type\u001b[0m\u001b[32m(\u001b[0m\u001b[32mname: str, bases: iterable\u001b[0m\u001b[32m[\u001b[0m\u001b[32mtype\u001b[0m\u001b[32m]\u001b[0m\u001b[32m, attributes: dict\u001b[0m\u001b[32m)\u001b[0m\u001b[32m'\u001b[0m,\n",
       "        \u001b[32m'class Team:\\n    members = \u001b[0m\u001b[32m[\u001b[0m\u001b[32m]\u001b[0m\u001b[32m'\u001b[0m,\n",
       "        \u001b[32m'Team.__dict__'\u001b[0m,\n",
       "        \u001b[32m\"import sys\\nthis_module = sys.modules\u001b[0m\u001b[32m[\u001b[0m\u001b[32m'__main__'\u001b[0m\u001b[32m]\u001b[0m\u001b[32m\"\u001b[0m,\n",
       "        \u001b[32m'this_module'\u001b[0m,\n",
       "        \u001b[32m'\u001b[0m\u001b[32m[\u001b[0m\u001b[32mprop for prop in dir\u001b[0m\u001b[32m(\u001b[0m\u001b[32mthis_module\u001b[0m\u001b[32m)\u001b[0m\u001b[32m if not is_from_ipython\u001b[0m\u001b[32m(\u001b[0m\u001b[32mprop\u001b[0m\u001b[32m)\u001b[0m\u001b[32m]\u001b[0m\u001b[32m'\u001b[0m,\n",
       "        \u001b[32m'this_module.__dict__\u001b[0m\u001b[32m[\u001b[0m\u001b[32m\"hello\"\u001b[0m\u001b[32m]\u001b[0m\u001b[32m = \"bye\"'\u001b[0m,\n",
       "        \u001b[32m'hello'\u001b[0m,\n",
       "        \u001b[32m'def returns_locals\u001b[0m\u001b[32m(\u001b[0m\u001b[32m)\u001b[0m\u001b[32m:\\n    a = 5\\n    return locals\u001b[0m\u001b[32m(\u001b[0m\u001b[32m)\u001b[0m\u001b[32m\\n\\nreturns_locals\u001b[0m\u001b[32m(\u001b[0m\u001b[32m)\u001b[0m\u001b[32m'\u001b[0m,\n",
       "        \u001b[32m'def globals_are_just_the_modules_namespace\u001b[0m\u001b[32m(\u001b[0m\u001b[32m)\u001b[0m\u001b[32m:\\n    assert globals\u001b[0m\u001b[32m(\u001b[0m\u001b[32m)\u001b[0m\u001b[32m == this_module.__dict__'\u001b[0m,\n",
       "        \u001b[32m'globals_are_just_the_modules_namespace\u001b[0m\u001b[32m(\u001b[0m\u001b[32m)\u001b[0m\u001b[32m'\u001b[0m,\n",
       "        \u001b[32m'this_module.__dict__'\u001b[0m\n",
       "    \u001b[1m]\u001b[0m,\n",
       "    \u001b[32m'Out'\u001b[0m: \u001b[1m{\u001b[0m\n",
       "        \u001b[1;36m4\u001b[0m: \u001b[1m<\u001b[0m\u001b[1;95mclass\u001b[0m\u001b[39m \u001b[0m\u001b[32m'type'\u001b[0m\u001b[1m>\u001b[0m,\n",
       "        \u001b[1;36m5\u001b[0m: \u001b[1m<\u001b[0m\u001b[1;95mclass\u001b[0m\u001b[39m \u001b[0m\u001b[32m'type'\u001b[0m\u001b[1m>\u001b[0m,\n",
       "        \u001b[1;36m7\u001b[0m: \u001b[3;92mTrue\u001b[0m,\n",
       "        \u001b[1;36m8\u001b[0m: \u001b[3;92mTrue\u001b[0m,\n",
       "        \u001b[1;36m9\u001b[0m: \u001b[3;91mFalse\u001b[0m,\n",
       "        \u001b[1;36m15\u001b[0m: \u001b[1;35mmappingproxy\u001b[0m\u001b[1m(\u001b[0m\u001b[1m{\u001b[0m\n",
       "            \u001b[32m'__module__'\u001b[0m: \u001b[32m'__main__'\u001b[0m,\n",
       "            \u001b[32m'members'\u001b[0m: \u001b[1m[\u001b[0m\u001b[1m]\u001b[0m,\n",
       "            \u001b[32m'__dict__'\u001b[0m: \u001b[1m<\u001b[0m\u001b[1;95mattribute\u001b[0m\u001b[39m \u001b[0m\u001b[32m'__dict__'\u001b[0m\u001b[39m of \u001b[0m\u001b[32m'Team'\u001b[0m\u001b[39m objects\u001b[0m\u001b[1m>\u001b[0m,\n",
       "            \u001b[32m'__weakref__'\u001b[0m: \u001b[1m<\u001b[0m\u001b[1;95mattribute\u001b[0m\u001b[39m \u001b[0m\u001b[32m'__weakref__'\u001b[0m\u001b[39m of \u001b[0m\u001b[32m'Team'\u001b[0m\u001b[39m objects\u001b[0m\u001b[1m>\u001b[0m,\n",
       "            \u001b[32m'__doc__'\u001b[0m: \u001b[3;35mNone\u001b[0m\n",
       "        \u001b[1m}\u001b[0m\u001b[1m)\u001b[0m,\n",
       "        \u001b[1;36m17\u001b[0m: \u001b[1m<\u001b[0m\u001b[1;95mmodule\u001b[0m\u001b[39m \u001b[0m\u001b[32m'__main__'\u001b[0m\u001b[1m>\u001b[0m,\n",
       "        \u001b[1;36m18\u001b[0m: \u001b[1m[\u001b[0m\n",
       "            \u001b[32m'Generic'\u001b[0m,\n",
       "            \u001b[32m'TInstance'\u001b[0m,\n",
       "            \u001b[32m'TProperty'\u001b[0m,\n",
       "            \u001b[32m'Team'\u001b[0m,\n",
       "            \u001b[32m'Type'\u001b[0m,\n",
       "            \u001b[32m'TypeVar'\u001b[0m,\n",
       "            \u001b[32m'__builtins__'\u001b[0m,\n",
       "            \u001b[32m'__doc__'\u001b[0m,\n",
       "            \u001b[32m'__loader__'\u001b[0m,\n",
       "            \u001b[32m'__name__'\u001b[0m,\n",
       "            \u001b[32m'__package__'\u001b[0m,\n",
       "            \u001b[32m'__spec__'\u001b[0m,\n",
       "            \u001b[32m'inspect'\u001b[0m,\n",
       "            \u001b[32m'install'\u001b[0m,\n",
       "            \u001b[32m'is_from_ipython'\u001b[0m,\n",
       "            \u001b[32m'sys'\u001b[0m,\n",
       "            \u001b[32m'this_module'\u001b[0m,\n",
       "            \u001b[32m'type_of_Team'\u001b[0m,\n",
       "            \u001b[32m'uniquedir'\u001b[0m,\n",
       "            \u001b[32m'what'\u001b[0m\n",
       "        \u001b[1m]\u001b[0m,\n",
       "        \u001b[1;36m20\u001b[0m: \u001b[32m'bye'\u001b[0m,\n",
       "        \u001b[1;36m21\u001b[0m: \u001b[1m{\u001b[0m\u001b[32m'a'\u001b[0m: \u001b[1;36m5\u001b[0m\u001b[1m}\u001b[0m\n",
       "    \u001b[1m}\u001b[0m,\n",
       "    \u001b[32m'get_ipython'\u001b[0m: \u001b[1m<\u001b[0m\u001b[1;95mbound\u001b[0m\u001b[39m method InteractiveShell.get_ipython of <ipykernel.zmqshell.ZMQInteractiveShell object at \u001b[0m\u001b[1;36m0x106158d90\u001b[0m\u001b[1m>\u001b[0m>,\n",
       "    \u001b[32m'exit'\u001b[0m: \u001b[1m<\u001b[0m\u001b[1;95mIPython.core.autocall.ZMQExitAutocall\u001b[0m\u001b[39m object at \u001b[0m\u001b[1;36m0x1060fefb0\u001b[0m\u001b[1m>\u001b[0m,\n",
       "    \u001b[32m'quit'\u001b[0m: \u001b[1m<\u001b[0m\u001b[1;95mIPython.core.autocall.ZMQExitAutocall\u001b[0m\u001b[39m object at \u001b[0m\u001b[1;36m0x1060fefb0\u001b[0m\u001b[1m>\u001b[0m,\n",
       "    \u001b[32m'open'\u001b[0m: \u001b[1m<\u001b[0m\u001b[1;95mfunction\u001b[0m\u001b[39m open at \u001b[0m\u001b[1;36m0x10388d360\u001b[0m\u001b[1m>\u001b[0m,\n",
       "    \u001b[32m'_'\u001b[0m: \u001b[1m{\u001b[0m\u001b[32m'a'\u001b[0m: \u001b[1;36m5\u001b[0m\u001b[1m}\u001b[0m,\n",
       "    \u001b[32m'__'\u001b[0m: \u001b[32m'bye'\u001b[0m,\n",
       "    \u001b[32m'___'\u001b[0m: \u001b[1m[\u001b[0m\n",
       "        \u001b[32m'Generic'\u001b[0m,\n",
       "        \u001b[32m'TInstance'\u001b[0m,\n",
       "        \u001b[32m'TProperty'\u001b[0m,\n",
       "        \u001b[32m'Team'\u001b[0m,\n",
       "        \u001b[32m'Type'\u001b[0m,\n",
       "        \u001b[32m'TypeVar'\u001b[0m,\n",
       "        \u001b[32m'__builtins__'\u001b[0m,\n",
       "        \u001b[32m'__doc__'\u001b[0m,\n",
       "        \u001b[32m'__loader__'\u001b[0m,\n",
       "        \u001b[32m'__name__'\u001b[0m,\n",
       "        \u001b[32m'__package__'\u001b[0m,\n",
       "        \u001b[32m'__spec__'\u001b[0m,\n",
       "        \u001b[32m'inspect'\u001b[0m,\n",
       "        \u001b[32m'install'\u001b[0m,\n",
       "        \u001b[32m'is_from_ipython'\u001b[0m,\n",
       "        \u001b[32m'sys'\u001b[0m,\n",
       "        \u001b[32m'this_module'\u001b[0m,\n",
       "        \u001b[32m'type_of_Team'\u001b[0m,\n",
       "        \u001b[32m'uniquedir'\u001b[0m,\n",
       "        \u001b[32m'what'\u001b[0m\n",
       "    \u001b[1m]\u001b[0m,\n",
       "    \u001b[32m'sys'\u001b[0m: \u001b[1m<\u001b[0m\u001b[1;95mmodule\u001b[0m\u001b[39m \u001b[0m\u001b[32m'sys'\u001b[0m\u001b[39m \u001b[0m\u001b[1;39m(\u001b[0m\u001b[39mbuilt-in\u001b[0m\u001b[1;39m)\u001b[0m\u001b[1m>\u001b[0m,\n",
       "    \u001b[32m'_i'\u001b[0m: \u001b[32m'globals_are_just_the_modules_namespace\u001b[0m\u001b[32m(\u001b[0m\u001b[32m)\u001b[0m\u001b[32m'\u001b[0m,\n",
       "    \u001b[32m'_ii'\u001b[0m: \u001b[32m'def globals_are_just_the_modules_namespace\u001b[0m\u001b[32m(\u001b[0m\u001b[32m)\u001b[0m\u001b[32m:\\n    assert globals\u001b[0m\u001b[32m(\u001b[0m\u001b[32m)\u001b[0m\u001b[32m == this_module.__dict__'\u001b[0m,\n",
       "    \u001b[32m'_iii'\u001b[0m: \u001b[32m'def returns_locals\u001b[0m\u001b[32m(\u001b[0m\u001b[32m)\u001b[0m\u001b[32m:\\n    a = 5\\n    return locals\u001b[0m\u001b[32m(\u001b[0m\u001b[32m)\u001b[0m\u001b[32m\\n\\nreturns_locals\u001b[0m\u001b[32m(\u001b[0m\u001b[32m)\u001b[0m\u001b[32m'\u001b[0m,\n",
       "    \u001b[32m'_i1'\u001b[0m: \u001b[32m'from rich.pretty import install\\nfrom rich import inspect\\ninstall\u001b[0m\u001b[32m(\u001b[0m\u001b[32m)\u001b[0m\u001b[32m\\ndef what\u001b[0m\u001b[32m(\u001b[0m\u001b[32mobj, *args, **kwargs\u001b[0m\u001b[32m)\u001b[0m\u001b[32m:\\n    return inspect\u001b[0m\u001b[32m(\u001b[0m\u001b[32mobj, *args, \u001b[0m\u001b[32mdunder\u001b[0m\u001b[32m=\u001b[0m\u001b[32mkwargs\u001b[0m\u001b[32m.pop\u001b[0m\u001b[32m(\u001b[0m\u001b[32m\\'dunder\\', True\u001b[0m\u001b[32m)\u001b[0m\u001b[32m, **kwargs\u001b[0m\u001b[32m)\u001b[0m\u001b[32m\\ndef uniquedir\u001b[0m\u001b[32m(\u001b[0m\u001b[32mobj\u001b[0m\u001b[32m)\u001b[0m\u001b[32m:\\n    return sorted\u001b[0m\u001b[32m(\u001b[0m\u001b[32mset\u001b[0m\u001b[32m(\u001b[0m\u001b[32mdir\u001b[0m\u001b[32m(\u001b[0m\u001b[32mobj\u001b[0m\u001b[32m)\u001b[0m\u001b[32m)\u001b[0m\u001b[32m - set\u001b[0m\u001b[32m(\u001b[0m\u001b[32mdir\u001b[0m\u001b[32m(\u001b[0m\u001b[32mobject\u001b[0m\u001b[32m)\u001b[0m\u001b[32m)\u001b[0m\u001b[32m - set\u001b[0m\u001b[32m(\u001b[0m\u001b[32mdir\u001b[0m\u001b[32m(\u001b[0m\u001b[32mtype\u001b[0m\u001b[32m)\u001b[0m\u001b[32m)\u001b[0m\u001b[32m)\u001b[0m\u001b[32m\\ndef is_from_ipython\u001b[0m\u001b[32m(\u001b[0m\u001b[32mprop\u001b[0m\u001b[32m)\u001b[0m\u001b[32m:\\n    return \u001b[0m\u001b[32m(\u001b[0m\u001b[32mprop.startswith\u001b[0m\u001b[32m(\u001b[0m\u001b[32m\"_i\"\u001b[0m\u001b[32m)\u001b[0m\u001b[32m or \u001b[0m\u001b[32m(\u001b[0m\u001b[32mlen\u001b[0m\u001b[32m(\u001b[0m\u001b[32mprop\u001b[0m\u001b[32m)\u001b[0m\u001b[32m > 1 and prop\u001b[0m\u001b[32m[\u001b[0m\u001b[32m1\u001b[0m\u001b[32m]\u001b[0m\u001b[32m.isdigit\u001b[0m\u001b[32m(\u001b[0m\u001b[32m)\u001b[0m\u001b[32m)\u001b[0m\u001b[32m or prop in \u001b[0m\u001b[32m(\u001b[0m\u001b[32m\"In\", \"Out\", \"_\", \"__\", \"___\", \"_dh\", \"_oh\", \"get_ipython\", \"exit\", \"open\", \"quit\", \"__builtin__\",\u001b[0m\u001b[32m)\u001b[0m\u001b[32m)\u001b[0m\u001b[32m\\nfrom typing import TypeVar, Generic, Type\\nTInstance = TypeVar\u001b[0m\u001b[32m(\u001b[0m\u001b[32m\"TInstance\"\u001b[0m\u001b[32m)\u001b[0m\u001b[32m\\nTProperty = TypeVar\u001b[0m\u001b[32m(\u001b[0m\u001b[32m\"TProperty\", \u001b[0m\u001b[32mbound\u001b[0m\u001b[32m=\u001b[0m\u001b[32mType\u001b[0m\u001b[32m)\u001b[0m\u001b[32m'\u001b[0m,\n",
       "    \u001b[32m'install'\u001b[0m: \u001b[1m<\u001b[0m\u001b[1;95mfunction\u001b[0m\u001b[39m install at \u001b[0m\u001b[1;36m0x10636d360\u001b[0m\u001b[1m>\u001b[0m,\n",
       "    \u001b[32m'inspect'\u001b[0m: \u001b[1m<\u001b[0m\u001b[1;95mfunction\u001b[0m\u001b[39m inspect at \u001b[0m\u001b[1;36m0x1061e80d0\u001b[0m\u001b[1m>\u001b[0m,\n",
       "    \u001b[32m'what'\u001b[0m: \u001b[1m<\u001b[0m\u001b[1;95mfunction\u001b[0m\u001b[39m what at \u001b[0m\u001b[1;36m0x1063efd00\u001b[0m\u001b[1m>\u001b[0m,\n",
       "    \u001b[32m'uniquedir'\u001b[0m: \u001b[1m<\u001b[0m\u001b[1;95mfunction\u001b[0m\u001b[39m uniquedir at \u001b[0m\u001b[1;36m0x1063ef1c0\u001b[0m\u001b[1m>\u001b[0m,\n",
       "    \u001b[32m'is_from_ipython'\u001b[0m: \u001b[1m<\u001b[0m\u001b[1;95mfunction\u001b[0m\u001b[39m is_from_ipython at \u001b[0m\u001b[1;36m0x1063ef400\u001b[0m\u001b[1m>\u001b[0m,\n",
       "    \u001b[32m'TypeVar'\u001b[0m: \u001b[1m<\u001b[0m\u001b[1;95mclass\u001b[0m\u001b[39m \u001b[0m\u001b[32m'typing.TypeVar'\u001b[0m\u001b[1m>\u001b[0m,\n",
       "    \u001b[32m'Generic'\u001b[0m: \u001b[1m<\u001b[0m\u001b[1;95mclass\u001b[0m\u001b[39m \u001b[0m\u001b[32m'typing.Generic'\u001b[0m\u001b[1m>\u001b[0m,\n",
       "    \u001b[32m'Type'\u001b[0m: typing.Type,\n",
       "    \u001b[32m'TInstance'\u001b[0m: ~TInstance,\n",
       "    \u001b[32m'TProperty'\u001b[0m: ~TProperty,\n",
       "    \u001b[32m'_i2'\u001b[0m: \u001b[32m'class Team:\\n    pass'\u001b[0m,\n",
       "    \u001b[32m'_i3'\u001b[0m: \u001b[32m'class Team:\\n    pass'\u001b[0m,\n",
       "    \u001b[32m'_i4'\u001b[0m: \u001b[32m'type\u001b[0m\u001b[32m(\u001b[0m\u001b[32mTeam\u001b[0m\u001b[32m)\u001b[0m\u001b[32m'\u001b[0m,\n",
       "    \u001b[32m'_4'\u001b[0m: \u001b[1m<\u001b[0m\u001b[1;95mclass\u001b[0m\u001b[39m \u001b[0m\u001b[32m'type'\u001b[0m\u001b[1m>\u001b[0m,\n",
       "    \u001b[32m'_i5'\u001b[0m: \u001b[32m'Team.__class__'\u001b[0m,\n",
       "    \u001b[32m'_5'\u001b[0m: \u001b[1m<\u001b[0m\u001b[1;95mclass\u001b[0m\u001b[39m \u001b[0m\u001b[32m'type'\u001b[0m\u001b[1m>\u001b[0m,\n",
       "    \u001b[32m'_i6'\u001b[0m: \u001b[32m'type_of_Team = type\u001b[0m\u001b[32m(\u001b[0m\u001b[32mTeam\u001b[0m\u001b[32m)\u001b[0m\u001b[32m'\u001b[0m,\n",
       "    \u001b[32m'type_of_Team'\u001b[0m: \u001b[1m<\u001b[0m\u001b[1;95mclass\u001b[0m\u001b[39m \u001b[0m\u001b[32m'type'\u001b[0m\u001b[1m>\u001b[0m,\n",
       "    \u001b[32m'_i7'\u001b[0m: \u001b[32m'isinstance\u001b[0m\u001b[32m(\u001b[0m\u001b[32mtype_of_Team, object\u001b[0m\u001b[32m)\u001b[0m\u001b[32m'\u001b[0m,\n",
       "    \u001b[32m'_7'\u001b[0m: \u001b[3;92mTrue\u001b[0m,\n",
       "    \u001b[32m'_i8'\u001b[0m: \u001b[32m'isinstance\u001b[0m\u001b[32m(\u001b[0m\u001b[32mtype_of_Team, type\u001b[0m\u001b[32m)\u001b[0m\u001b[32m'\u001b[0m,\n",
       "    \u001b[32m'_8'\u001b[0m: \u001b[3;92mTrue\u001b[0m,\n",
       "    \u001b[32m'_i9'\u001b[0m: \u001b[32m'isinstance\u001b[0m\u001b[32m(\u001b[0m\u001b[32mtype_of_Team, Team\u001b[0m\u001b[32m)\u001b[0m\u001b[32m'\u001b[0m,\n",
       "    \u001b[32m'_9'\u001b[0m: \u001b[3;91mFalse\u001b[0m,\n",
       "    \u001b[32m'_i10'\u001b[0m: \u001b[32m'what\u001b[0m\u001b[32m(\u001b[0m\u001b[32mtype_of_Team\u001b[0m\u001b[32m)\u001b[0m\u001b[32m'\u001b[0m,\n",
       "    \u001b[32m'_i11'\u001b[0m: \u001b[32m'del Team'\u001b[0m,\n",
       "    \u001b[32m'_i12'\u001b[0m: \u001b[32m'Team = type\u001b[0m\u001b[32m(\u001b[0m\u001b[32m\"Team\", \u001b[0m\u001b[32m(\u001b[0m\u001b[32mobject,\u001b[0m\u001b[32m)\u001b[0m\u001b[32m, \u001b[0m\u001b[32m{\u001b[0m\u001b[32m}\u001b[0m\u001b[32m)\u001b[0m\u001b[32m  # type\u001b[0m\u001b[32m(\u001b[0m\u001b[32mname: str, bases: iterable\u001b[0m\u001b[32m[\u001b[0m\u001b[32mtype\u001b[0m\u001b[32m]\u001b[0m\u001b[32m, attributes: dict\u001b[0m\u001b[32m)\u001b[0m\u001b[32m'\u001b[0m,\n",
       "    \u001b[32m'Team'\u001b[0m: \u001b[1m<\u001b[0m\u001b[1;95mclass\u001b[0m\u001b[39m \u001b[0m\u001b[32m'__main__.Team'\u001b[0m\u001b[1m>\u001b[0m,\n",
       "    \u001b[32m'_i13'\u001b[0m: \u001b[32m'Team = type\u001b[0m\u001b[32m(\u001b[0m\u001b[32m\"Team\", \u001b[0m\u001b[32m(\u001b[0m\u001b[32mobject,\u001b[0m\u001b[32m)\u001b[0m\u001b[32m, \u001b[0m\u001b[32m{\u001b[0m\u001b[32m}\u001b[0m\u001b[32m)\u001b[0m\u001b[32m  # type\u001b[0m\u001b[32m(\u001b[0m\u001b[32mname: str, bases: iterable\u001b[0m\u001b[32m[\u001b[0m\u001b[32mtype\u001b[0m\u001b[32m]\u001b[0m\u001b[32m, attributes: dict\u001b[0m\u001b[32m)\u001b[0m\u001b[32m'\u001b[0m,\n",
       "    \u001b[32m'_i14'\u001b[0m: \u001b[32m'class Team:\\n    members = \u001b[0m\u001b[32m[\u001b[0m\u001b[32m]\u001b[0m\u001b[32m'\u001b[0m,\n",
       "    \u001b[32m'_i15'\u001b[0m: \u001b[32m'Team.__dict__'\u001b[0m,\n",
       "    \u001b[32m'_15'\u001b[0m: \u001b[1;35mmappingproxy\u001b[0m\u001b[1m(\u001b[0m\u001b[1m{\u001b[0m\n",
       "        \u001b[32m'__module__'\u001b[0m: \u001b[32m'__main__'\u001b[0m,\n",
       "        \u001b[32m'members'\u001b[0m: \u001b[1m[\u001b[0m\u001b[1m]\u001b[0m,\n",
       "        \u001b[32m'__dict__'\u001b[0m: \u001b[1m<\u001b[0m\u001b[1;95mattribute\u001b[0m\u001b[39m \u001b[0m\u001b[32m'__dict__'\u001b[0m\u001b[39m of \u001b[0m\u001b[32m'Team'\u001b[0m\u001b[39m objects\u001b[0m\u001b[1m>\u001b[0m,\n",
       "        \u001b[32m'__weakref__'\u001b[0m: \u001b[1m<\u001b[0m\u001b[1;95mattribute\u001b[0m\u001b[39m \u001b[0m\u001b[32m'__weakref__'\u001b[0m\u001b[39m of \u001b[0m\u001b[32m'Team'\u001b[0m\u001b[39m objects\u001b[0m\u001b[1m>\u001b[0m,\n",
       "        \u001b[32m'__doc__'\u001b[0m: \u001b[3;35mNone\u001b[0m\n",
       "    \u001b[1m}\u001b[0m\u001b[1m)\u001b[0m,\n",
       "    \u001b[32m'_i16'\u001b[0m: \u001b[32m\"import sys\\nthis_module = sys.modules\u001b[0m\u001b[32m[\u001b[0m\u001b[32m'__main__'\u001b[0m\u001b[32m]\u001b[0m\u001b[32m\"\u001b[0m,\n",
       "    \u001b[32m'this_module'\u001b[0m: \u001b[1m<\u001b[0m\u001b[1;95mmodule\u001b[0m\u001b[39m \u001b[0m\u001b[32m'__main__'\u001b[0m\u001b[1m>\u001b[0m,\n",
       "    \u001b[32m'_i17'\u001b[0m: \u001b[32m'this_module'\u001b[0m,\n",
       "    \u001b[32m'_17'\u001b[0m: \u001b[1m<\u001b[0m\u001b[1;95mmodule\u001b[0m\u001b[39m \u001b[0m\u001b[32m'__main__'\u001b[0m\u001b[1m>\u001b[0m,\n",
       "    \u001b[32m'_i18'\u001b[0m: \u001b[32m'\u001b[0m\u001b[32m[\u001b[0m\u001b[32mprop for prop in dir\u001b[0m\u001b[32m(\u001b[0m\u001b[32mthis_module\u001b[0m\u001b[32m)\u001b[0m\u001b[32m if not is_from_ipython\u001b[0m\u001b[32m(\u001b[0m\u001b[32mprop\u001b[0m\u001b[32m)\u001b[0m\u001b[32m]\u001b[0m\u001b[32m'\u001b[0m,\n",
       "    \u001b[32m'_18'\u001b[0m: \u001b[1m[\u001b[0m\n",
       "        \u001b[32m'Generic'\u001b[0m,\n",
       "        \u001b[32m'TInstance'\u001b[0m,\n",
       "        \u001b[32m'TProperty'\u001b[0m,\n",
       "        \u001b[32m'Team'\u001b[0m,\n",
       "        \u001b[32m'Type'\u001b[0m,\n",
       "        \u001b[32m'TypeVar'\u001b[0m,\n",
       "        \u001b[32m'__builtins__'\u001b[0m,\n",
       "        \u001b[32m'__doc__'\u001b[0m,\n",
       "        \u001b[32m'__loader__'\u001b[0m,\n",
       "        \u001b[32m'__name__'\u001b[0m,\n",
       "        \u001b[32m'__package__'\u001b[0m,\n",
       "        \u001b[32m'__spec__'\u001b[0m,\n",
       "        \u001b[32m'inspect'\u001b[0m,\n",
       "        \u001b[32m'install'\u001b[0m,\n",
       "        \u001b[32m'is_from_ipython'\u001b[0m,\n",
       "        \u001b[32m'sys'\u001b[0m,\n",
       "        \u001b[32m'this_module'\u001b[0m,\n",
       "        \u001b[32m'type_of_Team'\u001b[0m,\n",
       "        \u001b[32m'uniquedir'\u001b[0m,\n",
       "        \u001b[32m'what'\u001b[0m\n",
       "    \u001b[1m]\u001b[0m,\n",
       "    \u001b[32m'_i19'\u001b[0m: \u001b[32m'this_module.__dict__\u001b[0m\u001b[32m[\u001b[0m\u001b[32m\"hello\"\u001b[0m\u001b[32m]\u001b[0m\u001b[32m = \"bye\"'\u001b[0m,\n",
       "    \u001b[32m'hello'\u001b[0m: \u001b[32m'bye'\u001b[0m,\n",
       "    \u001b[32m'_i20'\u001b[0m: \u001b[32m'hello'\u001b[0m,\n",
       "    \u001b[32m'_20'\u001b[0m: \u001b[32m'bye'\u001b[0m,\n",
       "    \u001b[32m'_i21'\u001b[0m: \u001b[32m'def returns_locals\u001b[0m\u001b[32m(\u001b[0m\u001b[32m)\u001b[0m\u001b[32m:\\n    a = 5\\n    return locals\u001b[0m\u001b[32m(\u001b[0m\u001b[32m)\u001b[0m\u001b[32m\\n\\nreturns_locals\u001b[0m\u001b[32m(\u001b[0m\u001b[32m)\u001b[0m\u001b[32m'\u001b[0m,\n",
       "    \u001b[32m'returns_locals'\u001b[0m: \u001b[1m<\u001b[0m\u001b[1;95mfunction\u001b[0m\u001b[39m returns_locals at \u001b[0m\u001b[1;36m0x10643b370\u001b[0m\u001b[1m>\u001b[0m,\n",
       "    \u001b[32m'_21'\u001b[0m: \u001b[1m{\u001b[0m\u001b[32m'a'\u001b[0m: \u001b[1;36m5\u001b[0m\u001b[1m}\u001b[0m,\n",
       "    \u001b[32m'_i22'\u001b[0m: \u001b[32m'def globals_are_just_the_modules_namespace\u001b[0m\u001b[32m(\u001b[0m\u001b[32m)\u001b[0m\u001b[32m:\\n    assert globals\u001b[0m\u001b[32m(\u001b[0m\u001b[32m)\u001b[0m\u001b[32m == this_module.__dict__'\u001b[0m,\n",
       "    \u001b[32m'globals_are_just_the_modules_namespace'\u001b[0m: \u001b[1m<\u001b[0m\u001b[1;95mfunction\u001b[0m\u001b[39m globals_are_just_the_modules_namespace at \u001b[0m\u001b[1;36m0x10643b490\u001b[0m\u001b[1m>\u001b[0m,\n",
       "    \u001b[32m'_i23'\u001b[0m: \u001b[32m'globals_are_just_the_modules_namespace\u001b[0m\u001b[32m(\u001b[0m\u001b[32m)\u001b[0m\u001b[32m'\u001b[0m,\n",
       "    \u001b[32m'_i24'\u001b[0m: \u001b[32m'this_module.__dict__'\u001b[0m\n",
       "\u001b[1m}\u001b[0m\n"
      ]
     },
     "metadata": {},
     "output_type": "display_data"
    }
   ],
   "source": [
    "this_module.__dict__"
   ]
  },
  {
   "cell_type": "code",
   "execution_count": null,
   "id": "4f7b31bd-6630-46fa-ae85-2bea2b5b64dd",
   "metadata": {},
   "outputs": [],
   "source": [
    "name = 'bob'\n",
    "def doesnt_set_outer_scope():\n",
    "    name = 'roger'"
   ]
  },
  {
   "cell_type": "code",
   "execution_count": null,
   "id": "a03a710b-2bd4-4981-8cee-554fd1f4ccbe",
   "metadata": {},
   "outputs": [],
   "source": [
    "doesnt_set_outer_scope()\n",
    "name"
   ]
  },
  {
   "cell_type": "code",
   "execution_count": null,
   "id": "4d2465e1-f035-4375-bd5c-ae714448bc17",
   "metadata": {},
   "outputs": [],
   "source": [
    "def smelly():\n",
    "    global name\n",
    "    name = 'roger'"
   ]
  },
  {
   "cell_type": "code",
   "execution_count": null,
   "id": "0591f16f-91dc-4075-88da-1a2d822a8151",
   "metadata": {},
   "outputs": [],
   "source": [
    "smelly()\n",
    "name"
   ]
  },
  {
   "cell_type": "code",
   "execution_count": null,
   "id": "05edc0e1-b4ba-4fd3-8b3e-2a048603f30b",
   "metadata": {},
   "outputs": [],
   "source": [
    "this_module.__dict__['name']"
   ]
  },
  {
   "cell_type": "code",
   "execution_count": 25,
   "id": "118f8cbc-b5a7-4b80-bdd1-ad240b0240c4",
   "metadata": {},
   "outputs": [
    {
     "name": "stdout",
     "output_type": "stream",
     "text": [
      "Emailing to aviv:  Accessed __loader__ -> None\n",
      "Emailing to aviv:  Accessed __spec__ -> None\n",
      "Emailing to aviv:  Accessed __name__ -> __main__\n",
      "Emailing to aviv:  Accessed __loader__ -> None\n",
      "Emailing to aviv:  Accessed __spec__ -> None\n",
      "Emailing to aviv:  Accessed __name__ -> __main__\n",
      "Emailing to aviv:  Accessed __loader__ -> None\n",
      "Emailing to aviv:  Accessed __spec__ -> None\n",
      "Emailing to aviv:  Accessed __name__ -> __main__\n",
      "Emailing to aviv:  Accessed __loader__ -> None\n",
      "Emailing to aviv:  Accessed __spec__ -> None\n",
      "Emailing to aviv:  Accessed __name__ -> __main__\n",
      "Emailing to aviv:  Accessed __dict__ -> {'__name__': '__main__', '__doc__': 'Automatically created module for IPython interactive environment', '__package__': None, '__loader__': None, '__spec__': None, '__builtin__': <module 'builtins' (built-in)>, '__builtins__': <module 'builtins' (built-in)>, '_ih': ['', 'from rich.pretty import install\\nfrom rich import inspect\\ninstall()\\ndef what(obj, *args, **kwargs):\\n    return inspect(obj, *args, dunder=kwargs.pop(\\'dunder\\', True), **kwargs)\\ndef uniquedir(obj):\\n    return sorted(set(dir(obj)) - set(dir(object)) - set(dir(type)))\\ndef is_from_ipython(prop):\\n    return (prop.startswith(\"_i\") or (len(prop) > 1 and prop[1].isdigit()) or prop in (\"In\", \"Out\", \"_\", \"__\", \"___\", \"_dh\", \"_oh\", \"get_ipython\", \"exit\", \"open\", \"quit\", \"__builtin__\",))\\nfrom typing import TypeVar, Generic, Type\\nTInstance = TypeVar(\"TInstance\")\\nTProperty = TypeVar(\"TProperty\", bound=Type)', 'class Team:\\n    pass', 'class Team:\\n    pass', 'type(Team)', 'Team.__class__', 'type_of_Team = type(Team)', 'isinstance(type_of_Team, object)', 'isinstance(type_of_Team, type)', 'isinstance(type_of_Team, Team)', 'what(type_of_Team)', 'del Team', 'Team = type(\"Team\", (object,), {})  # type(name: str, bases: iterable[type], attributes: dict)', 'Team = type(\"Team\", (object,), {})  # type(name: str, bases: iterable[type], attributes: dict)', 'class Team:\\n    members = []', 'Team.__dict__', \"import sys\\nthis_module = sys.modules['__main__']\", 'this_module', '[prop for prop in dir(this_module) if not is_from_ipython(prop)]', 'this_module.__dict__[\"hello\"] = \"bye\"', 'hello', 'def returns_locals():\\n    a = 5\\n    return locals()\\n\\nreturns_locals()', 'def globals_are_just_the_modules_namespace():\\n    assert globals() == this_module.__dict__', 'globals_are_just_the_modules_namespace()', 'this_module.__dict__', 'from types import ModuleType\\n\\ndef email_to_aviv(message):\\n    print(f\"Emailing to aviv: \", message)\\n\\nclass MyFunnyModule(ModuleType):\\n    def __getattribute__(self, name):\\n        value = super().__getattribute__(name)\\n        email_to_aviv(f\"Accessed {name} -> {value}\")\\n        return value\\n        \\noriginal_module_class = this_module.__class__    \\nthis_module.__class__ = MyFunnyModule'], '_oh': {4: <class 'type'>, 5: <class 'type'>, 7: True, 8: True, 9: False, 15: mappingproxy({'__module__': '__main__', 'members': [], '__dict__': <attribute '__dict__' of 'Team' objects>, '__weakref__': <attribute '__weakref__' of 'Team' objects>, '__doc__': None}), 17: <module '__main__'>, 18: ['Generic', 'TInstance', 'TProperty', 'Team', 'Type', 'TypeVar', '__builtins__', '__doc__', '__loader__', '__name__', '__package__', '__spec__', 'inspect', 'install', 'is_from_ipython', 'sys', 'this_module', 'type_of_Team', 'uniquedir', 'what'], 20: 'bye', 21: {'a': 5}, 24: {...}}, '_dh': [PosixPath('/Users/gilad/dev/advanced-python-crash-course/2022/slides/lesson-02')], 'In': ['', 'from rich.pretty import install\\nfrom rich import inspect\\ninstall()\\ndef what(obj, *args, **kwargs):\\n    return inspect(obj, *args, dunder=kwargs.pop(\\'dunder\\', True), **kwargs)\\ndef uniquedir(obj):\\n    return sorted(set(dir(obj)) - set(dir(object)) - set(dir(type)))\\ndef is_from_ipython(prop):\\n    return (prop.startswith(\"_i\") or (len(prop) > 1 and prop[1].isdigit()) or prop in (\"In\", \"Out\", \"_\", \"__\", \"___\", \"_dh\", \"_oh\", \"get_ipython\", \"exit\", \"open\", \"quit\", \"__builtin__\",))\\nfrom typing import TypeVar, Generic, Type\\nTInstance = TypeVar(\"TInstance\")\\nTProperty = TypeVar(\"TProperty\", bound=Type)', 'class Team:\\n    pass', 'class Team:\\n    pass', 'type(Team)', 'Team.__class__', 'type_of_Team = type(Team)', 'isinstance(type_of_Team, object)', 'isinstance(type_of_Team, type)', 'isinstance(type_of_Team, Team)', 'what(type_of_Team)', 'del Team', 'Team = type(\"Team\", (object,), {})  # type(name: str, bases: iterable[type], attributes: dict)', 'Team = type(\"Team\", (object,), {})  # type(name: str, bases: iterable[type], attributes: dict)', 'class Team:\\n    members = []', 'Team.__dict__', \"import sys\\nthis_module = sys.modules['__main__']\", 'this_module', '[prop for prop in dir(this_module) if not is_from_ipython(prop)]', 'this_module.__dict__[\"hello\"] = \"bye\"', 'hello', 'def returns_locals():\\n    a = 5\\n    return locals()\\n\\nreturns_locals()', 'def globals_are_just_the_modules_namespace():\\n    assert globals() == this_module.__dict__', 'globals_are_just_the_modules_namespace()', 'this_module.__dict__', 'from types import ModuleType\\n\\ndef email_to_aviv(message):\\n    print(f\"Emailing to aviv: \", message)\\n\\nclass MyFunnyModule(ModuleType):\\n    def __getattribute__(self, name):\\n        value = super().__getattribute__(name)\\n        email_to_aviv(f\"Accessed {name} -> {value}\")\\n        return value\\n        \\noriginal_module_class = this_module.__class__    \\nthis_module.__class__ = MyFunnyModule'], 'Out': {4: <class 'type'>, 5: <class 'type'>, 7: True, 8: True, 9: False, 15: mappingproxy({'__module__': '__main__', 'members': [], '__dict__': <attribute '__dict__' of 'Team' objects>, '__weakref__': <attribute '__weakref__' of 'Team' objects>, '__doc__': None}), 17: <module '__main__'>, 18: ['Generic', 'TInstance', 'TProperty', 'Team', 'Type', 'TypeVar', '__builtins__', '__doc__', '__loader__', '__name__', '__package__', '__spec__', 'inspect', 'install', 'is_from_ipython', 'sys', 'this_module', 'type_of_Team', 'uniquedir', 'what'], 20: 'bye', 21: {'a': 5}, 24: {...}}, 'get_ipython': <bound method InteractiveShell.get_ipython of <ipykernel.zmqshell.ZMQInteractiveShell object at 0x106158d90>>, 'exit': <IPython.core.autocall.ZMQExitAutocall object at 0x1060fefb0>, 'quit': <IPython.core.autocall.ZMQExitAutocall object at 0x1060fefb0>, 'open': <function open at 0x10388d360>, '_': {...}, '__': {'a': 5}, '___': 'bye', 'sys': <module 'sys' (built-in)>, '_i': 'this_module.__dict__', '_ii': 'globals_are_just_the_modules_namespace()', '_iii': 'def globals_are_just_the_modules_namespace():\\n    assert globals() == this_module.__dict__', '_i1': 'from rich.pretty import install\\nfrom rich import inspect\\ninstall()\\ndef what(obj, *args, **kwargs):\\n    return inspect(obj, *args, dunder=kwargs.pop(\\'dunder\\', True), **kwargs)\\ndef uniquedir(obj):\\n    return sorted(set(dir(obj)) - set(dir(object)) - set(dir(type)))\\ndef is_from_ipython(prop):\\n    return (prop.startswith(\"_i\") or (len(prop) > 1 and prop[1].isdigit()) or prop in (\"In\", \"Out\", \"_\", \"__\", \"___\", \"_dh\", \"_oh\", \"get_ipython\", \"exit\", \"open\", \"quit\", \"__builtin__\",))\\nfrom typing import TypeVar, Generic, Type\\nTInstance = TypeVar(\"TInstance\")\\nTProperty = TypeVar(\"TProperty\", bound=Type)', 'install': <function install at 0x10636d360>, 'inspect': <function inspect at 0x1061e80d0>, 'what': <function what at 0x1063efd00>, 'uniquedir': <function uniquedir at 0x1063ef1c0>, 'is_from_ipython': <function is_from_ipython at 0x1063ef400>, 'TypeVar': <class 'typing.TypeVar'>, 'Generic': <class 'typing.Generic'>, 'Type': typing.Type, 'TInstance': ~TInstance, 'TProperty': ~TProperty, '_i2': 'class Team:\\n    pass', '_i3': 'class Team:\\n    pass', '_i4': 'type(Team)', '_4': <class 'type'>, '_i5': 'Team.__class__', '_5': <class 'type'>, '_i6': 'type_of_Team = type(Team)', 'type_of_Team': <class 'type'>, '_i7': 'isinstance(type_of_Team, object)', '_7': True, '_i8': 'isinstance(type_of_Team, type)', '_8': True, '_i9': 'isinstance(type_of_Team, Team)', '_9': False, '_i10': 'what(type_of_Team)', '_i11': 'del Team', '_i12': 'Team = type(\"Team\", (object,), {})  # type(name: str, bases: iterable[type], attributes: dict)', 'Team': <class '__main__.Team'>, '_i13': 'Team = type(\"Team\", (object,), {})  # type(name: str, bases: iterable[type], attributes: dict)', '_i14': 'class Team:\\n    members = []', '_i15': 'Team.__dict__', '_15': mappingproxy({'__module__': '__main__', 'members': [], '__dict__': <attribute '__dict__' of 'Team' objects>, '__weakref__': <attribute '__weakref__' of 'Team' objects>, '__doc__': None}), '_i16': \"import sys\\nthis_module = sys.modules['__main__']\", 'this_module': <module '__main__'>, '_i17': 'this_module', '_17': <module '__main__'>, '_i18': '[prop for prop in dir(this_module) if not is_from_ipython(prop)]', '_18': ['Generic', 'TInstance', 'TProperty', 'Team', 'Type', 'TypeVar', '__builtins__', '__doc__', '__loader__', '__name__', '__package__', '__spec__', 'inspect', 'install', 'is_from_ipython', 'sys', 'this_module', 'type_of_Team', 'uniquedir', 'what'], '_i19': 'this_module.__dict__[\"hello\"] = \"bye\"', 'hello': 'bye', '_i20': 'hello', '_20': 'bye', '_i21': 'def returns_locals():\\n    a = 5\\n    return locals()\\n\\nreturns_locals()', 'returns_locals': <function returns_locals at 0x10643b370>, '_21': {'a': 5}, '_i22': 'def globals_are_just_the_modules_namespace():\\n    assert globals() == this_module.__dict__', 'globals_are_just_the_modules_namespace': <function globals_are_just_the_modules_namespace at 0x10643b490>, '_i23': 'globals_are_just_the_modules_namespace()', '_i24': 'this_module.__dict__', '_24': {...}, '_i25': 'from types import ModuleType\\n\\ndef email_to_aviv(message):\\n    print(f\"Emailing to aviv: \", message)\\n\\nclass MyFunnyModule(ModuleType):\\n    def __getattribute__(self, name):\\n        value = super().__getattribute__(name)\\n        email_to_aviv(f\"Accessed {name} -> {value}\")\\n        return value\\n        \\noriginal_module_class = this_module.__class__    \\nthis_module.__class__ = MyFunnyModule', 'ModuleType': <class 'module'>, 'email_to_aviv': <function email_to_aviv at 0x106811480>, 'MyFunnyModule': <class '__main__.MyFunnyModule'>, 'original_module_class': <class 'module'>}\n"
     ]
    }
   ],
   "source": [
    "from types import ModuleType\n",
    "\n",
    "def email_to_aviv(message):\n",
    "    print(f\"Emailing to aviv: \", message)\n",
    "\n",
    "class MyFunnyModule(ModuleType):\n",
    "    def __getattribute__(self, name):\n",
    "        value = super().__getattribute__(name)\n",
    "        email_to_aviv(f\"Accessed {name} -> {value}\")\n",
    "        return value\n",
    "        \n",
    "original_module_class = this_module.__class__    \n",
    "this_module.__class__ = MyFunnyModule"
   ]
  },
  {
   "cell_type": "code",
   "execution_count": 26,
   "id": "bd84a5b4-ed53-4c0b-b5b4-ff132044e3d7",
   "metadata": {},
   "outputs": [
    {
     "name": "stdout",
     "output_type": "stream",
     "text": [
      "Emailing to aviv:  Accessed __loader__ -> None\n",
      "Emailing to aviv:  Accessed __spec__ -> None\n",
      "Emailing to aviv:  Accessed __name__ -> __main__\n",
      "Emailing to aviv:  Accessed __loader__ -> None\n",
      "Emailing to aviv:  Accessed __spec__ -> None\n",
      "Emailing to aviv:  Accessed __name__ -> __main__\n",
      "Emailing to aviv:  Accessed __loader__ -> None\n",
      "Emailing to aviv:  Accessed __spec__ -> None\n",
      "Emailing to aviv:  Accessed __name__ -> __main__\n",
      "Emailing to aviv:  Accessed __loader__ -> None\n",
      "Emailing to aviv:  Accessed __spec__ -> None\n",
      "Emailing to aviv:  Accessed __name__ -> __main__\n",
      "Emailing to aviv:  Accessed __dict__ -> {'__name__': '__main__', '__doc__': 'Automatically created module for IPython interactive environment', '__package__': None, '__loader__': None, '__spec__': None, '__builtin__': <module 'builtins' (built-in)>, '__builtins__': <module 'builtins' (built-in)>, '_ih': ['', 'from rich.pretty import install\\nfrom rich import inspect\\ninstall()\\ndef what(obj, *args, **kwargs):\\n    return inspect(obj, *args, dunder=kwargs.pop(\\'dunder\\', True), **kwargs)\\ndef uniquedir(obj):\\n    return sorted(set(dir(obj)) - set(dir(object)) - set(dir(type)))\\ndef is_from_ipython(prop):\\n    return (prop.startswith(\"_i\") or (len(prop) > 1 and prop[1].isdigit()) or prop in (\"In\", \"Out\", \"_\", \"__\", \"___\", \"_dh\", \"_oh\", \"get_ipython\", \"exit\", \"open\", \"quit\", \"__builtin__\",))\\nfrom typing import TypeVar, Generic, Type\\nTInstance = TypeVar(\"TInstance\")\\nTProperty = TypeVar(\"TProperty\", bound=Type)', 'class Team:\\n    pass', 'class Team:\\n    pass', 'type(Team)', 'Team.__class__', 'type_of_Team = type(Team)', 'isinstance(type_of_Team, object)', 'isinstance(type_of_Team, type)', 'isinstance(type_of_Team, Team)', 'what(type_of_Team)', 'del Team', 'Team = type(\"Team\", (object,), {})  # type(name: str, bases: iterable[type], attributes: dict)', 'Team = type(\"Team\", (object,), {})  # type(name: str, bases: iterable[type], attributes: dict)', 'class Team:\\n    members = []', 'Team.__dict__', \"import sys\\nthis_module = sys.modules['__main__']\", 'this_module', '[prop for prop in dir(this_module) if not is_from_ipython(prop)]', 'this_module.__dict__[\"hello\"] = \"bye\"', 'hello', 'def returns_locals():\\n    a = 5\\n    return locals()\\n\\nreturns_locals()', 'def globals_are_just_the_modules_namespace():\\n    assert globals() == this_module.__dict__', 'globals_are_just_the_modules_namespace()', 'this_module.__dict__', 'from types import ModuleType\\n\\ndef email_to_aviv(message):\\n    print(f\"Emailing to aviv: \", message)\\n\\nclass MyFunnyModule(ModuleType):\\n    def __getattribute__(self, name):\\n        value = super().__getattribute__(name)\\n        email_to_aviv(f\"Accessed {name} -> {value}\")\\n        return value\\n        \\noriginal_module_class = this_module.__class__    \\nthis_module.__class__ = MyFunnyModule'], '_oh': {4: <class 'type'>, 5: <class 'type'>, 7: True, 8: True, 9: False, 15: mappingproxy({'__module__': '__main__', 'members': [], '__dict__': <attribute '__dict__' of 'Team' objects>, '__weakref__': <attribute '__weakref__' of 'Team' objects>, '__doc__': None}), 17: <module '__main__'>, 18: ['Generic', 'TInstance', 'TProperty', 'Team', 'Type', 'TypeVar', '__builtins__', '__doc__', '__loader__', '__name__', '__package__', '__spec__', 'inspect', 'install', 'is_from_ipython', 'sys', 'this_module', 'type_of_Team', 'uniquedir', 'what'], 20: 'bye', 21: {'a': 5}, 24: {...}}, '_dh': [PosixPath('/Users/gilad/dev/advanced-python-crash-course/2022/slides/lesson-02')], 'In': ['', 'from rich.pretty import install\\nfrom rich import inspect\\ninstall()\\ndef what(obj, *args, **kwargs):\\n    return inspect(obj, *args, dunder=kwargs.pop(\\'dunder\\', True), **kwargs)\\ndef uniquedir(obj):\\n    return sorted(set(dir(obj)) - set(dir(object)) - set(dir(type)))\\ndef is_from_ipython(prop):\\n    return (prop.startswith(\"_i\") or (len(prop) > 1 and prop[1].isdigit()) or prop in (\"In\", \"Out\", \"_\", \"__\", \"___\", \"_dh\", \"_oh\", \"get_ipython\", \"exit\", \"open\", \"quit\", \"__builtin__\",))\\nfrom typing import TypeVar, Generic, Type\\nTInstance = TypeVar(\"TInstance\")\\nTProperty = TypeVar(\"TProperty\", bound=Type)', 'class Team:\\n    pass', 'class Team:\\n    pass', 'type(Team)', 'Team.__class__', 'type_of_Team = type(Team)', 'isinstance(type_of_Team, object)', 'isinstance(type_of_Team, type)', 'isinstance(type_of_Team, Team)', 'what(type_of_Team)', 'del Team', 'Team = type(\"Team\", (object,), {})  # type(name: str, bases: iterable[type], attributes: dict)', 'Team = type(\"Team\", (object,), {})  # type(name: str, bases: iterable[type], attributes: dict)', 'class Team:\\n    members = []', 'Team.__dict__', \"import sys\\nthis_module = sys.modules['__main__']\", 'this_module', '[prop for prop in dir(this_module) if not is_from_ipython(prop)]', 'this_module.__dict__[\"hello\"] = \"bye\"', 'hello', 'def returns_locals():\\n    a = 5\\n    return locals()\\n\\nreturns_locals()', 'def globals_are_just_the_modules_namespace():\\n    assert globals() == this_module.__dict__', 'globals_are_just_the_modules_namespace()', 'this_module.__dict__', 'from types import ModuleType\\n\\ndef email_to_aviv(message):\\n    print(f\"Emailing to aviv: \", message)\\n\\nclass MyFunnyModule(ModuleType):\\n    def __getattribute__(self, name):\\n        value = super().__getattribute__(name)\\n        email_to_aviv(f\"Accessed {name} -> {value}\")\\n        return value\\n        \\noriginal_module_class = this_module.__class__    \\nthis_module.__class__ = MyFunnyModule'], 'Out': {4: <class 'type'>, 5: <class 'type'>, 7: True, 8: True, 9: False, 15: mappingproxy({'__module__': '__main__', 'members': [], '__dict__': <attribute '__dict__' of 'Team' objects>, '__weakref__': <attribute '__weakref__' of 'Team' objects>, '__doc__': None}), 17: <module '__main__'>, 18: ['Generic', 'TInstance', 'TProperty', 'Team', 'Type', 'TypeVar', '__builtins__', '__doc__', '__loader__', '__name__', '__package__', '__spec__', 'inspect', 'install', 'is_from_ipython', 'sys', 'this_module', 'type_of_Team', 'uniquedir', 'what'], 20: 'bye', 21: {'a': 5}, 24: {...}}, 'get_ipython': <bound method InteractiveShell.get_ipython of <ipykernel.zmqshell.ZMQInteractiveShell object at 0x106158d90>>, 'exit': <IPython.core.autocall.ZMQExitAutocall object at 0x1060fefb0>, 'quit': <IPython.core.autocall.ZMQExitAutocall object at 0x1060fefb0>, 'open': <function open at 0x10388d360>, '_': {...}, '__': {'a': 5}, '___': 'bye', 'sys': <module 'sys' (built-in)>, '_i': 'this_module.__dict__', '_ii': 'globals_are_just_the_modules_namespace()', '_iii': 'def globals_are_just_the_modules_namespace():\\n    assert globals() == this_module.__dict__', '_i1': 'from rich.pretty import install\\nfrom rich import inspect\\ninstall()\\ndef what(obj, *args, **kwargs):\\n    return inspect(obj, *args, dunder=kwargs.pop(\\'dunder\\', True), **kwargs)\\ndef uniquedir(obj):\\n    return sorted(set(dir(obj)) - set(dir(object)) - set(dir(type)))\\ndef is_from_ipython(prop):\\n    return (prop.startswith(\"_i\") or (len(prop) > 1 and prop[1].isdigit()) or prop in (\"In\", \"Out\", \"_\", \"__\", \"___\", \"_dh\", \"_oh\", \"get_ipython\", \"exit\", \"open\", \"quit\", \"__builtin__\",))\\nfrom typing import TypeVar, Generic, Type\\nTInstance = TypeVar(\"TInstance\")\\nTProperty = TypeVar(\"TProperty\", bound=Type)', 'install': <function install at 0x10636d360>, 'inspect': <function inspect at 0x1061e80d0>, 'what': <function what at 0x1063efd00>, 'uniquedir': <function uniquedir at 0x1063ef1c0>, 'is_from_ipython': <function is_from_ipython at 0x1063ef400>, 'TypeVar': <class 'typing.TypeVar'>, 'Generic': <class 'typing.Generic'>, 'Type': typing.Type, 'TInstance': ~TInstance, 'TProperty': ~TProperty, '_i2': 'class Team:\\n    pass', '_i3': 'class Team:\\n    pass', '_i4': 'type(Team)', '_4': <class 'type'>, '_i5': 'Team.__class__', '_5': <class 'type'>, '_i6': 'type_of_Team = type(Team)', 'type_of_Team': <class 'type'>, '_i7': 'isinstance(type_of_Team, object)', '_7': True, '_i8': 'isinstance(type_of_Team, type)', '_8': True, '_i9': 'isinstance(type_of_Team, Team)', '_9': False, '_i10': 'what(type_of_Team)', '_i11': 'del Team', '_i12': 'Team = type(\"Team\", (object,), {})  # type(name: str, bases: iterable[type], attributes: dict)', 'Team': <class '__main__.Team'>, '_i13': 'Team = type(\"Team\", (object,), {})  # type(name: str, bases: iterable[type], attributes: dict)', '_i14': 'class Team:\\n    members = []', '_i15': 'Team.__dict__', '_15': mappingproxy({'__module__': '__main__', 'members': [], '__dict__': <attribute '__dict__' of 'Team' objects>, '__weakref__': <attribute '__weakref__' of 'Team' objects>, '__doc__': None}), '_i16': \"import sys\\nthis_module = sys.modules['__main__']\", 'this_module': <module '__main__'>, '_i17': 'this_module', '_17': <module '__main__'>, '_i18': '[prop for prop in dir(this_module) if not is_from_ipython(prop)]', '_18': ['Generic', 'TInstance', 'TProperty', 'Team', 'Type', 'TypeVar', '__builtins__', '__doc__', '__loader__', '__name__', '__package__', '__spec__', 'inspect', 'install', 'is_from_ipython', 'sys', 'this_module', 'type_of_Team', 'uniquedir', 'what'], '_i19': 'this_module.__dict__[\"hello\"] = \"bye\"', 'hello': 'bye', '_i20': 'hello', '_20': 'bye', '_i21': 'def returns_locals():\\n    a = 5\\n    return locals()\\n\\nreturns_locals()', 'returns_locals': <function returns_locals at 0x10643b370>, '_21': {'a': 5}, '_i22': 'def globals_are_just_the_modules_namespace():\\n    assert globals() == this_module.__dict__', 'globals_are_just_the_modules_namespace': <function globals_are_just_the_modules_namespace at 0x10643b490>, '_i23': 'globals_are_just_the_modules_namespace()', '_i24': 'this_module.__dict__', '_24': {...}, '_i25': 'from types import ModuleType\\n\\ndef email_to_aviv(message):\\n    print(f\"Emailing to aviv: \", message)\\n\\nclass MyFunnyModule(ModuleType):\\n    def __getattribute__(self, name):\\n        value = super().__getattribute__(name)\\n        email_to_aviv(f\"Accessed {name} -> {value}\")\\n        return value\\n        \\noriginal_module_class = this_module.__class__    \\nthis_module.__class__ = MyFunnyModule', 'ModuleType': <class 'module'>, 'email_to_aviv': <function email_to_aviv at 0x106811480>, 'MyFunnyModule': <class '__main__.MyFunnyModule'>, 'original_module_class': <class 'module'>}\n",
      "Emailing to aviv:  Accessed __loader__ -> None\n",
      "Emailing to aviv:  Accessed __spec__ -> None\n",
      "Emailing to aviv:  Accessed __name__ -> __main__\n",
      "Emailing to aviv:  Accessed __loader__ -> None\n",
      "Emailing to aviv:  Accessed __spec__ -> None\n",
      "Emailing to aviv:  Accessed __name__ -> __main__\n",
      "Emailing to aviv:  Accessed __loader__ -> None\n",
      "Emailing to aviv:  Accessed __spec__ -> None\n",
      "Emailing to aviv:  Accessed __name__ -> __main__\n",
      "Emailing to aviv:  Accessed __loader__ -> None\n",
      "Emailing to aviv:  Accessed __spec__ -> None\n",
      "Emailing to aviv:  Accessed __name__ -> __main__\n",
      "Emailing to aviv:  Accessed __dict__ -> {'__name__': '__main__', '__doc__': 'Automatically created module for IPython interactive environment', '__package__': None, '__loader__': None, '__spec__': None, '__builtin__': <module 'builtins' (built-in)>, '__builtins__': <module 'builtins' (built-in)>, '_ih': ['', 'from rich.pretty import install\\nfrom rich import inspect\\ninstall()\\ndef what(obj, *args, **kwargs):\\n    return inspect(obj, *args, dunder=kwargs.pop(\\'dunder\\', True), **kwargs)\\ndef uniquedir(obj):\\n    return sorted(set(dir(obj)) - set(dir(object)) - set(dir(type)))\\ndef is_from_ipython(prop):\\n    return (prop.startswith(\"_i\") or (len(prop) > 1 and prop[1].isdigit()) or prop in (\"In\", \"Out\", \"_\", \"__\", \"___\", \"_dh\", \"_oh\", \"get_ipython\", \"exit\", \"open\", \"quit\", \"__builtin__\",))\\nfrom typing import TypeVar, Generic, Type\\nTInstance = TypeVar(\"TInstance\")\\nTProperty = TypeVar(\"TProperty\", bound=Type)', 'class Team:\\n    pass', 'class Team:\\n    pass', 'type(Team)', 'Team.__class__', 'type_of_Team = type(Team)', 'isinstance(type_of_Team, object)', 'isinstance(type_of_Team, type)', 'isinstance(type_of_Team, Team)', 'what(type_of_Team)', 'del Team', 'Team = type(\"Team\", (object,), {})  # type(name: str, bases: iterable[type], attributes: dict)', 'Team = type(\"Team\", (object,), {})  # type(name: str, bases: iterable[type], attributes: dict)', 'class Team:\\n    members = []', 'Team.__dict__', \"import sys\\nthis_module = sys.modules['__main__']\", 'this_module', '[prop for prop in dir(this_module) if not is_from_ipython(prop)]', 'this_module.__dict__[\"hello\"] = \"bye\"', 'hello', 'def returns_locals():\\n    a = 5\\n    return locals()\\n\\nreturns_locals()', 'def globals_are_just_the_modules_namespace():\\n    assert globals() == this_module.__dict__', 'globals_are_just_the_modules_namespace()', 'this_module.__dict__', 'from types import ModuleType\\n\\ndef email_to_aviv(message):\\n    print(f\"Emailing to aviv: \", message)\\n\\nclass MyFunnyModule(ModuleType):\\n    def __getattribute__(self, name):\\n        value = super().__getattribute__(name)\\n        email_to_aviv(f\"Accessed {name} -> {value}\")\\n        return value\\n        \\noriginal_module_class = this_module.__class__    \\nthis_module.__class__ = MyFunnyModule', 'this_module.smelly()'], '_oh': {4: <class 'type'>, 5: <class 'type'>, 7: True, 8: True, 9: False, 15: mappingproxy({'__module__': '__main__', 'members': [], '__dict__': <attribute '__dict__' of 'Team' objects>, '__weakref__': <attribute '__weakref__' of 'Team' objects>, '__doc__': None}), 17: <module '__main__'>, 18: ['Generic', 'TInstance', 'TProperty', 'Team', 'Type', 'TypeVar', '__builtins__', '__doc__', '__loader__', '__name__', '__package__', '__spec__', 'inspect', 'install', 'is_from_ipython', 'sys', 'this_module', 'type_of_Team', 'uniquedir', 'what'], 20: 'bye', 21: {'a': 5}, 24: {...}}, '_dh': [PosixPath('/Users/gilad/dev/advanced-python-crash-course/2022/slides/lesson-02')], 'In': ['', 'from rich.pretty import install\\nfrom rich import inspect\\ninstall()\\ndef what(obj, *args, **kwargs):\\n    return inspect(obj, *args, dunder=kwargs.pop(\\'dunder\\', True), **kwargs)\\ndef uniquedir(obj):\\n    return sorted(set(dir(obj)) - set(dir(object)) - set(dir(type)))\\ndef is_from_ipython(prop):\\n    return (prop.startswith(\"_i\") or (len(prop) > 1 and prop[1].isdigit()) or prop in (\"In\", \"Out\", \"_\", \"__\", \"___\", \"_dh\", \"_oh\", \"get_ipython\", \"exit\", \"open\", \"quit\", \"__builtin__\",))\\nfrom typing import TypeVar, Generic, Type\\nTInstance = TypeVar(\"TInstance\")\\nTProperty = TypeVar(\"TProperty\", bound=Type)', 'class Team:\\n    pass', 'class Team:\\n    pass', 'type(Team)', 'Team.__class__', 'type_of_Team = type(Team)', 'isinstance(type_of_Team, object)', 'isinstance(type_of_Team, type)', 'isinstance(type_of_Team, Team)', 'what(type_of_Team)', 'del Team', 'Team = type(\"Team\", (object,), {})  # type(name: str, bases: iterable[type], attributes: dict)', 'Team = type(\"Team\", (object,), {})  # type(name: str, bases: iterable[type], attributes: dict)', 'class Team:\\n    members = []', 'Team.__dict__', \"import sys\\nthis_module = sys.modules['__main__']\", 'this_module', '[prop for prop in dir(this_module) if not is_from_ipython(prop)]', 'this_module.__dict__[\"hello\"] = \"bye\"', 'hello', 'def returns_locals():\\n    a = 5\\n    return locals()\\n\\nreturns_locals()', 'def globals_are_just_the_modules_namespace():\\n    assert globals() == this_module.__dict__', 'globals_are_just_the_modules_namespace()', 'this_module.__dict__', 'from types import ModuleType\\n\\ndef email_to_aviv(message):\\n    print(f\"Emailing to aviv: \", message)\\n\\nclass MyFunnyModule(ModuleType):\\n    def __getattribute__(self, name):\\n        value = super().__getattribute__(name)\\n        email_to_aviv(f\"Accessed {name} -> {value}\")\\n        return value\\n        \\noriginal_module_class = this_module.__class__    \\nthis_module.__class__ = MyFunnyModule', 'this_module.smelly()'], 'Out': {4: <class 'type'>, 5: <class 'type'>, 7: True, 8: True, 9: False, 15: mappingproxy({'__module__': '__main__', 'members': [], '__dict__': <attribute '__dict__' of 'Team' objects>, '__weakref__': <attribute '__weakref__' of 'Team' objects>, '__doc__': None}), 17: <module '__main__'>, 18: ['Generic', 'TInstance', 'TProperty', 'Team', 'Type', 'TypeVar', '__builtins__', '__doc__', '__loader__', '__name__', '__package__', '__spec__', 'inspect', 'install', 'is_from_ipython', 'sys', 'this_module', 'type_of_Team', 'uniquedir', 'what'], 20: 'bye', 21: {'a': 5}, 24: {...}}, 'get_ipython': <bound method InteractiveShell.get_ipython of <ipykernel.zmqshell.ZMQInteractiveShell object at 0x106158d90>>, 'exit': <IPython.core.autocall.ZMQExitAutocall object at 0x1060fefb0>, 'quit': <IPython.core.autocall.ZMQExitAutocall object at 0x1060fefb0>, 'open': <function open at 0x10388d360>, '_': {...}, '__': {'a': 5}, '___': 'bye', 'sys': <module 'sys' (built-in)>, '_i': 'from types import ModuleType\\n\\ndef email_to_aviv(message):\\n    print(f\"Emailing to aviv: \", message)\\n\\nclass MyFunnyModule(ModuleType):\\n    def __getattribute__(self, name):\\n        value = super().__getattribute__(name)\\n        email_to_aviv(f\"Accessed {name} -> {value}\")\\n        return value\\n        \\noriginal_module_class = this_module.__class__    \\nthis_module.__class__ = MyFunnyModule', '_ii': 'this_module.__dict__', '_iii': 'globals_are_just_the_modules_namespace()', '_i1': 'from rich.pretty import install\\nfrom rich import inspect\\ninstall()\\ndef what(obj, *args, **kwargs):\\n    return inspect(obj, *args, dunder=kwargs.pop(\\'dunder\\', True), **kwargs)\\ndef uniquedir(obj):\\n    return sorted(set(dir(obj)) - set(dir(object)) - set(dir(type)))\\ndef is_from_ipython(prop):\\n    return (prop.startswith(\"_i\") or (len(prop) > 1 and prop[1].isdigit()) or prop in (\"In\", \"Out\", \"_\", \"__\", \"___\", \"_dh\", \"_oh\", \"get_ipython\", \"exit\", \"open\", \"quit\", \"__builtin__\",))\\nfrom typing import TypeVar, Generic, Type\\nTInstance = TypeVar(\"TInstance\")\\nTProperty = TypeVar(\"TProperty\", bound=Type)', 'install': <function install at 0x10636d360>, 'inspect': <function inspect at 0x1061e80d0>, 'what': <function what at 0x1063efd00>, 'uniquedir': <function uniquedir at 0x1063ef1c0>, 'is_from_ipython': <function is_from_ipython at 0x1063ef400>, 'TypeVar': <class 'typing.TypeVar'>, 'Generic': <class 'typing.Generic'>, 'Type': typing.Type, 'TInstance': ~TInstance, 'TProperty': ~TProperty, '_i2': 'class Team:\\n    pass', '_i3': 'class Team:\\n    pass', '_i4': 'type(Team)', '_4': <class 'type'>, '_i5': 'Team.__class__', '_5': <class 'type'>, '_i6': 'type_of_Team = type(Team)', 'type_of_Team': <class 'type'>, '_i7': 'isinstance(type_of_Team, object)', '_7': True, '_i8': 'isinstance(type_of_Team, type)', '_8': True, '_i9': 'isinstance(type_of_Team, Team)', '_9': False, '_i10': 'what(type_of_Team)', '_i11': 'del Team', '_i12': 'Team = type(\"Team\", (object,), {})  # type(name: str, bases: iterable[type], attributes: dict)', 'Team': <class '__main__.Team'>, '_i13': 'Team = type(\"Team\", (object,), {})  # type(name: str, bases: iterable[type], attributes: dict)', '_i14': 'class Team:\\n    members = []', '_i15': 'Team.__dict__', '_15': mappingproxy({'__module__': '__main__', 'members': [], '__dict__': <attribute '__dict__' of 'Team' objects>, '__weakref__': <attribute '__weakref__' of 'Team' objects>, '__doc__': None}), '_i16': \"import sys\\nthis_module = sys.modules['__main__']\", 'this_module': <module '__main__'>, '_i17': 'this_module', '_17': <module '__main__'>, '_i18': '[prop for prop in dir(this_module) if not is_from_ipython(prop)]', '_18': ['Generic', 'TInstance', 'TProperty', 'Team', 'Type', 'TypeVar', '__builtins__', '__doc__', '__loader__', '__name__', '__package__', '__spec__', 'inspect', 'install', 'is_from_ipython', 'sys', 'this_module', 'type_of_Team', 'uniquedir', 'what'], '_i19': 'this_module.__dict__[\"hello\"] = \"bye\"', 'hello': 'bye', '_i20': 'hello', '_20': 'bye', '_i21': 'def returns_locals():\\n    a = 5\\n    return locals()\\n\\nreturns_locals()', 'returns_locals': <function returns_locals at 0x10643b370>, '_21': {'a': 5}, '_i22': 'def globals_are_just_the_modules_namespace():\\n    assert globals() == this_module.__dict__', 'globals_are_just_the_modules_namespace': <function globals_are_just_the_modules_namespace at 0x10643b490>, '_i23': 'globals_are_just_the_modules_namespace()', '_i24': 'this_module.__dict__', '_24': {...}, '_i25': 'from types import ModuleType\\n\\ndef email_to_aviv(message):\\n    print(f\"Emailing to aviv: \", message)\\n\\nclass MyFunnyModule(ModuleType):\\n    def __getattribute__(self, name):\\n        value = super().__getattribute__(name)\\n        email_to_aviv(f\"Accessed {name} -> {value}\")\\n        return value\\n        \\noriginal_module_class = this_module.__class__    \\nthis_module.__class__ = MyFunnyModule', 'ModuleType': <class 'module'>, 'email_to_aviv': <function email_to_aviv at 0x106811480>, 'MyFunnyModule': <class '__main__.MyFunnyModule'>, 'original_module_class': <class 'module'>, '_i26': 'this_module.smelly()'}\n"
     ]
    },
    {
     "data": {
      "text/html": [
       "<pre style=\"white-space:pre;overflow-x:auto;line-height:normal;font-family:Menlo,'DejaVu Sans Mono',consolas,'Courier New',monospace\"><span style=\"color: #800000; text-decoration-color: #800000\">╭─────────────────────────────── </span><span style=\"color: #800000; text-decoration-color: #800000; font-weight: bold\">Traceback </span><span style=\"color: #bf7f7f; text-decoration-color: #bf7f7f; font-weight: bold\">(most recent call last)</span><span style=\"color: #800000; text-decoration-color: #800000\"> ────────────────────────────────╮</span>\n",
       "<span style=\"color: #800000; text-decoration-color: #800000\">│</span> <span style=\"color: #bfbf7f; text-decoration-color: #bfbf7f\">/var/folders/6d/v_8150015qz_fxg7lkd8qgxw0000gn/T/ipykernel_9128/</span><span style=\"color: #808000; text-decoration-color: #808000; font-weight: bold\">3179433135.py</span>:<span style=\"color: #0000ff; text-decoration-color: #0000ff\">1</span> in <span style=\"color: #00ff00; text-decoration-color: #00ff00\">&lt;module&gt;</span>      <span style=\"color: #800000; text-decoration-color: #800000\">│</span>\n",
       "<span style=\"color: #800000; text-decoration-color: #800000\">│</span>                                                                                                  <span style=\"color: #800000; text-decoration-color: #800000\">│</span>\n",
       "<span style=\"color: #800000; text-decoration-color: #800000\">│</span> <span style=\"color: #800000; text-decoration-color: #800000; font-style: italic\">[Errno 2] No such file or directory: </span>                                                            <span style=\"color: #800000; text-decoration-color: #800000\">│</span>\n",
       "<span style=\"color: #800000; text-decoration-color: #800000\">│</span> <span style=\"color: #800000; text-decoration-color: #800000; font-style: italic\">'/var/folders/6d/v_8150015qz_fxg7lkd8qgxw0000gn/T/ipykernel_9128/3179433135.py'</span>                  <span style=\"color: #800000; text-decoration-color: #800000\">│</span>\n",
       "<span style=\"color: #800000; text-decoration-color: #800000\">│</span>                                                                                                  <span style=\"color: #800000; text-decoration-color: #800000\">│</span>\n",
       "<span style=\"color: #800000; text-decoration-color: #800000\">│</span> <span style=\"color: #bfbf7f; text-decoration-color: #bfbf7f\">/var/folders/6d/v_8150015qz_fxg7lkd8qgxw0000gn/T/ipykernel_9128/</span><span style=\"color: #808000; text-decoration-color: #808000; font-weight: bold\">870157799.py</span>:<span style=\"color: #0000ff; text-decoration-color: #0000ff\">8</span> in                <span style=\"color: #800000; text-decoration-color: #800000\">│</span>\n",
       "<span style=\"color: #800000; text-decoration-color: #800000\">│</span> <span style=\"color: #00ff00; text-decoration-color: #00ff00\">__getattribute__</span>                                                                                 <span style=\"color: #800000; text-decoration-color: #800000\">│</span>\n",
       "<span style=\"color: #800000; text-decoration-color: #800000\">│</span>                                                                                                  <span style=\"color: #800000; text-decoration-color: #800000\">│</span>\n",
       "<span style=\"color: #800000; text-decoration-color: #800000\">│</span> <span style=\"color: #800000; text-decoration-color: #800000; font-style: italic\">[Errno 2] No such file or directory: </span>                                                            <span style=\"color: #800000; text-decoration-color: #800000\">│</span>\n",
       "<span style=\"color: #800000; text-decoration-color: #800000\">│</span> <span style=\"color: #800000; text-decoration-color: #800000; font-style: italic\">'/var/folders/6d/v_8150015qz_fxg7lkd8qgxw0000gn/T/ipykernel_9128/870157799.py'</span>                   <span style=\"color: #800000; text-decoration-color: #800000\">│</span>\n",
       "<span style=\"color: #800000; text-decoration-color: #800000\">╰──────────────────────────────────────────────────────────────────────────────────────────────────╯</span>\n",
       "<span style=\"color: #ff0000; text-decoration-color: #ff0000; font-weight: bold\">AttributeError: </span>module <span style=\"color: #008000; text-decoration-color: #008000\">'__main__'</span> has no attribute <span style=\"color: #008000; text-decoration-color: #008000\">'smelly'</span>\n",
       "</pre>\n"
      ],
      "text/plain": [
       "\u001b[31m╭─\u001b[0m\u001b[31m──────────────────────────────\u001b[0m\u001b[31m \u001b[0m\u001b[1;31mTraceback \u001b[0m\u001b[1;2;31m(most recent call last)\u001b[0m\u001b[31m \u001b[0m\u001b[31m───────────────────────────────\u001b[0m\u001b[31m─╮\u001b[0m\n",
       "\u001b[31m│\u001b[0m \u001b[2;33m/var/folders/6d/v_8150015qz_fxg7lkd8qgxw0000gn/T/ipykernel_9128/\u001b[0m\u001b[1;33m3179433135.py\u001b[0m:\u001b[94m1\u001b[0m in \u001b[92m<module>\u001b[0m      \u001b[31m│\u001b[0m\n",
       "\u001b[31m│\u001b[0m                                                                                                  \u001b[31m│\u001b[0m\n",
       "\u001b[31m│\u001b[0m \u001b[3;31m[Errno 2] No such file or directory: \u001b[0m                                                            \u001b[31m│\u001b[0m\n",
       "\u001b[31m│\u001b[0m \u001b[3;31m'/var/folders/6d/v_8150015qz_fxg7lkd8qgxw0000gn/T/ipykernel_9128/3179433135.py'\u001b[0m                  \u001b[31m│\u001b[0m\n",
       "\u001b[31m│\u001b[0m                                                                                                  \u001b[31m│\u001b[0m\n",
       "\u001b[31m│\u001b[0m \u001b[2;33m/var/folders/6d/v_8150015qz_fxg7lkd8qgxw0000gn/T/ipykernel_9128/\u001b[0m\u001b[1;33m870157799.py\u001b[0m:\u001b[94m8\u001b[0m in                \u001b[31m│\u001b[0m\n",
       "\u001b[31m│\u001b[0m \u001b[92m__getattribute__\u001b[0m                                                                                 \u001b[31m│\u001b[0m\n",
       "\u001b[31m│\u001b[0m                                                                                                  \u001b[31m│\u001b[0m\n",
       "\u001b[31m│\u001b[0m \u001b[3;31m[Errno 2] No such file or directory: \u001b[0m                                                            \u001b[31m│\u001b[0m\n",
       "\u001b[31m│\u001b[0m \u001b[3;31m'/var/folders/6d/v_8150015qz_fxg7lkd8qgxw0000gn/T/ipykernel_9128/870157799.py'\u001b[0m                   \u001b[31m│\u001b[0m\n",
       "\u001b[31m╰──────────────────────────────────────────────────────────────────────────────────────────────────╯\u001b[0m\n",
       "\u001b[1;91mAttributeError: \u001b[0mmodule \u001b[32m'__main__'\u001b[0m has no attribute \u001b[32m'smelly'\u001b[0m\n"
      ]
     },
     "metadata": {},
     "output_type": "display_data"
    }
   ],
   "source": [
    "this_module.smelly()"
   ]
  },
  {
   "cell_type": "code",
   "execution_count": 27,
   "id": "467ccb98-fba2-431c-b0c6-4ca08fc2c75d",
   "metadata": {},
   "outputs": [
    {
     "name": "stdout",
     "output_type": "stream",
     "text": [
      "Emailing to aviv:  Accessed __loader__ -> None\n",
      "Emailing to aviv:  Accessed __spec__ -> None\n",
      "Emailing to aviv:  Accessed __name__ -> __main__\n",
      "Emailing to aviv:  Accessed __loader__ -> None\n",
      "Emailing to aviv:  Accessed __spec__ -> None\n",
      "Emailing to aviv:  Accessed __name__ -> __main__\n",
      "Emailing to aviv:  Accessed __loader__ -> None\n",
      "Emailing to aviv:  Accessed __spec__ -> None\n",
      "Emailing to aviv:  Accessed __name__ -> __main__\n",
      "Emailing to aviv:  Accessed __loader__ -> None\n",
      "Emailing to aviv:  Accessed __spec__ -> None\n",
      "Emailing to aviv:  Accessed __name__ -> __main__\n",
      "Emailing to aviv:  Accessed __dict__ -> {'__name__': '__main__', '__doc__': 'Automatically created module for IPython interactive environment', '__package__': None, '__loader__': None, '__spec__': None, '__builtin__': <module 'builtins' (built-in)>, '__builtins__': <module 'builtins' (built-in)>, '_ih': ['', 'from rich.pretty import install\\nfrom rich import inspect\\ninstall()\\ndef what(obj, *args, **kwargs):\\n    return inspect(obj, *args, dunder=kwargs.pop(\\'dunder\\', True), **kwargs)\\ndef uniquedir(obj):\\n    return sorted(set(dir(obj)) - set(dir(object)) - set(dir(type)))\\ndef is_from_ipython(prop):\\n    return (prop.startswith(\"_i\") or (len(prop) > 1 and prop[1].isdigit()) or prop in (\"In\", \"Out\", \"_\", \"__\", \"___\", \"_dh\", \"_oh\", \"get_ipython\", \"exit\", \"open\", \"quit\", \"__builtin__\",))\\nfrom typing import TypeVar, Generic, Type\\nTInstance = TypeVar(\"TInstance\")\\nTProperty = TypeVar(\"TProperty\", bound=Type)', 'class Team:\\n    pass', 'class Team:\\n    pass', 'type(Team)', 'Team.__class__', 'type_of_Team = type(Team)', 'isinstance(type_of_Team, object)', 'isinstance(type_of_Team, type)', 'isinstance(type_of_Team, Team)', 'what(type_of_Team)', 'del Team', 'Team = type(\"Team\", (object,), {})  # type(name: str, bases: iterable[type], attributes: dict)', 'Team = type(\"Team\", (object,), {})  # type(name: str, bases: iterable[type], attributes: dict)', 'class Team:\\n    members = []', 'Team.__dict__', \"import sys\\nthis_module = sys.modules['__main__']\", 'this_module', '[prop for prop in dir(this_module) if not is_from_ipython(prop)]', 'this_module.__dict__[\"hello\"] = \"bye\"', 'hello', 'def returns_locals():\\n    a = 5\\n    return locals()\\n\\nreturns_locals()', 'def globals_are_just_the_modules_namespace():\\n    assert globals() == this_module.__dict__', 'globals_are_just_the_modules_namespace()', 'this_module.__dict__', 'from types import ModuleType\\n\\ndef email_to_aviv(message):\\n    print(f\"Emailing to aviv: \", message)\\n\\nclass MyFunnyModule(ModuleType):\\n    def __getattribute__(self, name):\\n        value = super().__getattribute__(name)\\n        email_to_aviv(f\"Accessed {name} -> {value}\")\\n        return value\\n        \\noriginal_module_class = this_module.__class__    \\nthis_module.__class__ = MyFunnyModule', 'this_module.smelly()'], '_oh': {4: <class 'type'>, 5: <class 'type'>, 7: True, 8: True, 9: False, 15: mappingproxy({'__module__': '__main__', 'members': [], '__dict__': <attribute '__dict__' of 'Team' objects>, '__weakref__': <attribute '__weakref__' of 'Team' objects>, '__doc__': None}), 17: <module '__main__'>, 18: ['Generic', 'TInstance', 'TProperty', 'Team', 'Type', 'TypeVar', '__builtins__', '__doc__', '__loader__', '__name__', '__package__', '__spec__', 'inspect', 'install', 'is_from_ipython', 'sys', 'this_module', 'type_of_Team', 'uniquedir', 'what'], 20: 'bye', 21: {'a': 5}, 24: {...}}, '_dh': [PosixPath('/Users/gilad/dev/advanced-python-crash-course/2022/slides/lesson-02')], 'In': ['', 'from rich.pretty import install\\nfrom rich import inspect\\ninstall()\\ndef what(obj, *args, **kwargs):\\n    return inspect(obj, *args, dunder=kwargs.pop(\\'dunder\\', True), **kwargs)\\ndef uniquedir(obj):\\n    return sorted(set(dir(obj)) - set(dir(object)) - set(dir(type)))\\ndef is_from_ipython(prop):\\n    return (prop.startswith(\"_i\") or (len(prop) > 1 and prop[1].isdigit()) or prop in (\"In\", \"Out\", \"_\", \"__\", \"___\", \"_dh\", \"_oh\", \"get_ipython\", \"exit\", \"open\", \"quit\", \"__builtin__\",))\\nfrom typing import TypeVar, Generic, Type\\nTInstance = TypeVar(\"TInstance\")\\nTProperty = TypeVar(\"TProperty\", bound=Type)', 'class Team:\\n    pass', 'class Team:\\n    pass', 'type(Team)', 'Team.__class__', 'type_of_Team = type(Team)', 'isinstance(type_of_Team, object)', 'isinstance(type_of_Team, type)', 'isinstance(type_of_Team, Team)', 'what(type_of_Team)', 'del Team', 'Team = type(\"Team\", (object,), {})  # type(name: str, bases: iterable[type], attributes: dict)', 'Team = type(\"Team\", (object,), {})  # type(name: str, bases: iterable[type], attributes: dict)', 'class Team:\\n    members = []', 'Team.__dict__', \"import sys\\nthis_module = sys.modules['__main__']\", 'this_module', '[prop for prop in dir(this_module) if not is_from_ipython(prop)]', 'this_module.__dict__[\"hello\"] = \"bye\"', 'hello', 'def returns_locals():\\n    a = 5\\n    return locals()\\n\\nreturns_locals()', 'def globals_are_just_the_modules_namespace():\\n    assert globals() == this_module.__dict__', 'globals_are_just_the_modules_namespace()', 'this_module.__dict__', 'from types import ModuleType\\n\\ndef email_to_aviv(message):\\n    print(f\"Emailing to aviv: \", message)\\n\\nclass MyFunnyModule(ModuleType):\\n    def __getattribute__(self, name):\\n        value = super().__getattribute__(name)\\n        email_to_aviv(f\"Accessed {name} -> {value}\")\\n        return value\\n        \\noriginal_module_class = this_module.__class__    \\nthis_module.__class__ = MyFunnyModule', 'this_module.smelly()'], 'Out': {4: <class 'type'>, 5: <class 'type'>, 7: True, 8: True, 9: False, 15: mappingproxy({'__module__': '__main__', 'members': [], '__dict__': <attribute '__dict__' of 'Team' objects>, '__weakref__': <attribute '__weakref__' of 'Team' objects>, '__doc__': None}), 17: <module '__main__'>, 18: ['Generic', 'TInstance', 'TProperty', 'Team', 'Type', 'TypeVar', '__builtins__', '__doc__', '__loader__', '__name__', '__package__', '__spec__', 'inspect', 'install', 'is_from_ipython', 'sys', 'this_module', 'type_of_Team', 'uniquedir', 'what'], 20: 'bye', 21: {'a': 5}, 24: {...}}, 'get_ipython': <bound method InteractiveShell.get_ipython of <ipykernel.zmqshell.ZMQInteractiveShell object at 0x106158d90>>, 'exit': <IPython.core.autocall.ZMQExitAutocall object at 0x1060fefb0>, 'quit': <IPython.core.autocall.ZMQExitAutocall object at 0x1060fefb0>, 'open': <function open at 0x10388d360>, '_': {...}, '__': {'a': 5}, '___': 'bye', 'sys': <module 'sys' (built-in)>, '_i': 'from types import ModuleType\\n\\ndef email_to_aviv(message):\\n    print(f\"Emailing to aviv: \", message)\\n\\nclass MyFunnyModule(ModuleType):\\n    def __getattribute__(self, name):\\n        value = super().__getattribute__(name)\\n        email_to_aviv(f\"Accessed {name} -> {value}\")\\n        return value\\n        \\noriginal_module_class = this_module.__class__    \\nthis_module.__class__ = MyFunnyModule', '_ii': 'this_module.__dict__', '_iii': 'globals_are_just_the_modules_namespace()', '_i1': 'from rich.pretty import install\\nfrom rich import inspect\\ninstall()\\ndef what(obj, *args, **kwargs):\\n    return inspect(obj, *args, dunder=kwargs.pop(\\'dunder\\', True), **kwargs)\\ndef uniquedir(obj):\\n    return sorted(set(dir(obj)) - set(dir(object)) - set(dir(type)))\\ndef is_from_ipython(prop):\\n    return (prop.startswith(\"_i\") or (len(prop) > 1 and prop[1].isdigit()) or prop in (\"In\", \"Out\", \"_\", \"__\", \"___\", \"_dh\", \"_oh\", \"get_ipython\", \"exit\", \"open\", \"quit\", \"__builtin__\",))\\nfrom typing import TypeVar, Generic, Type\\nTInstance = TypeVar(\"TInstance\")\\nTProperty = TypeVar(\"TProperty\", bound=Type)', 'install': <function install at 0x10636d360>, 'inspect': <function inspect at 0x1061e80d0>, 'what': <function what at 0x1063efd00>, 'uniquedir': <function uniquedir at 0x1063ef1c0>, 'is_from_ipython': <function is_from_ipython at 0x1063ef400>, 'TypeVar': <class 'typing.TypeVar'>, 'Generic': <class 'typing.Generic'>, 'Type': typing.Type, 'TInstance': ~TInstance, 'TProperty': ~TProperty, '_i2': 'class Team:\\n    pass', '_i3': 'class Team:\\n    pass', '_i4': 'type(Team)', '_4': <class 'type'>, '_i5': 'Team.__class__', '_5': <class 'type'>, '_i6': 'type_of_Team = type(Team)', 'type_of_Team': <class 'type'>, '_i7': 'isinstance(type_of_Team, object)', '_7': True, '_i8': 'isinstance(type_of_Team, type)', '_8': True, '_i9': 'isinstance(type_of_Team, Team)', '_9': False, '_i10': 'what(type_of_Team)', '_i11': 'del Team', '_i12': 'Team = type(\"Team\", (object,), {})  # type(name: str, bases: iterable[type], attributes: dict)', 'Team': <class '__main__.Team'>, '_i13': 'Team = type(\"Team\", (object,), {})  # type(name: str, bases: iterable[type], attributes: dict)', '_i14': 'class Team:\\n    members = []', '_i15': 'Team.__dict__', '_15': mappingproxy({'__module__': '__main__', 'members': [], '__dict__': <attribute '__dict__' of 'Team' objects>, '__weakref__': <attribute '__weakref__' of 'Team' objects>, '__doc__': None}), '_i16': \"import sys\\nthis_module = sys.modules['__main__']\", 'this_module': <module '__main__'>, '_i17': 'this_module', '_17': <module '__main__'>, '_i18': '[prop for prop in dir(this_module) if not is_from_ipython(prop)]', '_18': ['Generic', 'TInstance', 'TProperty', 'Team', 'Type', 'TypeVar', '__builtins__', '__doc__', '__loader__', '__name__', '__package__', '__spec__', 'inspect', 'install', 'is_from_ipython', 'sys', 'this_module', 'type_of_Team', 'uniquedir', 'what'], '_i19': 'this_module.__dict__[\"hello\"] = \"bye\"', 'hello': 'bye', '_i20': 'hello', '_20': 'bye', '_i21': 'def returns_locals():\\n    a = 5\\n    return locals()\\n\\nreturns_locals()', 'returns_locals': <function returns_locals at 0x10643b370>, '_21': {'a': 5}, '_i22': 'def globals_are_just_the_modules_namespace():\\n    assert globals() == this_module.__dict__', 'globals_are_just_the_modules_namespace': <function globals_are_just_the_modules_namespace at 0x10643b490>, '_i23': 'globals_are_just_the_modules_namespace()', '_i24': 'this_module.__dict__', '_24': {...}, '_i25': 'from types import ModuleType\\n\\ndef email_to_aviv(message):\\n    print(f\"Emailing to aviv: \", message)\\n\\nclass MyFunnyModule(ModuleType):\\n    def __getattribute__(self, name):\\n        value = super().__getattribute__(name)\\n        email_to_aviv(f\"Accessed {name} -> {value}\")\\n        return value\\n        \\noriginal_module_class = this_module.__class__    \\nthis_module.__class__ = MyFunnyModule', 'ModuleType': <class 'module'>, 'email_to_aviv': <function email_to_aviv at 0x106811480>, 'MyFunnyModule': <class '__main__.MyFunnyModule'>, 'original_module_class': <class 'module'>, '_i26': 'this_module.smelly()'}\n",
      "Emailing to aviv:  Accessed __loader__ -> None\n",
      "Emailing to aviv:  Accessed __spec__ -> None\n",
      "Emailing to aviv:  Accessed __name__ -> __main__\n",
      "Emailing to aviv:  Accessed __loader__ -> None\n",
      "Emailing to aviv:  Accessed __spec__ -> None\n",
      "Emailing to aviv:  Accessed __name__ -> __main__\n",
      "Emailing to aviv:  Accessed __loader__ -> None\n",
      "Emailing to aviv:  Accessed __spec__ -> None\n",
      "Emailing to aviv:  Accessed __name__ -> __main__\n",
      "Emailing to aviv:  Accessed __loader__ -> None\n",
      "Emailing to aviv:  Accessed __spec__ -> None\n",
      "Emailing to aviv:  Accessed __name__ -> __main__\n",
      "Emailing to aviv:  Accessed __dict__ -> {'__name__': '__main__', '__doc__': 'Automatically created module for IPython interactive environment', '__package__': None, '__loader__': None, '__spec__': None, '__builtin__': <module 'builtins' (built-in)>, '__builtins__': <module 'builtins' (built-in)>, '_ih': ['', 'from rich.pretty import install\\nfrom rich import inspect\\ninstall()\\ndef what(obj, *args, **kwargs):\\n    return inspect(obj, *args, dunder=kwargs.pop(\\'dunder\\', True), **kwargs)\\ndef uniquedir(obj):\\n    return sorted(set(dir(obj)) - set(dir(object)) - set(dir(type)))\\ndef is_from_ipython(prop):\\n    return (prop.startswith(\"_i\") or (len(prop) > 1 and prop[1].isdigit()) or prop in (\"In\", \"Out\", \"_\", \"__\", \"___\", \"_dh\", \"_oh\", \"get_ipython\", \"exit\", \"open\", \"quit\", \"__builtin__\",))\\nfrom typing import TypeVar, Generic, Type\\nTInstance = TypeVar(\"TInstance\")\\nTProperty = TypeVar(\"TProperty\", bound=Type)', 'class Team:\\n    pass', 'class Team:\\n    pass', 'type(Team)', 'Team.__class__', 'type_of_Team = type(Team)', 'isinstance(type_of_Team, object)', 'isinstance(type_of_Team, type)', 'isinstance(type_of_Team, Team)', 'what(type_of_Team)', 'del Team', 'Team = type(\"Team\", (object,), {})  # type(name: str, bases: iterable[type], attributes: dict)', 'Team = type(\"Team\", (object,), {})  # type(name: str, bases: iterable[type], attributes: dict)', 'class Team:\\n    members = []', 'Team.__dict__', \"import sys\\nthis_module = sys.modules['__main__']\", 'this_module', '[prop for prop in dir(this_module) if not is_from_ipython(prop)]', 'this_module.__dict__[\"hello\"] = \"bye\"', 'hello', 'def returns_locals():\\n    a = 5\\n    return locals()\\n\\nreturns_locals()', 'def globals_are_just_the_modules_namespace():\\n    assert globals() == this_module.__dict__', 'globals_are_just_the_modules_namespace()', 'this_module.__dict__', 'from types import ModuleType\\n\\ndef email_to_aviv(message):\\n    print(f\"Emailing to aviv: \", message)\\n\\nclass MyFunnyModule(ModuleType):\\n    def __getattribute__(self, name):\\n        value = super().__getattribute__(name)\\n        email_to_aviv(f\"Accessed {name} -> {value}\")\\n        return value\\n        \\noriginal_module_class = this_module.__class__    \\nthis_module.__class__ = MyFunnyModule', 'this_module.smelly()', 'this_module.__class__ = original_module_class'], '_oh': {4: <class 'type'>, 5: <class 'type'>, 7: True, 8: True, 9: False, 15: mappingproxy({'__module__': '__main__', 'members': [], '__dict__': <attribute '__dict__' of 'Team' objects>, '__weakref__': <attribute '__weakref__' of 'Team' objects>, '__doc__': None}), 17: <module '__main__'>, 18: ['Generic', 'TInstance', 'TProperty', 'Team', 'Type', 'TypeVar', '__builtins__', '__doc__', '__loader__', '__name__', '__package__', '__spec__', 'inspect', 'install', 'is_from_ipython', 'sys', 'this_module', 'type_of_Team', 'uniquedir', 'what'], 20: 'bye', 21: {'a': 5}, 24: {...}}, '_dh': [PosixPath('/Users/gilad/dev/advanced-python-crash-course/2022/slides/lesson-02')], 'In': ['', 'from rich.pretty import install\\nfrom rich import inspect\\ninstall()\\ndef what(obj, *args, **kwargs):\\n    return inspect(obj, *args, dunder=kwargs.pop(\\'dunder\\', True), **kwargs)\\ndef uniquedir(obj):\\n    return sorted(set(dir(obj)) - set(dir(object)) - set(dir(type)))\\ndef is_from_ipython(prop):\\n    return (prop.startswith(\"_i\") or (len(prop) > 1 and prop[1].isdigit()) or prop in (\"In\", \"Out\", \"_\", \"__\", \"___\", \"_dh\", \"_oh\", \"get_ipython\", \"exit\", \"open\", \"quit\", \"__builtin__\",))\\nfrom typing import TypeVar, Generic, Type\\nTInstance = TypeVar(\"TInstance\")\\nTProperty = TypeVar(\"TProperty\", bound=Type)', 'class Team:\\n    pass', 'class Team:\\n    pass', 'type(Team)', 'Team.__class__', 'type_of_Team = type(Team)', 'isinstance(type_of_Team, object)', 'isinstance(type_of_Team, type)', 'isinstance(type_of_Team, Team)', 'what(type_of_Team)', 'del Team', 'Team = type(\"Team\", (object,), {})  # type(name: str, bases: iterable[type], attributes: dict)', 'Team = type(\"Team\", (object,), {})  # type(name: str, bases: iterable[type], attributes: dict)', 'class Team:\\n    members = []', 'Team.__dict__', \"import sys\\nthis_module = sys.modules['__main__']\", 'this_module', '[prop for prop in dir(this_module) if not is_from_ipython(prop)]', 'this_module.__dict__[\"hello\"] = \"bye\"', 'hello', 'def returns_locals():\\n    a = 5\\n    return locals()\\n\\nreturns_locals()', 'def globals_are_just_the_modules_namespace():\\n    assert globals() == this_module.__dict__', 'globals_are_just_the_modules_namespace()', 'this_module.__dict__', 'from types import ModuleType\\n\\ndef email_to_aviv(message):\\n    print(f\"Emailing to aviv: \", message)\\n\\nclass MyFunnyModule(ModuleType):\\n    def __getattribute__(self, name):\\n        value = super().__getattribute__(name)\\n        email_to_aviv(f\"Accessed {name} -> {value}\")\\n        return value\\n        \\noriginal_module_class = this_module.__class__    \\nthis_module.__class__ = MyFunnyModule', 'this_module.smelly()', 'this_module.__class__ = original_module_class'], 'Out': {4: <class 'type'>, 5: <class 'type'>, 7: True, 8: True, 9: False, 15: mappingproxy({'__module__': '__main__', 'members': [], '__dict__': <attribute '__dict__' of 'Team' objects>, '__weakref__': <attribute '__weakref__' of 'Team' objects>, '__doc__': None}), 17: <module '__main__'>, 18: ['Generic', 'TInstance', 'TProperty', 'Team', 'Type', 'TypeVar', '__builtins__', '__doc__', '__loader__', '__name__', '__package__', '__spec__', 'inspect', 'install', 'is_from_ipython', 'sys', 'this_module', 'type_of_Team', 'uniquedir', 'what'], 20: 'bye', 21: {'a': 5}, 24: {...}}, 'get_ipython': <bound method InteractiveShell.get_ipython of <ipykernel.zmqshell.ZMQInteractiveShell object at 0x106158d90>>, 'exit': <IPython.core.autocall.ZMQExitAutocall object at 0x1060fefb0>, 'quit': <IPython.core.autocall.ZMQExitAutocall object at 0x1060fefb0>, 'open': <function open at 0x10388d360>, '_': {...}, '__': {'a': 5}, '___': 'bye', 'sys': <module 'sys' (built-in)>, '_i': 'this_module.smelly()', '_ii': 'from types import ModuleType\\n\\ndef email_to_aviv(message):\\n    print(f\"Emailing to aviv: \", message)\\n\\nclass MyFunnyModule(ModuleType):\\n    def __getattribute__(self, name):\\n        value = super().__getattribute__(name)\\n        email_to_aviv(f\"Accessed {name} -> {value}\")\\n        return value\\n        \\noriginal_module_class = this_module.__class__    \\nthis_module.__class__ = MyFunnyModule', '_iii': 'this_module.__dict__', '_i1': 'from rich.pretty import install\\nfrom rich import inspect\\ninstall()\\ndef what(obj, *args, **kwargs):\\n    return inspect(obj, *args, dunder=kwargs.pop(\\'dunder\\', True), **kwargs)\\ndef uniquedir(obj):\\n    return sorted(set(dir(obj)) - set(dir(object)) - set(dir(type)))\\ndef is_from_ipython(prop):\\n    return (prop.startswith(\"_i\") or (len(prop) > 1 and prop[1].isdigit()) or prop in (\"In\", \"Out\", \"_\", \"__\", \"___\", \"_dh\", \"_oh\", \"get_ipython\", \"exit\", \"open\", \"quit\", \"__builtin__\",))\\nfrom typing import TypeVar, Generic, Type\\nTInstance = TypeVar(\"TInstance\")\\nTProperty = TypeVar(\"TProperty\", bound=Type)', 'install': <function install at 0x10636d360>, 'inspect': <function inspect at 0x1061e80d0>, 'what': <function what at 0x1063efd00>, 'uniquedir': <function uniquedir at 0x1063ef1c0>, 'is_from_ipython': <function is_from_ipython at 0x1063ef400>, 'TypeVar': <class 'typing.TypeVar'>, 'Generic': <class 'typing.Generic'>, 'Type': typing.Type, 'TInstance': ~TInstance, 'TProperty': ~TProperty, '_i2': 'class Team:\\n    pass', '_i3': 'class Team:\\n    pass', '_i4': 'type(Team)', '_4': <class 'type'>, '_i5': 'Team.__class__', '_5': <class 'type'>, '_i6': 'type_of_Team = type(Team)', 'type_of_Team': <class 'type'>, '_i7': 'isinstance(type_of_Team, object)', '_7': True, '_i8': 'isinstance(type_of_Team, type)', '_8': True, '_i9': 'isinstance(type_of_Team, Team)', '_9': False, '_i10': 'what(type_of_Team)', '_i11': 'del Team', '_i12': 'Team = type(\"Team\", (object,), {})  # type(name: str, bases: iterable[type], attributes: dict)', 'Team': <class '__main__.Team'>, '_i13': 'Team = type(\"Team\", (object,), {})  # type(name: str, bases: iterable[type], attributes: dict)', '_i14': 'class Team:\\n    members = []', '_i15': 'Team.__dict__', '_15': mappingproxy({'__module__': '__main__', 'members': [], '__dict__': <attribute '__dict__' of 'Team' objects>, '__weakref__': <attribute '__weakref__' of 'Team' objects>, '__doc__': None}), '_i16': \"import sys\\nthis_module = sys.modules['__main__']\", 'this_module': <module '__main__'>, '_i17': 'this_module', '_17': <module '__main__'>, '_i18': '[prop for prop in dir(this_module) if not is_from_ipython(prop)]', '_18': ['Generic', 'TInstance', 'TProperty', 'Team', 'Type', 'TypeVar', '__builtins__', '__doc__', '__loader__', '__name__', '__package__', '__spec__', 'inspect', 'install', 'is_from_ipython', 'sys', 'this_module', 'type_of_Team', 'uniquedir', 'what'], '_i19': 'this_module.__dict__[\"hello\"] = \"bye\"', 'hello': 'bye', '_i20': 'hello', '_20': 'bye', '_i21': 'def returns_locals():\\n    a = 5\\n    return locals()\\n\\nreturns_locals()', 'returns_locals': <function returns_locals at 0x10643b370>, '_21': {'a': 5}, '_i22': 'def globals_are_just_the_modules_namespace():\\n    assert globals() == this_module.__dict__', 'globals_are_just_the_modules_namespace': <function globals_are_just_the_modules_namespace at 0x10643b490>, '_i23': 'globals_are_just_the_modules_namespace()', '_i24': 'this_module.__dict__', '_24': {...}, '_i25': 'from types import ModuleType\\n\\ndef email_to_aviv(message):\\n    print(f\"Emailing to aviv: \", message)\\n\\nclass MyFunnyModule(ModuleType):\\n    def __getattribute__(self, name):\\n        value = super().__getattribute__(name)\\n        email_to_aviv(f\"Accessed {name} -> {value}\")\\n        return value\\n        \\noriginal_module_class = this_module.__class__    \\nthis_module.__class__ = MyFunnyModule', 'ModuleType': <class 'module'>, 'email_to_aviv': <function email_to_aviv at 0x106811480>, 'MyFunnyModule': <class '__main__.MyFunnyModule'>, 'original_module_class': <class 'module'>, '_i26': 'this_module.smelly()', '_i27': 'this_module.__class__ = original_module_class'}\n"
     ]
    }
   ],
   "source": [
    "this_module.__class__ = original_module_class"
   ]
  },
  {
   "cell_type": "markdown",
   "id": "777bf3fa-e6b2-42ab-973f-632c8a8b858b",
   "metadata": {},
   "source": [
    "## `class function(object): ...`"
   ]
  },
  {
   "cell_type": "code",
   "execution_count": 28,
   "id": "b6f9199e-5598-47c0-94fd-445f04bce835",
   "metadata": {
    "tags": []
   },
   "outputs": [],
   "source": [
    "def smelly():\n",
    "    smelly.__dict__.setdefault('called', 0)\n",
    "    smelly.called += 1\n",
    "    print(smelly.called)"
   ]
  },
  {
   "cell_type": "code",
   "execution_count": 34,
   "id": "f467aacc-1eaf-4bbe-ac68-ee63eb01da58",
   "metadata": {},
   "outputs": [
    {
     "name": "stdout",
     "output_type": "stream",
     "text": [
      "6\n"
     ]
    }
   ],
   "source": [
    "smelly()"
   ]
  },
  {
   "cell_type": "markdown",
   "id": "aef6a4c2-8e1c-4399-9d25-5d93d651a916",
   "metadata": {},
   "source": [
    "## MRO (Method Resolution Order)"
   ]
  },
  {
   "cell_type": "code",
   "execution_count": 35,
   "id": "32dad848-68bd-4d6d-b224-4721fd3ed4a9",
   "metadata": {
    "tags": []
   },
   "outputs": [
    {
     "data": {
      "text/html": [
       "<pre style=\"white-space:pre;overflow-x:auto;line-height:normal;font-family:Menlo,'DejaVu Sans Mono',consolas,'Courier New',monospace\"><span style=\"font-weight: bold\">(&lt;</span><span style=\"color: #ff00ff; text-decoration-color: #ff00ff; font-weight: bold\">class</span><span style=\"color: #000000; text-decoration-color: #000000\"> </span><span style=\"color: #008000; text-decoration-color: #008000\">'__main__.Team'</span><span style=\"font-weight: bold\">&gt;</span>, <span style=\"font-weight: bold\">&lt;</span><span style=\"color: #ff00ff; text-decoration-color: #ff00ff; font-weight: bold\">class</span><span style=\"color: #000000; text-decoration-color: #000000\"> </span><span style=\"color: #008000; text-decoration-color: #008000\">'object'</span><span style=\"font-weight: bold\">&gt;)</span>\n",
       "</pre>\n"
      ],
      "text/plain": [
       "\u001b[1m(\u001b[0m\u001b[1m<\u001b[0m\u001b[1;95mclass\u001b[0m\u001b[39m \u001b[0m\u001b[32m'__main__.Team'\u001b[0m\u001b[1m>\u001b[0m, \u001b[1m<\u001b[0m\u001b[1;95mclass\u001b[0m\u001b[39m \u001b[0m\u001b[32m'object'\u001b[0m\u001b[1m>\u001b[0m\u001b[1m)\u001b[0m\n"
      ]
     },
     "metadata": {},
     "output_type": "display_data"
    }
   ],
   "source": [
    "Team.__mro__"
   ]
  },
  {
   "cell_type": "code",
   "execution_count": null,
   "id": "bae25654-15b3-417a-8a3a-6d8f49a46b24",
   "metadata": {},
   "outputs": [],
   "source": [
    "type(Team).__mro__"
   ]
  },
  {
   "cell_type": "code",
   "execution_count": null,
   "id": "5a661b15-f6c3-4f6b-95a2-4d01fcb509ce",
   "metadata": {},
   "outputs": [],
   "source": [
    "type.__mro__"
   ]
  },
  {
   "cell_type": "code",
   "execution_count": null,
   "id": "8ae9e90b-6093-4d41-bbec-776c0740ce80",
   "metadata": {},
   "outputs": [],
   "source": [
    "object.__mro__"
   ]
  },
  {
   "cell_type": "markdown",
   "id": "987b3860-d71e-4d52-958e-afbe121ccaab",
   "metadata": {},
   "source": [
    "### Left-to-right when possible; Up otherwise"
   ]
  },
  {
   "cell_type": "raw",
   "id": "4914ff3a-29df-472a-9260-da275cc3e051",
   "metadata": {},
   "source": [
    "    D super() -> B super() -> C super() -> A\n",
    "           A\n",
    "          ╱ ╲\n",
    "         B   C\n",
    "          ╲ ╱\n",
    "           D"
   ]
  },
  {
   "cell_type": "markdown",
   "id": "a2e0485b-1aec-44c9-a813-a1ee9ede81db",
   "metadata": {},
   "source": [
    "### `super`\n",
    "(Skip examples if short on time)"
   ]
  },
  {
   "cell_type": "code",
   "execution_count": 38,
   "id": "e2b9601b-5017-45e3-a68a-015bf3af6658",
   "metadata": {},
   "outputs": [
    {
     "name": "stdout",
     "output_type": "stream",
     "text": [
      "D.method()\n",
      "B.method()\n",
      "C.method()\n",
      "A.method()\n"
     ]
    }
   ],
   "source": [
    "class A:\n",
    "    def method(self):\n",
    "        print(\"A.method()\")\n",
    "class B(A):\n",
    "    def method(self):\n",
    "        print(\"B.method()\")\n",
    "        super().method()\n",
    "class C(A):\n",
    "    def method(self):\n",
    "        print(\"C.method()\")\n",
    "        super().method()\n",
    "class D(B, C):\n",
    "    def method(self):\n",
    "        print(\"D.method()\")\n",
    "        super().method()\n",
    "D().method()  # D B C A"
   ]
  },
  {
   "cell_type": "code",
   "execution_count": null,
   "id": "efc5f564-0b3f-47a3-a821-b6aadd9b66fc",
   "metadata": {},
   "outputs": [],
   "source": [
    "class A:\n",
    "    def method(self):\n",
    "        print(\"A.method()\")\n",
    "class B(A):\n",
    "    def method(self):\n",
    "        print(\"B.method()\")\n",
    "        super().method()\n",
    "class C(A):\n",
    "    def method(self):\n",
    "        print(\"C.method()\")\n",
    "        # no super! -> no A\n",
    "class D(B, C):\n",
    "    def method(self):\n",
    "        print(\"D.method()\")\n",
    "        super().method()\n",
    "D().method()  # D B C"
   ]
  },
  {
   "cell_type": "code",
   "execution_count": null,
   "id": "6d41a338-c149-4d4f-88bb-e1efecb57602",
   "metadata": {},
   "outputs": [],
   "source": [
    "class A:\n",
    "    def method(self):\n",
    "        print(\"A.method()\")\n",
    "class B(A):\n",
    "    def method(self):\n",
    "        print(\"B.method()\")\n",
    "        super().method()\n",
    "class C:\n",
    "    def method(self):\n",
    "        print(\"C.method()\")\n",
    "class D(B, C):\n",
    "    def method(self):\n",
    "        print(\"D.method()\")\n",
    "        super().method()\n",
    "D().method()  # D B A"
   ]
  },
  {
   "cell_type": "code",
   "execution_count": null,
   "id": "4c560c86-d779-4874-a1f1-2a16f2536707",
   "metadata": {},
   "outputs": [],
   "source": [
    "class A:\n",
    "    def method(self):\n",
    "        print(\"A.method()\")\n",
    "        super().method()\n",
    "class B(A):\n",
    "    def method(self):\n",
    "        print(\"B.method()\")\n",
    "        super().method()\n",
    "class C:  # Doesn't inherit\n",
    "    def method(self):\n",
    "        print(\"C.method()\")\n",
    "class D(B, C):\n",
    "    def method(self):\n",
    "        print(\"D.method()\")\n",
    "        super().method()\n",
    "D().method()  # D B A C"
   ]
  },
  {
   "cell_type": "markdown",
   "id": "4ae84c0c-3862-4b14-ae70-ec27035e3e7d",
   "metadata": {},
   "source": [
    "![](./mro-typeerror.png)"
   ]
  },
  {
   "cell_type": "code",
   "execution_count": null,
   "id": "90d5323c-2507-42e8-b52d-bbbd4f7b04d6",
   "metadata": {
    "tags": []
   },
   "outputs": [],
   "source": [
    "# TypeError\n",
    "class A: pass\n",
    "class B: pass\n",
    "class C(A, B): pass\n",
    "class D(B, A): pass\n",
    "class E(C, D): pass"
   ]
  },
  {
   "cell_type": "markdown",
   "id": "b1e69364-be4c-4fcf-8e79-2c1afcc3ff48",
   "metadata": {},
   "source": [
    "# Attributes, methods and dunders (double-underscore)"
   ]
  },
  {
   "cell_type": "markdown",
   "id": "5ea86e58-7384-4336-8c06-2b851120ec44",
   "metadata": {},
   "source": [
    "## Class attributes vs instance attributes"
   ]
  },
  {
   "cell_type": "markdown",
   "id": "0e542cc9-ac6f-4c19-8403-1adc22a8e667",
   "metadata": {},
   "source": [
    "### Instance attributes belong to the instance's namespace"
   ]
  },
  {
   "cell_type": "code",
   "execution_count": 39,
   "id": "cb35ee30-1453-41c4-a1c5-47c6215e89f8",
   "metadata": {
    "tags": []
   },
   "outputs": [],
   "source": [
    "class Team:\n",
    "    def __init__(self, name):\n",
    "        self.name = name"
   ]
  },
  {
   "cell_type": "code",
   "execution_count": 40,
   "id": "b1ec0c17-5146-4688-ac52-693f4e741864",
   "metadata": {
    "tags": []
   },
   "outputs": [],
   "source": [
    "bob=Team('bob')"
   ]
  },
  {
   "cell_type": "code",
   "execution_count": 41,
   "id": "b4b5760d-ced5-48c1-96be-77a735736d45",
   "metadata": {
    "tags": []
   },
   "outputs": [
    {
     "data": {
      "text/html": [
       "<pre style=\"white-space:pre;overflow-x:auto;line-height:normal;font-family:Menlo,'DejaVu Sans Mono',consolas,'Courier New',monospace\"><span style=\"color: #00ff00; text-decoration-color: #00ff00; font-style: italic\">True</span>\n",
       "</pre>\n"
      ],
      "text/plain": [
       "\u001b[3;92mTrue\u001b[0m\n"
      ]
     },
     "metadata": {},
     "output_type": "display_data"
    }
   ],
   "source": [
    "'name' in bob.__dict__"
   ]
  },
  {
   "cell_type": "code",
   "execution_count": 42,
   "id": "053fedf6-ab00-4dac-8d44-b3b0c66f2138",
   "metadata": {
    "tags": []
   },
   "outputs": [
    {
     "data": {
      "text/html": [
       "<pre style=\"white-space:pre;overflow-x:auto;line-height:normal;font-family:Menlo,'DejaVu Sans Mono',consolas,'Courier New',monospace\"><span style=\"color: #ff0000; text-decoration-color: #ff0000; font-style: italic\">False</span>\n",
       "</pre>\n"
      ],
      "text/plain": [
       "\u001b[3;91mFalse\u001b[0m\n"
      ]
     },
     "metadata": {},
     "output_type": "display_data"
    }
   ],
   "source": [
    "'name' in Team.__dict__"
   ]
  },
  {
   "cell_type": "code",
   "execution_count": 43,
   "id": "a4b63c25-ebaa-4f71-8ac4-288bf3a7bd7f",
   "metadata": {},
   "outputs": [],
   "source": [
    "bob.__dict__['x'] = 'X'"
   ]
  },
  {
   "cell_type": "code",
   "execution_count": 44,
   "id": "22d8d5ee-9dee-40ed-a282-a698930bf898",
   "metadata": {},
   "outputs": [
    {
     "data": {
      "text/html": [
       "<pre style=\"white-space:pre;overflow-x:auto;line-height:normal;font-family:Menlo,'DejaVu Sans Mono',consolas,'Courier New',monospace\"><span style=\"color: #008000; text-decoration-color: #008000\">'X'</span>\n",
       "</pre>\n"
      ],
      "text/plain": [
       "\u001b[32m'X'\u001b[0m\n"
      ]
     },
     "metadata": {},
     "output_type": "display_data"
    }
   ],
   "source": [
    "bob.x"
   ]
  },
  {
   "cell_type": "markdown",
   "id": "462abadf-3ac5-42ed-84dc-7560f4739f74",
   "metadata": {},
   "source": [
    "### Class attributes belong to the class's namespace"
   ]
  },
  {
   "cell_type": "code",
   "execution_count": 45,
   "id": "cf6fc062-fc7c-4a8f-ac87-2db4a82b4404",
   "metadata": {
    "tags": []
   },
   "outputs": [],
   "source": [
    "class Team:\n",
    "    org = 'pecan'\n",
    "    def __init__(self, name):\n",
    "        self.name = name"
   ]
  },
  {
   "cell_type": "code",
   "execution_count": 46,
   "id": "7e4b27ed-ac39-4dc8-9643-892608432ec5",
   "metadata": {
    "tags": []
   },
   "outputs": [],
   "source": [
    "bob=Team('bob')"
   ]
  },
  {
   "cell_type": "code",
   "execution_count": 47,
   "id": "a6d7e37d-921d-441b-b170-b09498e7892c",
   "metadata": {
    "tags": []
   },
   "outputs": [
    {
     "data": {
      "text/html": [
       "<pre style=\"white-space:pre;overflow-x:auto;line-height:normal;font-family:Menlo,'DejaVu Sans Mono',consolas,'Courier New',monospace\"><span style=\"color: #ff0000; text-decoration-color: #ff0000; font-style: italic\">False</span>\n",
       "</pre>\n"
      ],
      "text/plain": [
       "\u001b[3;91mFalse\u001b[0m\n"
      ]
     },
     "metadata": {},
     "output_type": "display_data"
    }
   ],
   "source": [
    "'org' in bob.__dict__"
   ]
  },
  {
   "cell_type": "code",
   "execution_count": 48,
   "id": "acce94ba-f332-421a-8f3f-f2b16c9b220d",
   "metadata": {
    "tags": []
   },
   "outputs": [
    {
     "data": {
      "text/html": [
       "<pre style=\"white-space:pre;overflow-x:auto;line-height:normal;font-family:Menlo,'DejaVu Sans Mono',consolas,'Courier New',monospace\"><span style=\"color: #00ff00; text-decoration-color: #00ff00; font-style: italic\">True</span>\n",
       "</pre>\n"
      ],
      "text/plain": [
       "\u001b[3;92mTrue\u001b[0m\n"
      ]
     },
     "metadata": {},
     "output_type": "display_data"
    }
   ],
   "source": [
    "'org' in Team.__dict__"
   ]
  },
  {
   "cell_type": "markdown",
   "id": "b50f57b2-b571-4936-abac-e4b5db8e6855",
   "metadata": {},
   "source": [
    "### ...But class attributes are available to the instance too, via _attribute access_"
   ]
  },
  {
   "cell_type": "code",
   "execution_count": 49,
   "id": "0d05aa55-7179-45c7-97c1-486e73d26b2a",
   "metadata": {
    "tags": []
   },
   "outputs": [
    {
     "data": {
      "text/html": [
       "<pre style=\"white-space:pre;overflow-x:auto;line-height:normal;font-family:Menlo,'DejaVu Sans Mono',consolas,'Courier New',monospace\"><span style=\"color: #008000; text-decoration-color: #008000\">'pecan'</span>\n",
       "</pre>\n"
      ],
      "text/plain": [
       "\u001b[32m'pecan'\u001b[0m\n"
      ]
     },
     "metadata": {},
     "output_type": "display_data"
    }
   ],
   "source": [
    "bob.org"
   ]
  },
  {
   "cell_type": "code",
   "execution_count": 50,
   "id": "7ce653cc-2c62-4155-beed-e698d3640134",
   "metadata": {
    "tags": []
   },
   "outputs": [
    {
     "data": {
      "text/html": [
       "<pre style=\"white-space:pre;overflow-x:auto;line-height:normal;font-family:Menlo,'DejaVu Sans Mono',consolas,'Courier New',monospace\"><span style=\"font-weight: bold\">(&lt;</span><span style=\"color: #ff00ff; text-decoration-color: #ff00ff; font-weight: bold\">class</span><span style=\"color: #000000; text-decoration-color: #000000\"> </span><span style=\"color: #008000; text-decoration-color: #008000\">'__main__.Team'</span><span style=\"font-weight: bold\">&gt;</span>, <span style=\"font-weight: bold\">&lt;</span><span style=\"color: #ff00ff; text-decoration-color: #ff00ff; font-weight: bold\">class</span><span style=\"color: #000000; text-decoration-color: #000000\"> </span><span style=\"color: #008000; text-decoration-color: #008000\">'object'</span><span style=\"font-weight: bold\">&gt;)</span>\n",
       "</pre>\n"
      ],
      "text/plain": [
       "\u001b[1m(\u001b[0m\u001b[1m<\u001b[0m\u001b[1;95mclass\u001b[0m\u001b[39m \u001b[0m\u001b[32m'__main__.Team'\u001b[0m\u001b[1m>\u001b[0m, \u001b[1m<\u001b[0m\u001b[1;95mclass\u001b[0m\u001b[39m \u001b[0m\u001b[32m'object'\u001b[0m\u001b[1m>\u001b[0m\u001b[1m)\u001b[0m\n"
      ]
     },
     "metadata": {},
     "output_type": "display_data"
    }
   ],
   "source": [
    "Team.__mro__"
   ]
  },
  {
   "cell_type": "markdown",
   "id": "8e4805ee-7abd-4444-9fad-f7a36127f3bf",
   "metadata": {
    "jp-MarkdownHeadingCollapsed": true,
    "tags": []
   },
   "source": [
    "## `super` is a separate object that resolves the MRO"
   ]
  },
  {
   "cell_type": "markdown",
   "id": "f0e0d6c2-dd27-419f-8672-ae8eade44bb9",
   "metadata": {},
   "source": [
    "#### When resolving the MRO, the arguments we provided to `super` dictate where it would start to traverse the MRO."
   ]
  },
  {
   "cell_type": "markdown",
   "id": "ab7c8dcb-3f1a-41f8-9a6a-3e952118a92d",
   "metadata": {},
   "source": [
    "#### Once resolved, it returns a proxy."
   ]
  },
  {
   "cell_type": "code",
   "execution_count": null,
   "id": "e2afc7cc-352f-471b-8a2e-a31c7432bd35",
   "metadata": {},
   "outputs": [],
   "source": [
    "class A:\n",
    "    def meth(self):\n",
    "        print('A')\n",
    "class B(A):\n",
    "    def meth(self):\n",
    "        print('B')\n",
    "class C(B):\n",
    "    def meth(self):\n",
    "        print('C')"
   ]
  },
  {
   "cell_type": "code",
   "execution_count": null,
   "id": "5ef89212-b7bf-4693-8740-cd25d2f06dea",
   "metadata": {},
   "outputs": [],
   "source": [
    "super(C,C()).meth()"
   ]
  },
  {
   "cell_type": "code",
   "execution_count": null,
   "id": "77d1a00f-8a41-4c06-aa8e-8e64405b124d",
   "metadata": {},
   "outputs": [],
   "source": [
    "super(B,B()).meth()"
   ]
  },
  {
   "cell_type": "code",
   "execution_count": null,
   "id": "1453bbef-0a3a-4080-8aa1-f7b6f4b64978",
   "metadata": {},
   "outputs": [],
   "source": [
    "super(A,A()).meth()"
   ]
  },
  {
   "cell_type": "markdown",
   "id": "84bc15c8-d711-45ff-995b-805206b1b66b",
   "metadata": {},
   "source": [
    "## Attribute access"
   ]
  },
  {
   "cell_type": "code",
   "execution_count": 52,
   "id": "1e060d42-3f8b-493b-822a-72be31124855",
   "metadata": {},
   "outputs": [
    {
     "data": {
      "text/html": [
       "<pre style=\"white-space:pre;overflow-x:auto;line-height:normal;font-family:Menlo,'DejaVu Sans Mono',consolas,'Courier New',monospace\"><span style=\"color: #008000; text-decoration-color: #008000\">'hi'</span>\n",
       "</pre>\n"
      ],
      "text/plain": [
       "\u001b[32m'hi'\u001b[0m\n"
      ]
     },
     "metadata": {},
     "output_type": "display_data"
    }
   ],
   "source": [
    "class Useless:\n",
    "    def __getattr__(self, name):\n",
    "        return name\n",
    "useless = Useless()\n",
    "useless.hi"
   ]
  },
  {
   "cell_type": "code",
   "execution_count": 53,
   "id": "63c62055-caee-4415-909f-cec2e1619733",
   "metadata": {},
   "outputs": [
    {
     "data": {
      "text/html": [
       "<pre style=\"white-space:pre;overflow-x:auto;line-height:normal;font-family:Menlo,'DejaVu Sans Mono',consolas,'Courier New',monospace\"><span style=\"color: #008000; text-decoration-color: #008000\">'bye'</span>\n",
       "</pre>\n"
      ],
      "text/plain": [
       "\u001b[32m'bye'\u001b[0m\n"
      ]
     },
     "metadata": {},
     "output_type": "display_data"
    }
   ],
   "source": [
    "useless.bye"
   ]
  },
  {
   "cell_type": "markdown",
   "id": "28214552-2e68-4a35-ab09-82b6dc727496",
   "metadata": {},
   "source": [
    "We can even implement `getattr` to the module"
   ]
  },
  {
   "cell_type": "code",
   "execution_count": null,
   "id": "7b55ada5-38c8-4563-937b-ff2bcada25d6",
   "metadata": {},
   "outputs": [],
   "source": [
    "def __getattr__(name):\n",
    "    ..."
   ]
  },
  {
   "cell_type": "code",
   "execution_count": null,
   "id": "1e2d4170-a64e-4fc5-8e7c-05f68bc42632",
   "metadata": {},
   "outputs": [],
   "source": [
    "del __getattr__"
   ]
  },
  {
   "cell_type": "markdown",
   "id": "f4e3ea90-69e0-4ecf-acdf-e827138c608e",
   "metadata": {},
   "source": [
    "#### `__getattribute__` is where the real attribute access happens.\n",
    "`__getattr__` is a simpler convenience"
   ]
  },
  {
   "cell_type": "code",
   "execution_count": null,
   "id": "93c2c958-657b-4c35-8ead-bad8bcc80adb",
   "metadata": {},
   "outputs": [],
   "source": [
    "class LowestLevel:\n",
    "    def __getattribute__(self, name):\n",
    "        if name in self.__dict__:\n",
    "            return self.__dict__[name]\n",
    "        for cls in self.__class__.__mro__:\n",
    "            if name in cls.__dict__:\n",
    "                # I'm omiting something here - we'll see later\n",
    "                return cls.__dict__[name]\n",
    "        if hasattr(self, '__getattr__'):\n",
    "            return self.__getattr__(name)\n",
    "        raise AttributeError(name)\n",
    "    \n",
    "    def __setattr__(self, name, value):\n",
    "        self.__dict__[name] = value\n",
    "    \n",
    "    def __delattr__(self, name):\n",
    "        del self.__dict__[name]"
   ]
  },
  {
   "cell_type": "markdown",
   "id": "3ad18721-4790-44a1-ab64-f0963a4ae466",
   "metadata": {},
   "source": [
    "## Methods"
   ]
  },
  {
   "cell_type": "markdown",
   "id": "f4982285-fc2c-4095-a7f9-980e8e6d973d",
   "metadata": {},
   "source": [
    "#### Reminder: class attributes are agnostic to the instance"
   ]
  },
  {
   "cell_type": "code",
   "execution_count": 54,
   "id": "132c8bbe-0e5a-4800-89b5-97f1359a82a8",
   "metadata": {},
   "outputs": [],
   "source": [
    "class Team:\n",
    "    members = []\n",
    "    def start_daily(self):\n",
    "        pass"
   ]
  },
  {
   "cell_type": "code",
   "execution_count": 61,
   "id": "86e26afb-01c7-4a48-8440-46d983e1c7ca",
   "metadata": {},
   "outputs": [
    {
     "data": {
      "text/html": [
       "<pre style=\"white-space:pre;overflow-x:auto;line-height:normal;font-family:Menlo,'DejaVu Sans Mono',consolas,'Courier New',monospace\"><span style=\"font-weight: bold\">[]</span>\n",
       "</pre>\n"
      ],
      "text/plain": [
       "\u001b[1m[\u001b[0m\u001b[1m]\u001b[0m\n"
      ]
     },
     "metadata": {},
     "output_type": "display_data"
    }
   ],
   "source": [
    "bob = Team()\n",
    "bob.members"
   ]
  },
  {
   "cell_type": "code",
   "execution_count": 62,
   "id": "3ab3f5a3-ebad-49d6-b653-98da1d235ce8",
   "metadata": {},
   "outputs": [
    {
     "data": {
      "text/html": [
       "<pre style=\"white-space:pre;overflow-x:auto;line-height:normal;font-family:Menlo,'DejaVu Sans Mono',consolas,'Courier New',monospace\"><span style=\"font-weight: bold\">[]</span>\n",
       "</pre>\n"
      ],
      "text/plain": [
       "\u001b[1m[\u001b[0m\u001b[1m]\u001b[0m\n"
      ]
     },
     "metadata": {},
     "output_type": "display_data"
    }
   ],
   "source": [
    "Team.members"
   ]
  },
  {
   "cell_type": "markdown",
   "id": "35e2635c-056c-41d1-acd5-ffc084120ce3",
   "metadata": {},
   "source": [
    "#### And if you think about it, all methods are callable class attributes."
   ]
  },
  {
   "cell_type": "markdown",
   "id": "ad364dda-40e9-4de1-bf43-e3b340f4d953",
   "metadata": {},
   "source": [
    "#### but something's different..."
   ]
  },
  {
   "cell_type": "code",
   "execution_count": 63,
   "id": "2bd598f6-901f-426e-8316-08547695f0a1",
   "metadata": {},
   "outputs": [
    {
     "data": {
      "text/html": [
       "<pre style=\"white-space:pre;overflow-x:auto;line-height:normal;font-family:Menlo,'DejaVu Sans Mono',consolas,'Courier New',monospace\"><span style=\"font-weight: bold\">&lt;</span><span style=\"color: #ff00ff; text-decoration-color: #ff00ff; font-weight: bold\">bound</span><span style=\"color: #000000; text-decoration-color: #000000\"> method Team.start_daily of &lt;__main__.Team object at </span><span style=\"color: #008080; text-decoration-color: #008080; font-weight: bold\">0x106e2e0b0</span><span style=\"font-weight: bold\">&gt;</span>&gt;\n",
       "</pre>\n"
      ],
      "text/plain": [
       "\u001b[1m<\u001b[0m\u001b[1;95mbound\u001b[0m\u001b[39m method Team.start_daily of <__main__.Team object at \u001b[0m\u001b[1;36m0x106e2e0b0\u001b[0m\u001b[1m>\u001b[0m>\n"
      ]
     },
     "metadata": {},
     "output_type": "display_data"
    }
   ],
   "source": [
    "bob.start_daily"
   ]
  },
  {
   "cell_type": "code",
   "execution_count": 64,
   "id": "88917304-72b2-4a05-853a-15e156ee78a7",
   "metadata": {},
   "outputs": [
    {
     "data": {
      "text/html": [
       "<pre style=\"white-space:pre;overflow-x:auto;line-height:normal;font-family:Menlo,'DejaVu Sans Mono',consolas,'Courier New',monospace\"><span style=\"font-weight: bold\">&lt;</span><span style=\"color: #ff00ff; text-decoration-color: #ff00ff; font-weight: bold\">function</span><span style=\"color: #000000; text-decoration-color: #000000\"> Team.start_daily at </span><span style=\"color: #008080; text-decoration-color: #008080; font-weight: bold\">0x106f67b50</span><span style=\"font-weight: bold\">&gt;</span>\n",
       "</pre>\n"
      ],
      "text/plain": [
       "\u001b[1m<\u001b[0m\u001b[1;95mfunction\u001b[0m\u001b[39m Team.start_daily at \u001b[0m\u001b[1;36m0x106f67b50\u001b[0m\u001b[1m>\u001b[0m\n"
      ]
     },
     "metadata": {},
     "output_type": "display_data"
    }
   ],
   "source": [
    "Team.start_daily"
   ]
  },
  {
   "cell_type": "code",
   "execution_count": 65,
   "id": "6604179e-7f1b-401b-a16b-35aef6e4138d",
   "metadata": {},
   "outputs": [],
   "source": [
    "def start_daily(self):\n",
    "    print('Starting daily. self =', self)"
   ]
  },
  {
   "cell_type": "code",
   "execution_count": 66,
   "id": "1ddbda2e-55bc-4b7c-bbff-f671c6fa013a",
   "metadata": {},
   "outputs": [],
   "source": [
    "bob.start_daily = start_daily"
   ]
  },
  {
   "cell_type": "code",
   "execution_count": 67,
   "id": "a4e28cd9-36dd-4187-9d2e-8cc506b119d3",
   "metadata": {},
   "outputs": [
    {
     "data": {
      "text/html": [
       "<pre style=\"white-space:pre;overflow-x:auto;line-height:normal;font-family:Menlo,'DejaVu Sans Mono',consolas,'Courier New',monospace\"><span style=\"font-weight: bold\">&lt;</span><span style=\"color: #ff00ff; text-decoration-color: #ff00ff; font-weight: bold\">function</span><span style=\"color: #000000; text-decoration-color: #000000\"> start_daily at </span><span style=\"color: #008080; text-decoration-color: #008080; font-weight: bold\">0x106f67c70</span><span style=\"font-weight: bold\">&gt;</span>\n",
       "</pre>\n"
      ],
      "text/plain": [
       "\u001b[1m<\u001b[0m\u001b[1;95mfunction\u001b[0m\u001b[39m start_daily at \u001b[0m\u001b[1;36m0x106f67c70\u001b[0m\u001b[1m>\u001b[0m\n"
      ]
     },
     "metadata": {},
     "output_type": "display_data"
    }
   ],
   "source": [
    "bob.start_daily"
   ]
  },
  {
   "cell_type": "code",
   "execution_count": 68,
   "id": "5a17917b-7d18-4825-8554-ac6994090c71",
   "metadata": {},
   "outputs": [
    {
     "data": {
      "text/html": [
       "<pre style=\"white-space:pre;overflow-x:auto;line-height:normal;font-family:Menlo,'DejaVu Sans Mono',consolas,'Courier New',monospace\"><span style=\"color: #800000; text-decoration-color: #800000\">╭─────────────────────────────── </span><span style=\"color: #800000; text-decoration-color: #800000; font-weight: bold\">Traceback </span><span style=\"color: #bf7f7f; text-decoration-color: #bf7f7f; font-weight: bold\">(most recent call last)</span><span style=\"color: #800000; text-decoration-color: #800000\"> ────────────────────────────────╮</span>\n",
       "<span style=\"color: #800000; text-decoration-color: #800000\">│</span> <span style=\"color: #bfbf7f; text-decoration-color: #bfbf7f\">/var/folders/6d/v_8150015qz_fxg7lkd8qgxw0000gn/T/ipykernel_9128/</span><span style=\"color: #808000; text-decoration-color: #808000; font-weight: bold\">3256325177.py</span>:<span style=\"color: #0000ff; text-decoration-color: #0000ff\">1</span> in <span style=\"color: #00ff00; text-decoration-color: #00ff00\">&lt;module&gt;</span>      <span style=\"color: #800000; text-decoration-color: #800000\">│</span>\n",
       "<span style=\"color: #800000; text-decoration-color: #800000\">│</span>                                                                                                  <span style=\"color: #800000; text-decoration-color: #800000\">│</span>\n",
       "<span style=\"color: #800000; text-decoration-color: #800000\">│</span> <span style=\"color: #800000; text-decoration-color: #800000; font-style: italic\">[Errno 2] No such file or directory: </span>                                                            <span style=\"color: #800000; text-decoration-color: #800000\">│</span>\n",
       "<span style=\"color: #800000; text-decoration-color: #800000\">│</span> <span style=\"color: #800000; text-decoration-color: #800000; font-style: italic\">'/var/folders/6d/v_8150015qz_fxg7lkd8qgxw0000gn/T/ipykernel_9128/3256325177.py'</span>                  <span style=\"color: #800000; text-decoration-color: #800000\">│</span>\n",
       "<span style=\"color: #800000; text-decoration-color: #800000\">╰──────────────────────────────────────────────────────────────────────────────────────────────────╯</span>\n",
       "<span style=\"color: #ff0000; text-decoration-color: #ff0000; font-weight: bold\">TypeError: </span><span style=\"color: #800080; text-decoration-color: #800080; font-weight: bold\">start_daily</span><span style=\"font-weight: bold\">()</span> missing <span style=\"color: #008080; text-decoration-color: #008080; font-weight: bold\">1</span> required positional argument: <span style=\"color: #008000; text-decoration-color: #008000\">'self'</span>\n",
       "</pre>\n"
      ],
      "text/plain": [
       "\u001b[31m╭─\u001b[0m\u001b[31m──────────────────────────────\u001b[0m\u001b[31m \u001b[0m\u001b[1;31mTraceback \u001b[0m\u001b[1;2;31m(most recent call last)\u001b[0m\u001b[31m \u001b[0m\u001b[31m───────────────────────────────\u001b[0m\u001b[31m─╮\u001b[0m\n",
       "\u001b[31m│\u001b[0m \u001b[2;33m/var/folders/6d/v_8150015qz_fxg7lkd8qgxw0000gn/T/ipykernel_9128/\u001b[0m\u001b[1;33m3256325177.py\u001b[0m:\u001b[94m1\u001b[0m in \u001b[92m<module>\u001b[0m      \u001b[31m│\u001b[0m\n",
       "\u001b[31m│\u001b[0m                                                                                                  \u001b[31m│\u001b[0m\n",
       "\u001b[31m│\u001b[0m \u001b[3;31m[Errno 2] No such file or directory: \u001b[0m                                                            \u001b[31m│\u001b[0m\n",
       "\u001b[31m│\u001b[0m \u001b[3;31m'/var/folders/6d/v_8150015qz_fxg7lkd8qgxw0000gn/T/ipykernel_9128/3256325177.py'\u001b[0m                  \u001b[31m│\u001b[0m\n",
       "\u001b[31m╰──────────────────────────────────────────────────────────────────────────────────────────────────╯\u001b[0m\n",
       "\u001b[1;91mTypeError: \u001b[0m\u001b[1;35mstart_daily\u001b[0m\u001b[1m(\u001b[0m\u001b[1m)\u001b[0m missing \u001b[1;36m1\u001b[0m required positional argument: \u001b[32m'self'\u001b[0m\n"
      ]
     },
     "metadata": {},
     "output_type": "display_data"
    }
   ],
   "source": [
    "bob.start_daily()"
   ]
  },
  {
   "cell_type": "code",
   "execution_count": 69,
   "id": "8b58e60c-a208-4ab3-a72a-c9410bc9a531",
   "metadata": {},
   "outputs": [],
   "source": [
    "del bob.start_daily"
   ]
  },
  {
   "cell_type": "code",
   "execution_count": 70,
   "id": "c7dbc25a-e806-4d25-9932-76a3546f1852",
   "metadata": {},
   "outputs": [],
   "source": [
    "Team.start_daily = start_daily"
   ]
  },
  {
   "cell_type": "code",
   "execution_count": 71,
   "id": "39d00197-b7b3-4fa8-a308-e3e51a50241d",
   "metadata": {},
   "outputs": [
    {
     "data": {
      "text/html": [
       "<pre style=\"white-space:pre;overflow-x:auto;line-height:normal;font-family:Menlo,'DejaVu Sans Mono',consolas,'Courier New',monospace\"><span style=\"font-weight: bold\">&lt;</span><span style=\"color: #ff00ff; text-decoration-color: #ff00ff; font-weight: bold\">bound</span><span style=\"color: #000000; text-decoration-color: #000000\"> method start_daily of &lt;__main__.Team object at </span><span style=\"color: #008080; text-decoration-color: #008080; font-weight: bold\">0x106e2e0b0</span><span style=\"font-weight: bold\">&gt;</span>&gt;\n",
       "</pre>\n"
      ],
      "text/plain": [
       "\u001b[1m<\u001b[0m\u001b[1;95mbound\u001b[0m\u001b[39m method start_daily of <__main__.Team object at \u001b[0m\u001b[1;36m0x106e2e0b0\u001b[0m\u001b[1m>\u001b[0m>\n"
      ]
     },
     "metadata": {},
     "output_type": "display_data"
    }
   ],
   "source": [
    "bob.start_daily"
   ]
  },
  {
   "cell_type": "code",
   "execution_count": 72,
   "id": "b4c60c37-36c7-4d91-9fda-0253ab32e467",
   "metadata": {},
   "outputs": [
    {
     "name": "stdout",
     "output_type": "stream",
     "text": [
      "Starting daily. self = <__main__.Team object at 0x106e2e0b0>\n"
     ]
    }
   ],
   "source": [
    "bob.start_daily()"
   ]
  },
  {
   "cell_type": "markdown",
   "id": "91f61e90-c269-4318-b525-3a8e3939652b",
   "metadata": {
    "tags": []
   },
   "source": [
    "## Descriptors: `self` is just a dependency injection of the instance"
   ]
  },
  {
   "cell_type": "markdown",
   "id": "f7b3228d-ff8e-47cb-933f-d54cb0c142a4",
   "metadata": {},
   "source": [
    "#### You all know a specific descriptor: `property`"
   ]
  },
  {
   "cell_type": "markdown",
   "id": "82131197-5238-4142-98a9-15b5075c033c",
   "metadata": {
    "jp-MarkdownHeadingCollapsed": true,
    "tags": []
   },
   "source": [
    "#### Descriptors are the only kind of object that behaves differently in a context of a class"
   ]
  },
  {
   "cell_type": "markdown",
   "id": "d72aa1ac-9bc9-4bf3-afda-7926bd1df7d5",
   "metadata": {},
   "source": [
    "#### In this case, its `__get__`, `__set__` and `__delete__` are called"
   ]
  },
  {
   "cell_type": "code",
   "execution_count": 73,
   "id": "dcd98191-12c0-4704-811e-ce28672965b5",
   "metadata": {},
   "outputs": [],
   "source": [
    "class Field:\n",
    "    def __get__(self, instance, cls):\n",
    "        print(f'{instance=}, {cls=}')\n",
    "        return 42"
   ]
  },
  {
   "cell_type": "code",
   "execution_count": 74,
   "id": "35ee802c-70b3-4ba4-955c-180f5d522174",
   "metadata": {},
   "outputs": [
    {
     "name": "stdout",
     "output_type": "stream",
     "text": [
      "instance=<__main__.Foo object at 0x107134520>, cls=<class '__main__.Foo'>\n"
     ]
    },
    {
     "data": {
      "text/html": [
       "<pre style=\"white-space:pre;overflow-x:auto;line-height:normal;font-family:Menlo,'DejaVu Sans Mono',consolas,'Courier New',monospace\"><span style=\"color: #008080; text-decoration-color: #008080; font-weight: bold\">42</span>\n",
       "</pre>\n"
      ],
      "text/plain": [
       "\u001b[1;36m42\u001b[0m\n"
      ]
     },
     "metadata": {},
     "output_type": "display_data"
    }
   ],
   "source": [
    "class Foo:\n",
    "    field = Field()\n",
    "\n",
    "foo_instance = Foo()\n",
    "foo_instance.field"
   ]
  },
  {
   "cell_type": "code",
   "execution_count": 75,
   "id": "01972b5f-392b-430c-8231-d598aec2dd37",
   "metadata": {},
   "outputs": [
    {
     "name": "stdout",
     "output_type": "stream",
     "text": [
      "instance=<__main__.Bar object at 0x107134760>, cls=<class '__main__.Bar'>\n"
     ]
    },
    {
     "data": {
      "text/html": [
       "<pre style=\"white-space:pre;overflow-x:auto;line-height:normal;font-family:Menlo,'DejaVu Sans Mono',consolas,'Courier New',monospace\"><span style=\"color: #008080; text-decoration-color: #008080; font-weight: bold\">42</span>\n",
       "</pre>\n"
      ],
      "text/plain": [
       "\u001b[1;36m42\u001b[0m\n"
      ]
     },
     "metadata": {},
     "output_type": "display_data"
    }
   ],
   "source": [
    "class Bar:\n",
    "    field = Field()\n",
    "\n",
    "bar_instance = Bar()\n",
    "bar_instance.field"
   ]
  },
  {
   "cell_type": "code",
   "execution_count": null,
   "id": "a333d21e-3364-4369-a395-483092af92d0",
   "metadata": {},
   "outputs": [],
   "source": [
    "class Field:\n",
    "    def __get__(self, instance, cls):\n",
    "        print(f'{instance=}, {cls=}')\n",
    "        return 42\n",
    "\n",
    "    def __set__(self, instance, value):\n",
    "        print(f\"Setting {instance}'s field to {value!r}\")\n",
    "\n",
    "    def __delete__(self, instance):\n",
    "        print(f\"Deleting {instance}'s field\")\n",
    "        \n",
    "class Foo:\n",
    "    field = Field()\n",
    "    \n",
    "foo_instance = Foo()\n",
    "foo_instance.field = \"hello\"\n",
    "del foo_instance.field"
   ]
  },
  {
   "cell_type": "code",
   "execution_count": null,
   "id": "bc011f32-6280-4613-9df5-22bf5fee763b",
   "metadata": {},
   "outputs": [],
   "source": [
    "class LowestLevel:\n",
    "    def __getattribute__(self, name):\n",
    "        if name in self.__dict__:\n",
    "            return self.__dict__[name]\n",
    "        for cls in self.__class__.__mro__:\n",
    "            if name in cls.__dict__:\n",
    "                value = cls.__dict__[name]  # <-\n",
    "                if hasattr(value, '__get__'):\n",
    "                    return value.__get__(self, self.__class__)\n",
    "                return value\n",
    "        if hasattr(self, '__getattr__'):\n",
    "            return self.__getattr__(name)\n",
    "        raise AttributeError(name)"
   ]
  },
  {
   "cell_type": "markdown",
   "id": "3cb70d29-bd37-4420-8b0e-94291432d516",
   "metadata": {},
   "source": [
    "#### Similarily, `__setattr__` and `__delattr__` do the same shtick:"
   ]
  },
  {
   "cell_type": "raw",
   "id": "6db0b407-9e63-4611-943b-11a46892dd5a",
   "metadata": {},
   "source": [
    "def __setattr__(name, value):\n",
    "    for cls in mro:\n",
    "        if cls has name:\n",
    "            if cls.name has __set__:\n",
    "                cls.name.__set__(value)\n",
    "            else:\n",
    "                cls.name = value\n",
    "            return\n",
    "    raise AttributeError(name)"
   ]
  },
  {
   "cell_type": "markdown",
   "id": "ae39f172-5b68-4614-9474-10a0d4810ad6",
   "metadata": {
    "tags": []
   },
   "source": [
    "### Functions are actually descriptors out of the box!"
   ]
  },
  {
   "cell_type": "code",
   "execution_count": 76,
   "id": "1c54c39a-6c48-46ab-bc23-4129b383f389",
   "metadata": {},
   "outputs": [
    {
     "data": {
      "text/html": [
       "<pre style=\"white-space:pre;overflow-x:auto;line-height:normal;font-family:Menlo,'DejaVu Sans Mono',consolas,'Courier New',monospace\"><span style=\"color: #00ff00; text-decoration-color: #00ff00; font-style: italic\">True</span>\n",
       "</pre>\n"
      ],
      "text/plain": [
       "\u001b[3;92mTrue\u001b[0m\n"
      ]
     },
     "metadata": {},
     "output_type": "display_data"
    }
   ],
   "source": [
    "def f(self):\n",
    "    print(self)\n",
    "hasattr(f, '__get__')"
   ]
  },
  {
   "cell_type": "markdown",
   "id": "e95bd248-c182-42ad-93fa-b13a566838b6",
   "metadata": {},
   "source": [
    "##### Back to `def start_daily(self)` example"
   ]
  },
  {
   "cell_type": "code",
   "execution_count": 77,
   "id": "f4314060-fc15-4b03-a1eb-b2b647515c49",
   "metadata": {},
   "outputs": [
    {
     "data": {
      "text/html": [
       "<pre style=\"white-space:pre;overflow-x:auto;line-height:normal;font-family:Menlo,'DejaVu Sans Mono',consolas,'Courier New',monospace\"><span style=\"font-weight: bold\">&lt;</span><span style=\"color: #ff00ff; text-decoration-color: #ff00ff; font-weight: bold\">bound</span><span style=\"color: #000000; text-decoration-color: #000000\"> method start_daily of &lt;__main__.Team object at </span><span style=\"color: #008080; text-decoration-color: #008080; font-weight: bold\">0x106e2e0b0</span><span style=\"font-weight: bold\">&gt;</span>&gt;\n",
       "</pre>\n"
      ],
      "text/plain": [
       "\u001b[1m<\u001b[0m\u001b[1;95mbound\u001b[0m\u001b[39m method start_daily of <__main__.Team object at \u001b[0m\u001b[1;36m0x106e2e0b0\u001b[0m\u001b[1m>\u001b[0m>\n"
      ]
     },
     "metadata": {},
     "output_type": "display_data"
    }
   ],
   "source": [
    "bob.start_daily"
   ]
  },
  {
   "cell_type": "code",
   "execution_count": 78,
   "id": "2ade867c-00a0-43d3-a620-a5e1e0b63a8d",
   "metadata": {},
   "outputs": [
    {
     "data": {
      "text/html": [
       "<pre style=\"white-space:pre;overflow-x:auto;line-height:normal;font-family:Menlo,'DejaVu Sans Mono',consolas,'Courier New',monospace\"><span style=\"font-weight: bold\">&lt;</span><span style=\"color: #ff00ff; text-decoration-color: #ff00ff; font-weight: bold\">function</span><span style=\"color: #000000; text-decoration-color: #000000\"> start_daily at </span><span style=\"color: #008080; text-decoration-color: #008080; font-weight: bold\">0x106f67c70</span><span style=\"font-weight: bold\">&gt;</span>\n",
       "</pre>\n"
      ],
      "text/plain": [
       "\u001b[1m<\u001b[0m\u001b[1;95mfunction\u001b[0m\u001b[39m start_daily at \u001b[0m\u001b[1;36m0x106f67c70\u001b[0m\u001b[1m>\u001b[0m\n"
      ]
     },
     "metadata": {},
     "output_type": "display_data"
    }
   ],
   "source": [
    "Team.start_daily"
   ]
  },
  {
   "cell_type": "code",
   "execution_count": 79,
   "id": "7f9701e5-1a98-4e0e-b4f2-7b5f8effce79",
   "metadata": {},
   "outputs": [],
   "source": [
    "def start_daily(self):\n",
    "    print('Starting daily. self =', self)"
   ]
  },
  {
   "cell_type": "code",
   "execution_count": 80,
   "id": "e4985ba9-b4fc-438d-b3ee-ec40b79d9f73",
   "metadata": {},
   "outputs": [],
   "source": [
    "bob.start_daily = start_daily"
   ]
  },
  {
   "cell_type": "code",
   "execution_count": 81,
   "id": "e5f521cb-b157-4a12-a401-b3dfdcdded1a",
   "metadata": {},
   "outputs": [
    {
     "data": {
      "text/html": [
       "<pre style=\"white-space:pre;overflow-x:auto;line-height:normal;font-family:Menlo,'DejaVu Sans Mono',consolas,'Courier New',monospace\"><span style=\"font-weight: bold\">&lt;</span><span style=\"color: #ff00ff; text-decoration-color: #ff00ff; font-weight: bold\">function</span><span style=\"color: #000000; text-decoration-color: #000000\"> start_daily at </span><span style=\"color: #008080; text-decoration-color: #008080; font-weight: bold\">0x106f66ef0</span><span style=\"font-weight: bold\">&gt;</span>\n",
       "</pre>\n"
      ],
      "text/plain": [
       "\u001b[1m<\u001b[0m\u001b[1;95mfunction\u001b[0m\u001b[39m start_daily at \u001b[0m\u001b[1;36m0x106f66ef0\u001b[0m\u001b[1m>\u001b[0m\n"
      ]
     },
     "metadata": {},
     "output_type": "display_data"
    }
   ],
   "source": [
    "bob.start_daily"
   ]
  },
  {
   "cell_type": "code",
   "execution_count": 82,
   "id": "32b080cd-174c-495d-bc87-b6c004dcbccb",
   "metadata": {},
   "outputs": [
    {
     "data": {
      "text/html": [
       "<pre style=\"white-space:pre;overflow-x:auto;line-height:normal;font-family:Menlo,'DejaVu Sans Mono',consolas,'Courier New',monospace\"><span style=\"color: #800000; text-decoration-color: #800000\">╭─────────────────────────────── </span><span style=\"color: #800000; text-decoration-color: #800000; font-weight: bold\">Traceback </span><span style=\"color: #bf7f7f; text-decoration-color: #bf7f7f; font-weight: bold\">(most recent call last)</span><span style=\"color: #800000; text-decoration-color: #800000\"> ────────────────────────────────╮</span>\n",
       "<span style=\"color: #800000; text-decoration-color: #800000\">│</span> <span style=\"color: #bfbf7f; text-decoration-color: #bfbf7f\">/var/folders/6d/v_8150015qz_fxg7lkd8qgxw0000gn/T/ipykernel_9128/</span><span style=\"color: #808000; text-decoration-color: #808000; font-weight: bold\">3256325177.py</span>:<span style=\"color: #0000ff; text-decoration-color: #0000ff\">1</span> in <span style=\"color: #00ff00; text-decoration-color: #00ff00\">&lt;module&gt;</span>      <span style=\"color: #800000; text-decoration-color: #800000\">│</span>\n",
       "<span style=\"color: #800000; text-decoration-color: #800000\">│</span>                                                                                                  <span style=\"color: #800000; text-decoration-color: #800000\">│</span>\n",
       "<span style=\"color: #800000; text-decoration-color: #800000\">│</span> <span style=\"color: #800000; text-decoration-color: #800000; font-style: italic\">[Errno 2] No such file or directory: </span>                                                            <span style=\"color: #800000; text-decoration-color: #800000\">│</span>\n",
       "<span style=\"color: #800000; text-decoration-color: #800000\">│</span> <span style=\"color: #800000; text-decoration-color: #800000; font-style: italic\">'/var/folders/6d/v_8150015qz_fxg7lkd8qgxw0000gn/T/ipykernel_9128/3256325177.py'</span>                  <span style=\"color: #800000; text-decoration-color: #800000\">│</span>\n",
       "<span style=\"color: #800000; text-decoration-color: #800000\">╰──────────────────────────────────────────────────────────────────────────────────────────────────╯</span>\n",
       "<span style=\"color: #ff0000; text-decoration-color: #ff0000; font-weight: bold\">TypeError: </span><span style=\"color: #800080; text-decoration-color: #800080; font-weight: bold\">start_daily</span><span style=\"font-weight: bold\">()</span> missing <span style=\"color: #008080; text-decoration-color: #008080; font-weight: bold\">1</span> required positional argument: <span style=\"color: #008000; text-decoration-color: #008000\">'self'</span>\n",
       "</pre>\n"
      ],
      "text/plain": [
       "\u001b[31m╭─\u001b[0m\u001b[31m──────────────────────────────\u001b[0m\u001b[31m \u001b[0m\u001b[1;31mTraceback \u001b[0m\u001b[1;2;31m(most recent call last)\u001b[0m\u001b[31m \u001b[0m\u001b[31m───────────────────────────────\u001b[0m\u001b[31m─╮\u001b[0m\n",
       "\u001b[31m│\u001b[0m \u001b[2;33m/var/folders/6d/v_8150015qz_fxg7lkd8qgxw0000gn/T/ipykernel_9128/\u001b[0m\u001b[1;33m3256325177.py\u001b[0m:\u001b[94m1\u001b[0m in \u001b[92m<module>\u001b[0m      \u001b[31m│\u001b[0m\n",
       "\u001b[31m│\u001b[0m                                                                                                  \u001b[31m│\u001b[0m\n",
       "\u001b[31m│\u001b[0m \u001b[3;31m[Errno 2] No such file or directory: \u001b[0m                                                            \u001b[31m│\u001b[0m\n",
       "\u001b[31m│\u001b[0m \u001b[3;31m'/var/folders/6d/v_8150015qz_fxg7lkd8qgxw0000gn/T/ipykernel_9128/3256325177.py'\u001b[0m                  \u001b[31m│\u001b[0m\n",
       "\u001b[31m╰──────────────────────────────────────────────────────────────────────────────────────────────────╯\u001b[0m\n",
       "\u001b[1;91mTypeError: \u001b[0m\u001b[1;35mstart_daily\u001b[0m\u001b[1m(\u001b[0m\u001b[1m)\u001b[0m missing \u001b[1;36m1\u001b[0m required positional argument: \u001b[32m'self'\u001b[0m\n"
      ]
     },
     "metadata": {},
     "output_type": "display_data"
    }
   ],
   "source": [
    "bob.start_daily()"
   ]
  },
  {
   "cell_type": "code",
   "execution_count": 84,
   "id": "f7605413-3336-4b3c-931a-2169b264a82f",
   "metadata": {},
   "outputs": [
    {
     "data": {
      "text/html": [
       "<pre style=\"white-space:pre;overflow-x:auto;line-height:normal;font-family:Menlo,'DejaVu Sans Mono',consolas,'Courier New',monospace\"><span style=\"color: #800000; text-decoration-color: #800000\">╭─────────────────────────────── </span><span style=\"color: #800000; text-decoration-color: #800000; font-weight: bold\">Traceback </span><span style=\"color: #bf7f7f; text-decoration-color: #bf7f7f; font-weight: bold\">(most recent call last)</span><span style=\"color: #800000; text-decoration-color: #800000\"> ────────────────────────────────╮</span>\n",
       "<span style=\"color: #800000; text-decoration-color: #800000\">│</span> <span style=\"color: #bfbf7f; text-decoration-color: #bfbf7f\">/var/folders/6d/v_8150015qz_fxg7lkd8qgxw0000gn/T/ipykernel_9128/</span><span style=\"color: #808000; text-decoration-color: #808000; font-weight: bold\">4165801347.py</span>:<span style=\"color: #0000ff; text-decoration-color: #0000ff\">1</span> in <span style=\"color: #00ff00; text-decoration-color: #00ff00\">&lt;module&gt;</span>      <span style=\"color: #800000; text-decoration-color: #800000\">│</span>\n",
       "<span style=\"color: #800000; text-decoration-color: #800000\">│</span>                                                                                                  <span style=\"color: #800000; text-decoration-color: #800000\">│</span>\n",
       "<span style=\"color: #800000; text-decoration-color: #800000\">│</span> <span style=\"color: #800000; text-decoration-color: #800000; font-style: italic\">[Errno 2] No such file or directory: </span>                                                            <span style=\"color: #800000; text-decoration-color: #800000\">│</span>\n",
       "<span style=\"color: #800000; text-decoration-color: #800000\">│</span> <span style=\"color: #800000; text-decoration-color: #800000; font-style: italic\">'/var/folders/6d/v_8150015qz_fxg7lkd8qgxw0000gn/T/ipykernel_9128/4165801347.py'</span>                  <span style=\"color: #800000; text-decoration-color: #800000\">│</span>\n",
       "<span style=\"color: #800000; text-decoration-color: #800000\">╰──────────────────────────────────────────────────────────────────────────────────────────────────╯</span>\n",
       "<span style=\"color: #ff0000; text-decoration-color: #ff0000; font-weight: bold\">AttributeError: </span>start_daily\n",
       "</pre>\n"
      ],
      "text/plain": [
       "\u001b[31m╭─\u001b[0m\u001b[31m──────────────────────────────\u001b[0m\u001b[31m \u001b[0m\u001b[1;31mTraceback \u001b[0m\u001b[1;2;31m(most recent call last)\u001b[0m\u001b[31m \u001b[0m\u001b[31m───────────────────────────────\u001b[0m\u001b[31m─╮\u001b[0m\n",
       "\u001b[31m│\u001b[0m \u001b[2;33m/var/folders/6d/v_8150015qz_fxg7lkd8qgxw0000gn/T/ipykernel_9128/\u001b[0m\u001b[1;33m4165801347.py\u001b[0m:\u001b[94m1\u001b[0m in \u001b[92m<module>\u001b[0m      \u001b[31m│\u001b[0m\n",
       "\u001b[31m│\u001b[0m                                                                                                  \u001b[31m│\u001b[0m\n",
       "\u001b[31m│\u001b[0m \u001b[3;31m[Errno 2] No such file or directory: \u001b[0m                                                            \u001b[31m│\u001b[0m\n",
       "\u001b[31m│\u001b[0m \u001b[3;31m'/var/folders/6d/v_8150015qz_fxg7lkd8qgxw0000gn/T/ipykernel_9128/4165801347.py'\u001b[0m                  \u001b[31m│\u001b[0m\n",
       "\u001b[31m╰──────────────────────────────────────────────────────────────────────────────────────────────────╯\u001b[0m\n",
       "\u001b[1;91mAttributeError: \u001b[0mstart_daily\n"
      ]
     },
     "metadata": {},
     "output_type": "display_data"
    }
   ],
   "source": [
    "del bob.start_daily"
   ]
  },
  {
   "cell_type": "code",
   "execution_count": 85,
   "id": "4bed3db1-1502-4e28-98dc-3a935cffaee0",
   "metadata": {},
   "outputs": [],
   "source": [
    "bob.start_daily = start_daily.__get__(bob, Team)"
   ]
  },
  {
   "cell_type": "code",
   "execution_count": 86,
   "id": "40ff5e99-8fca-4734-a98a-c85d3492ee8f",
   "metadata": {},
   "outputs": [
    {
     "name": "stdout",
     "output_type": "stream",
     "text": [
      "Starting daily. self = <__main__.Team object at 0x106e2e0b0>\n"
     ]
    }
   ],
   "source": [
    "bob.start_daily()"
   ]
  },
  {
   "cell_type": "markdown",
   "id": "77a38b58-3711-4902-a23c-6c345fb6e86b",
   "metadata": {},
   "source": [
    "### Implementing instance methods"
   ]
  },
  {
   "cell_type": "code",
   "execution_count": null,
   "id": "2b883152-2346-4181-83f3-3b6c9118c01f",
   "metadata": {},
   "outputs": [],
   "source": [
    "class Method:\n",
    "    def __init__(self, function):\n",
    "        self.function = function\n",
    "    \n",
    "    def __get__(self, instance, cls):\n",
    "        if instance is None:\n",
    "            return self.function\n",
    "        return BoundMethod(instance, self.function)"
   ]
  },
  {
   "cell_type": "code",
   "execution_count": null,
   "id": "48ce444f-3788-4da8-ad04-0a1785f73a07",
   "metadata": {},
   "outputs": [],
   "source": [
    "class BoundMethod:\n",
    "    def __init__(self, instance, function):\n",
    "        self.instance = instance\n",
    "        self.function = function\n",
    "    \n",
    "    def __call__(self, *args, **kwargs):\n",
    "        return self.function(self.instance, *args, **kwargs)"
   ]
  },
  {
   "cell_type": "code",
   "execution_count": null,
   "id": "98b19ccf-f150-41a0-b246-f6179e8212e0",
   "metadata": {},
   "outputs": [],
   "source": [
    "class A:\n",
    "    @Method\n",
    "    def method(self):\n",
    "        print(self)"
   ]
  },
  {
   "cell_type": "code",
   "execution_count": null,
   "id": "df3765bf-c9f7-4c48-b859-0c6e5d24fb97",
   "metadata": {},
   "outputs": [],
   "source": [
    "A.method"
   ]
  },
  {
   "cell_type": "code",
   "execution_count": null,
   "id": "54c7a3b3-0224-4971-acf3-82d64ef582d5",
   "metadata": {},
   "outputs": [],
   "source": [
    "a = A()\n",
    "a.method"
   ]
  },
  {
   "cell_type": "code",
   "execution_count": null,
   "id": "d54509ea-5f73-4f35-8416-b08008874366",
   "metadata": {},
   "outputs": [],
   "source": [
    "a.method()"
   ]
  },
  {
   "cell_type": "markdown",
   "id": "d73e0f3c-801f-465c-8be5-907e22fd94f4",
   "metadata": {},
   "source": [
    "### Implementing `@property`"
   ]
  },
  {
   "cell_type": "code",
   "execution_count": 89,
   "id": "0d7b9db3-17c3-4d2b-8aa1-7d008977cd0d",
   "metadata": {},
   "outputs": [],
   "source": [
    "class A:\n",
    "    @property\n",
    "    def foo(self):\n",
    "        return 42"
   ]
  },
  {
   "cell_type": "code",
   "execution_count": null,
   "id": "6d2394ab-09e2-4312-92ab-6cd9b8c5d11b",
   "metadata": {},
   "outputs": [],
   "source": [
    "class Teammate:\n",
    "    @Property\n",
    "    def name(self):\n",
    "        print(f\"{self}'s name is Stas\")\n",
    "        return \"Stas\""
   ]
  },
  {
   "cell_type": "code",
   "execution_count": null,
   "id": "67cd7860-d3b5-4787-b6e4-fef03ee7e489",
   "metadata": {},
   "outputs": [],
   "source": [
    "class Property:\n",
    "    def __init__(self, function):\n",
    "        self.function = function\n",
    "        \n",
    "    def __get__(self, instance, cls):\n",
    "        if instance is None:\n",
    "            return self\n",
    "        return self.function(instance)"
   ]
  },
  {
   "cell_type": "code",
   "execution_count": null,
   "id": "ffdf7bc6-1282-492e-bb0a-390cc06219c9",
   "metadata": {},
   "outputs": [],
   "source": [
    "Teammate().name"
   ]
  },
  {
   "cell_type": "markdown",
   "id": "c29c8bbc-422c-42dc-ab76-631f2554f153",
   "metadata": {},
   "source": [
    "### `@classmethod` is similar"
   ]
  },
  {
   "cell_type": "code",
   "execution_count": null,
   "id": "e5634e2a-14db-4a51-bee5-98038ed76353",
   "metadata": {},
   "outputs": [],
   "source": [
    "class ClassMethod:\n",
    "    def __init__(self, function):\n",
    "        self.function = function\n",
    "    \n",
    "    def __get__(self, instance, cls):\n",
    "        if instance is None:\n",
    "            return self.function\n",
    "        # return BoundMethod(instance, self.function)\n",
    "        return BoundClassMethod(cls, self.function)"
   ]
  },
  {
   "cell_type": "markdown",
   "id": "d5cd5660-2a19-4670-bb5b-a19144dd36ff",
   "metadata": {
    "tags": []
   },
   "source": [
    "### Which brings us to `@staticmethod`..."
   ]
  },
  {
   "cell_type": "code",
   "execution_count": 91,
   "id": "dbbf2611-6a59-4556-989a-d0afe1d2b1ac",
   "metadata": {},
   "outputs": [
    {
     "data": {
      "text/html": [
       "<pre style=\"white-space:pre;overflow-x:auto;line-height:normal;font-family:Menlo,'DejaVu Sans Mono',consolas,'Courier New',monospace\"><span style=\"color: #800000; text-decoration-color: #800000\">╭─────────────────────────────── </span><span style=\"color: #800000; text-decoration-color: #800000; font-weight: bold\">Traceback </span><span style=\"color: #bf7f7f; text-decoration-color: #bf7f7f; font-weight: bold\">(most recent call last)</span><span style=\"color: #800000; text-decoration-color: #800000\"> ────────────────────────────────╮</span>\n",
       "<span style=\"color: #800000; text-decoration-color: #800000\">│</span> <span style=\"color: #bfbf7f; text-decoration-color: #bfbf7f\">/var/folders/6d/v_8150015qz_fxg7lkd8qgxw0000gn/T/ipykernel_9128/</span><span style=\"color: #808000; text-decoration-color: #808000; font-weight: bold\">3571279094.py</span>:<span style=\"color: #0000ff; text-decoration-color: #0000ff\">1</span> in <span style=\"color: #00ff00; text-decoration-color: #00ff00\">&lt;module&gt;</span>      <span style=\"color: #800000; text-decoration-color: #800000\">│</span>\n",
       "<span style=\"color: #800000; text-decoration-color: #800000\">│</span>                                                                                                  <span style=\"color: #800000; text-decoration-color: #800000\">│</span>\n",
       "<span style=\"color: #800000; text-decoration-color: #800000\">│</span> <span style=\"color: #800000; text-decoration-color: #800000; font-style: italic\">[Errno 2] No such file or directory: </span>                                                            <span style=\"color: #800000; text-decoration-color: #800000\">│</span>\n",
       "<span style=\"color: #800000; text-decoration-color: #800000\">│</span> <span style=\"color: #800000; text-decoration-color: #800000; font-style: italic\">'/var/folders/6d/v_8150015qz_fxg7lkd8qgxw0000gn/T/ipykernel_9128/3571279094.py'</span>                  <span style=\"color: #800000; text-decoration-color: #800000\">│</span>\n",
       "<span style=\"color: #800000; text-decoration-color: #800000\">│</span>                                                                                                  <span style=\"color: #800000; text-decoration-color: #800000\">│</span>\n",
       "<span style=\"color: #800000; text-decoration-color: #800000\">│</span> <span style=\"color: #bfbf7f; text-decoration-color: #bfbf7f\">/var/folders/6d/v_8150015qz_fxg7lkd8qgxw0000gn/T/ipykernel_9128/</span><span style=\"color: #808000; text-decoration-color: #808000; font-weight: bold\">3571279094.py</span>:<span style=\"color: #0000ff; text-decoration-color: #0000ff\">2</span> in <span style=\"color: #00ff00; text-decoration-color: #00ff00\">DateUtils</span>     <span style=\"color: #800000; text-decoration-color: #800000\">│</span>\n",
       "<span style=\"color: #800000; text-decoration-color: #800000\">│</span>                                                                                                  <span style=\"color: #800000; text-decoration-color: #800000\">│</span>\n",
       "<span style=\"color: #800000; text-decoration-color: #800000\">│</span> <span style=\"color: #800000; text-decoration-color: #800000; font-style: italic\">[Errno 2] No such file or directory: </span>                                                            <span style=\"color: #800000; text-decoration-color: #800000\">│</span>\n",
       "<span style=\"color: #800000; text-decoration-color: #800000\">│</span> <span style=\"color: #800000; text-decoration-color: #800000; font-style: italic\">'/var/folders/6d/v_8150015qz_fxg7lkd8qgxw0000gn/T/ipykernel_9128/3571279094.py'</span>                  <span style=\"color: #800000; text-decoration-color: #800000\">│</span>\n",
       "<span style=\"color: #800000; text-decoration-color: #800000\">╰──────────────────────────────────────────────────────────────────────────────────────────────────╯</span>\n",
       "<span style=\"color: #ff0000; text-decoration-color: #ff0000; font-weight: bold\">NameError: </span>name <span style=\"color: #008000; text-decoration-color: #008000\">'StaticMethod'</span> is not defined\n",
       "</pre>\n"
      ],
      "text/plain": [
       "\u001b[31m╭─\u001b[0m\u001b[31m──────────────────────────────\u001b[0m\u001b[31m \u001b[0m\u001b[1;31mTraceback \u001b[0m\u001b[1;2;31m(most recent call last)\u001b[0m\u001b[31m \u001b[0m\u001b[31m───────────────────────────────\u001b[0m\u001b[31m─╮\u001b[0m\n",
       "\u001b[31m│\u001b[0m \u001b[2;33m/var/folders/6d/v_8150015qz_fxg7lkd8qgxw0000gn/T/ipykernel_9128/\u001b[0m\u001b[1;33m3571279094.py\u001b[0m:\u001b[94m1\u001b[0m in \u001b[92m<module>\u001b[0m      \u001b[31m│\u001b[0m\n",
       "\u001b[31m│\u001b[0m                                                                                                  \u001b[31m│\u001b[0m\n",
       "\u001b[31m│\u001b[0m \u001b[3;31m[Errno 2] No such file or directory: \u001b[0m                                                            \u001b[31m│\u001b[0m\n",
       "\u001b[31m│\u001b[0m \u001b[3;31m'/var/folders/6d/v_8150015qz_fxg7lkd8qgxw0000gn/T/ipykernel_9128/3571279094.py'\u001b[0m                  \u001b[31m│\u001b[0m\n",
       "\u001b[31m│\u001b[0m                                                                                                  \u001b[31m│\u001b[0m\n",
       "\u001b[31m│\u001b[0m \u001b[2;33m/var/folders/6d/v_8150015qz_fxg7lkd8qgxw0000gn/T/ipykernel_9128/\u001b[0m\u001b[1;33m3571279094.py\u001b[0m:\u001b[94m2\u001b[0m in \u001b[92mDateUtils\u001b[0m     \u001b[31m│\u001b[0m\n",
       "\u001b[31m│\u001b[0m                                                                                                  \u001b[31m│\u001b[0m\n",
       "\u001b[31m│\u001b[0m \u001b[3;31m[Errno 2] No such file or directory: \u001b[0m                                                            \u001b[31m│\u001b[0m\n",
       "\u001b[31m│\u001b[0m \u001b[3;31m'/var/folders/6d/v_8150015qz_fxg7lkd8qgxw0000gn/T/ipykernel_9128/3571279094.py'\u001b[0m                  \u001b[31m│\u001b[0m\n",
       "\u001b[31m╰──────────────────────────────────────────────────────────────────────────────────────────────────╯\u001b[0m\n",
       "\u001b[1;91mNameError: \u001b[0mname \u001b[32m'StaticMethod'\u001b[0m is not defined\n"
      ]
     },
     "metadata": {},
     "output_type": "display_data"
    }
   ],
   "source": [
    "class DateUtils:\n",
    "    @StaticMethod\n",
    "    def calculate_date():\n",
    "        return '2022'\n",
    "\n",
    "class StaticMethod:\n",
    "    def __init__(self, function):\n",
    "        self.function = function\n",
    "    \n",
    "    def __get__(self, instance, cls):  # pylint: disable=unused-argument\n",
    "        # if instance is None:\n",
    "        #     return self.function\n",
    "        # return BoundMethod(instance, self.function)\n",
    "        # return BoundClassMethod(cls, self.function)\n",
    "        return self.function  # :["
   ]
  },
  {
   "cell_type": "markdown",
   "id": "2c974dab-086e-407d-972c-d797c3e3389a",
   "metadata": {},
   "source": [
    "# Now let's have some fun. Welcome to dunderfest! 🥳"
   ]
  },
  {
   "cell_type": "code",
   "execution_count": null,
   "id": "08380de9-b3f9-43fe-8143-01f08c7bf55e",
   "metadata": {},
   "outputs": [],
   "source": [
    "class Team:\n",
    "    members: list[Teammate] = []\n",
    "\n",
    "    def __init__(self, *team_members) -> None:\n",
    "        self.members = list(map(Teammate, team_members))\n",
    "\n",
    "    def __contains__(self, item):\n",
    "        return item in self.members\n",
    "\n",
    "    def __iter__(self):\n",
    "        return iter(self.members)\n",
    "\n",
    "    def __getitem__(self, slice):\n",
    "        return self.members[slice]\n",
    "\n",
    "    def start_daily(self):\n",
    "        print(f'Starting daily!')\n",
    "        for member in self:\n",
    "            print(member, end=' ')\n",
    "            if member:\n",
    "                member.tell_everyone_what_im_working_on()\n"
   ]
  },
  {
   "cell_type": "code",
   "execution_count": null,
   "id": "0116b084-41ce-42f7-9347-29d29dc00cbd",
   "metadata": {
    "tags": []
   },
   "outputs": [],
   "source": [
    "class Teammate:\n",
    "    name: str = StronglyTypedProperty()\n",
    "    tasks: Dictionary[str, Task]\n",
    "    tired = False\n",
    "\n",
    "    def __init__(self, name: str):\n",
    "        self.name = name\n",
    "\n",
    "    @cached_property\n",
    "    def tasks(self):\n",
    "        tasks_regular_dict = get_tasks(self.name)\n",
    "        cast_tasks = {task_name: Task(task) for task_name, task in tasks_regular_dict.items()}\n",
    "        cool_dictionary_of_tasks = Dictionary(cast_tasks)\n",
    "        return cool_dictionary_of_tasks\n",
    "    \n",
    "    def tell_everyone_what_im_working_on(self):\n",
    "        print(f\"Working on {self.tasks}\")"
   ]
  },
  {
   "cell_type": "code",
   "execution_count": null,
   "id": "e14d7f10-8d8e-4061-a1df-8915a74e81d6",
   "metadata": {},
   "outputs": [],
   "source": [
    "class Task(Dictionary, metaclass=StronglyTypedMetaClass):\n",
    "    id: str\n",
    "    status: str\n",
    "    started: str\n",
    "    story_points: int\n",
    "    priority: str\n",
    "\n",
    "    def __hash__(self):\n",
    "        return hash(self.id)\n",
    "\n",
    "    def __eq__(self, other):\n",
    "        return self.id == other.id\n",
    "\n",
    "    def __gt__(self, other):\n",
    "        return self.priority == \"critical\" and other.priority == \"high\"\n"
   ]
  },
  {
   "cell_type": "code",
   "execution_count": null,
   "id": "2c0df655-f9f5-42ce-bab2-d6be4afda5e2",
   "metadata": {},
   "outputs": [],
   "source": [
    "class StronglyTypedProperty(Generic[TInstance, TProperty]):\n",
    "    \"\"\"Yells at you if you set the wrong type\"\"\"\n",
    "    \n",
    "    def __init__(self, name: str = None, type: TProperty = None):\n",
    "        self.name = name\n",
    "        self.type = type\n",
    "\n",
    "    def __get__(self, instance: TInstance, cls: Type[TInstance]):\n",
    "        return instance.__dict__[self.name]\n",
    "\n",
    "    def __set__(self, instance: TInstance, value: TProperty):\n",
    "        if not isinstance(value, self.type):\n",
    "            raise TypeError(f\"Property '{self.name}' must be of type {self.type} (got {type(value)})\")\n",
    "        instance.__dict__[self.name] = value\n",
    "\n",
    "    def __delete__(self, instance: TInstance):\n",
    "        raise TypeError(f\"{self.name} cannot be deleted, it is strong! 💪\")\n",
    "\n",
    "    def __set_name__(self, cls: Type[TInstance], property_name: str):\n",
    "        self.name = property_name\n",
    "        self.type = cls.__annotations__[property_name]\n"
   ]
  },
  {
   "cell_type": "code",
   "execution_count": null,
   "id": "aa43221c-5a2f-468a-ae41-c472eaec88c6",
   "metadata": {},
   "outputs": [],
   "source": [
    "class Dictionary(dict):\n",
    "    \"\"\"\n",
    "    this.is.better\n",
    "    this['is']['annoying']\n",
    "    \"\"\"\n",
    "    \n",
    "    def __getattr__(self, key):\n",
    "        try:\n",
    "            return self[key]\n",
    "        except KeyError:\n",
    "            raise AttributeError(key)\n",
    "\n",
    "    def __setattr__(self, key, value):\n",
    "        self[key] = value\n",
    "\n",
    "    def __delattr__(self, key):\n",
    "        try:\n",
    "            del self[key]\n",
    "        except KeyError:\n",
    "            raise AttributeError(key)\n",
    "\n",
    "    __dict__ = property(lambda self: self)\n"
   ]
  },
  {
   "cell_type": "code",
   "execution_count": null,
   "id": "2a7a033e-a8aa-4252-877a-610ed9730ea8",
   "metadata": {},
   "outputs": [],
   "source": [
    "class StronglyTypedMetaClass(type):\n",
    "    \"\"\"Automatically makes your `field: type` a StronglyTypedProperty\"\"\"\n",
    "\n",
    "    def __init__(cls, cls_name: str, bases: tuple, namespace: dict):\n",
    "        for property_name, type_annotation in cls.__annotations__.items():\n",
    "            existing_field = getattr(cls, property_name, None)\n",
    "            if not isinstance(existing_field, StronglyTypedProperty):\n",
    "                strongly_typed_property = StronglyTypedProperty(property_name, type_annotation)\n",
    "                setattr(cls, property_name, strongly_typed_property)\n",
    "        super().__init__(cls_name, bases, namespace)\n",
    "\n"
   ]
  },
  {
   "cell_type": "code",
   "execution_count": null,
   "id": "371f5e68-7768-4e38-ac88-e533ee06d685",
   "metadata": {},
   "outputs": [],
   "source": [
    "class cached_property:\n",
    "    def __init__(self, function):\n",
    "        self.function = function\n",
    "\n",
    "    def __get__(self, instance, cls):\n",
    "        if instance is None:\n",
    "            return self\n",
    "        value = self.function(instance)\n",
    "        instance.__dict__[self.function.__name__] = value  # Removes its own reference! 🤯\n",
    "        return value\n"
   ]
  },
  {
   "cell_type": "code",
   "execution_count": null,
   "id": "e4ec8b60-f8f5-4fce-8a3e-3e73f6089662",
   "metadata": {},
   "outputs": [],
   "source": [
    "def get_tasks(url: str) -> dict:\n",
    "    return {\n",
    "        \"cache_invalidation\": {\n",
    "            \"id\":           \"000\",\n",
    "            \"status\":       \"in_review\",\n",
    "            \"started\":      \"long time ago\",\n",
    "            \"story_points\": 1,\n",
    "            \"priority\":     \"high\",\n",
    "            },\n",
    "        \"raising_ami\":        {\n",
    "            \"id\":           \"001\",\n",
    "            \"status\":       \"in_progress\",\n",
    "            \"started\":      \"10 months ago\",\n",
    "            \"story_points\": 999999,\n",
    "            \"priority\":     \"critical\",\n",
    "            },\n",
    "        }"
   ]
  },
  {
   "cell_type": "code",
   "execution_count": null,
   "id": "0fc86e4a-82d7-4011-b52d-9e43d2058220",
   "metadata": {},
   "outputs": [],
   "source": [
    "bob = Team(\"Einstein\", \"Newton\", \"Tesla\")\n",
    "bob.start_daily()"
   ]
  },
  {
   "cell_type": "markdown",
   "id": "03934f22-7212-43a9-b201-aeb60813c1ac",
   "metadata": {},
   "source": [
    "### Let's make it more readable"
   ]
  },
  {
   "cell_type": "code",
   "execution_count": null,
   "id": "b18f9652-f03a-49ef-9cee-fc680bffc14a",
   "metadata": {},
   "outputs": [],
   "source": [
    "class Teammate:\n",
    "    name: str = StronglyTypedProperty()\n",
    "    tasks: Dictionary[str, Task]\n",
    "    tired = False\n",
    "\n",
    "    def __init__(self, name: str):\n",
    "        self.name = name\n",
    "\n",
    "    @cached_property\n",
    "    def tasks(self):\n",
    "        tasks_regular_dict = get_tasks(self.name)\n",
    "        cast_tasks = {task_name: Task(task) for task_name, task in tasks_regular_dict.items()}\n",
    "        cool_dictionary_of_tasks = Dictionary(cast_tasks)\n",
    "        return cool_dictionary_of_tasks\n",
    "\n",
    "    def tell_everyone_what_im_working_on(self):\n",
    "        print(f\"Working on {self.tasks}\")\n",
    "    \n",
    "    # New:\n",
    "    def __str__(self):\n",
    "        return f\"{self.name} has {len(self.tasks)} tasks. He is {'tired' if self.tired else 'not tired'}.\"\n",
    "\n",
    "    def __repr__(self):\n",
    "        return f\"{self.__class__.__name__}('{self.name}')\""
   ]
  },
  {
   "cell_type": "code",
   "execution_count": null,
   "id": "d32f04d8-5d1b-4209-9af5-b20368e57cec",
   "metadata": {
    "slideshow": {
     "slide_type": "subslide"
    },
    "tags": []
   },
   "outputs": [],
   "source": [
    "bob.start_daily()"
   ]
  }
 ],
 "metadata": {
  "kernelspec": {
   "display_name": "python_course",
   "language": "python",
   "name": "python_course"
  },
  "language_info": {
   "codemirror_mode": {
    "name": "ipython",
    "version": 3
   },
   "file_extension": ".py",
   "mimetype": "text/x-python",
   "name": "python",
   "nbconvert_exporter": "python",
   "pygments_lexer": "ipython3",
   "version": "3.10.8"
  },
  "toc-showcode": true,
  "toc-showmarkdowntxt": true,
  "toc-showtags": false
 },
 "nbformat": 4,
 "nbformat_minor": 5
}
