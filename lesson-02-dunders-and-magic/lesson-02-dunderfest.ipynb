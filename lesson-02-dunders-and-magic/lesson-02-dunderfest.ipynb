{
 "cells": [
  {
   "cell_type": "code",
   "execution_count": 1,
   "id": "2e07f3e8-9344-43af-a184-cc626e1065be",
   "metadata": {
    "tags": []
   },
   "outputs": [],
   "source": [
    "from rich.pretty import install\n",
    "from rich import inspect\n",
    "install()\n",
    "def what(obj, *args, **kwargs):\n",
    "    return inspect(obj, *args, dunder=kwargs.pop('dunder', True), **kwargs)\n",
    "def uniquedir(obj):\n",
    "    return sorted(set(dir(obj)) - set(dir(object)) - set(dir(type)))\n",
    "def is_from_ipython(prop):\n",
    "    return (prop.startswith(\"_i\") or (len(prop) > 1 and prop[1].isdigit()) or prop in (\"In\", \"Out\", \"_\", \"__\", \"___\", \"_dh\", \"_oh\", \"get_ipython\", \"exit\", \"open\", \"quit\", \"__builtin__\",))\n",
    "from typing import TypeVar, Generic, Type\n",
    "TInstance = TypeVar(\"TInstance\")\n",
    "TProperty = TypeVar(\"TProperty\", bound=Type)\n"
   ]
  },
  {
   "cell_type": "markdown",
   "id": "a758b0cb-e8a6-4ff7-b735-d8dbac74694f",
   "metadata": {},
   "source": [
    "# Now let's have some fun. Welcome to dunderfest! 🥳"
   ]
  },
  {
   "cell_type": "code",
   "execution_count": 12,
   "id": "63dffa0b-e1c1-4877-bfcd-6dac66881ae2",
   "metadata": {},
   "outputs": [],
   "source": [
    "class Team:\n",
    "    members: list[Teammate] = []\n",
    "\n",
    "    def __init__(self, *team_members) -> None:\n",
    "        self.members = list(map(Teammate, team_members))\n",
    "\n",
    "    def __iter__(self):\n",
    "        return iter(self.members)\n",
    "\n",
    "    def start_daily(self):\n",
    "        print(f'Starting daily!')\n",
    "        for member in self:\n",
    "            print(member, end=' ')\n",
    "            member.tell_everyone_what_im_working_on()\n"
   ]
  },
  {
   "cell_type": "code",
   "execution_count": 11,
   "id": "39811864-6c9a-41c2-b587-0921e8d1581d",
   "metadata": {
    "tags": []
   },
   "outputs": [],
   "source": [
    "class Teammate:\n",
    "    name: str = StronglyTypedProperty()\n",
    "    tasks: Dictionary[str, Task]\n",
    "    tired = False\n",
    "\n",
    "    def __init__(self, name: str):\n",
    "        self.name = name\n",
    "\n",
    "    @cached_property\n",
    "    def tasks(self):\n",
    "        tasks_regular_dict = get_tasks(self.name)\n",
    "        cast_tasks = {task_name: Task(task) for task_name, task in tasks_regular_dict.items()}\n",
    "        cool_dictionary_of_tasks = Dictionary(cast_tasks)\n",
    "        return cool_dictionary_of_tasks\n",
    "    \n",
    "    def tell_everyone_what_im_working_on(self):\n",
    "        print(f\"Working on {self.tasks}\\n\")"
   ]
  },
  {
   "cell_type": "code",
   "execution_count": 10,
   "id": "47442bdb-e139-4148-8177-f770ecf51f07",
   "metadata": {},
   "outputs": [],
   "source": [
    "class Task(Dictionary, metaclass=StronglyTypedMetaClass):\n",
    "    id: str\n",
    "    status: str\n",
    "    started: str\n",
    "    story_points: int\n",
    "    priority: str\n",
    "\n",
    "    def __hash__(self):\n",
    "        return hash(self.id)\n",
    "\n",
    "    def __eq__(self, other):\n",
    "        \"\"\"Task(1) == Task(2)\"\"\"\n",
    "        return self.id == other.id\n",
    "\n",
    "    def __gt__(self, other):\n",
    "        return self.priority == \"critical\" and other.priority == \"high\"\n"
   ]
  },
  {
   "cell_type": "code",
   "execution_count": 9,
   "id": "9c39a6a7-88d0-4400-8e01-caef8870add8",
   "metadata": {},
   "outputs": [],
   "source": [
    "class StronglyTypedProperty(Generic[TInstance, TProperty]):\n",
    "    \"\"\"Yells at you if you set the wrong type\"\"\"\n",
    "    \n",
    "    def __init__(self, name: str = None, type: TProperty = None):\n",
    "        self.name = name\n",
    "        self.type = type\n",
    "\n",
    "    def __get__(self, instance: TInstance, cls: Type[TInstance]):\n",
    "        return instance.__dict__[self.name]\n",
    "\n",
    "    def __set__(self, instance: TInstance, value: TProperty):\n",
    "        if not isinstance(value, self.type):\n",
    "            raise TypeError(f\"Property '{self.name}' must be of type {self.type} (got {type(value)})\")\n",
    "        instance.__dict__[self.name] = value\n",
    "\n",
    "    def __delete__(self, instance: TInstance):\n",
    "        raise TypeError(f\"{self.name} cannot be deleted, it is strong! 💪\")\n",
    "\n",
    "    def __set_name__(self, cls: Type[TInstance], property_name: str):\n",
    "        self.name = property_name\n",
    "        self.type = cls.__annotations__[property_name]\n"
   ]
  },
  {
   "cell_type": "code",
   "execution_count": 8,
   "id": "0c051a1a-bd78-4f47-9f1c-81191c8d121d",
   "metadata": {},
   "outputs": [],
   "source": [
    "class Dictionary(dict):\n",
    "    \"\"\"\n",
    "    this.is.better\n",
    "    this['is']['annoying']\n",
    "    \"\"\"\n",
    "    \n",
    "    def __getattr__(self, key):\n",
    "        try:\n",
    "            return self[key]\n",
    "        except KeyError:\n",
    "            raise AttributeError(key)\n",
    "\n",
    "    def __setattr__(self, key, value):\n",
    "        self[key] = value\n",
    "\n",
    "    def __delattr__(self, key):\n",
    "        try:\n",
    "            del self[key]\n",
    "        except KeyError:\n",
    "            raise AttributeError(key)\n",
    "\n",
    "    __dict__ = property(lambda self: self)\n"
   ]
  },
  {
   "cell_type": "code",
   "execution_count": 7,
   "id": "90446cd6-b771-4a69-9720-f856b3e26f63",
   "metadata": {},
   "outputs": [],
   "source": [
    "class StronglyTypedMetaClass(type):\n",
    "    \"\"\"Automatically makes your `field: type` a StronglyTypedProperty\"\"\"\n",
    "\n",
    "    def __init__(cls, cls_name: str, bases: tuple, namespace: dict):\n",
    "        for property_name, type_annotation in cls.__annotations__.items():\n",
    "            existing_field = getattr(cls, property_name, None)\n",
    "            if not isinstance(existing_field, StronglyTypedProperty):\n",
    "                strongly_typed_property = StronglyTypedProperty(property_name, type_annotation)\n",
    "                setattr(cls, property_name, strongly_typed_property)\n",
    "        super().__init__(cls_name, bases, namespace)\n",
    "\n"
   ]
  },
  {
   "cell_type": "code",
   "execution_count": 6,
   "id": "94d07345-15eb-4a7a-8d65-ad905a2c5eff",
   "metadata": {},
   "outputs": [],
   "source": [
    "class cached_property:\n",
    "    def __init__(self, function):\n",
    "        self.function = function\n",
    "\n",
    "    def __get__(self, instance, cls):\n",
    "        if instance is None:\n",
    "            return self\n",
    "        value = self.function(instance)\n",
    "        instance.__dict__[self.function.__name__] = value  # Removes its own reference! 🤯\n",
    "        return value\n"
   ]
  },
  {
   "cell_type": "code",
   "execution_count": 5,
   "id": "a590b0e8-9150-4623-b056-cad5e356b283",
   "metadata": {},
   "outputs": [],
   "source": [
    "def get_tasks(url: str) -> dict:\n",
    "    return {\n",
    "        \"cache_invalidation\": {\n",
    "            \"id\":           \"000\",\n",
    "            \"status\":       \"in_review\",\n",
    "            \"started\":      \"long time ago\",\n",
    "            \"story_points\": 1,\n",
    "            \"priority\":     \"high\",\n",
    "            },\n",
    "        \"raising_ami\":        {\n",
    "            \"id\":           \"001\",\n",
    "            \"status\":       \"in_progress\",\n",
    "            \"started\":      \"10 months ago\",\n",
    "            \"story_points\": 999999,\n",
    "            \"priority\":     \"critical\",\n",
    "            },\n",
    "        }"
   ]
  },
  {
   "cell_type": "code",
   "execution_count": 16,
   "id": "b41f0acb-4edc-4949-8997-b484013eb927",
   "metadata": {},
   "outputs": [],
   "source": [
    "bob = Team(\"Einstein\", \"Newton\", \"Tesla\")"
   ]
  },
  {
   "cell_type": "code",
   "execution_count": 14,
   "id": "a41e0a1d-15d3-4d82-b809-8d11a11f59fd",
   "metadata": {},
   "outputs": [
    {
     "name": "stdout",
     "output_type": "stream",
     "text": [
      "Starting daily!\n",
      "<__main__.Teammate object at 0x107401e70> Working on {'cache_invalidation': {'id': '000', 'status': 'in_review', 'started': 'long time ago', 'story_points': 1, 'priority': 'high'}, 'raising_ami': {'id': '001', 'status': 'in_progress', 'started': '10 months ago', 'story_points': 999999, 'priority': 'critical'}}\n",
      "\n",
      "<__main__.Teammate object at 0x107401060> Working on {'cache_invalidation': {'id': '000', 'status': 'in_review', 'started': 'long time ago', 'story_points': 1, 'priority': 'high'}, 'raising_ami': {'id': '001', 'status': 'in_progress', 'started': '10 months ago', 'story_points': 999999, 'priority': 'critical'}}\n",
      "\n",
      "<__main__.Teammate object at 0x107401870> Working on {'cache_invalidation': {'id': '000', 'status': 'in_review', 'started': 'long time ago', 'story_points': 1, 'priority': 'high'}, 'raising_ami': {'id': '001', 'status': 'in_progress', 'started': '10 months ago', 'story_points': 999999, 'priority': 'critical'}}\n",
      "\n"
     ]
    }
   ],
   "source": [
    "bob.start_daily()"
   ]
  },
  {
   "cell_type": "markdown",
   "id": "18aaef51-d3b2-4264-86d2-6a8341cb9721",
   "metadata": {},
   "source": [
    "### Let's make it more readable"
   ]
  },
  {
   "cell_type": "code",
   "execution_count": 15,
   "id": "974aeec9-4b41-4b0e-9bd1-996879b28355",
   "metadata": {},
   "outputs": [],
   "source": [
    "class Teammate:\n",
    "    name: str = StronglyTypedProperty()\n",
    "    tasks: Dictionary[str, Task]\n",
    "    tired = False\n",
    "\n",
    "    def __init__(self, name: str):\n",
    "        self.name = name\n",
    "\n",
    "    @cached_property\n",
    "    def tasks(self):\n",
    "        tasks_regular_dict = get_tasks(self.name)\n",
    "        cast_tasks = {task_name: Task(task) for task_name, task in tasks_regular_dict.items()}\n",
    "        cool_dictionary_of_tasks = Dictionary(cast_tasks)\n",
    "        return cool_dictionary_of_tasks\n",
    "\n",
    "    def tell_everyone_what_im_working_on(self):\n",
    "        print(f\"Working on {self.tasks}\\n\")\n",
    "    \n",
    "    # New:\n",
    "    def __str__(self):\n",
    "        return f\"{self.name} has {len(self.tasks)} tasks. He is {'tired' if self.tired else 'not tired'}.\"\n",
    "\n",
    "    def __repr__(self):\n",
    "        return f\"{self.__class__.__name__}('{self.name}')\""
   ]
  },
  {
   "cell_type": "code",
   "execution_count": 17,
   "id": "eca7b0c1-9735-4715-887d-99741ab177c3",
   "metadata": {
    "slideshow": {
     "slide_type": "subslide"
    },
    "tags": []
   },
   "outputs": [
    {
     "name": "stdout",
     "output_type": "stream",
     "text": [
      "Starting daily!\n",
      "Einstein has 2 tasks. He is not tired. Working on {'cache_invalidation': {'id': '000', 'status': 'in_review', 'started': 'long time ago', 'story_points': 1, 'priority': 'high'}, 'raising_ami': {'id': '001', 'status': 'in_progress', 'started': '10 months ago', 'story_points': 999999, 'priority': 'critical'}}\n",
      "\n",
      "Newton has 2 tasks. He is not tired. Working on {'cache_invalidation': {'id': '000', 'status': 'in_review', 'started': 'long time ago', 'story_points': 1, 'priority': 'high'}, 'raising_ami': {'id': '001', 'status': 'in_progress', 'started': '10 months ago', 'story_points': 999999, 'priority': 'critical'}}\n",
      "\n",
      "Tesla has 2 tasks. He is not tired. Working on {'cache_invalidation': {'id': '000', 'status': 'in_review', 'started': 'long time ago', 'story_points': 1, 'priority': 'high'}, 'raising_ami': {'id': '001', 'status': 'in_progress', 'started': '10 months ago', 'story_points': 999999, 'priority': 'critical'}}\n",
      "\n"
     ]
    }
   ],
   "source": [
    "bob.start_daily()"
   ]
  },
  {
   "cell_type": "code",
   "execution_count": 18,
   "id": "bec2e290-783b-4d5a-b1e7-cdbefd1b5cb1",
   "metadata": {},
   "outputs": [],
   "source": [
    "class Team:\n",
    "    members: list[Teammate] = []\n",
    "\n",
    "    def __init__(self, *team_members) -> None:\n",
    "        self.members = list(map(Teammate, team_members))\n",
    "\n",
    "    def __iter__(self):\n",
    "        return iter(self.members)\n",
    "\n",
    "    def start_daily(self):\n",
    "        print(f'Starting daily!')\n",
    "        for member in self:  # __iter__\n",
    "            print(member, end=' ')\n",
    "            member.tell_everyone_what_im_working_on()\n",
    "\n",
    "    # New:\n",
    "    def __contains__(self, item):\n",
    "        return item in self.members\n",
    "\n",
    "    def __getitem__(self, slice):\n",
    "        return self.members[slice]\n",
    "    \n",
    "bob = Team(\"Einstein\", \"Newton\", \"Tesla\")"
   ]
  },
  {
   "cell_type": "code",
   "execution_count": 19,
   "id": "cc46061b-5f0e-4ec7-80d2-4ecbd0ad2649",
   "metadata": {},
   "outputs": [],
   "source": [
    "einstein = bob[0]  # __getitem__"
   ]
  },
  {
   "cell_type": "code",
   "execution_count": 20,
   "id": "1b9400d6-6803-41f8-80df-3c3af92f6179",
   "metadata": {},
   "outputs": [
    {
     "data": {
      "text/html": [
       "<pre style=\"white-space:pre;overflow-x:auto;line-height:normal;font-family:Menlo,'DejaVu Sans Mono',consolas,'Courier New',monospace\"><span style=\"color: #800080; text-decoration-color: #800080; font-weight: bold\">Teammate</span><span style=\"font-weight: bold\">(</span><span style=\"color: #008000; text-decoration-color: #008000\">'Einstein'</span><span style=\"font-weight: bold\">)</span>\n",
       "</pre>\n"
      ],
      "text/plain": [
       "\u001b[1;35mTeammate\u001b[0m\u001b[1m(\u001b[0m\u001b[32m'Einstein'\u001b[0m\u001b[1m)\u001b[0m\n"
      ]
     },
     "metadata": {},
     "output_type": "display_data"
    }
   ],
   "source": [
    "einstein           # __repr__"
   ]
  },
  {
   "cell_type": "code",
   "execution_count": 21,
   "id": "ec663976-658a-452d-9368-f8ccfaa601da",
   "metadata": {},
   "outputs": [
    {
     "data": {
      "text/html": [
       "<pre style=\"white-space:pre;overflow-x:auto;line-height:normal;font-family:Menlo,'DejaVu Sans Mono',consolas,'Courier New',monospace\"><span style=\"color: #00ff00; text-decoration-color: #00ff00; font-style: italic\">True</span>\n",
       "</pre>\n"
      ],
      "text/plain": [
       "\u001b[3;92mTrue\u001b[0m\n"
      ]
     },
     "metadata": {},
     "output_type": "display_data"
    }
   ],
   "source": [
    "einstein in bob    # __contains__"
   ]
  },
  {
   "cell_type": "code",
   "execution_count": 23,
   "id": "a9c9a5a8-0458-4f9d-83e6-4473000639db",
   "metadata": {},
   "outputs": [
    {
     "data": {
      "text/html": [
       "<pre style=\"white-space:pre;overflow-x:auto;line-height:normal;font-family:Menlo,'DejaVu Sans Mono',consolas,'Courier New',monospace\"><span style=\"color: #800000; text-decoration-color: #800000\">╭─────────────────────────────── </span><span style=\"color: #800000; text-decoration-color: #800000; font-weight: bold\">Traceback </span><span style=\"color: #bf7f7f; text-decoration-color: #bf7f7f; font-weight: bold\">(most recent call last)</span><span style=\"color: #800000; text-decoration-color: #800000\"> ────────────────────────────────╮</span>\n",
       "<span style=\"color: #800000; text-decoration-color: #800000\">│</span> <span style=\"color: #bfbf7f; text-decoration-color: #bfbf7f\">/var/folders/6d/v_8150015qz_fxg7lkd8qgxw0000gn/T/ipykernel_95875/</span><span style=\"color: #808000; text-decoration-color: #808000; font-weight: bold\">2649339167.py</span>:<span style=\"color: #0000ff; text-decoration-color: #0000ff\">1</span> in <span style=\"color: #00ff00; text-decoration-color: #00ff00\">&lt;module&gt;</span>     <span style=\"color: #800000; text-decoration-color: #800000\">│</span>\n",
       "<span style=\"color: #800000; text-decoration-color: #800000\">│</span>                                                                                                  <span style=\"color: #800000; text-decoration-color: #800000\">│</span>\n",
       "<span style=\"color: #800000; text-decoration-color: #800000\">│</span> <span style=\"color: #800000; text-decoration-color: #800000; font-style: italic\">[Errno 2] No such file or directory: </span>                                                            <span style=\"color: #800000; text-decoration-color: #800000\">│</span>\n",
       "<span style=\"color: #800000; text-decoration-color: #800000\">│</span> <span style=\"color: #800000; text-decoration-color: #800000; font-style: italic\">'/var/folders/6d/v_8150015qz_fxg7lkd8qgxw0000gn/T/ipykernel_95875/2649339167.py'</span>                 <span style=\"color: #800000; text-decoration-color: #800000\">│</span>\n",
       "<span style=\"color: #800000; text-decoration-color: #800000\">│</span>                                                                                                  <span style=\"color: #800000; text-decoration-color: #800000\">│</span>\n",
       "<span style=\"color: #800000; text-decoration-color: #800000\">│</span> <span style=\"color: #bfbf7f; text-decoration-color: #bfbf7f\">/var/folders/6d/v_8150015qz_fxg7lkd8qgxw0000gn/T/ipykernel_95875/</span><span style=\"color: #808000; text-decoration-color: #808000; font-weight: bold\">503597796.py</span>:<span style=\"color: #0000ff; text-decoration-color: #0000ff\">13</span> in <span style=\"color: #00ff00; text-decoration-color: #00ff00\">__set__</span>      <span style=\"color: #800000; text-decoration-color: #800000\">│</span>\n",
       "<span style=\"color: #800000; text-decoration-color: #800000\">│</span>                                                                                                  <span style=\"color: #800000; text-decoration-color: #800000\">│</span>\n",
       "<span style=\"color: #800000; text-decoration-color: #800000\">│</span> <span style=\"color: #800000; text-decoration-color: #800000; font-style: italic\">[Errno 2] No such file or directory: </span>                                                            <span style=\"color: #800000; text-decoration-color: #800000\">│</span>\n",
       "<span style=\"color: #800000; text-decoration-color: #800000\">│</span> <span style=\"color: #800000; text-decoration-color: #800000; font-style: italic\">'/var/folders/6d/v_8150015qz_fxg7lkd8qgxw0000gn/T/ipykernel_95875/503597796.py'</span>                  <span style=\"color: #800000; text-decoration-color: #800000\">│</span>\n",
       "<span style=\"color: #800000; text-decoration-color: #800000\">╰──────────────────────────────────────────────────────────────────────────────────────────────────╯</span>\n",
       "<span style=\"color: #ff0000; text-decoration-color: #ff0000; font-weight: bold\">TypeError: </span>Property <span style=\"color: #008000; text-decoration-color: #008000\">'name'</span> must be of type <span style=\"font-weight: bold\">&lt;</span><span style=\"color: #ff00ff; text-decoration-color: #ff00ff; font-weight: bold\">class</span><span style=\"color: #000000; text-decoration-color: #000000\"> </span><span style=\"color: #008000; text-decoration-color: #008000\">'str'</span><span style=\"font-weight: bold\">&gt;</span> <span style=\"font-weight: bold\">(</span>got <span style=\"font-weight: bold\">&lt;</span><span style=\"color: #ff00ff; text-decoration-color: #ff00ff; font-weight: bold\">class</span><span style=\"color: #000000; text-decoration-color: #000000\"> </span><span style=\"color: #008000; text-decoration-color: #008000\">'NoneType'</span><span style=\"font-weight: bold\">&gt;)</span>\n",
       "</pre>\n"
      ],
      "text/plain": [
       "\u001b[31m╭─\u001b[0m\u001b[31m──────────────────────────────\u001b[0m\u001b[31m \u001b[0m\u001b[1;31mTraceback \u001b[0m\u001b[1;2;31m(most recent call last)\u001b[0m\u001b[31m \u001b[0m\u001b[31m───────────────────────────────\u001b[0m\u001b[31m─╮\u001b[0m\n",
       "\u001b[31m│\u001b[0m \u001b[2;33m/var/folders/6d/v_8150015qz_fxg7lkd8qgxw0000gn/T/ipykernel_95875/\u001b[0m\u001b[1;33m2649339167.py\u001b[0m:\u001b[94m1\u001b[0m in \u001b[92m<module>\u001b[0m     \u001b[31m│\u001b[0m\n",
       "\u001b[31m│\u001b[0m                                                                                                  \u001b[31m│\u001b[0m\n",
       "\u001b[31m│\u001b[0m \u001b[3;31m[Errno 2] No such file or directory: \u001b[0m                                                            \u001b[31m│\u001b[0m\n",
       "\u001b[31m│\u001b[0m \u001b[3;31m'/var/folders/6d/v_8150015qz_fxg7lkd8qgxw0000gn/T/ipykernel_95875/2649339167.py'\u001b[0m                 \u001b[31m│\u001b[0m\n",
       "\u001b[31m│\u001b[0m                                                                                                  \u001b[31m│\u001b[0m\n",
       "\u001b[31m│\u001b[0m \u001b[2;33m/var/folders/6d/v_8150015qz_fxg7lkd8qgxw0000gn/T/ipykernel_95875/\u001b[0m\u001b[1;33m503597796.py\u001b[0m:\u001b[94m13\u001b[0m in \u001b[92m__set__\u001b[0m      \u001b[31m│\u001b[0m\n",
       "\u001b[31m│\u001b[0m                                                                                                  \u001b[31m│\u001b[0m\n",
       "\u001b[31m│\u001b[0m \u001b[3;31m[Errno 2] No such file or directory: \u001b[0m                                                            \u001b[31m│\u001b[0m\n",
       "\u001b[31m│\u001b[0m \u001b[3;31m'/var/folders/6d/v_8150015qz_fxg7lkd8qgxw0000gn/T/ipykernel_95875/503597796.py'\u001b[0m                  \u001b[31m│\u001b[0m\n",
       "\u001b[31m╰──────────────────────────────────────────────────────────────────────────────────────────────────╯\u001b[0m\n",
       "\u001b[1;91mTypeError: \u001b[0mProperty \u001b[32m'name'\u001b[0m must be of type \u001b[1m<\u001b[0m\u001b[1;95mclass\u001b[0m\u001b[39m \u001b[0m\u001b[32m'str'\u001b[0m\u001b[1m>\u001b[0m \u001b[1m(\u001b[0mgot \u001b[1m<\u001b[0m\u001b[1;95mclass\u001b[0m\u001b[39m \u001b[0m\u001b[32m'NoneType'\u001b[0m\u001b[1m>\u001b[0m\u001b[1m)\u001b[0m\n"
      ]
     },
     "metadata": {},
     "output_type": "display_data"
    }
   ],
   "source": [
    "einstein.name = None  # StronglyTypedProperty"
   ]
  },
  {
   "cell_type": "code",
   "execution_count": 25,
   "id": "d1a778f3-5758-4419-bb21-c02c5a8bda36",
   "metadata": {},
   "outputs": [],
   "source": [
    "class Teammate:\n",
    "    name: str = StronglyTypedProperty()\n",
    "    tasks: Dictionary[str, Task]\n",
    "    tired = False\n",
    "\n",
    "    def __init__(self, name: str):\n",
    "        self.name = name\n",
    "\n",
    "    @cached_property\n",
    "    def tasks(self):\n",
    "        tasks_regular_dict = get_tasks(self.name)\n",
    "        cast_tasks = {task_name: Task(task) for task_name, task in tasks_regular_dict.items()}\n",
    "        cool_dictionary_of_tasks = Dictionary(cast_tasks)\n",
    "        return cool_dictionary_of_tasks\n",
    "\n",
    "    def tell_everyone_what_im_working_on(self):\n",
    "        print(f\"Working on {self.tasks}\\n\")\n",
    "    \n",
    "    def __str__(self):\n",
    "        return f\"{self.name} has {len(self.tasks)} tasks. He is {'tired' if self.tired else 'not tired'}.\"\n",
    "\n",
    "    def __repr__(self):\n",
    "        return f\"{self.__class__.__name__}('{self.name}')\"\n",
    "    \n",
    "    # New:\n",
    "    def __enter__(self):\n",
    "        if self.tired:\n",
    "            raise BrokenPipeError(\"I need to sleep\")\n",
    "        return self\n",
    "\n",
    "    def __exit__(self, exception_type, exception_instance, traceback):\n",
    "        self.tired = True  # regardless. lol\n",
    "\n",
    "    def __call__(self, tasks: dict):\n",
    "        self.tasks.update(tasks)\n",
    "\n",
    "bob = Team(\"Einstein\", \"Newton\", \"Tesla\")\n",
    "einstein = bob[0]"
   ]
  },
  {
   "cell_type": "code",
   "execution_count": 26,
   "id": "f1b54854-da80-4513-8632-6c3a1e4f5448",
   "metadata": {},
   "outputs": [],
   "source": [
    "with einstein as yalla_einstein:  # __enter__\n",
    "    yalla_einstein({  # __call__\n",
    "        \"general_relativity\":\n",
    "            Task(id=\"003\", status=\"to_do\", started=\"1905\", story_points=3, priority=\"high\")\n",
    "        })\n",
    "# __exit__"
   ]
  },
  {
   "cell_type": "code",
   "execution_count": 27,
   "id": "ad4241f5-6269-4bf1-93cc-962727c2fee3",
   "metadata": {},
   "outputs": [
    {
     "data": {
      "text/html": [
       "<pre style=\"white-space:pre;overflow-x:auto;line-height:normal;font-family:Menlo,'DejaVu Sans Mono',consolas,'Courier New',monospace\"><span style=\"color: #008000; text-decoration-color: #008000\">'Einstein has 3 tasks. He is tired.'</span>\n",
       "</pre>\n"
      ],
      "text/plain": [
       "\u001b[32m'Einstein has 3 tasks. He is tired.'\u001b[0m\n"
      ]
     },
     "metadata": {},
     "output_type": "display_data"
    }
   ],
   "source": [
    "str(einstein)"
   ]
  },
  {
   "cell_type": "code",
   "execution_count": 28,
   "id": "5a7fab8d-619a-4425-9023-9f9feec03fb0",
   "metadata": {},
   "outputs": [
    {
     "data": {
      "text/html": [
       "<pre style=\"white-space:pre;overflow-x:auto;line-height:normal;font-family:Menlo,'DejaVu Sans Mono',consolas,'Courier New',monospace\"><span style=\"color: #800000; text-decoration-color: #800000\">╭─────────────────────────────── </span><span style=\"color: #800000; text-decoration-color: #800000; font-weight: bold\">Traceback </span><span style=\"color: #bf7f7f; text-decoration-color: #bf7f7f; font-weight: bold\">(most recent call last)</span><span style=\"color: #800000; text-decoration-color: #800000\"> ────────────────────────────────╮</span>\n",
       "<span style=\"color: #800000; text-decoration-color: #800000\">│</span> <span style=\"color: #bfbf7f; text-decoration-color: #bfbf7f\">/var/folders/6d/v_8150015qz_fxg7lkd8qgxw0000gn/T/ipykernel_95875/</span><span style=\"color: #808000; text-decoration-color: #808000; font-weight: bold\">3581169787.py</span>:<span style=\"color: #0000ff; text-decoration-color: #0000ff\">1</span> in <span style=\"color: #00ff00; text-decoration-color: #00ff00\">&lt;module&gt;</span>     <span style=\"color: #800000; text-decoration-color: #800000\">│</span>\n",
       "<span style=\"color: #800000; text-decoration-color: #800000\">│</span>                                                                                                  <span style=\"color: #800000; text-decoration-color: #800000\">│</span>\n",
       "<span style=\"color: #800000; text-decoration-color: #800000\">│</span> <span style=\"color: #800000; text-decoration-color: #800000; font-style: italic\">[Errno 2] No such file or directory: </span>                                                            <span style=\"color: #800000; text-decoration-color: #800000\">│</span>\n",
       "<span style=\"color: #800000; text-decoration-color: #800000\">│</span> <span style=\"color: #800000; text-decoration-color: #800000; font-style: italic\">'/var/folders/6d/v_8150015qz_fxg7lkd8qgxw0000gn/T/ipykernel_95875/3581169787.py'</span>                 <span style=\"color: #800000; text-decoration-color: #800000\">│</span>\n",
       "<span style=\"color: #800000; text-decoration-color: #800000\">│</span>                                                                                                  <span style=\"color: #800000; text-decoration-color: #800000\">│</span>\n",
       "<span style=\"color: #800000; text-decoration-color: #800000\">│</span> <span style=\"color: #bfbf7f; text-decoration-color: #bfbf7f\">/var/folders/6d/v_8150015qz_fxg7lkd8qgxw0000gn/T/ipykernel_95875/</span><span style=\"color: #808000; text-decoration-color: #808000; font-weight: bold\">965098828.py</span>:<span style=\"color: #0000ff; text-decoration-color: #0000ff\">28</span> in <span style=\"color: #00ff00; text-decoration-color: #00ff00\">__enter__</span>    <span style=\"color: #800000; text-decoration-color: #800000\">│</span>\n",
       "<span style=\"color: #800000; text-decoration-color: #800000\">│</span>                                                                                                  <span style=\"color: #800000; text-decoration-color: #800000\">│</span>\n",
       "<span style=\"color: #800000; text-decoration-color: #800000\">│</span> <span style=\"color: #800000; text-decoration-color: #800000; font-style: italic\">[Errno 2] No such file or directory: </span>                                                            <span style=\"color: #800000; text-decoration-color: #800000\">│</span>\n",
       "<span style=\"color: #800000; text-decoration-color: #800000\">│</span> <span style=\"color: #800000; text-decoration-color: #800000; font-style: italic\">'/var/folders/6d/v_8150015qz_fxg7lkd8qgxw0000gn/T/ipykernel_95875/965098828.py'</span>                  <span style=\"color: #800000; text-decoration-color: #800000\">│</span>\n",
       "<span style=\"color: #800000; text-decoration-color: #800000\">╰──────────────────────────────────────────────────────────────────────────────────────────────────╯</span>\n",
       "<span style=\"color: #ff0000; text-decoration-color: #ff0000; font-weight: bold\">BrokenPipeError: </span>I need to sleep\n",
       "</pre>\n"
      ],
      "text/plain": [
       "\u001b[31m╭─\u001b[0m\u001b[31m──────────────────────────────\u001b[0m\u001b[31m \u001b[0m\u001b[1;31mTraceback \u001b[0m\u001b[1;2;31m(most recent call last)\u001b[0m\u001b[31m \u001b[0m\u001b[31m───────────────────────────────\u001b[0m\u001b[31m─╮\u001b[0m\n",
       "\u001b[31m│\u001b[0m \u001b[2;33m/var/folders/6d/v_8150015qz_fxg7lkd8qgxw0000gn/T/ipykernel_95875/\u001b[0m\u001b[1;33m3581169787.py\u001b[0m:\u001b[94m1\u001b[0m in \u001b[92m<module>\u001b[0m     \u001b[31m│\u001b[0m\n",
       "\u001b[31m│\u001b[0m                                                                                                  \u001b[31m│\u001b[0m\n",
       "\u001b[31m│\u001b[0m \u001b[3;31m[Errno 2] No such file or directory: \u001b[0m                                                            \u001b[31m│\u001b[0m\n",
       "\u001b[31m│\u001b[0m \u001b[3;31m'/var/folders/6d/v_8150015qz_fxg7lkd8qgxw0000gn/T/ipykernel_95875/3581169787.py'\u001b[0m                 \u001b[31m│\u001b[0m\n",
       "\u001b[31m│\u001b[0m                                                                                                  \u001b[31m│\u001b[0m\n",
       "\u001b[31m│\u001b[0m \u001b[2;33m/var/folders/6d/v_8150015qz_fxg7lkd8qgxw0000gn/T/ipykernel_95875/\u001b[0m\u001b[1;33m965098828.py\u001b[0m:\u001b[94m28\u001b[0m in \u001b[92m__enter__\u001b[0m    \u001b[31m│\u001b[0m\n",
       "\u001b[31m│\u001b[0m                                                                                                  \u001b[31m│\u001b[0m\n",
       "\u001b[31m│\u001b[0m \u001b[3;31m[Errno 2] No such file or directory: \u001b[0m                                                            \u001b[31m│\u001b[0m\n",
       "\u001b[31m│\u001b[0m \u001b[3;31m'/var/folders/6d/v_8150015qz_fxg7lkd8qgxw0000gn/T/ipykernel_95875/965098828.py'\u001b[0m                  \u001b[31m│\u001b[0m\n",
       "\u001b[31m╰──────────────────────────────────────────────────────────────────────────────────────────────────╯\u001b[0m\n",
       "\u001b[1;91mBrokenPipeError: \u001b[0mI need to sleep\n"
      ]
     },
     "metadata": {},
     "output_type": "display_data"
    }
   ],
   "source": [
    "with einstein as yalla_einstein:  # __enter__\n",
    "    yalla_einstein({\n",
    "        \"quantum_mechanics\":\n",
    "            Task(id=\"004\", status=\"to_do\", started=\"1915\", story_points=4, priority=\"high\")\n",
    "        })"
   ]
  },
  {
   "cell_type": "code",
   "execution_count": 30,
   "id": "9d37a699-0cc2-4ff3-9b75-0ef4b0059b7f",
   "metadata": {},
   "outputs": [],
   "source": [
    "class Teammate:\n",
    "    name: str = StronglyTypedProperty()\n",
    "    tasks: Dictionary[str, Task]\n",
    "    tired = False\n",
    "\n",
    "    def __init__(self, name: str):\n",
    "        self.name = name\n",
    "\n",
    "    @cached_property\n",
    "    def tasks(self):\n",
    "        tasks_regular_dict = get_tasks(self.name)\n",
    "        cast_tasks = {task_name: Task(task) for task_name, task in tasks_regular_dict.items()}\n",
    "        cool_dictionary_of_tasks = Dictionary(cast_tasks)\n",
    "        return cool_dictionary_of_tasks\n",
    "\n",
    "    def tell_everyone_what_im_working_on(self):\n",
    "        print(f\"Working on {self.tasks}\\n\")\n",
    "    \n",
    "    def __str__(self):\n",
    "        return f\"{self.name} has {len(self.tasks)} tasks. He is {'tired' if self.tired else 'not tired'}.\"\n",
    "\n",
    "    def __repr__(self):\n",
    "        return f\"{self.__class__.__name__}('{self.name}')\"\n",
    "    \n",
    "    def __enter__(self):\n",
    "        if self.tired:\n",
    "            raise BrokenPipeError(\"I need to sleep\")\n",
    "        return self\n",
    "\n",
    "    def __exit__(self, exception_type, exception_instance, traceback):\n",
    "        self.tired = True  # regardless. lol\n",
    "\n",
    "    def __call__(self, tasks: dict):\n",
    "        self.tasks.update(tasks)\n",
    "        \n",
    "    def __bool__(self):\n",
    "        return not self.tired\n",
    "\n",
    "\n",
    "bob = Team(\"Einstein\", \"Newton\", \"Tesla\")\n",
    "einstein = bob[0]\n",
    "with einstein:\n",
    "    pass"
   ]
  },
  {
   "cell_type": "code",
   "execution_count": 31,
   "id": "6ff5070b-ef02-4b72-acf1-49a56a2b27b9",
   "metadata": {},
   "outputs": [],
   "source": [
    "def start_daily(self):\n",
    "    print(f'Starting daily!')\n",
    "    for member in self:\n",
    "        print(member)\n",
    "        if member:  # __bool__\n",
    "            member.tell_everyone_what_im_working_on()"
   ]
  },
  {
   "cell_type": "code",
   "execution_count": 32,
   "id": "856565a9-dc24-4325-b471-db68a0f2a403",
   "metadata": {},
   "outputs": [
    {
     "name": "stdout",
     "output_type": "stream",
     "text": [
      "Starting daily!\n",
      "Einstein has 2 tasks. He is tired.\n",
      "Newton has 2 tasks. He is not tired.\n",
      "Working on {'cache_invalidation': {'id': '000', 'status': 'in_review', 'started': 'long time ago', 'story_points': 1, 'priority': 'high'}, 'raising_ami': {'id': '001', 'status': 'in_progress', 'started': '10 months ago', 'story_points': 999999, 'priority': 'critical'}}\n",
      "\n",
      "Tesla has 2 tasks. He is not tired.\n",
      "Working on {'cache_invalidation': {'id': '000', 'status': 'in_review', 'started': 'long time ago', 'story_points': 1, 'priority': 'high'}, 'raising_ami': {'id': '001', 'status': 'in_progress', 'started': '10 months ago', 'story_points': 999999, 'priority': 'critical'}}\n",
      "\n"
     ]
    }
   ],
   "source": [
    "start_daily(bob)"
   ]
  },
  {
   "cell_type": "code",
   "execution_count": 33,
   "id": "1b213a59-a486-4869-b346-b67b7babb28c",
   "metadata": {},
   "outputs": [],
   "source": [
    "from pathlib import Path"
   ]
  }
 ],
 "metadata": {
  "kernelspec": {
   "display_name": "python_course",
   "language": "python",
   "name": "python_course"
  },
  "language_info": {
   "codemirror_mode": {
    "name": "ipython",
    "version": 3
   },
   "file_extension": ".py",
   "mimetype": "text/x-python",
   "name": "python",
   "nbconvert_exporter": "python",
   "pygments_lexer": "ipython3",
   "version": "3.10.8"
  }
 },
 "nbformat": 4,
 "nbformat_minor": 5
}
