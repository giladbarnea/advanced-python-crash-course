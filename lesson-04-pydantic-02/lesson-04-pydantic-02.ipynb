{
 "cells": [
  {
   "cell_type": "code",
   "execution_count": null,
   "id": "2edf9d84",
   "metadata": {
    "collapsed": false,
    "jupyter": {
     "outputs_hidden": false
    },
    "slideshow": {
     "slide_type": "skip"
    },
    "tags": []
   },
   "outputs": [],
   "source": [
    "from pydantic import BaseModel, Field\n",
    "from typing import Optional\n",
    "from datetime import datetime\n",
    "import os"
   ]
  },
  {
   "cell_type": "markdown",
   "id": "84804d07-30db-4e39-af7e-4bb658ca79bc",
   "metadata": {
    "slideshow": {
     "slide_type": "slide"
    },
    "tags": []
   },
   "source": [
    "Advanced Python Crash Course 04: Pydantic 2\n",
    "============================================"
   ]
  },
  {
   "cell_type": "markdown",
   "id": "0056f3fa-e443-4b6a-8479-ef047675c4f3",
   "metadata": {
    "slideshow": {
     "slide_type": "slide"
    },
    "tags": []
   },
   "source": [
    "# Today we'll cover:\n",
    "\n",
    "1. Quick recap of Lesson 1\n",
    "2. `class Config`\n",
    "3. `BaseSettings`\n",
    "4. Custom Exception Handling"
   ]
  },
  {
   "cell_type": "markdown",
   "id": "63429e59-feef-4d7e-8b19-44db4ed32568",
   "metadata": {
    "slideshow": {
     "slide_type": "slide"
    },
    "tags": []
   },
   "source": [
    "# 1. Quick Recap of Lesson 1"
   ]
  },
  {
   "cell_type": "markdown",
   "id": "7ddd042e",
   "metadata": {
    "slideshow": {
     "slide_type": "slide"
    },
    "tags": []
   },
   "source": [
    "## Motivation"
   ]
  },
  {
   "cell_type": "markdown",
   "id": "d0e6e7ed-9e51-43f1-b7ea-f1f1a7f9c4d2",
   "metadata": {
    "slideshow": {
     "slide_type": "subslide"
    },
    "tags": []
   },
   "source": [
    "### Complex dictionaries in Python can be a pain in the butt:"
   ]
  },
  {
   "cell_type": "code",
   "execution_count": null,
   "id": "ae15a20f",
   "metadata": {
    "collapsed": false,
    "jupyter": {
     "outputs_hidden": false
    },
    "slideshow": {
     "slide_type": "fragment"
    },
    "tags": []
   },
   "outputs": [],
   "source": [
    "body = {\n",
    "    \"products\": {\"BezeqTatYami\": {\"provisioned\": True}}, \n",
    "    \"users\": {\"Balut\": {\"products\": [...]}},\n",
    "}"
   ]
  },
  {
   "cell_type": "code",
   "execution_count": null,
   "id": "89a2d0e9-1301-4389-b0b8-640f3d56a647",
   "metadata": {
    "slideshow": {
     "slide_type": "fragment"
    },
    "tags": []
   },
   "outputs": [],
   "source": [
    "if body.get(\"products\", {}).get(\"BezeqTatYami\", {}).get(\"provisioned\", False) \\\n",
    "    and \"BezeqTatYami\" in body.get(\"users\", {}).get(\"Balut\", {}).get(\"products\", []):\n",
    "        ...  🤮"
   ]
  },
  {
   "cell_type": "markdown",
   "id": "ba7bb892",
   "metadata": {
    "slideshow": {
     "slide_type": "subslide"
    },
    "tags": []
   },
   "source": [
    "### Serializing / De-serializing in Python can be a pain:"
   ]
  },
  {
   "cell_type": "code",
   "execution_count": null,
   "id": "19bafec5",
   "metadata": {
    "collapsed": false,
    "jupyter": {
     "outputs_hidden": false
    },
    "slideshow": {
     "slide_type": "fragment"
    },
    "tags": []
   },
   "outputs": [],
   "source": [
    "from datetime import date\n",
    "import json\n",
    "\n",
    "data = {\"birthday\": date(year=1991, month=12, day=19)}\n",
    "json.dumps(data)"
   ]
  },
  {
   "cell_type": "markdown",
   "id": "ecb06dda-6a60-4368-8757-9a8ab4b8314b",
   "metadata": {
    "slideshow": {
     "slide_type": "fragment"
    },
    "tags": []
   },
   "source": [
    "<pre style=\"color: #fa3333\">TypeError: Object of type date is not JSON serializable</pre>"
   ]
  },
  {
   "cell_type": "markdown",
   "id": "948c58c0",
   "metadata": {
    "slideshow": {
     "slide_type": "subslide"
    },
    "tags": []
   },
   "source": [
    "### Abstracting JSON with simple validations involves boilerplate:"
   ]
  },
  {
   "cell_type": "code",
   "execution_count": null,
   "id": "4fbc0d85-3844-498f-87e9-80256aadd0e2",
   "metadata": {
    "slideshow": {
     "slide_type": "fragment"
    },
    "tags": []
   },
   "outputs": [],
   "source": [
    "class Customer:\n",
    "    def __init__(self, products: list[str]):\n",
    "        self.products = products\n",
    "\n",
    "    @property\n",
    "    def products(self) -> list:\n",
    "        return self._products\n",
    "\n",
    "    @products.setter\n",
    "    def products(self, products: list[str]):\n",
    "        if not products:\n",
    "            raise ValueError(\"products field required\")\n",
    "        if not isinstance(products, list):\n",
    "            raise ValueError(\"products value is not a valid list\")\n",
    "        for product in products:\n",
    "            if not isinstance(product, str):\n",
    "                index = products.index(product)\n",
    "                raise ValueError(f\"products {index} str type expected\")\n",
    "        self._products = products\n",
    "\n",
    "    @products.deleter\n",
    "    def products(self):\n",
    "        del self._products"
   ]
  },
  {
   "cell_type": "markdown",
   "id": "722e83db-329d-43b2-a0aa-b225300515b7",
   "metadata": {
    "slideshow": {
     "slide_type": "slide"
    },
    "tags": []
   },
   "source": [
    "## `pydantic.BaseModel` solves this (and more):"
   ]
  },
  {
   "cell_type": "code",
   "execution_count": null,
   "id": "bb65a807-9b02-4ad2-96e5-c8005e27e566",
   "metadata": {
    "slideshow": {
     "slide_type": "subslide"
    },
    "tags": []
   },
   "outputs": [],
   "source": [
    "from pydantic import BaseModel\n",
    "\n",
    "\n",
    "class Customer(BaseModel):\n",
    "    products: list[str]"
   ]
  },
  {
   "cell_type": "markdown",
   "id": "4bac1b76-e770-4b1f-9c42-0236a70bb2d6",
   "metadata": {
    "slideshow": {
     "slide_type": "slide"
    },
    "tags": []
   },
   "source": [
    "## Fields"
   ]
  },
  {
   "cell_type": "markdown",
   "id": "9242ac73-ebde-4602-9df1-7d927b6035a5",
   "metadata": {
    "slideshow": {
     "slide_type": "subslide"
    },
    "tags": []
   },
   "source": [
    "### Use `None`, `Optional`, `...` and default values wisely"
   ]
  },
  {
   "cell_type": "code",
   "execution_count": null,
   "id": "3550119e-d1a5-4460-8d10-b05cc6852697",
   "metadata": {
    "slideshow": {
     "slide_type": "fragment"
    },
    "tags": []
   },
   "outputs": [],
   "source": [
    "class Dog(BaseModel):\n",
    "    name: str             # Required\n",
    "    color: Optional[str]  # Optional\n",
    "    happy: bool = True    # Optional\n",
    "    allergies: Optional[list] = ...  # Required!"
   ]
  },
  {
   "cell_type": "code",
   "execution_count": null,
   "id": "7c4205e7-343e-4d34-8ab1-c176391737b9",
   "metadata": {
    "slideshow": {
     "slide_type": "fragment"
    },
    "tags": []
   },
   "outputs": [],
   "source": [
    "Dog(name=\"Balut\", allergies=None)"
   ]
  },
  {
   "cell_type": "markdown",
   "id": "4724184f-a83d-42a6-88f6-5336a63d7289",
   "metadata": {
    "slideshow": {
     "slide_type": "subslide"
    },
    "tags": []
   },
   "source": [
    "### `pydantic.Field`"
   ]
  },
  {
   "cell_type": "markdown",
   "id": "5c4651d8-0cff-4786-8785-7bd959212778",
   "metadata": {
    "slideshow": {
     "slide_type": "fragment"
    },
    "tags": []
   },
   "source": [
    "Allows more fine-grained control:"
   ]
  },
  {
   "cell_type": "code",
   "execution_count": null,
   "id": "bbb44438-3906-423f-96b0-b57c93a8df13",
   "metadata": {
    "slideshow": {
     "slide_type": "fragment"
    },
    "tags": []
   },
   "outputs": [],
   "source": [
    "import time\n",
    "\n",
    "\n",
    "def really_long_calculation():\n",
    "    return time.sleep(3600)\n",
    "\n",
    "\n",
    "class DontAskMyAge:\n",
    "    age: int = Field(default_factory=really_long_calculation)  👈\n",
    "    \n",
    "DontAskMyAge()      # Immediate\n",
    "DontAskMyAge().age  # 1 hour"
   ]
  },
  {
   "cell_type": "markdown",
   "id": "530ccf5d",
   "metadata": {
    "slideshow": {
     "slide_type": "slide"
    },
    "tags": []
   },
   "source": [
    "## Serialization / Deserialization"
   ]
  },
  {
   "cell_type": "markdown",
   "id": "df579d5c-086c-4bb6-adb3-b80c11f5330f",
   "metadata": {
    "slideshow": {
     "slide_type": "subslide"
    },
    "tags": []
   },
   "source": [
    "### Building a `BaseModel` with `.parse_*(...)` functions"
   ]
  },
  {
   "cell_type": "markdown",
   "id": "be5926c0-0e21-44e5-a142-6f25b92a9cb7",
   "metadata": {
    "jupyter": {
     "outputs_hidden": false
    },
    "slideshow": {
     "slide_type": "fragment"
    },
    "tags": []
   },
   "source": [
    "❌ Instead of this:"
   ]
  },
  {
   "cell_type": "code",
   "execution_count": null,
   "id": "0f59cf83-48c8-453b-9a0a-5d852f7d37f7",
   "metadata": {
    "collapsed": false,
    "jupyter": {
     "outputs_hidden": false
    },
    "slideshow": {
     "slide_type": "fragment"
    },
    "tags": []
   },
   "outputs": [],
   "source": [
    "import json\n",
    "_serialized_dog = json.loads('{\"name\": \"Balut\", \"allergies\": null, \"happy\": true}')\n",
    "Dog(**_serialized_dog)"
   ]
  },
  {
   "cell_type": "markdown",
   "id": "78b5b6b0-f15d-45aa-b2f6-e06a0a558cc4",
   "metadata": {
    "jupyter": {
     "outputs_hidden": false
    },
    "slideshow": {
     "slide_type": "fragment"
    },
    "tags": []
   },
   "source": [
    "✅ Do this:"
   ]
  },
  {
   "cell_type": "code",
   "execution_count": null,
   "id": "ff258900-1ea5-470e-9357-7a6208929d0b",
   "metadata": {
    "slideshow": {
     "slide_type": "fragment"
    },
    "tags": []
   },
   "outputs": [],
   "source": [
    "Dog.parse_raw('{\"name\": \"Balut\", \"allergies\": null, \"happy\": true}')"
   ]
  },
  {
   "cell_type": "markdown",
   "id": "9340cb67-e633-42d5-be48-08231c514bf9",
   "metadata": {
    "slideshow": {
     "slide_type": "fragment"
    },
    "tags": []
   },
   "source": [
    "```python\n",
    "Dog(name='Balut', color=None, happy=True, allergies=None)\n",
    "```"
   ]
  },
  {
   "cell_type": "markdown",
   "id": "23ef9f29",
   "metadata": {
    "slideshow": {
     "slide_type": "subslide"
    },
    "tags": []
   },
   "source": [
    "### Exporting a `BaseModel`"
   ]
  },
  {
   "cell_type": "code",
   "execution_count": null,
   "id": "fe41e011-c0b0-41c4-8331-72284005254c",
   "metadata": {
    "slideshow": {
     "slide_type": "fragment"
    },
    "tags": []
   },
   "outputs": [],
   "source": [
    "balut = Dog(name=\"Balut\", allergies=None)"
   ]
  },
  {
   "cell_type": "markdown",
   "id": "5c02d880-adf6-48a8-8609-f2bb10529211",
   "metadata": {
    "jupyter": {
     "outputs_hidden": false
    },
    "slideshow": {
     "slide_type": "fragment"
    },
    "tags": []
   },
   "source": [
    "#### `.json(...)`"
   ]
  },
  {
   "cell_type": "markdown",
   "id": "4864704a-f701-4f3d-aeae-bc0d92f1ba6a",
   "metadata": {
    "jupyter": {
     "outputs_hidden": false
    },
    "slideshow": {
     "slide_type": "fragment"
    },
    "tags": []
   },
   "source": [
    "❌ Instead of this:"
   ]
  },
  {
   "cell_type": "code",
   "execution_count": null,
   "id": "57f0e89d-158f-45a8-af9e-126faee774a6",
   "metadata": {
    "collapsed": false,
    "jupyter": {
     "outputs_hidden": false
    },
    "slideshow": {
     "slide_type": "fragment"
    },
    "tags": []
   },
   "outputs": [],
   "source": [
    "import json\n",
    "not_none_fields = {field: value for field, value in balut.dict().items() if value is not None}\n",
    "serialized: str = json.dumps(not_none_fields)"
   ]
  },
  {
   "cell_type": "markdown",
   "id": "5afae3f7-9738-418e-9bce-d76039445419",
   "metadata": {
    "jupyter": {
     "outputs_hidden": false
    },
    "slideshow": {
     "slide_type": "fragment"
    },
    "tags": []
   },
   "source": [
    "✅ Do this:"
   ]
  },
  {
   "cell_type": "code",
   "execution_count": null,
   "id": "6c009e15",
   "metadata": {
    "collapsed": false,
    "jupyter": {
     "outputs_hidden": false
    },
    "slideshow": {
     "slide_type": "fragment"
    },
    "tags": []
   },
   "outputs": [],
   "source": [
    "balut.json(exclude_none=True)"
   ]
  },
  {
   "cell_type": "markdown",
   "id": "8cf03e81-fe0f-4ddd-9362-7fd329d6634b",
   "metadata": {
    "slideshow": {
     "slide_type": "fragment"
    },
    "tags": []
   },
   "source": [
    "```python\n",
    "'{\"name\": \"Balut\", \"happy\": true}'\n",
    "```"
   ]
  },
  {
   "cell_type": "markdown",
   "id": "13f936b8-fc0e-4311-a11a-a9246ed29028",
   "metadata": {
    "jupyter": {
     "outputs_hidden": false
    },
    "slideshow": {
     "slide_type": "subslide"
    },
    "tags": []
   },
   "source": [
    "#### `.dict(...)`"
   ]
  },
  {
   "cell_type": "code",
   "execution_count": null,
   "id": "a972f605",
   "metadata": {
    "collapsed": false,
    "jupyter": {
     "outputs_hidden": false
    },
    "slideshow": {
     "slide_type": "fragment"
    },
    "tags": []
   },
   "outputs": [],
   "source": [
    "balut.dict(exclude_defaults=True, include={\"allergies\"})"
   ]
  },
  {
   "cell_type": "markdown",
   "id": "bd2fd91b-d8e7-4cd1-bd5c-0a178b5d4c24",
   "metadata": {
    "slideshow": {
     "slide_type": "fragment"
    },
    "tags": []
   },
   "source": [
    "```python\n",
    "{'allergies': None}\n",
    "```"
   ]
  },
  {
   "cell_type": "markdown",
   "id": "29314de6-6f85-4497-a6bd-db14f26e5234",
   "metadata": {
    "slideshow": {
     "slide_type": "slide"
    },
    "tags": []
   },
   "source": [
    "## Validators"
   ]
  },
  {
   "cell_type": "markdown",
   "id": "4a1df04e-1874-4154-9bf6-0295d5fbc275",
   "metadata": {
    "slideshow": {
     "slide_type": "fragment"
    },
    "tags": []
   },
   "source": [
    "Validators are one way to extend custom field validations."
   ]
  },
  {
   "cell_type": "code",
   "execution_count": null,
   "id": "270450cd-ed3f-4d63-95f9-4cfb65e96473",
   "metadata": {
    "slideshow": {
     "slide_type": "fragment"
    },
    "tags": []
   },
   "outputs": [],
   "source": [
    "from pydantic import validator\n",
    "\n",
    "\n",
    "class Dog(BaseModel):\n",
    "    happy: bool\n",
    "\n",
    "    @validator(\"happy\")  👈\n",
    "    def must_be_happy(cls, happy):\n",
    "        if not happy:\n",
    "            raise ValueError(\"A dog is always happy\")\n",
    "        return happy"
   ]
  },
  {
   "cell_type": "code",
   "execution_count": null,
   "id": "dbad3186-5521-4031-8d4b-2c671c1e3ef8",
   "metadata": {
    "slideshow": {
     "slide_type": "fragment"
    },
    "tags": []
   },
   "outputs": [],
   "source": [
    "Dog(happy=False)"
   ]
  },
  {
   "cell_type": "markdown",
   "id": "c925c8a7-6dd0-48cb-9bb5-a08b84b75b74",
   "metadata": {
    "slideshow": {
     "slide_type": "fragment"
    },
    "tags": []
   },
   "source": [
    "<pre style=\"color: #fa3333\">ValueError: A dog is always happy</pre>"
   ]
  },
  {
   "cell_type": "markdown",
   "id": "4ee0ceb3-490e-462c-8472-b7e9f5593381",
   "metadata": {
    "slideshow": {
     "slide_type": "subslide"
    },
    "tags": [
     "validators"
    ]
   },
   "source": [
    "With `values` argument, we can access all the fields that already have been defined"
   ]
  },
  {
   "cell_type": "code",
   "execution_count": null,
   "id": "b6a21be5-9b9e-470e-ab88-e2bde919101a",
   "metadata": {
    "slideshow": {
     "slide_type": "fragment"
    },
    "tags": []
   },
   "outputs": [],
   "source": [
    "class Dog(BaseModel):\n",
    "    name: str\n",
    "    happy: bool\n",
    "\n",
    "    @validator(\"happy\")\n",
    "    def must_be_happy(cls,\n",
    "                      happy,\n",
    "                      values  👈\n",
    "                      ):\n",
    "        if not happy:\n",
    "            dog_name = values[\"name\"]\n",
    "            raise ValueError(f\"{dog_name} is always happy\")\n",
    "        return happy"
   ]
  },
  {
   "cell_type": "code",
   "execution_count": null,
   "id": "98a5e5c5-7418-4fc7-90db-605e8bdb7363",
   "metadata": {
    "slideshow": {
     "slide_type": "fragment"
    },
    "tags": []
   },
   "outputs": [],
   "source": [
    "Dog(name=\"Balut\", happy=False)"
   ]
  },
  {
   "cell_type": "markdown",
   "id": "7fa3f33b-f925-4f77-9f74-397cbef3ce8f",
   "metadata": {
    "slideshow": {
     "slide_type": "fragment"
    },
    "tags": []
   },
   "source": [
    "<pre style=\"color: #fa3333\">ValueError: Balut is always happy</pre>"
   ]
  },
  {
   "cell_type": "markdown",
   "id": "a63df064",
   "metadata": {
    "slideshow": {
     "slide_type": "slide"
    },
    "tags": []
   },
   "source": [
    "# </recap>"
   ]
  },
  {
   "cell_type": "markdown",
   "id": "69d116cc-35da-4afa-a4f5-5569b81f1a76",
   "metadata": {
    "slideshow": {
     "slide_type": "slide"
    },
    "tags": []
   },
   "source": [
    "# 2. Config"
   ]
  },
  {
   "cell_type": "markdown",
   "id": "35453d85-7075-47d3-9b45-7c553b0f7307",
   "metadata": {
    "slideshow": {
     "slide_type": "fragment"
    },
    "tags": []
   },
   "source": [
    "`Config` is a clean way to:"
   ]
  },
  {
   "cell_type": "markdown",
   "id": "ad44f18e-273d-4b60-a736-310da1373ce4",
   "metadata": {
    "slideshow": {
     "slide_type": "fragment"
    },
    "tags": []
   },
   "source": [
    "- Dictate how our model interacts with the outside world"
   ]
  },
  {
   "cell_type": "markdown",
   "id": "9518b2f0-86e9-415a-b158-052bf1c3898a",
   "metadata": {
    "slideshow": {
     "slide_type": "fragment"
    },
    "tags": []
   },
   "source": [
    "- Establish rules for validating and parsing our fields"
   ]
  },
  {
   "cell_type": "markdown",
   "id": "68f77669-11c9-4e81-a70d-a30e942c3846",
   "metadata": {
    "slideshow": {
     "slide_type": "slide"
    },
    "tags": []
   },
   "source": [
    "## Controlling strictness with config"
   ]
  },
  {
   "cell_type": "markdown",
   "id": "339702da-5b75-4bc7-b30d-71343f3e8732",
   "metadata": {
    "slideshow": {
     "slide_type": "subslide"
    },
    "tags": []
   },
   "source": [
    "### `Config.validate_all`\n",
    "Whether to validate field defaults (default: `False`)"
   ]
  },
  {
   "cell_type": "code",
   "execution_count": null,
   "id": "49ff9a0c-05a1-4e43-af80-0c377fd09583",
   "metadata": {
    "slideshow": {
     "slide_type": "fragment"
    },
    "tags": []
   },
   "outputs": [],
   "source": [
    "class Person(BaseModel):\n",
    "    age: int = \"Hello\"\n",
    "\n",
    "    class Config:\n",
    "        validate_all = True\n",
    "\n",
    "\n",
    "Person()"
   ]
  },
  {
   "cell_type": "markdown",
   "id": "1657b9d0-a3ae-4296-bbf2-9ed158564fb3",
   "metadata": {
    "slideshow": {
     "slide_type": "fragment"
    },
    "tags": []
   },
   "source": [
    "<pre style=\"color: #fa3333\">ValidationError: not a valid integer</pre>"
   ]
  },
  {
   "cell_type": "markdown",
   "id": "d8f85b40-9f57-4a41-b8df-970649155bfc",
   "metadata": {
    "slideshow": {
     "slide_type": "subslide"
    },
    "tags": []
   },
   "source": [
    "### `Config.validate_assignment`\n",
    "Default `False`"
   ]
  },
  {
   "cell_type": "code",
   "execution_count": null,
   "id": "53c47272-9792-48ec-8574-884abb7ca47f",
   "metadata": {
    "slideshow": {
     "slide_type": "fragment"
    },
    "tags": []
   },
   "outputs": [],
   "source": [
    "class Person(BaseModel):\n",
    "    age: int\n",
    "\n",
    "    class Config:\n",
    "        validate_assignment = True\n",
    "\n",
    "\n",
    "p = Person(age=42)\n",
    "p.age = \"Hello\""
   ]
  },
  {
   "cell_type": "markdown",
   "id": "1385381a-be4f-4a3f-b7b0-0091e8d253d2",
   "metadata": {
    "slideshow": {
     "slide_type": "fragment"
    },
    "tags": []
   },
   "source": [
    "<pre style=\"color: #fa3333\">ValidationError: not a valid integer</pre>"
   ]
  },
  {
   "cell_type": "markdown",
   "id": "8aab7547-cbff-404b-b00e-0d2c1d85c1cc",
   "metadata": {
    "slideshow": {
     "slide_type": "subslide"
    },
    "tags": []
   },
   "source": [
    "### `Config.extra: Extra`\n",
    "Default `Extra.ignore`"
   ]
  },
  {
   "cell_type": "code",
   "execution_count": null,
   "id": "1acc0d36-143c-4b7e-8634-d564c045759b",
   "metadata": {
    "slideshow": {
     "slide_type": "fragment"
    },
    "tags": []
   },
   "outputs": [],
   "source": [
    "from pydantic import Extra\n",
    "\n",
    "\n",
    "class Person(BaseModel):\n",
    "    age: int\n",
    "\n",
    "    class Config:\n",
    "        extra = Extra.forbid\n",
    "\n",
    "\n",
    "Person(age=42, what=\"no idea\")"
   ]
  },
  {
   "cell_type": "markdown",
   "id": "b4499773-8761-4cee-b1c4-493b4a40d7c3",
   "metadata": {
    "slideshow": {
     "slide_type": "fragment"
    },
    "tags": []
   },
   "source": [
    "<pre style=\"color: #fa3333\">ValidationError: extra fields not permitted</pre>"
   ]
  },
  {
   "cell_type": "markdown",
   "id": "e0a267ec-d216-4ffc-b5a5-470cdda14b27",
   "metadata": {
    "slideshow": {
     "slide_type": "subslide"
    },
    "tags": []
   },
   "source": [
    "### `Config.allow_mutation`\n",
    "Default `True`"
   ]
  },
  {
   "cell_type": "code",
   "execution_count": null,
   "id": "c85c3383-7307-4974-95ce-b947e84e312e",
   "metadata": {
    "slideshow": {
     "slide_type": "fragment"
    },
    "tags": []
   },
   "outputs": [],
   "source": [
    "class Person(BaseModel):\n",
    "    age: int\n",
    "\n",
    "    class Config:\n",
    "        allow_mutation = False\n",
    "\n",
    "\n",
    "p = Person(age=42)\n",
    "p.age = 100"
   ]
  },
  {
   "cell_type": "markdown",
   "id": "8f67f3f0-960e-40fa-b29e-c443be577917",
   "metadata": {
    "slideshow": {
     "slide_type": "fragment"
    },
    "tags": []
   },
   "source": [
    "<pre style=\"color: #fa3333\">TypeError: \"Person\" is immutable and does not support item assignment</pre>"
   ]
  },
  {
   "cell_type": "markdown",
   "id": "222eba6e-93fe-4e02-a911-a3865df4121b",
   "metadata": {
    "slideshow": {
     "slide_type": "slide"
    },
    "tags": []
   },
   "source": [
    "## Serialization config options"
   ]
  },
  {
   "cell_type": "markdown",
   "id": "e080ef58-2d8a-4204-9c50-88f12c5a5ce9",
   "metadata": {
    "slideshow": {
     "slide_type": "fragment"
    },
    "tags": []
   },
   "source": [
    "### `Config.json_dumps: (object_dict: dict, *, default) -> str`"
   ]
  },
  {
   "cell_type": "markdown",
   "id": "98370a5b-86e0-4acc-aa60-5f6ca90a5971",
   "metadata": {
    "slideshow": {
     "slide_type": "fragment"
    },
    "tags": []
   },
   "source": [
    "Defaults to stdlib `json.dumps`"
   ]
  },
  {
   "cell_type": "code",
   "execution_count": null,
   "id": "0efd94f2-c70c-4007-8811-66871e009a79",
   "metadata": {
    "slideshow": {
     "slide_type": "fragment"
    },
    "tags": []
   },
   "outputs": [],
   "source": [
    "class Robot(BaseModel):\n",
    "    name: str\n",
    "    date_of_birth: datetime\n",
    "    \n",
    "    class Config:\n",
    "        json_dumps = dump_and_yell  👈"
   ]
  },
  {
   "cell_type": "code",
   "execution_count": null,
   "id": "bdf49e08-f429-4d1a-bdb7-cf3ac8aadfae",
   "metadata": {
    "slideshow": {
     "slide_type": "fragment"
    },
    "tags": []
   },
   "outputs": [],
   "source": [
    "def dump_and_yell(object_dict: dict, *, default: callable) -> str:\n",
    "    loud_dict = {}\n",
    "    for key, value in object_dict.items():\n",
    "        loud_dict[key] = str(value).upper() + \"!!!\"\n",
    "    return json.dumps(loud_dict, default=default)"
   ]
  },
  {
   "cell_type": "code",
   "execution_count": null,
   "id": "3d0f4e70-988a-4ad8-bb59-04c63f820fe2",
   "metadata": {
    "slideshow": {
     "slide_type": "fragment"
    },
    "tags": []
   },
   "outputs": [],
   "source": [
    "Robot(name=\"r2d2\", date_of_birth=datetime(1977, 1, 1)).json()"
   ]
  },
  {
   "cell_type": "markdown",
   "id": "a559a305-579c-4416-ab18-bac4317d1638",
   "metadata": {
    "slideshow": {
     "slide_type": "fragment"
    },
    "tags": []
   },
   "source": [
    "```python\n",
    "'{\"name\": \"R2D2!!!\", \"date_of_birth\": \"1977-01-01 00:00:00!!!\"}'\n",
    "```"
   ]
  },
  {
   "cell_type": "markdown",
   "id": "d38f734d-4010-4882-87d7-5f1c4f8e7edb",
   "metadata": {
    "slideshow": {
     "slide_type": "subslide"
    },
    "tags": []
   },
   "source": [
    "### `Config.json_loads: (stringified_object: str) -> dict`"
   ]
  },
  {
   "cell_type": "markdown",
   "id": "1bb7a50b-9bbb-406e-9586-d35df365828d",
   "metadata": {
    "slideshow": {
     "slide_type": "fragment"
    },
    "tags": []
   },
   "source": [
    "Defaults to stdlib `json.loads`"
   ]
  },
  {
   "cell_type": "code",
   "execution_count": null,
   "id": "7c8cb2d6-0970-4d82-90d6-7b31cb789093",
   "metadata": {
    "slideshow": {
     "slide_type": "fragment"
    },
    "tags": []
   },
   "outputs": [],
   "source": [
    "class Robot(BaseModel):\n",
    "    name: str\n",
    "    date_of_birth: datetime\n",
    "\n",
    "    class Config:\n",
    "        json_dumps = dump_and_yell\n",
    "        json_loads = load_and_calm_down  👈"
   ]
  },
  {
   "cell_type": "code",
   "execution_count": null,
   "id": "5214248d-a5cc-40b6-b97a-50f90bbfdb5e",
   "metadata": {
    "slideshow": {
     "slide_type": "fragment"
    },
    "tags": []
   },
   "outputs": [],
   "source": [
    "def load_and_calm_down(stringified_object: str) -> dict:\n",
    "    calm: str = stringified_object.lower().replace(\"!\", \"\")\n",
    "    return json.loads(calm)"
   ]
  },
  {
   "cell_type": "code",
   "execution_count": null,
   "id": "2d0d10cf-5c41-47cd-97cd-01850e756d15",
   "metadata": {
    "slideshow": {
     "slide_type": "fragment"
    },
    "tags": []
   },
   "outputs": [],
   "source": [
    "stringified: str = Robot(name=\"r2d2\", date_of_birth=datetime(1977, 1, 1)).json()\n",
    "Robot.parse_raw(stringified)"
   ]
  },
  {
   "cell_type": "markdown",
   "id": "72b089a6-2b4b-4589-9d01-08691237cea4",
   "metadata": {
    "slideshow": {
     "slide_type": "fragment"
    },
    "tags": []
   },
   "source": [
    "```python\n",
    "Robot(name='r2d2', date_of_birth=datetime.datetime(1977, 1, 1, 0, 0))\n",
    "```"
   ]
  },
  {
   "cell_type": "markdown",
   "id": "9ae63cb2-249a-4838-a6f5-9d0301eaa9f5",
   "metadata": {
    "slideshow": {
     "slide_type": "slide"
    },
    "tags": []
   },
   "source": [
    "## Other useful Config options"
   ]
  },
  {
   "cell_type": "markdown",
   "id": "81da19cb-0b3d-4b54-8f10-78a1b4ab14f8",
   "metadata": {
    "slideshow": {
     "slide_type": "subslide"
    },
    "tags": []
   },
   "source": [
    "### `Config.use_enum_values`\n",
    "Default: `False`"
   ]
  },
  {
   "cell_type": "code",
   "execution_count": null,
   "id": "490a50f2-e0fc-4bf1-9455-f01515f24901",
   "metadata": {
    "slideshow": {
     "slide_type": "fragment"
    },
    "tags": []
   },
   "outputs": [],
   "source": [
    "from enum import Enum\n",
    "\n",
    "\n",
    "class Food(Enum):\n",
    "    japo = \"japo\"\n",
    "    sari = \"sari\"\n",
    "\n",
    "\n",
    "class Elad(BaseModel):\n",
    "    ma_ochlim_haiom: Food\n",
    "\n",
    "\n",
    "Elad(ma_ochlim_haiom=\"japo\").ma_ochlim_haiom"
   ]
  },
  {
   "cell_type": "markdown",
   "id": "523ac3bb-d90e-4473-9386-a4d73437820d",
   "metadata": {
    "slideshow": {
     "slide_type": "fragment"
    },
    "tags": []
   },
   "source": [
    "```python\n",
    "<Food.japo: 'japo'>\n",
    "```"
   ]
  },
  {
   "cell_type": "code",
   "execution_count": null,
   "id": "fe047b8c-b40a-4c94-8acd-cb1dd55fef34",
   "metadata": {
    "slideshow": {
     "slide_type": "fragment"
    },
    "tags": []
   },
   "outputs": [],
   "source": [
    "class Elad(BaseModel):\n",
    "    ma_ochlim_haiom: Food\n",
    "\n",
    "    class Config:\n",
    "        use_enum_values = True  👈\n",
    "\n",
    "\n",
    "Elad(ma_ochlim_haiom=\"japo\").ma_ochlim_haiom"
   ]
  },
  {
   "cell_type": "markdown",
   "id": "9d22b350-42a0-4803-a976-e8dfd5659cc0",
   "metadata": {
    "slideshow": {
     "slide_type": "fragment"
    },
    "tags": []
   },
   "source": [
    "```python\n",
    "'japo'\n",
    "```"
   ]
  },
  {
   "cell_type": "markdown",
   "id": "747ca837-121e-4b26-9816-62ffd40f1baf",
   "metadata": {
    "slideshow": {
     "slide_type": "subslide"
    },
    "tags": []
   },
   "source": [
    "### `Config.arbitrary_types_allowed`\n",
    "Like `orm_mode`, but on the field level:"
   ]
  },
  {
   "cell_type": "code",
   "execution_count": null,
   "id": "2255ec39-8d69-4f96-8f81-1f840939bdf7",
   "metadata": {
    "slideshow": {
     "slide_type": "fragment"
    },
    "tags": []
   },
   "outputs": [],
   "source": [
    "class MyCoolStringComposition:\n",
    "    def __init__(self, string):\n",
    "        self._string = string\n",
    "\n",
    "\n",
    "class Person(BaseModel):\n",
    "    name: MyCoolStringComposition\n",
    "\n",
    "\n",
    "Person(name=MyCoolStringComposition(\"bob\"))"
   ]
  },
  {
   "cell_type": "markdown",
   "id": "1c1ad69a-754d-4742-95f8-e429a8f1a26c",
   "metadata": {
    "slideshow": {
     "slide_type": "fragment"
    },
    "tags": []
   },
   "source": [
    "<pre style=\"color: #fa3333\">RuntimeError: No validator found for MyCoolStringComposition</pre>"
   ]
  },
  {
   "cell_type": "code",
   "execution_count": null,
   "id": "354e81e1-5044-4616-aa02-03cae5ab76ea",
   "metadata": {
    "slideshow": {
     "slide_type": "fragment"
    },
    "tags": []
   },
   "outputs": [],
   "source": [
    "class Person(BaseModel):\n",
    "    name: MyCoolStringComposition\n",
    "\n",
    "    class Config:\n",
    "        arbitrary_types_allowed = True  👈\n",
    "\n",
    "\n",
    "Person(name=MyCoolStringComposition(\"bob\"))  # all good ✔"
   ]
  },
  {
   "cell_type": "markdown",
   "id": "0ba56504-f897-4531-a0fb-1fa67946b030",
   "metadata": {
    "slideshow": {
     "slide_type": "subslide"
    },
    "tags": []
   },
   "source": [
    "### `Config.smart_union`"
   ]
  },
  {
   "cell_type": "markdown",
   "id": "3142955d-f80b-4db2-9318-a95a22569d8e",
   "metadata": {
    "slideshow": {
     "slide_type": "fragment"
    },
    "tags": []
   },
   "source": [
    "By default, `Union` is stupid."
   ]
  },
  {
   "cell_type": "code",
   "execution_count": null,
   "id": "ea1d3123-6220-4c10-9e2c-a5c5d104cb66",
   "metadata": {
    "slideshow": {
     "slide_type": "fragment"
    },
    "tags": []
   },
   "outputs": [],
   "source": [
    "class Person(BaseModel):\n",
    "    personal_id: str | int\n",
    "\n",
    "    class Config:\n",
    "        smart_union = True"
   ]
  },
  {
   "cell_type": "code",
   "execution_count": null,
   "id": "34db0aff-dd91-4313-9009-a290e9e9ce0f",
   "metadata": {
    "slideshow": {
     "slide_type": "fragment"
    },
    "tags": []
   },
   "outputs": [],
   "source": [
    "Person(personal_id=1234).personal_id"
   ]
  },
  {
   "cell_type": "markdown",
   "id": "1c612437-17eb-4f91-97fb-74f11b15bbb1",
   "metadata": {
    "slideshow": {
     "slide_type": "fragment"
    },
    "tags": []
   },
   "source": [
    "```python\n",
    "1234\n",
    "```"
   ]
  },
  {
   "cell_type": "markdown",
   "id": "9d6c1244-a4d0-46ff-933b-3a7806369f25",
   "metadata": {
    "slideshow": {
     "slide_type": "slide"
    },
    "tags": []
   },
   "source": [
    "# 3. Settings"
   ]
  },
  {
   "cell_type": "markdown",
   "id": "58d90808-b6e2-40c2-b95b-8b8d080a0c02",
   "metadata": {
    "slideshow": {
     "slide_type": "fragment"
    },
    "tags": []
   },
   "source": [
    "Pydantic offers a `BaseSettings` class, which is good for:\n",
    "- Interacting with runtime environment variables\n",
    "- `.env` files\n",
    "- file secrets"
   ]
  },
  {
   "cell_type": "markdown",
   "id": "894af5fa-dce0-4cec-9c73-9fbd051f1c70",
   "metadata": {
    "slideshow": {
     "slide_type": "subslide"
    },
    "tags": []
   },
   "source": [
    "### `.env` (dotenv files)"
   ]
  },
  {
   "cell_type": "code",
   "execution_count": null,
   "id": "309f4e7b-39d2-4aea-8e47-a4a643bb8be4",
   "metadata": {
    "slideshow": {
     "slide_type": "notes"
    },
    "tags": []
   },
   "outputs": [],
   "source": [
    "Go to notebook"
   ]
  },
  {
   "cell_type": "code",
   "execution_count": null,
   "id": "c866ea9d-7582-4877-836b-9769444ae9dd",
   "metadata": {
    "slideshow": {
     "slide_type": "fragment"
    },
    "tags": []
   },
   "outputs": [],
   "source": [
    "from pydantic import BaseSettings\n",
    "\n",
    "\n",
    "class Settings(BaseSettings):\n",
    "    password: str\n",
    "\n",
    "    class Config:\n",
    "        env_file = \".env\""
   ]
  },
  {
   "cell_type": "code",
   "execution_count": null,
   "id": "f0997403-d2b4-4969-bc16-adb8820271ca",
   "metadata": {
    "slideshow": {
     "slide_type": "fragment"
    },
    "tags": []
   },
   "outputs": [],
   "source": [
    "!echo 'password=1234' > .env"
   ]
  },
  {
   "cell_type": "code",
   "execution_count": null,
   "id": "cc042ac2-a0c7-46da-9949-f79bb7495b21",
   "metadata": {
    "slideshow": {
     "slide_type": "skip"
    },
    "tags": []
   },
   "outputs": [],
   "source": [
    "!cat .env"
   ]
  },
  {
   "cell_type": "code",
   "execution_count": null,
   "id": "9735d833-088f-481a-832c-8d303a762361",
   "metadata": {
    "slideshow": {
     "slide_type": "fragment"
    },
    "tags": []
   },
   "outputs": [],
   "source": [
    "Settings()"
   ]
  },
  {
   "cell_type": "markdown",
   "id": "a0eb3c76-3d26-4c05-baee-7dc9ccaec9d9",
   "metadata": {
    "slideshow": {
     "slide_type": "fragment"
    },
    "tags": []
   },
   "source": [
    "```python\n",
    "Settings(password='1234')\n",
    "```"
   ]
  },
  {
   "cell_type": "markdown",
   "id": "143ee304-04ad-4bcb-a06a-3dc591cd0dab",
   "metadata": {
    "slideshow": {
     "slide_type": "subslide"
    },
    "tags": []
   },
   "source": [
    "### Environment variables (stronger than `.env` files)"
   ]
  },
  {
   "cell_type": "code",
   "execution_count": null,
   "id": "1988e9a9-79ac-480e-bb78-df6e4d1b7d3d",
   "metadata": {
    "slideshow": {
     "slide_type": "fragment"
    },
    "tags": []
   },
   "outputs": [],
   "source": [
    "%env password=4321"
   ]
  },
  {
   "cell_type": "code",
   "execution_count": null,
   "id": "a2866722-a235-48d0-80b9-01a8a82a1c5d",
   "metadata": {
    "slideshow": {
     "slide_type": "fragment"
    },
    "tags": []
   },
   "outputs": [],
   "source": [
    "Settings()"
   ]
  },
  {
   "cell_type": "markdown",
   "id": "09d660dd-f86b-466a-a464-f9bd432daa48",
   "metadata": {
    "slideshow": {
     "slide_type": "fragment"
    },
    "tags": []
   },
   "source": [
    "```python\n",
    "Settings(password='4321')\n",
    "```"
   ]
  },
  {
   "cell_type": "markdown",
   "id": "e69f03a4-c1cf-4028-83f5-98ce21c17aa6",
   "metadata": {
    "slideshow": {
     "slide_type": "subslide"
    },
    "tags": []
   },
   "source": [
    "### Support for multiple `.env` files"
   ]
  },
  {
   "cell_type": "code",
   "execution_count": null,
   "id": "3e94761b-2ce7-48b7-9ba8-1d54d49dc4fd",
   "metadata": {
    "slideshow": {
     "slide_type": "fragment"
    },
    "tags": []
   },
   "outputs": [],
   "source": [
    "class Settings(BaseSettings):\n",
    "    api_key: str\n",
    "\n",
    "    class Config:\n",
    "        env_file = \".env\", \".env.prod\"  # .env.prod wins"
   ]
  },
  {
   "cell_type": "code",
   "execution_count": null,
   "id": "64b50de4-769b-4828-846d-57fe2ae480e4",
   "metadata": {
    "slideshow": {
     "slide_type": "fragment"
    },
    "tags": []
   },
   "outputs": [],
   "source": [
    "!echo 'api_key=9999' > .env.prod"
   ]
  },
  {
   "cell_type": "code",
   "execution_count": null,
   "id": "c479dc90-6f68-4791-bf70-344caa96849c",
   "metadata": {
    "slideshow": {
     "slide_type": "fragment"
    },
    "tags": []
   },
   "outputs": [],
   "source": [
    "!echo 'api_key=8888' > .env"
   ]
  },
  {
   "cell_type": "code",
   "execution_count": null,
   "id": "b960a829-2658-41ea-b022-c5ad2aed5c74",
   "metadata": {
    "slideshow": {
     "slide_type": "skip"
    },
    "tags": []
   },
   "outputs": [],
   "source": [
    "!cat .env.prod"
   ]
  },
  {
   "cell_type": "code",
   "execution_count": null,
   "id": "ef103f0e-4643-448d-abe0-0fbcff9b01a1",
   "metadata": {
    "slideshow": {
     "slide_type": "skip"
    },
    "tags": []
   },
   "outputs": [],
   "source": [
    "!cat .env"
   ]
  },
  {
   "cell_type": "code",
   "execution_count": null,
   "id": "d534de60-e78a-43b9-b0be-2de96fa2f2bb",
   "metadata": {
    "slideshow": {
     "slide_type": "fragment"
    },
    "tags": []
   },
   "outputs": [],
   "source": [
    "Settings()"
   ]
  },
  {
   "cell_type": "markdown",
   "id": "7e27ade7-f87e-4c21-b37b-671a11f1a952",
   "metadata": {
    "slideshow": {
     "slide_type": "fragment"
    },
    "tags": []
   },
   "source": [
    "```python\n",
    "Settings(api_key='9999')\n",
    "```"
   ]
  },
  {
   "cell_type": "markdown",
   "id": "0cbaa6c0-dfd2-492d-ad3d-ac87e87ec962",
   "metadata": {
    "slideshow": {
     "slide_type": "subslide"
    },
    "tags": []
   },
   "source": [
    "### `BaseSettings` is a `BaseModel` subclass, so you could do dynamic evaluation, e.g:"
   ]
  },
  {
   "cell_type": "code",
   "execution_count": null,
   "id": "9741a35d-9518-4f0b-8a84-0a856e96e451",
   "metadata": {
    "slideshow": {
     "slide_type": "fragment"
    },
    "tags": []
   },
   "outputs": [],
   "source": [
    "class Settings(BaseSettings):\n",
    "    prod_db_write_permission: bool = False\n",
    "\n",
    "    class Config:\n",
    "        env_file = \".env\"\n",
    "\n",
    "    @validator(\"prod_db_write_permission\")\n",
    "    def get_prod_db_write_permission(cls, prod_db_write_permission):\n",
    "        if os.getlogin() == \"gilad\":\n",
    "            return True\n",
    "        return False"
   ]
  },
  {
   "cell_type": "markdown",
   "id": "79625fd3-0e7d-4295-aa10-19dabc6f17bb",
   "metadata": {
    "slideshow": {
     "slide_type": "slide"
    },
    "tags": []
   },
   "source": [
    "# 4. Custom Exception Handling"
   ]
  },
  {
   "cell_type": "markdown",
   "id": "4b312422-a822-4716-b6c7-398a3e3b9664",
   "metadata": {
    "slideshow": {
     "slide_type": "subslide"
    },
    "tags": []
   },
   "source": [
    "### Pydantic's custom errors are fancy wrappers"
   ]
  },
  {
   "cell_type": "code",
   "execution_count": 10,
   "id": "e3ded9a8-443b-459f-a794-77fd497b9087",
   "metadata": {
    "slideshow": {
     "slide_type": "fragment"
    },
    "tags": []
   },
   "outputs": [],
   "source": [
    "from pydantic import BaseModel, validator\n",
    "class Person(BaseModel):\n",
    "    age: int\n",
    "    name: str\n",
    "\n",
    "    @validator(\"age\")\n",
    "    def bla(cls, age):\n",
    "        raise PydanticValueError()\n",
    "    @validator(\"name\")\n",
    "    def validate_name_not_empty(cls, name):\n",
    "        if not name:\n",
    "            raise EmptyNameError(name=name, \n",
    "                                  model=cls, \n",
    "                                  support_email=\"stas@walla.co.il\")\n",
    "        return name"
   ]
  },
  {
   "cell_type": "code",
   "execution_count": 8,
   "id": "a9e6eb46-4aea-4813-8f5a-8e315fde5032",
   "metadata": {
    "slideshow": {
     "slide_type": "fragment"
    },
    "tags": []
   },
   "outputs": [],
   "source": [
    "from pydantic import PydanticValueError, ValidationError\n",
    "\n",
    "class EmptyNameError(PydanticValueError):\n",
    "    code = \"empty_name\"\n",
    "    msg_template = ('Name cannot be empty. '\n",
    "                    'Got \"{name}\" while building {model}. '\n",
    "                    'Please email {support_email}.')"
   ]
  },
  {
   "cell_type": "code",
   "execution_count": 15,
   "id": "0206eba9-11cd-4776-8a06-9b2ca36aeba1",
   "metadata": {
    "slideshow": {
     "slide_type": "skip"
    },
    "tags": []
   },
   "outputs": [
    {
     "name": "stdout",
     "output_type": "stream",
     "text": [
      "A few useful attributes:\n",
      "------------------------\n",
      "e.model:  <class '__main__.Person'>\n",
      "e.raw_errors:  [ErrorWrapper(exc=PydanticValueError(), loc=('age',)), ErrorWrapper(exc=EmptyNameError(), loc=('name',))]\n"
     ]
    }
   ],
   "source": [
    "try:\n",
    "    Person(name=\"\", age=42)\n",
    "except ValidationError as e:\n",
    "    print(\"A few useful attributes:\")\n",
    "    print(\"------------------------\")\n",
    "    print(\"e.model: \", e.model)\n",
    "    print(\"e.raw_errors: \", e.raw_errors)\n",
    "    e"
   ]
  },
  {
   "cell_type": "code",
   "execution_count": null,
   "id": "e66d7410-90f1-424d-bc07-945edcc9781a",
   "metadata": {
    "slideshow": {
     "slide_type": "fragment"
    },
    "tags": []
   },
   "outputs": [
    {
     "data": {
      "text/html": [
       "<pre style=\"white-space:pre;overflow-x:auto;line-height:normal;font-family:Menlo,'DejaVu Sans Mono',consolas,'Courier New',monospace\"><span style=\"color: #800000; text-decoration-color: #800000\">╭─────────────────────────────── </span><span style=\"color: #800000; text-decoration-color: #800000; font-weight: bold\">Traceback </span><span style=\"color: #bf7f7f; text-decoration-color: #bf7f7f; font-weight: bold\">(most recent call last)</span><span style=\"color: #800000; text-decoration-color: #800000\"> ────────────────────────────────╮</span>\n",
       "<span style=\"color: #800000; text-decoration-color: #800000\">│</span> <span style=\"color: #bfbf7f; text-decoration-color: #bfbf7f\">/var/folders/6d/v_8150015qz_fxg7lkd8qgxw0000gn/T/ipykernel_56567/</span><span style=\"color: #808000; text-decoration-color: #808000; font-weight: bold\">1341492490.py</span>:<span style=\"color: #0000ff; text-decoration-color: #0000ff\">1</span> in <span style=\"color: #00ff00; text-decoration-color: #00ff00\">&lt;module&gt;</span>     <span style=\"color: #800000; text-decoration-color: #800000\">│</span>\n",
       "<span style=\"color: #800000; text-decoration-color: #800000\">│</span>                                                                                                  <span style=\"color: #800000; text-decoration-color: #800000\">│</span>\n",
       "<span style=\"color: #800000; text-decoration-color: #800000\">│</span> <span style=\"color: #800000; text-decoration-color: #800000; font-style: italic\">[Errno 2] No such file or directory: </span>                                                            <span style=\"color: #800000; text-decoration-color: #800000\">│</span>\n",
       "<span style=\"color: #800000; text-decoration-color: #800000\">│</span> <span style=\"color: #800000; text-decoration-color: #800000; font-style: italic\">'/var/folders/6d/v_8150015qz_fxg7lkd8qgxw0000gn/T/ipykernel_56567/1341492490.py'</span>                 <span style=\"color: #800000; text-decoration-color: #800000\">│</span>\n",
       "<span style=\"color: #800000; text-decoration-color: #800000\">│</span>                                                                                                  <span style=\"color: #800000; text-decoration-color: #800000\">│</span>\n",
       "<span style=\"color: #800000; text-decoration-color: #800000\">│</span> <span style=\"color: #bfbf7f; text-decoration-color: #bfbf7f\">/Users/gilad/dev/advanced-python-crash-course/2022/env/lib/python3.10/site-packages/pydantic/</span><span style=\"color: #808000; text-decoration-color: #808000; font-weight: bold\">mai</span> <span style=\"color: #800000; text-decoration-color: #800000\">│</span>\n",
       "<span style=\"color: #800000; text-decoration-color: #800000\">│</span> <span style=\"color: #808000; text-decoration-color: #808000; font-weight: bold\">n.py</span>:<span style=\"color: #0000ff; text-decoration-color: #0000ff\">342</span> in <span style=\"color: #00ff00; text-decoration-color: #00ff00\">__init__</span>                                                                             <span style=\"color: #800000; text-decoration-color: #800000\">│</span>\n",
       "<span style=\"color: #800000; text-decoration-color: #800000\">│</span>                                                                                                  <span style=\"color: #800000; text-decoration-color: #800000\">│</span>\n",
       "<span style=\"color: #800000; text-decoration-color: #800000\">│</span>   <span style=\"color: #7f7f7f; text-decoration-color: #7f7f7f\"> 339 │   │   # Uses something other than `self` the first arg to allow \"self\" as a settable a</span>  <span style=\"color: #800000; text-decoration-color: #800000\">│</span>\n",
       "<span style=\"color: #800000; text-decoration-color: #800000\">│</span>   <span style=\"color: #7f7f7f; text-decoration-color: #7f7f7f\"> 340 │   │   </span>values, fields_set, validation_error = validate_model(__pydantic_self__.<span style=\"color: #ff0000; text-decoration-color: #ff0000\">__class_</span>  <span style=\"color: #800000; text-decoration-color: #800000\">│</span>\n",
       "<span style=\"color: #800000; text-decoration-color: #800000\">│</span>   <span style=\"color: #7f7f7f; text-decoration-color: #7f7f7f\"> 341 │   │   </span><span style=\"color: #0000ff; text-decoration-color: #0000ff\">if</span> validation_error:                                                              <span style=\"color: #800000; text-decoration-color: #800000\">│</span>\n",
       "<span style=\"color: #800000; text-decoration-color: #800000\">│</span> <span style=\"color: #800000; text-decoration-color: #800000\">❱ </span> 342 <span style=\"color: #7f7f7f; text-decoration-color: #7f7f7f\">│   │   │   </span><span style=\"color: #0000ff; text-decoration-color: #0000ff\">raise</span> validation_error                                                        <span style=\"color: #800000; text-decoration-color: #800000\">│</span>\n",
       "<span style=\"color: #800000; text-decoration-color: #800000\">│</span>   <span style=\"color: #7f7f7f; text-decoration-color: #7f7f7f\"> 343 │   │   </span><span style=\"color: #0000ff; text-decoration-color: #0000ff\">try</span>:                                                                              <span style=\"color: #800000; text-decoration-color: #800000\">│</span>\n",
       "<span style=\"color: #800000; text-decoration-color: #800000\">│</span>   <span style=\"color: #7f7f7f; text-decoration-color: #7f7f7f\"> 344 │   │   │   </span>object_setattr(__pydantic_self__, <span style=\"color: #808000; text-decoration-color: #808000\">'__dict__'</span>, values)                         <span style=\"color: #800000; text-decoration-color: #800000\">│</span>\n",
       "<span style=\"color: #800000; text-decoration-color: #800000\">│</span>   <span style=\"color: #7f7f7f; text-decoration-color: #7f7f7f\"> 345 │   │   </span><span style=\"color: #0000ff; text-decoration-color: #0000ff\">except</span> <span style=\"color: #00ffff; text-decoration-color: #00ffff\">TypeError</span> <span style=\"color: #0000ff; text-decoration-color: #0000ff\">as</span> e:                                                            <span style=\"color: #800000; text-decoration-color: #800000\">│</span>\n",
       "<span style=\"color: #800000; text-decoration-color: #800000\">╰──────────────────────────────────────────────────────────────────────────────────────────────────╯</span>\n",
       "<span style=\"color: #ff0000; text-decoration-color: #ff0000; font-weight: bold\">ValidationError: </span><span style=\"font-weight: bold\">&lt;</span><span style=\"color: #ff00ff; text-decoration-color: #ff00ff; font-weight: bold\">exception</span><span style=\"color: #000000; text-decoration-color: #000000\"> </span><span style=\"color: #800080; text-decoration-color: #800080; font-weight: bold\">str</span><span style=\"color: #000000; text-decoration-color: #000000; font-weight: bold\">()</span><span style=\"color: #000000; text-decoration-color: #000000\"> failed</span><span style=\"font-weight: bold\">&gt;</span>\n",
       "</pre>\n"
      ],
      "text/plain": [
       "\u001B[31m╭─\u001B[0m\u001B[31m──────────────────────────────\u001B[0m\u001B[31m \u001B[0m\u001B[1;31mTraceback \u001B[0m\u001B[1;2;31m(most recent call last)\u001B[0m\u001B[31m \u001B[0m\u001B[31m───────────────────────────────\u001B[0m\u001B[31m─╮\u001B[0m\n",
       "\u001B[31m│\u001B[0m \u001B[2;33m/var/folders/6d/v_8150015qz_fxg7lkd8qgxw0000gn/T/ipykernel_56567/\u001B[0m\u001B[1;33m1341492490.py\u001B[0m:\u001B[94m1\u001B[0m in \u001B[92m<module>\u001B[0m     \u001B[31m│\u001B[0m\n",
       "\u001B[31m│\u001B[0m                                                                                                  \u001B[31m│\u001B[0m\n",
       "\u001B[31m│\u001B[0m \u001B[3;31m[Errno 2] No such file or directory: \u001B[0m                                                            \u001B[31m│\u001B[0m\n",
       "\u001B[31m│\u001B[0m \u001B[3;31m'/var/folders/6d/v_8150015qz_fxg7lkd8qgxw0000gn/T/ipykernel_56567/1341492490.py'\u001B[0m                 \u001B[31m│\u001B[0m\n",
       "\u001B[31m│\u001B[0m                                                                                                  \u001B[31m│\u001B[0m\n",
       "\u001B[31m│\u001B[0m \u001B[2;33m/Users/gilad/dev/advanced-python-crash-course/2022/env/lib/python3.10/site-packages/pydantic/\u001B[0m\u001B[1;33mmai\u001B[0m \u001B[31m│\u001B[0m\n",
       "\u001B[31m│\u001B[0m \u001B[1;33mn.py\u001B[0m:\u001B[94m342\u001B[0m in \u001B[92m__init__\u001B[0m                                                                             \u001B[31m│\u001B[0m\n",
       "\u001B[31m│\u001B[0m                                                                                                  \u001B[31m│\u001B[0m\n",
       "\u001B[31m│\u001B[0m   \u001B[2m 339 \u001B[0m\u001B[2m│   │   \u001B[0m\u001B[2m# Uses something other than `self` the first arg to allow \"self\" as a settable a\u001B[0m  \u001B[31m│\u001B[0m\n",
       "\u001B[31m│\u001B[0m   \u001B[2m 340 \u001B[0m\u001B[2m│   │   \u001B[0mvalues, fields_set, validation_error = validate_model(__pydantic_self__.\u001B[91m__class_\u001B[0m  \u001B[31m│\u001B[0m\n",
       "\u001B[31m│\u001B[0m   \u001B[2m 341 \u001B[0m\u001B[2m│   │   \u001B[0m\u001B[94mif\u001B[0m validation_error:                                                              \u001B[31m│\u001B[0m\n",
       "\u001B[31m│\u001B[0m \u001B[31m❱ \u001B[0m 342 \u001B[2m│   │   │   \u001B[0m\u001B[94mraise\u001B[0m validation_error                                                        \u001B[31m│\u001B[0m\n",
       "\u001B[31m│\u001B[0m   \u001B[2m 343 \u001B[0m\u001B[2m│   │   \u001B[0m\u001B[94mtry\u001B[0m:                                                                              \u001B[31m│\u001B[0m\n",
       "\u001B[31m│\u001B[0m   \u001B[2m 344 \u001B[0m\u001B[2m│   │   │   \u001B[0mobject_setattr(__pydantic_self__, \u001B[33m'\u001B[0m\u001B[33m__dict__\u001B[0m\u001B[33m'\u001B[0m, values)                         \u001B[31m│\u001B[0m\n",
       "\u001B[31m│\u001B[0m   \u001B[2m 345 \u001B[0m\u001B[2m│   │   \u001B[0m\u001B[94mexcept\u001B[0m \u001B[96mTypeError\u001B[0m \u001B[94mas\u001B[0m e:                                                            \u001B[31m│\u001B[0m\n",
       "\u001B[31m╰──────────────────────────────────────────────────────────────────────────────────────────────────╯\u001B[0m\n",
       "\u001B[1;91mValidationError: \u001B[0m\u001B[1m<\u001B[0m\u001B[1;95mexception\u001B[0m\u001B[39m \u001B[0m\u001B[1;35mstr\u001B[0m\u001B[1;39m(\u001B[0m\u001B[1;39m)\u001B[0m\u001B[39m failed\u001B[0m\u001B[1m>\u001B[0m\n"
      ]
     },
     "metadata": {},
     "output_type": "display_data"
    }
   ],
   "source": [
    "Person(name=\"\", age=42)"
   ]
  },
  {
   "cell_type": "markdown",
   "id": "862c9b2b-9be0-4725-b0d3-849ee3443bb1",
   "metadata": {
    "slideshow": {
     "slide_type": "fragment"
    },
    "tags": []
   },
   "source": [
    "<pre style=\"color: #fa3333\">\n",
    "ValidationError: 1 validation error for Person\n",
    "name\n",
    "  Name cannot be empty. Got \"\" while building <class '__main__.Person'>. Please email stas@walla.co.il.\n",
    "</pre>"
   ]
  }
 ],
 "metadata": {
  "kernelspec": {
   "display_name": "python_course",
   "language": "python",
   "name": "python_course"
  },
  "language_info": {
   "codemirror_mode": {
    "name": "ipython",
    "version": 3
   },
   "file_extension": ".py",
   "mimetype": "text/x-python",
   "name": "python",
   "nbconvert_exporter": "python",
   "pygments_lexer": "ipython3",
   "version": "3.10.9"
  }
 },
 "nbformat": 4,
 "nbformat_minor": 5
}
