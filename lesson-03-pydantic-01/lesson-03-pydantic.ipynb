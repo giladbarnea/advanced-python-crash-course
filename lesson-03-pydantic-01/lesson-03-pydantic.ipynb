{
 "cells": [
  {
   "cell_type": "markdown",
   "id": "84804d07-30db-4e39-af7e-4bb658ca79bc",
   "metadata": {
    "slideshow": {
     "slide_type": "slide"
    },
    "tags": []
   },
   "source": [
    "Advanced Python Crash Course 03: Pydantic\n",
    "========================================="
   ]
  },
  {
   "cell_type": "markdown",
   "id": "63429e59-feef-4d7e-8b19-44db4ed32568",
   "metadata": {
    "slideshow": {
     "slide_type": "slide"
    },
    "tags": []
   },
   "source": [
    "# Motivation"
   ]
  },
  {
   "cell_type": "markdown",
   "id": "d0e6e7ed-9e51-43f1-b7ea-f1f1a7f9c4d2",
   "metadata": {
    "slideshow": {
     "slide_type": "fragment"
    },
    "tags": []
   },
   "source": [
    "## Once upon a time, before the age of Pydantic, developers had to make a choice:"
   ]
  },
  {
   "cell_type": "markdown",
   "id": "f0b221bb-6e23-4dcb-8b41-bba8aa8de9f2",
   "metadata": {
    "slideshow": {
     "slide_type": "fragment"
    },
    "tags": []
   },
   "source": [
    "Either handle huge enterprise JSON payloads in their raw form,"
   ]
  },
  {
   "cell_type": "markdown",
   "id": "157c348f-839f-4aca-9445-539f683c71ea",
   "metadata": {
    "slideshow": {
     "slide_type": "fragment"
    },
    "tags": []
   },
   "source": [
    "Or implement their own abstractions and validations classes."
   ]
  },
  {
   "cell_type": "markdown",
   "id": "c58aeffd-3a79-4eba-8193-21b8116b92dd",
   "metadata": {
    "slideshow": {
     "slide_type": "fragment"
    },
    "tags": []
   },
   "source": [
    "They usually chose the first option."
   ]
  },
  {
   "cell_type": "markdown",
   "id": "08ae7a76-100f-45d0-bcd8-4dbaa78f6205",
   "metadata": {
    "slideshow": {
     "slide_type": "subslide"
    },
    "tags": []
   },
   "source": [
    "This means that when making a fix or a change in some shitty old REST controller, you would first need to wrap your head around code like:"
   ]
  },
  {
   "cell_type": "code",
   "execution_count": null,
   "id": "89a2d0e9-1301-4389-b0b8-640f3d56a647",
   "metadata": {
    "slideshow": {
     "slide_type": "fragment"
    },
    "tags": []
   },
   "outputs": [],
   "source": [
    "if body.get('products', {}).get('BezeqTatYami', {}).get('provisioned', False) \\\n",
    "    and 'BezeqTatYami' in body.get('users', {}).get(user_from_url, {}).get('products', []):\n",
    "    ...  # 🤮"
   ]
  },
  {
   "cell_type": "markdown",
   "id": "09302efa-5342-4430-a1ed-dc06b4bc1a29",
   "metadata": {
    "slideshow": {
     "slide_type": "subslide"
    },
    "tags": []
   },
   "source": [
    "Or, implement the fluff yourself, which was rather awkward:"
   ]
  },
  {
   "cell_type": "code",
   "execution_count": null,
   "id": "4fbc0d85-3844-498f-87e9-80256aadd0e2",
   "metadata": {
    "slideshow": {
     "slide_type": "fragment"
    },
    "tags": []
   },
   "outputs": [],
   "source": [
    "class Customer:\n",
    "    def __init__(self, products: list[str]):\n",
    "        self.products = products\n",
    "\n",
    "    @property\n",
    "    def products(self) -> list:\n",
    "        return self._products\n",
    "\n",
    "    @products.setter\n",
    "    def products(self, products: list[str]):\n",
    "        if not products:\n",
    "            raise ValueError(\"products field required\")\n",
    "        if not isinstance(products, list):\n",
    "            raise ValueError(\"products value is not a valid list\")\n",
    "        for product in products:\n",
    "            if not isinstance(product, str):\n",
    "                index = products.index(product)\n",
    "                raise ValueError(f\"products {index} str type expected\")\n",
    "        self._products = products\n",
    "\n",
    "    @products.deleter\n",
    "    def products(self):\n",
    "        del self._products"
   ]
  },
  {
   "cell_type": "markdown",
   "id": "386b5d91-ccf5-4133-ab44-726e25cbd4b9",
   "metadata": {
    "slideshow": {
     "slide_type": "slide"
    },
    "tags": []
   },
   "source": [
    "## In December 2016, Python 3.6 was released\n",
    "And with it, a feature called _Type Annotations_ (heavily inspired by TypeScript)"
   ]
  },
  {
   "cell_type": "markdown",
   "id": "58e721c1-e551-42cf-8b8d-3f3727822a72",
   "metadata": {
    "slideshow": {
     "slide_type": "fragment"
    },
    "tags": []
   },
   "source": [
    "Suddenly, you could turn this code:"
   ]
  },
  {
   "cell_type": "code",
   "execution_count": null,
   "id": "69ed4b85-c720-4e2c-9332-a03398b9ebae",
   "metadata": {
    "slideshow": {
     "slide_type": "fragment"
    },
    "tags": []
   },
   "outputs": [],
   "source": [
    "def div(a, b):\n",
    "    return a / b"
   ]
  },
  {
   "cell_type": "markdown",
   "id": "1e444b56-0cfc-456a-a946-734ef5a51f48",
   "metadata": {
    "slideshow": {
     "slide_type": "fragment"
    },
    "tags": []
   },
   "source": [
    "Into this:"
   ]
  },
  {
   "cell_type": "code",
   "execution_count": null,
   "id": "a442ff37-cddd-45a8-a026-d0fe201c21f1",
   "metadata": {
    "slideshow": {
     "slide_type": "fragment"
    },
    "tags": []
   },
   "outputs": [],
   "source": [
    "def div(a: int, b: int) -> int:\n",
    "    return a / b"
   ]
  },
  {
   "cell_type": "markdown",
   "id": "c23bc7a2-ca72-4eb9-a6ff-3c54c1ee55b2",
   "metadata": {
    "slideshow": {
     "slide_type": "subslide"
    },
    "tags": []
   },
   "source": [
    "And turn this code:"
   ]
  },
  {
   "cell_type": "code",
   "execution_count": null,
   "id": "373717b7-83d6-4b6c-9f94-df5057b01841",
   "metadata": {
    "slideshow": {
     "slide_type": "fragment"
    },
    "tags": []
   },
   "outputs": [],
   "source": [
    "class Person:\n",
    "    def __init__(self, name):\n",
    "        self.name = name"
   ]
  },
  {
   "cell_type": "markdown",
   "id": "3c0bdcf8-ca50-4e2a-ba8c-7a502b2bd2f9",
   "metadata": {
    "slideshow": {
     "slide_type": "fragment"
    },
    "tags": []
   },
   "source": [
    "Into this:"
   ]
  },
  {
   "cell_type": "code",
   "execution_count": null,
   "id": "25eac979-689d-4aa1-9dc5-1171fccf1b74",
   "metadata": {
    "slideshow": {
     "slide_type": "fragment"
    },
    "tags": []
   },
   "outputs": [],
   "source": [
    "class Person:\n",
    "    name: str\n",
    "\n",
    "    def __init__(self, name: str):\n",
    "        self.name = name"
   ]
  },
  {
   "cell_type": "markdown",
   "id": "7fa7255f-0168-4a13-9101-f35f3cc707ba",
   "metadata": {
    "slideshow": {
     "slide_type": "fragment"
    },
    "tags": []
   },
   "source": [
    "Which means that you can finally tell the user and the editor what's the (intended) interface, instead of forcing them to look at the constructor implementation and infer the interface."
   ]
  },
  {
   "cell_type": "markdown",
   "id": "d1c2da39-ef88-453f-b2ae-fc3bd88956c6",
   "metadata": {
    "slideshow": {
     "slide_type": "slide"
    },
    "tags": []
   },
   "source": [
    "## `__annotations__` _(remember last lesson?)_"
   ]
  },
  {
   "cell_type": "code",
   "execution_count": 1,
   "id": "55e11783-0362-4241-8f51-5125b9525f5b",
   "metadata": {
    "slideshow": {
     "slide_type": "fragment"
    },
    "tags": []
   },
   "outputs": [],
   "source": [
    "class Person:\n",
    "    def __init__(self, name):\n",
    "        self.name = name"
   ]
  },
  {
   "cell_type": "code",
   "execution_count": 2,
   "id": "cb7ebc52-4ca6-40cb-9b62-cd8f6172671e",
   "metadata": {
    "slideshow": {
     "slide_type": "fragment"
    },
    "tags": []
   },
   "outputs": [
    {
     "data": {
      "text/html": [
       "<pre style=\"white-space:pre;overflow-x:auto;line-height:normal;font-family:Menlo,'DejaVu Sans Mono',consolas,'Courier New',monospace\"><span style=\"color: #ff0000; text-decoration-color: #ff0000; font-style: italic\">False</span>\n",
       "</pre>\n"
      ],
      "text/plain": [
       "\u001b[3;91mFalse\u001b[0m\n"
      ]
     },
     "metadata": {},
     "output_type": "display_data"
    }
   ],
   "source": [
    "hasattr(Person, 'name')"
   ]
  },
  {
   "cell_type": "code",
   "execution_count": 3,
   "id": "2f43e564-6f35-400c-b004-51098c96656c",
   "metadata": {
    "slideshow": {
     "slide_type": "fragment"
    },
    "tags": []
   },
   "outputs": [
    {
     "data": {
      "text/html": [
       "<pre style=\"white-space:pre;overflow-x:auto;line-height:normal;font-family:Menlo,'DejaVu Sans Mono',consolas,'Courier New',monospace\"><span style=\"font-weight: bold\">{}</span>\n",
       "</pre>\n"
      ],
      "text/plain": [
       "\u001b[1m{\u001b[0m\u001b[1m}\u001b[0m\n"
      ]
     },
     "metadata": {},
     "output_type": "display_data"
    }
   ],
   "source": [
    "Person.__annotations__"
   ]
  },
  {
   "cell_type": "code",
   "execution_count": 4,
   "id": "d2a5eeda-ecef-421b-b8c4-128f2187d5b1",
   "metadata": {
    "slideshow": {
     "slide_type": "fragment"
    },
    "tags": []
   },
   "outputs": [],
   "source": [
    "class Person:\n",
    "    name: str"
   ]
  },
  {
   "cell_type": "code",
   "execution_count": 5,
   "id": "478d1781-b2bc-4d9b-a9df-a5775cf62a85",
   "metadata": {
    "slideshow": {
     "slide_type": "fragment"
    },
    "tags": []
   },
   "outputs": [
    {
     "data": {
      "text/html": [
       "<pre style=\"white-space:pre;overflow-x:auto;line-height:normal;font-family:Menlo,'DejaVu Sans Mono',consolas,'Courier New',monospace\"><span style=\"color: #ff0000; text-decoration-color: #ff0000; font-style: italic\">False</span>\n",
       "</pre>\n"
      ],
      "text/plain": [
       "\u001b[3;91mFalse\u001b[0m\n"
      ]
     },
     "metadata": {},
     "output_type": "display_data"
    }
   ],
   "source": [
    "hasattr(Person, 'name')"
   ]
  },
  {
   "cell_type": "code",
   "execution_count": 6,
   "id": "569af1bd-fb78-45b6-91e5-4776095f35a4",
   "metadata": {
    "slideshow": {
     "slide_type": "fragment"
    },
    "tags": []
   },
   "outputs": [
    {
     "data": {
      "text/html": [
       "<pre style=\"white-space:pre;overflow-x:auto;line-height:normal;font-family:Menlo,'DejaVu Sans Mono',consolas,'Courier New',monospace\"><span style=\"font-weight: bold\">{</span><span style=\"color: #008000; text-decoration-color: #008000\">'name'</span>: <span style=\"font-weight: bold\">&lt;</span><span style=\"color: #ff00ff; text-decoration-color: #ff00ff; font-weight: bold\">class</span><span style=\"color: #000000; text-decoration-color: #000000\"> </span><span style=\"color: #008000; text-decoration-color: #008000\">'str'</span><span style=\"font-weight: bold\">&gt;}</span>\n",
       "</pre>\n"
      ],
      "text/plain": [
       "\u001b[1m{\u001b[0m\u001b[32m'name'\u001b[0m: \u001b[1m<\u001b[0m\u001b[1;95mclass\u001b[0m\u001b[39m \u001b[0m\u001b[32m'str'\u001b[0m\u001b[1m>\u001b[0m\u001b[1m}\u001b[0m\n"
      ]
     },
     "metadata": {},
     "output_type": "display_data"
    }
   ],
   "source": [
    "Person.__annotations__"
   ]
  },
  {
   "cell_type": "markdown",
   "id": "e505925e-0e23-4dbc-8c6d-63ff7ca41ad0",
   "metadata": {},
   "source": [
    "This information is key. It's exactly enough to build everything we'll talk about today"
   ]
  },
  {
   "cell_type": "markdown",
   "id": "722e83db-329d-43b2-a0aa-b225300515b7",
   "metadata": {
    "slideshow": {
     "slide_type": "slide"
    },
    "tags": []
   },
   "source": [
    "# `pydantic.BaseModel`: an executable interface"
   ]
  },
  {
   "cell_type": "markdown",
   "id": "ac7d4b52-592c-485b-8a52-8c75349c8cc0",
   "metadata": {
    "slideshow": {
     "slide_type": "subslide"
    },
    "tags": []
   },
   "source": [
    "A reminder of the boilerplate:"
   ]
  },
  {
   "cell_type": "code",
   "execution_count": null,
   "id": "897bfb4c-c930-4631-9a30-596241118ef1",
   "metadata": {
    "slideshow": {
     "slide_type": "fragment"
    },
    "tags": []
   },
   "outputs": [],
   "source": [
    "class Customer:\n",
    "    def __init__(self, products: list[str]):\n",
    "        self.products = products\n",
    "\n",
    "    @property\n",
    "    def products(self) -> list:\n",
    "        return self._products\n",
    "\n",
    "    @products.setter\n",
    "    def products(self, products: list[str]):\n",
    "        if not products:\n",
    "            raise ValueError(\"products field required\")\n",
    "        if not isinstance(products, list):\n",
    "            raise ValueError(\"products value is not a valid list\")\n",
    "        for product in products:\n",
    "            if not isinstance(product, str):\n",
    "                index = products.index(product)\n",
    "                raise ValueError(f\"products {index} str type expected\")\n",
    "        self._products = products\n",
    "\n",
    "    @products.deleter\n",
    "    def products(self):\n",
    "        del self._products"
   ]
  },
  {
   "cell_type": "markdown",
   "id": "ddd57a13-33fa-444c-aa7f-f40352a249f4",
   "metadata": {
    "slideshow": {
     "slide_type": "fragment"
    },
    "tags": []
   },
   "source": [
    "Can be now written simply as:"
   ]
  },
  {
   "cell_type": "code",
   "execution_count": 8,
   "id": "bb65a807-9b02-4ad2-96e5-c8005e27e566",
   "metadata": {
    "slideshow": {
     "slide_type": "fragment"
    },
    "tags": []
   },
   "outputs": [],
   "source": [
    "from pydantic import BaseModel\n",
    "\n",
    "class Customer(BaseModel):\n",
    "    products: list[str]"
   ]
  },
  {
   "cell_type": "code",
   "execution_count": 8,
   "id": "96caea75-7ccb-4c14-9b42-85d022fdfafd",
   "metadata": {
    "slideshow": {
     "slide_type": "subslide"
    },
    "tags": []
   },
   "outputs": [],
   "source": [
    "from pydantic import BaseModel\n",
    "\n",
    "class Customer(BaseModel):\n",
    "    products: list[str]"
   ]
  },
  {
   "cell_type": "code",
   "execution_count": 10,
   "id": "991855dc-8b09-42c1-85e3-18cfbdf16e4f",
   "metadata": {
    "slideshow": {
     "slide_type": "fragment"
    },
    "tags": []
   },
   "outputs": [
    {
     "data": {
      "text/html": [
       "<pre style=\"white-space:pre;overflow-x:auto;line-height:normal;font-family:Menlo,'DejaVu Sans Mono',consolas,'Courier New',monospace\"><span style=\"color: #800000; text-decoration-color: #800000\">╭─────────────────────────────── </span><span style=\"color: #800000; text-decoration-color: #800000; font-weight: bold\">Traceback </span><span style=\"color: #bf7f7f; text-decoration-color: #bf7f7f; font-weight: bold\">(most recent call last)</span><span style=\"color: #800000; text-decoration-color: #800000\"> ────────────────────────────────╮</span>\n",
       "<span style=\"color: #800000; text-decoration-color: #800000\">│</span> <span style=\"color: #bfbf7f; text-decoration-color: #bfbf7f\">/var/folders/6d/v_8150015qz_fxg7lkd8qgxw0000gn/T/ipykernel_83285/</span><span style=\"color: #808000; text-decoration-color: #808000; font-weight: bold\">15668859.py</span>:<span style=\"color: #0000ff; text-decoration-color: #0000ff\">1</span> in <span style=\"color: #00ff00; text-decoration-color: #00ff00\">&lt;module&gt;</span>       <span style=\"color: #800000; text-decoration-color: #800000\">│</span>\n",
       "<span style=\"color: #800000; text-decoration-color: #800000\">│</span>                                                                                                  <span style=\"color: #800000; text-decoration-color: #800000\">│</span>\n",
       "<span style=\"color: #800000; text-decoration-color: #800000\">│</span> <span style=\"color: #800000; text-decoration-color: #800000; font-style: italic\">[Errno 2] No such file or directory: </span>                                                            <span style=\"color: #800000; text-decoration-color: #800000\">│</span>\n",
       "<span style=\"color: #800000; text-decoration-color: #800000\">│</span> <span style=\"color: #800000; text-decoration-color: #800000; font-style: italic\">'/var/folders/6d/v_8150015qz_fxg7lkd8qgxw0000gn/T/ipykernel_83285/15668859.py'</span>                   <span style=\"color: #800000; text-decoration-color: #800000\">│</span>\n",
       "<span style=\"color: #800000; text-decoration-color: #800000\">│</span>                                                                                                  <span style=\"color: #800000; text-decoration-color: #800000\">│</span>\n",
       "<span style=\"color: #800000; text-decoration-color: #800000\">│</span> <span style=\"color: #bfbf7f; text-decoration-color: #bfbf7f\">/Users/gilad/dev/advanced-python-crash-course/2022/env/lib/python3.10/site-packages/pydantic/</span><span style=\"color: #808000; text-decoration-color: #808000; font-weight: bold\">mai</span> <span style=\"color: #800000; text-decoration-color: #800000\">│</span>\n",
       "<span style=\"color: #800000; text-decoration-color: #800000\">│</span> <span style=\"color: #808000; text-decoration-color: #808000; font-weight: bold\">n.py</span>:<span style=\"color: #0000ff; text-decoration-color: #0000ff\">342</span> in <span style=\"color: #00ff00; text-decoration-color: #00ff00\">__init__</span>                                                                             <span style=\"color: #800000; text-decoration-color: #800000\">│</span>\n",
       "<span style=\"color: #800000; text-decoration-color: #800000\">│</span>                                                                                                  <span style=\"color: #800000; text-decoration-color: #800000\">│</span>\n",
       "<span style=\"color: #800000; text-decoration-color: #800000\">│</span>   <span style=\"color: #7f7f7f; text-decoration-color: #7f7f7f\"> 339 │   │   # Uses something other than `self` the first arg to allow \"self\" as a settable a</span>  <span style=\"color: #800000; text-decoration-color: #800000\">│</span>\n",
       "<span style=\"color: #800000; text-decoration-color: #800000\">│</span>   <span style=\"color: #7f7f7f; text-decoration-color: #7f7f7f\"> 340 │   │   </span>values, fields_set, validation_error = validate_model(__pydantic_self__.<span style=\"color: #ff0000; text-decoration-color: #ff0000\">__class_</span>  <span style=\"color: #800000; text-decoration-color: #800000\">│</span>\n",
       "<span style=\"color: #800000; text-decoration-color: #800000\">│</span>   <span style=\"color: #7f7f7f; text-decoration-color: #7f7f7f\"> 341 │   │   </span><span style=\"color: #0000ff; text-decoration-color: #0000ff\">if</span> validation_error:                                                              <span style=\"color: #800000; text-decoration-color: #800000\">│</span>\n",
       "<span style=\"color: #800000; text-decoration-color: #800000\">│</span> <span style=\"color: #800000; text-decoration-color: #800000\">❱ </span> 342 <span style=\"color: #7f7f7f; text-decoration-color: #7f7f7f\">│   │   │   </span><span style=\"color: #0000ff; text-decoration-color: #0000ff\">raise</span> validation_error                                                        <span style=\"color: #800000; text-decoration-color: #800000\">│</span>\n",
       "<span style=\"color: #800000; text-decoration-color: #800000\">│</span>   <span style=\"color: #7f7f7f; text-decoration-color: #7f7f7f\"> 343 │   │   </span><span style=\"color: #0000ff; text-decoration-color: #0000ff\">try</span>:                                                                              <span style=\"color: #800000; text-decoration-color: #800000\">│</span>\n",
       "<span style=\"color: #800000; text-decoration-color: #800000\">│</span>   <span style=\"color: #7f7f7f; text-decoration-color: #7f7f7f\"> 344 │   │   │   </span>object_setattr(__pydantic_self__, <span style=\"color: #808000; text-decoration-color: #808000\">'__dict__'</span>, values)                         <span style=\"color: #800000; text-decoration-color: #800000\">│</span>\n",
       "<span style=\"color: #800000; text-decoration-color: #800000\">│</span>   <span style=\"color: #7f7f7f; text-decoration-color: #7f7f7f\"> 345 │   │   </span><span style=\"color: #0000ff; text-decoration-color: #0000ff\">except</span> <span style=\"color: #00ffff; text-decoration-color: #00ffff\">TypeError</span> <span style=\"color: #0000ff; text-decoration-color: #0000ff\">as</span> e:                                                            <span style=\"color: #800000; text-decoration-color: #800000\">│</span>\n",
       "<span style=\"color: #800000; text-decoration-color: #800000\">╰──────────────────────────────────────────────────────────────────────────────────────────────────╯</span>\n",
       "<span style=\"color: #ff0000; text-decoration-color: #ff0000; font-weight: bold\">ValidationError: </span><span style=\"color: #008080; text-decoration-color: #008080; font-weight: bold\">1</span> validation error for Customer\n",
       "products\n",
       "  field required <span style=\"font-weight: bold\">(</span><span style=\"color: #808000; text-decoration-color: #808000\">type</span>=<span style=\"color: #800080; text-decoration-color: #800080\">value_error</span>.missing<span style=\"font-weight: bold\">)</span>\n",
       "</pre>\n"
      ],
      "text/plain": [
       "\u001b[31m╭─\u001b[0m\u001b[31m──────────────────────────────\u001b[0m\u001b[31m \u001b[0m\u001b[1;31mTraceback \u001b[0m\u001b[1;2;31m(most recent call last)\u001b[0m\u001b[31m \u001b[0m\u001b[31m───────────────────────────────\u001b[0m\u001b[31m─╮\u001b[0m\n",
       "\u001b[31m│\u001b[0m \u001b[2;33m/var/folders/6d/v_8150015qz_fxg7lkd8qgxw0000gn/T/ipykernel_83285/\u001b[0m\u001b[1;33m15668859.py\u001b[0m:\u001b[94m1\u001b[0m in \u001b[92m<module>\u001b[0m       \u001b[31m│\u001b[0m\n",
       "\u001b[31m│\u001b[0m                                                                                                  \u001b[31m│\u001b[0m\n",
       "\u001b[31m│\u001b[0m \u001b[3;31m[Errno 2] No such file or directory: \u001b[0m                                                            \u001b[31m│\u001b[0m\n",
       "\u001b[31m│\u001b[0m \u001b[3;31m'/var/folders/6d/v_8150015qz_fxg7lkd8qgxw0000gn/T/ipykernel_83285/15668859.py'\u001b[0m                   \u001b[31m│\u001b[0m\n",
       "\u001b[31m│\u001b[0m                                                                                                  \u001b[31m│\u001b[0m\n",
       "\u001b[31m│\u001b[0m \u001b[2;33m/Users/gilad/dev/advanced-python-crash-course/2022/env/lib/python3.10/site-packages/pydantic/\u001b[0m\u001b[1;33mmai\u001b[0m \u001b[31m│\u001b[0m\n",
       "\u001b[31m│\u001b[0m \u001b[1;33mn.py\u001b[0m:\u001b[94m342\u001b[0m in \u001b[92m__init__\u001b[0m                                                                             \u001b[31m│\u001b[0m\n",
       "\u001b[31m│\u001b[0m                                                                                                  \u001b[31m│\u001b[0m\n",
       "\u001b[31m│\u001b[0m   \u001b[2m 339 \u001b[0m\u001b[2m│   │   \u001b[0m\u001b[2m# Uses something other than `self` the first arg to allow \"self\" as a settable a\u001b[0m  \u001b[31m│\u001b[0m\n",
       "\u001b[31m│\u001b[0m   \u001b[2m 340 \u001b[0m\u001b[2m│   │   \u001b[0mvalues, fields_set, validation_error = validate_model(__pydantic_self__.\u001b[91m__class_\u001b[0m  \u001b[31m│\u001b[0m\n",
       "\u001b[31m│\u001b[0m   \u001b[2m 341 \u001b[0m\u001b[2m│   │   \u001b[0m\u001b[94mif\u001b[0m validation_error:                                                              \u001b[31m│\u001b[0m\n",
       "\u001b[31m│\u001b[0m \u001b[31m❱ \u001b[0m 342 \u001b[2m│   │   │   \u001b[0m\u001b[94mraise\u001b[0m validation_error                                                        \u001b[31m│\u001b[0m\n",
       "\u001b[31m│\u001b[0m   \u001b[2m 343 \u001b[0m\u001b[2m│   │   \u001b[0m\u001b[94mtry\u001b[0m:                                                                              \u001b[31m│\u001b[0m\n",
       "\u001b[31m│\u001b[0m   \u001b[2m 344 \u001b[0m\u001b[2m│   │   │   \u001b[0mobject_setattr(__pydantic_self__, \u001b[33m'\u001b[0m\u001b[33m__dict__\u001b[0m\u001b[33m'\u001b[0m, values)                         \u001b[31m│\u001b[0m\n",
       "\u001b[31m│\u001b[0m   \u001b[2m 345 \u001b[0m\u001b[2m│   │   \u001b[0m\u001b[94mexcept\u001b[0m \u001b[96mTypeError\u001b[0m \u001b[94mas\u001b[0m e:                                                            \u001b[31m│\u001b[0m\n",
       "\u001b[31m╰──────────────────────────────────────────────────────────────────────────────────────────────────╯\u001b[0m\n",
       "\u001b[1;91mValidationError: \u001b[0m\u001b[1;36m1\u001b[0m validation error for Customer\n",
       "products\n",
       "  field required \u001b[1m(\u001b[0m\u001b[33mtype\u001b[0m=\u001b[35mvalue_error\u001b[0m.missing\u001b[1m)\u001b[0m\n"
      ]
     },
     "metadata": {},
     "output_type": "display_data"
    }
   ],
   "source": [
    "Customer()  # ValidationError: products required"
   ]
  },
  {
   "cell_type": "code",
   "execution_count": 8,
   "id": "bf23bfea-b0fc-49ce-af63-bf1a08bcf685",
   "metadata": {
    "slideshow": {
     "slide_type": "subslide"
    },
    "tags": []
   },
   "outputs": [],
   "source": [
    "from pydantic import BaseModel\n",
    "\n",
    "class Customer(BaseModel):\n",
    "    products: list[str]"
   ]
  },
  {
   "cell_type": "code",
   "execution_count": 12,
   "id": "4cb7319b-6d68-446c-bdf1-619200a574e9",
   "metadata": {
    "slideshow": {
     "slide_type": "fragment"
    },
    "tags": []
   },
   "outputs": [
    {
     "data": {
      "text/html": [
       "<pre style=\"white-space:pre;overflow-x:auto;line-height:normal;font-family:Menlo,'DejaVu Sans Mono',consolas,'Courier New',monospace\"><span style=\"color: #800000; text-decoration-color: #800000\">╭─────────────────────────────── </span><span style=\"color: #800000; text-decoration-color: #800000; font-weight: bold\">Traceback </span><span style=\"color: #bf7f7f; text-decoration-color: #bf7f7f; font-weight: bold\">(most recent call last)</span><span style=\"color: #800000; text-decoration-color: #800000\"> ────────────────────────────────╮</span>\n",
       "<span style=\"color: #800000; text-decoration-color: #800000\">│</span> <span style=\"color: #bfbf7f; text-decoration-color: #bfbf7f\">/var/folders/6d/v_8150015qz_fxg7lkd8qgxw0000gn/T/ipykernel_83285/</span><span style=\"color: #808000; text-decoration-color: #808000; font-weight: bold\">4247046273.py</span>:<span style=\"color: #0000ff; text-decoration-color: #0000ff\">1</span> in <span style=\"color: #00ff00; text-decoration-color: #00ff00\">&lt;module&gt;</span>     <span style=\"color: #800000; text-decoration-color: #800000\">│</span>\n",
       "<span style=\"color: #800000; text-decoration-color: #800000\">│</span>                                                                                                  <span style=\"color: #800000; text-decoration-color: #800000\">│</span>\n",
       "<span style=\"color: #800000; text-decoration-color: #800000\">│</span> <span style=\"color: #800000; text-decoration-color: #800000; font-style: italic\">[Errno 2] No such file or directory: </span>                                                            <span style=\"color: #800000; text-decoration-color: #800000\">│</span>\n",
       "<span style=\"color: #800000; text-decoration-color: #800000\">│</span> <span style=\"color: #800000; text-decoration-color: #800000; font-style: italic\">'/var/folders/6d/v_8150015qz_fxg7lkd8qgxw0000gn/T/ipykernel_83285/4247046273.py'</span>                 <span style=\"color: #800000; text-decoration-color: #800000\">│</span>\n",
       "<span style=\"color: #800000; text-decoration-color: #800000\">│</span>                                                                                                  <span style=\"color: #800000; text-decoration-color: #800000\">│</span>\n",
       "<span style=\"color: #800000; text-decoration-color: #800000\">│</span> <span style=\"color: #bfbf7f; text-decoration-color: #bfbf7f\">/Users/gilad/dev/advanced-python-crash-course/2022/env/lib/python3.10/site-packages/pydantic/</span><span style=\"color: #808000; text-decoration-color: #808000; font-weight: bold\">mai</span> <span style=\"color: #800000; text-decoration-color: #800000\">│</span>\n",
       "<span style=\"color: #800000; text-decoration-color: #800000\">│</span> <span style=\"color: #808000; text-decoration-color: #808000; font-weight: bold\">n.py</span>:<span style=\"color: #0000ff; text-decoration-color: #0000ff\">342</span> in <span style=\"color: #00ff00; text-decoration-color: #00ff00\">__init__</span>                                                                             <span style=\"color: #800000; text-decoration-color: #800000\">│</span>\n",
       "<span style=\"color: #800000; text-decoration-color: #800000\">│</span>                                                                                                  <span style=\"color: #800000; text-decoration-color: #800000\">│</span>\n",
       "<span style=\"color: #800000; text-decoration-color: #800000\">│</span>   <span style=\"color: #7f7f7f; text-decoration-color: #7f7f7f\"> 339 │   │   # Uses something other than `self` the first arg to allow \"self\" as a settable a</span>  <span style=\"color: #800000; text-decoration-color: #800000\">│</span>\n",
       "<span style=\"color: #800000; text-decoration-color: #800000\">│</span>   <span style=\"color: #7f7f7f; text-decoration-color: #7f7f7f\"> 340 │   │   </span>values, fields_set, validation_error = validate_model(__pydantic_self__.<span style=\"color: #ff0000; text-decoration-color: #ff0000\">__class_</span>  <span style=\"color: #800000; text-decoration-color: #800000\">│</span>\n",
       "<span style=\"color: #800000; text-decoration-color: #800000\">│</span>   <span style=\"color: #7f7f7f; text-decoration-color: #7f7f7f\"> 341 │   │   </span><span style=\"color: #0000ff; text-decoration-color: #0000ff\">if</span> validation_error:                                                              <span style=\"color: #800000; text-decoration-color: #800000\">│</span>\n",
       "<span style=\"color: #800000; text-decoration-color: #800000\">│</span> <span style=\"color: #800000; text-decoration-color: #800000\">❱ </span> 342 <span style=\"color: #7f7f7f; text-decoration-color: #7f7f7f\">│   │   │   </span><span style=\"color: #0000ff; text-decoration-color: #0000ff\">raise</span> validation_error                                                        <span style=\"color: #800000; text-decoration-color: #800000\">│</span>\n",
       "<span style=\"color: #800000; text-decoration-color: #800000\">│</span>   <span style=\"color: #7f7f7f; text-decoration-color: #7f7f7f\"> 343 │   │   </span><span style=\"color: #0000ff; text-decoration-color: #0000ff\">try</span>:                                                                              <span style=\"color: #800000; text-decoration-color: #800000\">│</span>\n",
       "<span style=\"color: #800000; text-decoration-color: #800000\">│</span>   <span style=\"color: #7f7f7f; text-decoration-color: #7f7f7f\"> 344 │   │   │   </span>object_setattr(__pydantic_self__, <span style=\"color: #808000; text-decoration-color: #808000\">'__dict__'</span>, values)                         <span style=\"color: #800000; text-decoration-color: #800000\">│</span>\n",
       "<span style=\"color: #800000; text-decoration-color: #800000\">│</span>   <span style=\"color: #7f7f7f; text-decoration-color: #7f7f7f\"> 345 │   │   </span><span style=\"color: #0000ff; text-decoration-color: #0000ff\">except</span> <span style=\"color: #00ffff; text-decoration-color: #00ffff\">TypeError</span> <span style=\"color: #0000ff; text-decoration-color: #0000ff\">as</span> e:                                                            <span style=\"color: #800000; text-decoration-color: #800000\">│</span>\n",
       "<span style=\"color: #800000; text-decoration-color: #800000\">╰──────────────────────────────────────────────────────────────────────────────────────────────────╯</span>\n",
       "<span style=\"color: #ff0000; text-decoration-color: #ff0000; font-weight: bold\">ValidationError: </span><span style=\"color: #008080; text-decoration-color: #008080; font-weight: bold\">1</span> validation error for Customer\n",
       "products\n",
       "  value is not a valid list <span style=\"font-weight: bold\">(</span><span style=\"color: #808000; text-decoration-color: #808000\">type</span>=<span style=\"color: #800080; text-decoration-color: #800080\">type_error</span>.list<span style=\"font-weight: bold\">)</span>\n",
       "</pre>\n"
      ],
      "text/plain": [
       "\u001b[31m╭─\u001b[0m\u001b[31m──────────────────────────────\u001b[0m\u001b[31m \u001b[0m\u001b[1;31mTraceback \u001b[0m\u001b[1;2;31m(most recent call last)\u001b[0m\u001b[31m \u001b[0m\u001b[31m───────────────────────────────\u001b[0m\u001b[31m─╮\u001b[0m\n",
       "\u001b[31m│\u001b[0m \u001b[2;33m/var/folders/6d/v_8150015qz_fxg7lkd8qgxw0000gn/T/ipykernel_83285/\u001b[0m\u001b[1;33m4247046273.py\u001b[0m:\u001b[94m1\u001b[0m in \u001b[92m<module>\u001b[0m     \u001b[31m│\u001b[0m\n",
       "\u001b[31m│\u001b[0m                                                                                                  \u001b[31m│\u001b[0m\n",
       "\u001b[31m│\u001b[0m \u001b[3;31m[Errno 2] No such file or directory: \u001b[0m                                                            \u001b[31m│\u001b[0m\n",
       "\u001b[31m│\u001b[0m \u001b[3;31m'/var/folders/6d/v_8150015qz_fxg7lkd8qgxw0000gn/T/ipykernel_83285/4247046273.py'\u001b[0m                 \u001b[31m│\u001b[0m\n",
       "\u001b[31m│\u001b[0m                                                                                                  \u001b[31m│\u001b[0m\n",
       "\u001b[31m│\u001b[0m \u001b[2;33m/Users/gilad/dev/advanced-python-crash-course/2022/env/lib/python3.10/site-packages/pydantic/\u001b[0m\u001b[1;33mmai\u001b[0m \u001b[31m│\u001b[0m\n",
       "\u001b[31m│\u001b[0m \u001b[1;33mn.py\u001b[0m:\u001b[94m342\u001b[0m in \u001b[92m__init__\u001b[0m                                                                             \u001b[31m│\u001b[0m\n",
       "\u001b[31m│\u001b[0m                                                                                                  \u001b[31m│\u001b[0m\n",
       "\u001b[31m│\u001b[0m   \u001b[2m 339 \u001b[0m\u001b[2m│   │   \u001b[0m\u001b[2m# Uses something other than `self` the first arg to allow \"self\" as a settable a\u001b[0m  \u001b[31m│\u001b[0m\n",
       "\u001b[31m│\u001b[0m   \u001b[2m 340 \u001b[0m\u001b[2m│   │   \u001b[0mvalues, fields_set, validation_error = validate_model(__pydantic_self__.\u001b[91m__class_\u001b[0m  \u001b[31m│\u001b[0m\n",
       "\u001b[31m│\u001b[0m   \u001b[2m 341 \u001b[0m\u001b[2m│   │   \u001b[0m\u001b[94mif\u001b[0m validation_error:                                                              \u001b[31m│\u001b[0m\n",
       "\u001b[31m│\u001b[0m \u001b[31m❱ \u001b[0m 342 \u001b[2m│   │   │   \u001b[0m\u001b[94mraise\u001b[0m validation_error                                                        \u001b[31m│\u001b[0m\n",
       "\u001b[31m│\u001b[0m   \u001b[2m 343 \u001b[0m\u001b[2m│   │   \u001b[0m\u001b[94mtry\u001b[0m:                                                                              \u001b[31m│\u001b[0m\n",
       "\u001b[31m│\u001b[0m   \u001b[2m 344 \u001b[0m\u001b[2m│   │   │   \u001b[0mobject_setattr(__pydantic_self__, \u001b[33m'\u001b[0m\u001b[33m__dict__\u001b[0m\u001b[33m'\u001b[0m, values)                         \u001b[31m│\u001b[0m\n",
       "\u001b[31m│\u001b[0m   \u001b[2m 345 \u001b[0m\u001b[2m│   │   \u001b[0m\u001b[94mexcept\u001b[0m \u001b[96mTypeError\u001b[0m \u001b[94mas\u001b[0m e:                                                            \u001b[31m│\u001b[0m\n",
       "\u001b[31m╰──────────────────────────────────────────────────────────────────────────────────────────────────╯\u001b[0m\n",
       "\u001b[1;91mValidationError: \u001b[0m\u001b[1;36m1\u001b[0m validation error for Customer\n",
       "products\n",
       "  value is not a valid list \u001b[1m(\u001b[0m\u001b[33mtype\u001b[0m=\u001b[35mtype_error\u001b[0m.list\u001b[1m)\u001b[0m\n"
      ]
     },
     "metadata": {},
     "output_type": "display_data"
    }
   ],
   "source": [
    "Customer(products='nice')  # ValidationError: not a valid list"
   ]
  },
  {
   "cell_type": "code",
   "execution_count": 8,
   "id": "96d03b98-544e-4745-9b60-d4f985d5f129",
   "metadata": {
    "slideshow": {
     "slide_type": "subslide"
    },
    "tags": []
   },
   "outputs": [],
   "source": [
    "from pydantic import BaseModel\n",
    "\n",
    "class Customer(BaseModel):\n",
    "    products: list[str]"
   ]
  },
  {
   "cell_type": "code",
   "execution_count": 14,
   "id": "26189726-61d5-4c0f-a6b8-17842d1e41b3",
   "metadata": {
    "slideshow": {
     "slide_type": "fragment"
    },
    "tags": []
   },
   "outputs": [
    {
     "data": {
      "text/html": [
       "<pre style=\"white-space:pre;overflow-x:auto;line-height:normal;font-family:Menlo,'DejaVu Sans Mono',consolas,'Courier New',monospace\"><span style=\"color: #800000; text-decoration-color: #800000\">╭─────────────────────────────── </span><span style=\"color: #800000; text-decoration-color: #800000; font-weight: bold\">Traceback </span><span style=\"color: #bf7f7f; text-decoration-color: #bf7f7f; font-weight: bold\">(most recent call last)</span><span style=\"color: #800000; text-decoration-color: #800000\"> ────────────────────────────────╮</span>\n",
       "<span style=\"color: #800000; text-decoration-color: #800000\">│</span> <span style=\"color: #bfbf7f; text-decoration-color: #bfbf7f\">/var/folders/6d/v_8150015qz_fxg7lkd8qgxw0000gn/T/ipykernel_83285/</span><span style=\"color: #808000; text-decoration-color: #808000; font-weight: bold\">3719612744.py</span>:<span style=\"color: #0000ff; text-decoration-color: #0000ff\">1</span> in <span style=\"color: #00ff00; text-decoration-color: #00ff00\">&lt;module&gt;</span>     <span style=\"color: #800000; text-decoration-color: #800000\">│</span>\n",
       "<span style=\"color: #800000; text-decoration-color: #800000\">│</span>                                                                                                  <span style=\"color: #800000; text-decoration-color: #800000\">│</span>\n",
       "<span style=\"color: #800000; text-decoration-color: #800000\">│</span> <span style=\"color: #800000; text-decoration-color: #800000; font-style: italic\">[Errno 2] No such file or directory: </span>                                                            <span style=\"color: #800000; text-decoration-color: #800000\">│</span>\n",
       "<span style=\"color: #800000; text-decoration-color: #800000\">│</span> <span style=\"color: #800000; text-decoration-color: #800000; font-style: italic\">'/var/folders/6d/v_8150015qz_fxg7lkd8qgxw0000gn/T/ipykernel_83285/3719612744.py'</span>                 <span style=\"color: #800000; text-decoration-color: #800000\">│</span>\n",
       "<span style=\"color: #800000; text-decoration-color: #800000\">│</span>                                                                                                  <span style=\"color: #800000; text-decoration-color: #800000\">│</span>\n",
       "<span style=\"color: #800000; text-decoration-color: #800000\">│</span> <span style=\"color: #bfbf7f; text-decoration-color: #bfbf7f\">/Users/gilad/dev/advanced-python-crash-course/2022/env/lib/python3.10/site-packages/pydantic/</span><span style=\"color: #808000; text-decoration-color: #808000; font-weight: bold\">mai</span> <span style=\"color: #800000; text-decoration-color: #800000\">│</span>\n",
       "<span style=\"color: #800000; text-decoration-color: #800000\">│</span> <span style=\"color: #808000; text-decoration-color: #808000; font-weight: bold\">n.py</span>:<span style=\"color: #0000ff; text-decoration-color: #0000ff\">342</span> in <span style=\"color: #00ff00; text-decoration-color: #00ff00\">__init__</span>                                                                             <span style=\"color: #800000; text-decoration-color: #800000\">│</span>\n",
       "<span style=\"color: #800000; text-decoration-color: #800000\">│</span>                                                                                                  <span style=\"color: #800000; text-decoration-color: #800000\">│</span>\n",
       "<span style=\"color: #800000; text-decoration-color: #800000\">│</span>   <span style=\"color: #7f7f7f; text-decoration-color: #7f7f7f\"> 339 │   │   # Uses something other than `self` the first arg to allow \"self\" as a settable a</span>  <span style=\"color: #800000; text-decoration-color: #800000\">│</span>\n",
       "<span style=\"color: #800000; text-decoration-color: #800000\">│</span>   <span style=\"color: #7f7f7f; text-decoration-color: #7f7f7f\"> 340 │   │   </span>values, fields_set, validation_error = validate_model(__pydantic_self__.<span style=\"color: #ff0000; text-decoration-color: #ff0000\">__class_</span>  <span style=\"color: #800000; text-decoration-color: #800000\">│</span>\n",
       "<span style=\"color: #800000; text-decoration-color: #800000\">│</span>   <span style=\"color: #7f7f7f; text-decoration-color: #7f7f7f\"> 341 │   │   </span><span style=\"color: #0000ff; text-decoration-color: #0000ff\">if</span> validation_error:                                                              <span style=\"color: #800000; text-decoration-color: #800000\">│</span>\n",
       "<span style=\"color: #800000; text-decoration-color: #800000\">│</span> <span style=\"color: #800000; text-decoration-color: #800000\">❱ </span> 342 <span style=\"color: #7f7f7f; text-decoration-color: #7f7f7f\">│   │   │   </span><span style=\"color: #0000ff; text-decoration-color: #0000ff\">raise</span> validation_error                                                        <span style=\"color: #800000; text-decoration-color: #800000\">│</span>\n",
       "<span style=\"color: #800000; text-decoration-color: #800000\">│</span>   <span style=\"color: #7f7f7f; text-decoration-color: #7f7f7f\"> 343 │   │   </span><span style=\"color: #0000ff; text-decoration-color: #0000ff\">try</span>:                                                                              <span style=\"color: #800000; text-decoration-color: #800000\">│</span>\n",
       "<span style=\"color: #800000; text-decoration-color: #800000\">│</span>   <span style=\"color: #7f7f7f; text-decoration-color: #7f7f7f\"> 344 │   │   │   </span>object_setattr(__pydantic_self__, <span style=\"color: #808000; text-decoration-color: #808000\">'__dict__'</span>, values)                         <span style=\"color: #800000; text-decoration-color: #800000\">│</span>\n",
       "<span style=\"color: #800000; text-decoration-color: #800000\">│</span>   <span style=\"color: #7f7f7f; text-decoration-color: #7f7f7f\"> 345 │   │   </span><span style=\"color: #0000ff; text-decoration-color: #0000ff\">except</span> <span style=\"color: #00ffff; text-decoration-color: #00ffff\">TypeError</span> <span style=\"color: #0000ff; text-decoration-color: #0000ff\">as</span> e:                                                            <span style=\"color: #800000; text-decoration-color: #800000\">│</span>\n",
       "<span style=\"color: #800000; text-decoration-color: #800000\">╰──────────────────────────────────────────────────────────────────────────────────────────────────╯</span>\n",
       "<span style=\"color: #ff0000; text-decoration-color: #ff0000; font-weight: bold\">ValidationError: </span><span style=\"color: #008080; text-decoration-color: #008080; font-weight: bold\">1</span> validation error for Customer\n",
       "products -&gt; <span style=\"color: #008080; text-decoration-color: #008080; font-weight: bold\">0</span>\n",
       "  str type expected <span style=\"font-weight: bold\">(</span><span style=\"color: #808000; text-decoration-color: #808000\">type</span>=<span style=\"color: #800080; text-decoration-color: #800080\">type_error</span>.str<span style=\"font-weight: bold\">)</span>\n",
       "</pre>\n"
      ],
      "text/plain": [
       "\u001b[31m╭─\u001b[0m\u001b[31m──────────────────────────────\u001b[0m\u001b[31m \u001b[0m\u001b[1;31mTraceback \u001b[0m\u001b[1;2;31m(most recent call last)\u001b[0m\u001b[31m \u001b[0m\u001b[31m───────────────────────────────\u001b[0m\u001b[31m─╮\u001b[0m\n",
       "\u001b[31m│\u001b[0m \u001b[2;33m/var/folders/6d/v_8150015qz_fxg7lkd8qgxw0000gn/T/ipykernel_83285/\u001b[0m\u001b[1;33m3719612744.py\u001b[0m:\u001b[94m1\u001b[0m in \u001b[92m<module>\u001b[0m     \u001b[31m│\u001b[0m\n",
       "\u001b[31m│\u001b[0m                                                                                                  \u001b[31m│\u001b[0m\n",
       "\u001b[31m│\u001b[0m \u001b[3;31m[Errno 2] No such file or directory: \u001b[0m                                                            \u001b[31m│\u001b[0m\n",
       "\u001b[31m│\u001b[0m \u001b[3;31m'/var/folders/6d/v_8150015qz_fxg7lkd8qgxw0000gn/T/ipykernel_83285/3719612744.py'\u001b[0m                 \u001b[31m│\u001b[0m\n",
       "\u001b[31m│\u001b[0m                                                                                                  \u001b[31m│\u001b[0m\n",
       "\u001b[31m│\u001b[0m \u001b[2;33m/Users/gilad/dev/advanced-python-crash-course/2022/env/lib/python3.10/site-packages/pydantic/\u001b[0m\u001b[1;33mmai\u001b[0m \u001b[31m│\u001b[0m\n",
       "\u001b[31m│\u001b[0m \u001b[1;33mn.py\u001b[0m:\u001b[94m342\u001b[0m in \u001b[92m__init__\u001b[0m                                                                             \u001b[31m│\u001b[0m\n",
       "\u001b[31m│\u001b[0m                                                                                                  \u001b[31m│\u001b[0m\n",
       "\u001b[31m│\u001b[0m   \u001b[2m 339 \u001b[0m\u001b[2m│   │   \u001b[0m\u001b[2m# Uses something other than `self` the first arg to allow \"self\" as a settable a\u001b[0m  \u001b[31m│\u001b[0m\n",
       "\u001b[31m│\u001b[0m   \u001b[2m 340 \u001b[0m\u001b[2m│   │   \u001b[0mvalues, fields_set, validation_error = validate_model(__pydantic_self__.\u001b[91m__class_\u001b[0m  \u001b[31m│\u001b[0m\n",
       "\u001b[31m│\u001b[0m   \u001b[2m 341 \u001b[0m\u001b[2m│   │   \u001b[0m\u001b[94mif\u001b[0m validation_error:                                                              \u001b[31m│\u001b[0m\n",
       "\u001b[31m│\u001b[0m \u001b[31m❱ \u001b[0m 342 \u001b[2m│   │   │   \u001b[0m\u001b[94mraise\u001b[0m validation_error                                                        \u001b[31m│\u001b[0m\n",
       "\u001b[31m│\u001b[0m   \u001b[2m 343 \u001b[0m\u001b[2m│   │   \u001b[0m\u001b[94mtry\u001b[0m:                                                                              \u001b[31m│\u001b[0m\n",
       "\u001b[31m│\u001b[0m   \u001b[2m 344 \u001b[0m\u001b[2m│   │   │   \u001b[0mobject_setattr(__pydantic_self__, \u001b[33m'\u001b[0m\u001b[33m__dict__\u001b[0m\u001b[33m'\u001b[0m, values)                         \u001b[31m│\u001b[0m\n",
       "\u001b[31m│\u001b[0m   \u001b[2m 345 \u001b[0m\u001b[2m│   │   \u001b[0m\u001b[94mexcept\u001b[0m \u001b[96mTypeError\u001b[0m \u001b[94mas\u001b[0m e:                                                            \u001b[31m│\u001b[0m\n",
       "\u001b[31m╰──────────────────────────────────────────────────────────────────────────────────────────────────╯\u001b[0m\n",
       "\u001b[1;91mValidationError: \u001b[0m\u001b[1;36m1\u001b[0m validation error for Customer\n",
       "products -> \u001b[1;36m0\u001b[0m\n",
       "  str type expected \u001b[1m(\u001b[0m\u001b[33mtype\u001b[0m=\u001b[35mtype_error\u001b[0m.str\u001b[1m)\u001b[0m\n"
      ]
     },
     "metadata": {},
     "output_type": "display_data"
    }
   ],
   "source": [
    "Customer(products=[{\"what\":\"?\"}])  # ValidationError: str type expected"
   ]
  },
  {
   "cell_type": "markdown",
   "id": "cf1a2dca-a3a8-4650-9eaa-a63e58a23db6",
   "metadata": {
    "slideshow": {
     "slide_type": "subslide"
    },
    "tags": []
   },
   "source": [
    "### Pydantic gives us:\n",
    "\n",
    "- abstraction\n",
    "- type safety (or at least validation)\n",
    "- easy to define\n",
    "- easy to use (to consume)\n",
    "- oriented around OpenAPI: (de)serialization is a first-class citizen\n",
    "- editor support\n",
    "- Batman's-assistant-like behavior (tell it what you need, he'll take care of the rest)"
   ]
  },
  {
   "cell_type": "markdown",
   "id": "4bac1b76-e770-4b1f-9c42-0236a70bb2d6",
   "metadata": {
    "slideshow": {
     "slide_type": "slide"
    },
    "tags": []
   },
   "source": [
    "## Fields"
   ]
  },
  {
   "cell_type": "markdown",
   "id": "9242ac73-ebde-4602-9df1-7d927b6035a5",
   "metadata": {
    "slideshow": {
     "slide_type": "subslide"
    },
    "tags": []
   },
   "source": [
    "### Required vs Optional"
   ]
  },
  {
   "cell_type": "markdown",
   "id": "8ea5f109-8f90-4d05-b534-6b43dce7ae2b",
   "metadata": {
    "slideshow": {
     "slide_type": "fragment"
    },
    "tags": []
   },
   "source": [
    "#### Required\n",
    "- You have to provide a value\n",
    "- You have to provide the declared type"
   ]
  },
  {
   "cell_type": "code",
   "execution_count": null,
   "id": "3550119e-d1a5-4460-8d10-b05cc6852697",
   "metadata": {
    "slideshow": {
     "slide_type": "fragment"
    },
    "tags": []
   },
   "outputs": [],
   "source": [
    "class Person(BaseModel):\n",
    "    name: str"
   ]
  },
  {
   "cell_type": "code",
   "execution_count": null,
   "id": "7c4205e7-343e-4d34-8ab1-c176391737b9",
   "metadata": {
    "slideshow": {
     "slide_type": "fragment"
    },
    "tags": []
   },
   "outputs": [],
   "source": [
    "Person()  # ValidationError: name is required"
   ]
  },
  {
   "cell_type": "code",
   "execution_count": null,
   "id": "f5ac2071-de21-4a2c-811e-a65bcb270ee0",
   "metadata": {
    "slideshow": {
     "slide_type": "fragment"
    },
    "tags": []
   },
   "outputs": [],
   "source": [
    "Person(name=None)  # ValidationError: none is not allowed"
   ]
  },
  {
   "cell_type": "code",
   "execution_count": null,
   "id": "1c7401bc-00f6-4114-8c42-e0e03b84bab5",
   "metadata": {
    "slideshow": {
     "slide_type": "fragment"
    },
    "tags": []
   },
   "outputs": [],
   "source": [
    "person = Person(name='bob'); person.name = 'Obo'    # all good ✔"
   ]
  },
  {
   "cell_type": "markdown",
   "id": "df0106e0-d2ae-4176-af0b-4acfb937eb70",
   "metadata": {},
   "source": [
    "#### Optional\n",
    "- Defaults to `None`, you don't have to provide a value\n",
    "- You can explicitly provide `None` as a value"
   ]
  },
  {
   "cell_type": "code",
   "execution_count": 15,
   "id": "815c5940-bc85-4680-a07e-ffc25150904a",
   "metadata": {},
   "outputs": [],
   "source": [
    "class Person(BaseModel):\n",
    "    name: str | None\n",
    "\n",
    "class Person(BaseModel):\n",
    "    name: str = None\n",
    "\n",
    "class Person(BaseModel):\n",
    "    name: str | None = None"
   ]
  },
  {
   "cell_type": "code",
   "execution_count": null,
   "id": "66ba1e4d-44e1-423b-9ee7-05b9bec934d3",
   "metadata": {},
   "outputs": [],
   "source": [
    "Person()    # all good ✔"
   ]
  },
  {
   "cell_type": "code",
   "execution_count": null,
   "id": "5cc0513b-7d6c-411e-a8f5-bc839074d422",
   "metadata": {},
   "outputs": [],
   "source": [
    "Person(name=None)    # all good ✔"
   ]
  },
  {
   "cell_type": "code",
   "execution_count": null,
   "id": "99163b08-f20b-406f-a727-fbbbb63a2858",
   "metadata": {},
   "outputs": [],
   "source": [
    "person = Person(name='bob'); person.name = 'Obo'    # all good ✔"
   ]
  },
  {
   "cell_type": "markdown",
   "id": "d40fc3a0-ccf9-4183-b4a7-378ae84f24b9",
   "metadata": {},
   "source": [
    "#### Required Optional\n",
    "- You have to provide a value\n",
    "- You can explicitly provide `None` as a value"
   ]
  },
  {
   "cell_type": "code",
   "execution_count": null,
   "id": "d0289f07-0301-4873-8361-9202c29b4233",
   "metadata": {},
   "outputs": [],
   "source": [
    "class Person(BaseModel):\n",
    "    name: str | None = ..."
   ]
  },
  {
   "cell_type": "code",
   "execution_count": null,
   "id": "588aba3e-214c-47ad-a3aa-b0d50a53d00d",
   "metadata": {},
   "outputs": [],
   "source": [
    "Person()  # ValidationError: name is required"
   ]
  },
  {
   "cell_type": "code",
   "execution_count": null,
   "id": "ecf06fe5-fc94-42dd-ac43-2a8dbfc756c2",
   "metadata": {},
   "outputs": [],
   "source": [
    "Person(name=None)"
   ]
  },
  {
   "cell_type": "code",
   "execution_count": null,
   "id": "783bfb9a-68dc-4adc-9f55-c601509013d2",
   "metadata": {},
   "outputs": [],
   "source": [
    "person = Person(name='bob'); person.name = 'Obo'"
   ]
  },
  {
   "cell_type": "markdown",
   "id": "e28f879a-ae8b-48bc-8d50-619a91142fe7",
   "metadata": {},
   "source": [
    "### Data Conversion"
   ]
  },
  {
   "cell_type": "code",
   "execution_count": 16,
   "id": "81f24ac1-b08d-43ad-89de-3b889ff60697",
   "metadata": {},
   "outputs": [
    {
     "data": {
      "text/html": [
       "<pre style=\"white-space:pre;overflow-x:auto;line-height:normal;font-family:Menlo,'DejaVu Sans Mono',consolas,'Courier New',monospace\"><span style=\"color: #800080; text-decoration-color: #800080; font-weight: bold\">Person</span><span style=\"font-weight: bold\">(</span><span style=\"color: #808000; text-decoration-color: #808000\">name</span>=<span style=\"color: #008000; text-decoration-color: #008000\">'42'</span><span style=\"font-weight: bold\">)</span>\n",
       "</pre>\n"
      ],
      "text/plain": [
       "\u001b[1;35mPerson\u001b[0m\u001b[1m(\u001b[0m\u001b[33mname\u001b[0m=\u001b[32m'42'\u001b[0m\u001b[1m)\u001b[0m\n"
      ]
     },
     "metadata": {},
     "output_type": "display_data"
    }
   ],
   "source": [
    "Person(name=42)"
   ]
  },
  {
   "cell_type": "markdown",
   "id": "4724184f-a83d-42a6-88f6-5336a63d7289",
   "metadata": {},
   "source": [
    "### `pydantic.Field`"
   ]
  },
  {
   "cell_type": "markdown",
   "id": "5c4651d8-0cff-4786-8785-7bd959212778",
   "metadata": {},
   "source": [
    "The declared type annotations are \"upgraded\" to `Field` objects:"
   ]
  },
  {
   "cell_type": "code",
   "execution_count": null,
   "id": "820580e1-c6f4-4750-8d47-33b787a1bd0c",
   "metadata": {},
   "outputs": [],
   "source": [
    "from pydantic import Field\n",
    "\n",
    "class Person(BaseModel):\n",
    "    name: str = Field()"
   ]
  },
  {
   "cell_type": "markdown",
   "id": "54de41ad-a329-444e-88e4-f2034aec9e68",
   "metadata": {},
   "source": [
    "Is the same as:"
   ]
  },
  {
   "cell_type": "code",
   "execution_count": 115,
   "id": "23fee495-30e0-4a88-be9f-92bf62deada1",
   "metadata": {},
   "outputs": [],
   "source": [
    "class Person(BaseModel):\n",
    "    name: str"
   ]
  },
  {
   "cell_type": "markdown",
   "id": "1d5594e9-0228-4765-bf90-9cc11ac18f5c",
   "metadata": {},
   "source": [
    "#### `default`"
   ]
  },
  {
   "cell_type": "markdown",
   "id": "44beb078-d0e4-4b43-92f3-32d89fae919a",
   "metadata": {},
   "source": [
    "These are all equivalents:"
   ]
  },
  {
   "cell_type": "code",
   "execution_count": 116,
   "id": "616d299f-8f26-46c5-8962-5f7f88c3e09f",
   "metadata": {},
   "outputs": [],
   "source": [
    "class Person(BaseModel):\n",
    "    name: str = None\n",
    "    name: str = Field(None)\n",
    "    name: str = Field(default=None)"
   ]
  },
  {
   "cell_type": "markdown",
   "id": "a1f87926-0846-4902-b725-aeee424cc388",
   "metadata": {},
   "source": [
    "#### `default_factory`\n",
    "You might want to delay evaluation until the attribute is accessed:"
   ]
  },
  {
   "cell_type": "code",
   "execution_count": 133,
   "id": "bbb44438-3906-423f-96b0-b57c93a8df13",
   "metadata": {},
   "outputs": [],
   "source": [
    "import math\n",
    "\n",
    "def really_long_calculation():\n",
    "    return math.sqrt(math.inf)\n",
    "\n",
    "class God:\n",
    "    age: int = Field(default_factory=really_long_calculation)"
   ]
  },
  {
   "cell_type": "markdown",
   "id": "b4d32167-93d7-4141-9d8c-a70ff1a6ad81",
   "metadata": {},
   "source": [
    "#### OpenAPI"
   ]
  },
  {
   "cell_type": "markdown",
   "id": "be354281-895c-4b02-8231-10ce66c772be",
   "metadata": {},
   "source": [
    "`Field` is one of the main places where pydantic meets OpenAPI. \n",
    "\n",
    "The `Field` constructor can take many custom rules to follow, if you need to tighten up your schema. "
   ]
  },
  {
   "cell_type": "code",
   "execution_count": null,
   "id": "6ba399bb-3323-449b-bac3-aeaab4279ec9",
   "metadata": {},
   "outputs": [],
   "source": [
    "def Field(\n",
    "    default: Any = Undefined,\n",
    "    *,\n",
    "    default_factory: NoArgAnyCallable | None = None,\n",
    "    \n",
    "    # OpenAPI fluff:\n",
    "    alias: str = None,\n",
    "    title: str = None,\n",
    "    description: str = None,\n",
    "    \n",
    "    # Serialization:\n",
    "    exclude: 'AbstractSetIntStr' | 'MappingIntStrAny' | Any = None,\n",
    "    include: 'AbstractSetIntStr' | 'MappingIntStrAny' | Any = None,\n",
    "    const: bool = None,\n",
    "\n",
    "    # Validation:\n",
    "    gt: float = None,\n",
    "    ge: float = None,\n",
    "    lt: float = None,\n",
    "    le: float = None,\n",
    "    multiple_of: float = None,\n",
    "    allow_inf_nan: bool = None,\n",
    "    max_digits: int = None,\n",
    "    decimal_places: int = None,\n",
    "    min_items: int = None,\n",
    "    max_items: int = None,\n",
    "    unique_items: bool = None,  # cool\n",
    "    min_length: int = None,\n",
    "    max_length: int = None,\n",
    "    allow_mutation: bool = True,\n",
    "    regex: str = None,  # cool\n",
    "    discriminator: str = None,\n",
    "    repr: bool = True,\n",
    "    **extra: Any,\n",
    ")"
   ]
  },
  {
   "cell_type": "markdown",
   "id": "df579d5c-086c-4bb6-adb3-b80c11f5330f",
   "metadata": {},
   "source": [
    "## `BaseModel` Instance Methods"
   ]
  },
  {
   "cell_type": "code",
   "execution_count": 17,
   "id": "2e8dae04-54fd-4542-a262-e1adf299056d",
   "metadata": {},
   "outputs": [
    {
     "data": {
      "text/html": [
       "<pre style=\"white-space:pre;overflow-x:auto;line-height:normal;font-family:Menlo,'DejaVu Sans Mono',consolas,'Courier New',monospace\"><span style=\"color: #800080; text-decoration-color: #800080; font-weight: bold\">Person</span><span style=\"font-weight: bold\">(</span><span style=\"color: #808000; text-decoration-color: #808000\">name</span>=<span style=\"color: #008000; text-decoration-color: #008000\">'Bob'</span>, <span style=\"color: #808000; text-decoration-color: #808000\">date_of_birth</span>=<span style=\"color: #800080; text-decoration-color: #800080; font-weight: bold\">datetime</span><span style=\"color: #800080; text-decoration-color: #800080; font-weight: bold\">.datetime</span><span style=\"font-weight: bold\">(</span><span style=\"color: #008080; text-decoration-color: #008080; font-weight: bold\">1990</span>, <span style=\"color: #008080; text-decoration-color: #008080; font-weight: bold\">1</span>, <span style=\"color: #008080; text-decoration-color: #008080; font-weight: bold\">1</span>, <span style=\"color: #008080; text-decoration-color: #008080; font-weight: bold\">0</span>, <span style=\"color: #008080; text-decoration-color: #008080; font-weight: bold\">0</span><span style=\"font-weight: bold\">)</span>, <span style=\"color: #808000; text-decoration-color: #808000\">hungry</span>=<span style=\"color: #00ff00; text-decoration-color: #00ff00; font-style: italic\">True</span><span style=\"font-weight: bold\">)</span>\n",
       "</pre>\n"
      ],
      "text/plain": [
       "\u001b[1;35mPerson\u001b[0m\u001b[1m(\u001b[0m\u001b[33mname\u001b[0m=\u001b[32m'Bob'\u001b[0m, \u001b[33mdate_of_birth\u001b[0m=\u001b[1;35mdatetime\u001b[0m\u001b[1;35m.datetime\u001b[0m\u001b[1m(\u001b[0m\u001b[1;36m1990\u001b[0m, \u001b[1;36m1\u001b[0m, \u001b[1;36m1\u001b[0m, \u001b[1;36m0\u001b[0m, \u001b[1;36m0\u001b[0m\u001b[1m)\u001b[0m, \u001b[33mhungry\u001b[0m=\u001b[3;92mTrue\u001b[0m\u001b[1m)\u001b[0m\n"
      ]
     },
     "metadata": {},
     "output_type": "display_data"
    }
   ],
   "source": [
    "from datetime import datetime\n",
    "\n",
    "class Person(BaseModel):\n",
    "    name: str\n",
    "    date_of_birth: datetime = None\n",
    "    hungry: bool = True\n",
    "\n",
    "\n",
    "p = Person(name=\"Bob\", date_of_birth=datetime(1990, 1, 1))\n",
    "p"
   ]
  },
  {
   "cell_type": "markdown",
   "id": "829f170e-3d52-43df-a059-8c618d745384",
   "metadata": {},
   "source": [
    "### `model.json(...) -> str`"
   ]
  },
  {
   "cell_type": "code",
   "execution_count": 18,
   "id": "ef89a6b5-1d71-4307-a4cf-4a5f9a7d0a5b",
   "metadata": {},
   "outputs": [
    {
     "data": {
      "text/html": [
       "<pre style=\"white-space:pre;overflow-x:auto;line-height:normal;font-family:Menlo,'DejaVu Sans Mono',consolas,'Courier New',monospace\"><span style=\"color: #008000; text-decoration-color: #008000\">'{\"name\": \"Bob\", \"date_of_birth\": \"1990-01-01T00:00:00\", \"hungry\": true}'</span>\n",
       "</pre>\n"
      ],
      "text/plain": [
       "\u001b[32m'\u001b[0m\u001b[32m{\u001b[0m\u001b[32m\"name\": \"Bob\", \"date_of_birth\": \"1990-01-01T00:00:00\", \"hungry\": true\u001b[0m\u001b[32m}\u001b[0m\u001b[32m'\u001b[0m\n"
      ]
     },
     "metadata": {},
     "output_type": "display_data"
    }
   ],
   "source": [
    "p.json()"
   ]
  },
  {
   "cell_type": "markdown",
   "id": "21aeaaeb-5d44-424e-9983-49c39bc73c7d",
   "metadata": {},
   "source": [
    "__`include` and `exclude`__"
   ]
  },
  {
   "cell_type": "code",
   "execution_count": 22,
   "id": "05e2aac2-8c4d-46e1-9c5b-62de1d2d3a60",
   "metadata": {},
   "outputs": [
    {
     "data": {
      "text/html": [
       "<pre style=\"white-space:pre;overflow-x:auto;line-height:normal;font-family:Menlo,'DejaVu Sans Mono',consolas,'Courier New',monospace\"><span style=\"color: #008000; text-decoration-color: #008000\">'{\"date_of_birth\": \"1990-01-01T00:00:00\", \"hungry\": true}'</span>\n",
       "</pre>\n"
      ],
      "text/plain": [
       "\u001b[32m'\u001b[0m\u001b[32m{\u001b[0m\u001b[32m\"date_of_birth\": \"1990-01-01T00:00:00\", \"hungry\": true\u001b[0m\u001b[32m}\u001b[0m\u001b[32m'\u001b[0m\n"
      ]
     },
     "metadata": {},
     "output_type": "display_data"
    }
   ],
   "source": [
    "p.json(exclude={\"name\"})"
   ]
  },
  {
   "cell_type": "code",
   "execution_count": 23,
   "id": "49cc029b-aacd-416f-ba3b-f3e8a4d78466",
   "metadata": {},
   "outputs": [
    {
     "data": {
      "text/html": [
       "<pre style=\"white-space:pre;overflow-x:auto;line-height:normal;font-family:Menlo,'DejaVu Sans Mono',consolas,'Courier New',monospace\"><span style=\"color: #008000; text-decoration-color: #008000\">'{\"name\": \"Bob\"}'</span>\n",
       "</pre>\n"
      ],
      "text/plain": [
       "\u001b[32m'\u001b[0m\u001b[32m{\u001b[0m\u001b[32m\"name\": \"Bob\"\u001b[0m\u001b[32m}\u001b[0m\u001b[32m'\u001b[0m\n"
      ]
     },
     "metadata": {},
     "output_type": "display_data"
    }
   ],
   "source": [
    "p.json(include={\"name\"})"
   ]
  },
  {
   "cell_type": "markdown",
   "id": "ab8050fa-2147-4eac-9711-d21778a2c57d",
   "metadata": {},
   "source": [
    "__`exclude_defaults`: Everything that has the same value as the default value__\n",
    "\n",
    "(Whether you set it that way or it just defaulted this way)"
   ]
  },
  {
   "cell_type": "code",
   "execution_count": 24,
   "id": "819dcee3-37ce-4686-b1b5-1cc16e6dcbcc",
   "metadata": {},
   "outputs": [
    {
     "data": {
      "text/html": [
       "<pre style=\"white-space:pre;overflow-x:auto;line-height:normal;font-family:Menlo,'DejaVu Sans Mono',consolas,'Courier New',monospace\"><span style=\"color: #008000; text-decoration-color: #008000\">'{\"name\": \"Bob\"}'</span>\n",
       "</pre>\n"
      ],
      "text/plain": [
       "\u001b[32m'\u001b[0m\u001b[32m{\u001b[0m\u001b[32m\"name\": \"Bob\"\u001b[0m\u001b[32m}\u001b[0m\u001b[32m'\u001b[0m\n"
      ]
     },
     "metadata": {},
     "output_type": "display_data"
    }
   ],
   "source": [
    "Person(name=\"Bob\", \n",
    "       date_of_birth=None,  # excluded\n",
    "       hungry=True          # excluded\n",
    "      ).json(exclude_defaults=True)"
   ]
  },
  {
   "cell_type": "code",
   "execution_count": 25,
   "id": "3c499e0a-47b9-4338-ae50-e76af8758b19",
   "metadata": {},
   "outputs": [
    {
     "data": {
      "text/html": [
       "<pre style=\"white-space:pre;overflow-x:auto;line-height:normal;font-family:Menlo,'DejaVu Sans Mono',consolas,'Courier New',monospace\"><span style=\"color: #008000; text-decoration-color: #008000\">'{\"name\": \"Bob\", \"hungry\": false}'</span>\n",
       "</pre>\n"
      ],
      "text/plain": [
       "\u001b[32m'\u001b[0m\u001b[32m{\u001b[0m\u001b[32m\"name\": \"Bob\", \"hungry\": false\u001b[0m\u001b[32m}\u001b[0m\u001b[32m'\u001b[0m\n"
      ]
     },
     "metadata": {},
     "output_type": "display_data"
    }
   ],
   "source": [
    "Person(name=\"Bob\", \n",
    "       date_of_birth=None,  # excluded\n",
    "       hungry=False\n",
    "      ).json(exclude_defaults=True)"
   ]
  },
  {
   "cell_type": "code",
   "execution_count": 26,
   "id": "c0ad0105-3921-4fa8-a592-f0d4ab9e5864",
   "metadata": {},
   "outputs": [
    {
     "data": {
      "text/html": [
       "<pre style=\"white-space:pre;overflow-x:auto;line-height:normal;font-family:Menlo,'DejaVu Sans Mono',consolas,'Courier New',monospace\"><span style=\"color: #008000; text-decoration-color: #008000\">'{\"name\": \"Bob\"}'</span>\n",
       "</pre>\n"
      ],
      "text/plain": [
       "\u001b[32m'\u001b[0m\u001b[32m{\u001b[0m\u001b[32m\"name\": \"Bob\"\u001b[0m\u001b[32m}\u001b[0m\u001b[32m'\u001b[0m\n"
      ]
     },
     "metadata": {},
     "output_type": "display_data"
    }
   ],
   "source": [
    "Person(name=\"Bob\", \n",
    "       date_of_birth=None , # excluded\n",
    "                            # hungry is excluded\n",
    "      ).json(exclude_defaults=True)"
   ]
  },
  {
   "cell_type": "markdown",
   "id": "1a3b081d-4dbd-4343-9cd1-599090f90bac",
   "metadata": {},
   "source": [
    "__`exclude_unset`: The fields you haven't explicitly provided to the constructor__\n",
    "\n",
    "(regardless of their value)"
   ]
  },
  {
   "cell_type": "code",
   "execution_count": 27,
   "id": "05c605f2-668a-4a3c-a91f-2194aa47c337",
   "metadata": {},
   "outputs": [
    {
     "data": {
      "text/html": [
       "<pre style=\"white-space:pre;overflow-x:auto;line-height:normal;font-family:Menlo,'DejaVu Sans Mono',consolas,'Courier New',monospace\"><span style=\"color: #008000; text-decoration-color: #008000\">'{\"name\": \"Bob\", \"date_of_birth\": null, \"hungry\": true}'</span>\n",
       "</pre>\n"
      ],
      "text/plain": [
       "\u001b[32m'\u001b[0m\u001b[32m{\u001b[0m\u001b[32m\"name\": \"Bob\", \"date_of_birth\": null, \"hungry\": true\u001b[0m\u001b[32m}\u001b[0m\u001b[32m'\u001b[0m\n"
      ]
     },
     "metadata": {},
     "output_type": "display_data"
    }
   ],
   "source": [
    "Person(name=\"Bob\", \n",
    "       date_of_birth=None,  # included\n",
    "       hungry=True          # included\n",
    "      ).json(exclude_unset=True)"
   ]
  },
  {
   "cell_type": "code",
   "execution_count": 28,
   "id": "8a812ed7-0670-452c-a8db-cea9b1e0bb26",
   "metadata": {},
   "outputs": [
    {
     "data": {
      "text/html": [
       "<pre style=\"white-space:pre;overflow-x:auto;line-height:normal;font-family:Menlo,'DejaVu Sans Mono',consolas,'Courier New',monospace\"><span style=\"color: #008000; text-decoration-color: #008000\">'{\"name\": \"Bob\", \"date_of_birth\": null}'</span>\n",
       "</pre>\n"
      ],
      "text/plain": [
       "\u001b[32m'\u001b[0m\u001b[32m{\u001b[0m\u001b[32m\"name\": \"Bob\", \"date_of_birth\": null\u001b[0m\u001b[32m}\u001b[0m\u001b[32m'\u001b[0m\n"
      ]
     },
     "metadata": {},
     "output_type": "display_data"
    }
   ],
   "source": [
    "Person(name=\"Bob\", \n",
    "       date_of_birth=None,  # included\n",
    "                            # hungry is excluded\n",
    "      ).json(exclude_unset=True)"
   ]
  },
  {
   "cell_type": "markdown",
   "id": "c6b7bf27-9633-4af6-9dd4-4f2eb3a6f93d",
   "metadata": {},
   "source": [
    "__`exclude_none`: Everything that is, well, `None`__\n",
    "\n",
    "(regardless of what you've provided or what's the default)"
   ]
  },
  {
   "cell_type": "code",
   "execution_count": 29,
   "id": "edb6e478-48aa-43c0-ab03-dd9826324226",
   "metadata": {},
   "outputs": [
    {
     "data": {
      "text/html": [
       "<pre style=\"white-space:pre;overflow-x:auto;line-height:normal;font-family:Menlo,'DejaVu Sans Mono',consolas,'Courier New',monospace\"><span style=\"color: #008000; text-decoration-color: #008000\">'{\"name\": \"Bob\", \"hungry\": true}'</span>\n",
       "</pre>\n"
      ],
      "text/plain": [
       "\u001b[32m'\u001b[0m\u001b[32m{\u001b[0m\u001b[32m\"name\": \"Bob\", \"hungry\": true\u001b[0m\u001b[32m}\u001b[0m\u001b[32m'\u001b[0m\n"
      ]
     },
     "metadata": {},
     "output_type": "display_data"
    }
   ],
   "source": [
    "Person(name=\"Bob\", \n",
    "       date_of_birth=None,  # excluded\n",
    "       hungry=True\n",
    "      ).json(exclude_none=True)"
   ]
  },
  {
   "cell_type": "code",
   "execution_count": 30,
   "id": "0145170f-2cf4-45e9-9252-6e632c3201d7",
   "metadata": {},
   "outputs": [
    {
     "data": {
      "text/html": [
       "<pre style=\"white-space:pre;overflow-x:auto;line-height:normal;font-family:Menlo,'DejaVu Sans Mono',consolas,'Courier New',monospace\"><span style=\"color: #008000; text-decoration-color: #008000\">'{\"name\": \"Bob\", \"hungry\": true}'</span>\n",
       "</pre>\n"
      ],
      "text/plain": [
       "\u001b[32m'\u001b[0m\u001b[32m{\u001b[0m\u001b[32m\"name\": \"Bob\", \"hungry\": true\u001b[0m\u001b[32m}\u001b[0m\u001b[32m'\u001b[0m\n"
      ]
     },
     "metadata": {},
     "output_type": "display_data"
    }
   ],
   "source": [
    "Person(name=\"Bob\", \n",
    "                          # date_of_birth excluded because defaults to None               \n",
    "       hungry=True\n",
    "      ).json(exclude_none=True)"
   ]
  },
  {
   "cell_type": "code",
   "execution_count": 31,
   "id": "68fd01b5-de12-4a96-b72e-327a0b8dc3ad",
   "metadata": {},
   "outputs": [
    {
     "data": {
      "text/html": [
       "<pre style=\"white-space:pre;overflow-x:auto;line-height:normal;font-family:Menlo,'DejaVu Sans Mono',consolas,'Courier New',monospace\"><span style=\"color: #008000; text-decoration-color: #008000\">'{\"name\": \"Bob\", \"hungry\": true}'</span>\n",
       "</pre>\n"
      ],
      "text/plain": [
       "\u001b[32m'\u001b[0m\u001b[32m{\u001b[0m\u001b[32m\"name\": \"Bob\", \"hungry\": true\u001b[0m\u001b[32m}\u001b[0m\u001b[32m'\u001b[0m\n"
      ]
     },
     "metadata": {},
     "output_type": "display_data"
    }
   ],
   "source": [
    "Person(name=\"Bob\", \n",
    "       date_of_birth=None,  # excluded\n",
    "                            # hungry is included!\n",
    "      ).json(exclude_none=True)"
   ]
  },
  {
   "cell_type": "markdown",
   "id": "1467f609-72d0-49a0-acb3-b6b544efbad5",
   "metadata": {},
   "source": [
    "__`by_alias`:__"
   ]
  },
  {
   "cell_type": "code",
   "execution_count": 34,
   "id": "ae2edd30-5ddb-4d03-8bc0-9c5a0fa8d065",
   "metadata": {},
   "outputs": [
    {
     "data": {
      "text/html": [
       "<pre style=\"white-space:pre;overflow-x:auto;line-height:normal;font-family:Menlo,'DejaVu Sans Mono',consolas,'Courier New',monospace\"><span style=\"color: #008000; text-decoration-color: #008000\">'{\"years_on_earth\": 42}'</span>\n",
       "</pre>\n"
      ],
      "text/plain": [
       "\u001b[32m'\u001b[0m\u001b[32m{\u001b[0m\u001b[32m\"years_on_earth\": 42\u001b[0m\u001b[32m}\u001b[0m\u001b[32m'\u001b[0m\n"
      ]
     },
     "metadata": {},
     "output_type": "display_data"
    }
   ],
   "source": [
    "class Person(BaseModel):\n",
    "    age: int = Field(alias=\"years_on_earth\")\n",
    "    \n",
    "Person(years_on_earth=42).json()               # '{\"age\": 42}'\n",
    "Person(years_on_earth=42).json(by_alias=True)  # '{\"years_on_earth\": 42}'"
   ]
  },
  {
   "cell_type": "markdown",
   "id": "e42cb452-24ce-4d70-94c6-4cefcace51ba",
   "metadata": {},
   "source": [
    "__`encoder`: an ad-hoc plan B `(field) -> str` function. Not as good as defining it on the class' `Config`.__"
   ]
  },
  {
   "cell_type": "markdown",
   "id": "2c93aa4f-bed3-485f-83ee-0d2cda7810bf",
   "metadata": {},
   "source": [
    "### `model.dict(...) -> dict`"
   ]
  },
  {
   "cell_type": "markdown",
   "id": "b277e9d0-45bd-4b0d-840f-f61b024c3781",
   "metadata": {},
   "source": [
    "Same arguments as `.json(...)`. Just returns a dict."
   ]
  },
  {
   "cell_type": "markdown",
   "id": "b6300137-4d92-4daa-8005-e75a6aed0084",
   "metadata": {},
   "source": [
    "Cool thing I learned yesterday:"
   ]
  },
  {
   "cell_type": "code",
   "execution_count": 35,
   "id": "21a7a0a6-3890-4e6a-808a-1d6555c79b14",
   "metadata": {},
   "outputs": [
    {
     "name": "stdout",
     "output_type": "stream",
     "text": [
      "field: name | value: Bob\n",
      "field: age | value: 2\n"
     ]
    }
   ],
   "source": [
    "class Person(BaseModel):\n",
    "    name: str\n",
    "    age: int\n",
    "    \n",
    "for field, value in Person(name='Bob', age=2):\n",
    "    print(f'field: {field} |', f'value: {value}')"
   ]
  },
  {
   "cell_type": "markdown",
   "id": "ff1f3526-c45d-4837-85af-0abae313b235",
   "metadata": {},
   "source": [
    "### `model.copy(...) -> BaseModel`"
   ]
  },
  {
   "cell_type": "code",
   "execution_count": null,
   "id": "5e698e3e-4dc3-4b60-879d-f6b64d9e2623",
   "metadata": {},
   "outputs": [],
   "source": [
    "Person(name='Bob', age=2).copy()"
   ]
  },
  {
   "cell_type": "code",
   "execution_count": null,
   "id": "230eee86-130f-4761-ba5e-45c93e8ccaed",
   "metadata": {},
   "outputs": [],
   "source": [
    "Person(name='Bob', age=2).copy(include={\"name\"})"
   ]
  },
  {
   "cell_type": "code",
   "execution_count": null,
   "id": "bdda85a4-2d9b-4c60-972c-95df9e63cd0a",
   "metadata": {},
   "outputs": [],
   "source": [
    "Person(name='Bob', age=2).copy(exclude={\"name\"})"
   ]
  },
  {
   "cell_type": "markdown",
   "id": "93b53a54-8512-47eb-9349-80611f7dbebb",
   "metadata": {},
   "source": [
    "## `BaseModel` Class Methods"
   ]
  },
  {
   "cell_type": "markdown",
   "id": "382365a3-dd4f-4b75-818d-f30de22f3478",
   "metadata": {},
   "source": [
    "### `BaseModel.parse_raw('...') -> BaseModel`"
   ]
  },
  {
   "cell_type": "code",
   "execution_count": 37,
   "id": "0c4a89d5-8e72-45a0-ae90-301b170239af",
   "metadata": {},
   "outputs": [
    {
     "data": {
      "text/html": [
       "<pre style=\"white-space:pre;overflow-x:auto;line-height:normal;font-family:Menlo,'DejaVu Sans Mono',consolas,'Courier New',monospace\"><span style=\"color: #800080; text-decoration-color: #800080; font-weight: bold\">Person</span><span style=\"font-weight: bold\">(</span><span style=\"color: #808000; text-decoration-color: #808000\">name</span>=<span style=\"color: #008000; text-decoration-color: #008000\">'Bob'</span>, <span style=\"color: #808000; text-decoration-color: #808000\">age</span>=<span style=\"color: #008080; text-decoration-color: #008080; font-weight: bold\">2</span><span style=\"font-weight: bold\">)</span>\n",
       "</pre>\n"
      ],
      "text/plain": [
       "\u001b[1;35mPerson\u001b[0m\u001b[1m(\u001b[0m\u001b[33mname\u001b[0m=\u001b[32m'Bob'\u001b[0m, \u001b[33mage\u001b[0m=\u001b[1;36m2\u001b[0m\u001b[1m)\u001b[0m\n"
      ]
     },
     "metadata": {},
     "output_type": "display_data"
    }
   ],
   "source": [
    "Person.parse_raw('{\"name\": \"Bob\", \"age\": 2}')"
   ]
  },
  {
   "cell_type": "markdown",
   "id": "cd8936e2-ef63-4479-96fa-27bce78a54ff",
   "metadata": {},
   "source": [
    "Implementation pseudo-code:\n",
    "```python\n",
    "class BaseModel:\n",
    "    def parse_raw(self, stringified: str):\n",
    "        data: dict = self.config.json_loads(stringified)\n",
    "        return self.parse_obj(data)\n",
    "```"
   ]
  },
  {
   "cell_type": "markdown",
   "id": "9f4b5c6f-1ffc-4568-abb6-3e97d0b6f4b6",
   "metadata": {},
   "source": [
    "### `BaseModel.parse_obj(other_model: BaseModel) -> BaseModel` "
   ]
  },
  {
   "cell_type": "code",
   "execution_count": 38,
   "id": "4d41b02d-9545-43f0-9164-42dc379751ea",
   "metadata": {},
   "outputs": [
    {
     "data": {
      "text/html": [
       "<pre style=\"white-space:pre;overflow-x:auto;line-height:normal;font-family:Menlo,'DejaVu Sans Mono',consolas,'Courier New',monospace\"><span style=\"color: #800080; text-decoration-color: #800080; font-weight: bold\">Person</span><span style=\"font-weight: bold\">(</span><span style=\"color: #808000; text-decoration-color: #808000\">name</span>=<span style=\"color: #008000; text-decoration-color: #008000\">'ami'</span>, <span style=\"color: #808000; text-decoration-color: #808000\">can_walk</span>=<span style=\"color: #ff0000; text-decoration-color: #ff0000; font-style: italic\">False</span><span style=\"font-weight: bold\">)</span>\n",
       "</pre>\n"
      ],
      "text/plain": [
       "\u001b[1;35mPerson\u001b[0m\u001b[1m(\u001b[0m\u001b[33mname\u001b[0m=\u001b[32m'ami'\u001b[0m, \u001b[33mcan_walk\u001b[0m=\u001b[3;91mFalse\u001b[0m\u001b[1m)\u001b[0m\n"
      ]
     },
     "metadata": {},
     "output_type": "display_data"
    }
   ],
   "source": [
    "class Person(BaseModel):\n",
    "    name: str\n",
    "    can_walk: bool\n",
    "    \n",
    "class Baby(Person):\n",
    "    can_walk = False\n",
    "    \n",
    "ami = Baby(name='ami')\n",
    "Person.parse_obj(ami)"
   ]
  },
  {
   "cell_type": "markdown",
   "id": "377d8fff-7d5d-49a8-8494-06db7eea2331",
   "metadata": {},
   "source": [
    "Implementation pseudo-code:\n",
    "```python\n",
    "class BaseModel:\n",
    "    @classmethod\n",
    "    def parse_obj(cls, other_model: BaseModel) -> BaseModel:\n",
    "        return cls(**dict(other_model))\n",
    "```"
   ]
  },
  {
   "cell_type": "markdown",
   "id": "ef961fad-8d07-4a54-a878-e66b3e0ce3a2",
   "metadata": {},
   "source": [
    "### `BaseModel.parse_file(path: Path) -> BaseModel` "
   ]
  },
  {
   "cell_type": "markdown",
   "id": "97c0d3c3-c51f-4aed-8f07-5a0237433a3c",
   "metadata": {},
   "source": [
    "### `BaseModel.from_orm(other_obj: Any) -> BaseModel` "
   ]
  },
  {
   "cell_type": "code",
   "execution_count": 39,
   "id": "26273e8e-228c-4219-a3f0-175656083f08",
   "metadata": {},
   "outputs": [
    {
     "data": {
      "text/html": [
       "<pre style=\"white-space:pre;overflow-x:auto;line-height:normal;font-family:Menlo,'DejaVu Sans Mono',consolas,'Courier New',monospace\"><span style=\"color: #800080; text-decoration-color: #800080; font-weight: bold\">Person</span><span style=\"font-weight: bold\">(</span><span style=\"color: #808000; text-decoration-color: #808000\">name</span>=<span style=\"color: #008000; text-decoration-color: #008000\">'zorg'</span>, <span style=\"color: #808000; text-decoration-color: #808000\">can_walk</span>=<span style=\"color: #00ff00; text-decoration-color: #00ff00; font-style: italic\">True</span><span style=\"font-weight: bold\">)</span>\n",
       "</pre>\n"
      ],
      "text/plain": [
       "\u001b[1;35mPerson\u001b[0m\u001b[1m(\u001b[0m\u001b[33mname\u001b[0m=\u001b[32m'zorg'\u001b[0m, \u001b[33mcan_walk\u001b[0m=\u001b[3;92mTrue\u001b[0m\u001b[1m)\u001b[0m\n"
      ]
     },
     "metadata": {},
     "output_type": "display_data"
    }
   ],
   "source": [
    "class Person(BaseModel):\n",
    "    name: str\n",
    "    can_walk: bool\n",
    "    \n",
    "    class Config:\n",
    "        orm_mode=True\n",
    "    \n",
    "class Alien:   # Not BaseModel!\n",
    "    def __init__(self, name, can_walk):\n",
    "        self.name = name\n",
    "        self.can_walk = can_walk\n",
    "    \n",
    "    \n",
    "zorg = Alien(name='zorg', can_walk=True)\n",
    "Person.from_orm(zorg)"
   ]
  },
  {
   "cell_type": "markdown",
   "id": "2bf49a36-dea8-496a-9441-a0035e27f602",
   "metadata": {},
   "source": [
    "### `BaseModel.schema(...) -> dict`\n",
    "The OpenAPI Schema."
   ]
  },
  {
   "cell_type": "code",
   "execution_count": 40,
   "id": "62fb437b-29ab-49cd-80ce-c188294d6d26",
   "metadata": {},
   "outputs": [
    {
     "data": {
      "text/html": [
       "<pre style=\"white-space:pre;overflow-x:auto;line-height:normal;font-family:Menlo,'DejaVu Sans Mono',consolas,'Courier New',monospace\">\n",
       "<span style=\"font-weight: bold\">{</span>\n",
       "    <span style=\"color: #008000; text-decoration-color: #008000\">'title'</span>: <span style=\"color: #008000; text-decoration-color: #008000\">'Person'</span>,\n",
       "    <span style=\"color: #008000; text-decoration-color: #008000\">'type'</span>: <span style=\"color: #008000; text-decoration-color: #008000\">'object'</span>,\n",
       "    <span style=\"color: #008000; text-decoration-color: #008000\">'properties'</span>: <span style=\"font-weight: bold\">{</span><span style=\"color: #008000; text-decoration-color: #008000\">'name'</span>: <span style=\"font-weight: bold\">{</span><span style=\"color: #008000; text-decoration-color: #008000\">'title'</span>: <span style=\"color: #008000; text-decoration-color: #008000\">'Name'</span>, <span style=\"color: #008000; text-decoration-color: #008000\">'type'</span>: <span style=\"color: #008000; text-decoration-color: #008000\">'string'</span><span style=\"font-weight: bold\">}}</span>,\n",
       "    <span style=\"color: #008000; text-decoration-color: #008000\">'required'</span>: <span style=\"font-weight: bold\">[</span><span style=\"color: #008000; text-decoration-color: #008000\">'name'</span><span style=\"font-weight: bold\">]</span>\n",
       "<span style=\"font-weight: bold\">}</span>\n",
       "</pre>\n"
      ],
      "text/plain": [
       "\n",
       "\u001b[1m{\u001b[0m\n",
       "    \u001b[32m'title'\u001b[0m: \u001b[32m'Person'\u001b[0m,\n",
       "    \u001b[32m'type'\u001b[0m: \u001b[32m'object'\u001b[0m,\n",
       "    \u001b[32m'properties'\u001b[0m: \u001b[1m{\u001b[0m\u001b[32m'name'\u001b[0m: \u001b[1m{\u001b[0m\u001b[32m'title'\u001b[0m: \u001b[32m'Name'\u001b[0m, \u001b[32m'type'\u001b[0m: \u001b[32m'string'\u001b[0m\u001b[1m}\u001b[0m\u001b[1m}\u001b[0m,\n",
       "    \u001b[32m'required'\u001b[0m: \u001b[1m[\u001b[0m\u001b[32m'name'\u001b[0m\u001b[1m]\u001b[0m\n",
       "\u001b[1m}\u001b[0m\n"
      ]
     },
     "metadata": {},
     "output_type": "display_data"
    }
   ],
   "source": [
    "class Person(BaseModel):\n",
    "    name: str\n",
    "    \n",
    "Person(name=\"Bob\").schema()"
   ]
  },
  {
   "cell_type": "markdown",
   "id": "ff1e35f5-e923-48a7-941c-62860a5e2e4f",
   "metadata": {},
   "source": [
    "### `BaseModel.schema_json(...) -> str`\n",
    "The stringified OpenAPI Schema."
   ]
  },
  {
   "cell_type": "code",
   "execution_count": 41,
   "id": "40a5791b-2be4-4edf-a107-b80dec46eb69",
   "metadata": {},
   "outputs": [
    {
     "data": {
      "text/html": [
       "<pre style=\"white-space:pre;overflow-x:auto;line-height:normal;font-family:Menlo,'DejaVu Sans Mono',consolas,'Courier New',monospace\"><span style=\"color: #008000; text-decoration-color: #008000\">'{\"title\": \"Person\", \"type\": \"object\", \"properties\": {\"name\": {\"title\": \"Name\", \"type\": \"string\"}}, \"required\": [\"name\"]}'</span>\n",
       "</pre>\n"
      ],
      "text/plain": [
       "\u001b[32m'\u001b[0m\u001b[32m{\u001b[0m\u001b[32m\"title\": \"Person\", \"type\": \"object\", \"properties\": \u001b[0m\u001b[32m{\u001b[0m\u001b[32m\"name\": \u001b[0m\u001b[32m{\u001b[0m\u001b[32m\"title\": \"Name\", \"type\": \"string\"\u001b[0m\u001b[32m}\u001b[0m\u001b[32m}\u001b[0m\u001b[32m, \"required\": \u001b[0m\u001b[32m[\u001b[0m\u001b[32m\"name\"\u001b[0m\u001b[32m]\u001b[0m\u001b[32m}\u001b[0m\u001b[32m'\u001b[0m\n"
      ]
     },
     "metadata": {},
     "output_type": "display_data"
    }
   ],
   "source": [
    "class Person(BaseModel):\n",
    "    name: str\n",
    "    \n",
    "Person(name=\"Bob\").schema_json()"
   ]
  },
  {
   "cell_type": "markdown",
   "id": "29314de6-6f85-4497-a6bd-db14f26e5234",
   "metadata": {},
   "source": [
    "# Validators"
   ]
  },
  {
   "cell_type": "markdown",
   "id": "4a1df04e-1874-4154-9bf6-0295d5fbc275",
   "metadata": {},
   "source": [
    "Validators are one way to extend custom field validations."
   ]
  },
  {
   "cell_type": "code",
   "execution_count": 44,
   "id": "270450cd-ed3f-4d63-95f9-4cfb65e96473",
   "metadata": {},
   "outputs": [
    {
     "data": {
      "text/html": [
       "<pre style=\"white-space:pre;overflow-x:auto;line-height:normal;font-family:Menlo,'DejaVu Sans Mono',consolas,'Courier New',monospace\"><span style=\"color: #800000; text-decoration-color: #800000\">╭─────────────────────────────── </span><span style=\"color: #800000; text-decoration-color: #800000; font-weight: bold\">Traceback </span><span style=\"color: #bf7f7f; text-decoration-color: #bf7f7f; font-weight: bold\">(most recent call last)</span><span style=\"color: #800000; text-decoration-color: #800000\"> ────────────────────────────────╮</span>\n",
       "<span style=\"color: #800000; text-decoration-color: #800000\">│</span> <span style=\"color: #bfbf7f; text-decoration-color: #bfbf7f\">/var/folders/6d/v_8150015qz_fxg7lkd8qgxw0000gn/T/ipykernel_83285/</span><span style=\"color: #808000; text-decoration-color: #808000; font-weight: bold\">1821131272.py</span>:<span style=\"color: #0000ff; text-decoration-color: #0000ff\">12</span> in <span style=\"color: #00ff00; text-decoration-color: #00ff00\">&lt;module&gt;</span>    <span style=\"color: #800000; text-decoration-color: #800000\">│</span>\n",
       "<span style=\"color: #800000; text-decoration-color: #800000\">│</span>                                                                                                  <span style=\"color: #800000; text-decoration-color: #800000\">│</span>\n",
       "<span style=\"color: #800000; text-decoration-color: #800000\">│</span> <span style=\"color: #800000; text-decoration-color: #800000; font-style: italic\">[Errno 2] No such file or directory: </span>                                                            <span style=\"color: #800000; text-decoration-color: #800000\">│</span>\n",
       "<span style=\"color: #800000; text-decoration-color: #800000\">│</span> <span style=\"color: #800000; text-decoration-color: #800000; font-style: italic\">'/var/folders/6d/v_8150015qz_fxg7lkd8qgxw0000gn/T/ipykernel_83285/1821131272.py'</span>                 <span style=\"color: #800000; text-decoration-color: #800000\">│</span>\n",
       "<span style=\"color: #800000; text-decoration-color: #800000\">│</span>                                                                                                  <span style=\"color: #800000; text-decoration-color: #800000\">│</span>\n",
       "<span style=\"color: #800000; text-decoration-color: #800000\">│</span> <span style=\"color: #bfbf7f; text-decoration-color: #bfbf7f\">/Users/gilad/dev/advanced-python-crash-course/2022/env/lib/python3.10/site-packages/pydantic/</span><span style=\"color: #808000; text-decoration-color: #808000; font-weight: bold\">mai</span> <span style=\"color: #800000; text-decoration-color: #800000\">│</span>\n",
       "<span style=\"color: #800000; text-decoration-color: #800000\">│</span> <span style=\"color: #808000; text-decoration-color: #808000; font-weight: bold\">n.py</span>:<span style=\"color: #0000ff; text-decoration-color: #0000ff\">342</span> in <span style=\"color: #00ff00; text-decoration-color: #00ff00\">__init__</span>                                                                             <span style=\"color: #800000; text-decoration-color: #800000\">│</span>\n",
       "<span style=\"color: #800000; text-decoration-color: #800000\">│</span>                                                                                                  <span style=\"color: #800000; text-decoration-color: #800000\">│</span>\n",
       "<span style=\"color: #800000; text-decoration-color: #800000\">│</span>   <span style=\"color: #7f7f7f; text-decoration-color: #7f7f7f\"> 339 │   │   # Uses something other than `self` the first arg to allow \"self\" as a settable a</span>  <span style=\"color: #800000; text-decoration-color: #800000\">│</span>\n",
       "<span style=\"color: #800000; text-decoration-color: #800000\">│</span>   <span style=\"color: #7f7f7f; text-decoration-color: #7f7f7f\"> 340 │   │   </span>values, fields_set, validation_error = validate_model(__pydantic_self__.<span style=\"color: #ff0000; text-decoration-color: #ff0000\">__class_</span>  <span style=\"color: #800000; text-decoration-color: #800000\">│</span>\n",
       "<span style=\"color: #800000; text-decoration-color: #800000\">│</span>   <span style=\"color: #7f7f7f; text-decoration-color: #7f7f7f\"> 341 │   │   </span><span style=\"color: #0000ff; text-decoration-color: #0000ff\">if</span> validation_error:                                                              <span style=\"color: #800000; text-decoration-color: #800000\">│</span>\n",
       "<span style=\"color: #800000; text-decoration-color: #800000\">│</span> <span style=\"color: #800000; text-decoration-color: #800000\">❱ </span> 342 <span style=\"color: #7f7f7f; text-decoration-color: #7f7f7f\">│   │   │   </span><span style=\"color: #0000ff; text-decoration-color: #0000ff\">raise</span> validation_error                                                        <span style=\"color: #800000; text-decoration-color: #800000\">│</span>\n",
       "<span style=\"color: #800000; text-decoration-color: #800000\">│</span>   <span style=\"color: #7f7f7f; text-decoration-color: #7f7f7f\"> 343 │   │   </span><span style=\"color: #0000ff; text-decoration-color: #0000ff\">try</span>:                                                                              <span style=\"color: #800000; text-decoration-color: #800000\">│</span>\n",
       "<span style=\"color: #800000; text-decoration-color: #800000\">│</span>   <span style=\"color: #7f7f7f; text-decoration-color: #7f7f7f\"> 344 │   │   │   </span>object_setattr(__pydantic_self__, <span style=\"color: #808000; text-decoration-color: #808000\">'__dict__'</span>, values)                         <span style=\"color: #800000; text-decoration-color: #800000\">│</span>\n",
       "<span style=\"color: #800000; text-decoration-color: #800000\">│</span>   <span style=\"color: #7f7f7f; text-decoration-color: #7f7f7f\"> 345 │   │   </span><span style=\"color: #0000ff; text-decoration-color: #0000ff\">except</span> <span style=\"color: #00ffff; text-decoration-color: #00ffff\">TypeError</span> <span style=\"color: #0000ff; text-decoration-color: #0000ff\">as</span> e:                                                            <span style=\"color: #800000; text-decoration-color: #800000\">│</span>\n",
       "<span style=\"color: #800000; text-decoration-color: #800000\">╰──────────────────────────────────────────────────────────────────────────────────────────────────╯</span>\n",
       "<span style=\"color: #ff0000; text-decoration-color: #ff0000; font-weight: bold\">ValidationError: </span><span style=\"color: #008080; text-decoration-color: #008080; font-weight: bold\">1</span> validation error for Person\n",
       "name\n",
       "  must be alphanumeric <span style=\"font-weight: bold\">(</span><span style=\"color: #808000; text-decoration-color: #808000\">type</span>=<span style=\"color: #800080; text-decoration-color: #800080\">assertion_error</span><span style=\"font-weight: bold\">)</span>\n",
       "</pre>\n"
      ],
      "text/plain": [
       "\u001b[31m╭─\u001b[0m\u001b[31m──────────────────────────────\u001b[0m\u001b[31m \u001b[0m\u001b[1;31mTraceback \u001b[0m\u001b[1;2;31m(most recent call last)\u001b[0m\u001b[31m \u001b[0m\u001b[31m───────────────────────────────\u001b[0m\u001b[31m─╮\u001b[0m\n",
       "\u001b[31m│\u001b[0m \u001b[2;33m/var/folders/6d/v_8150015qz_fxg7lkd8qgxw0000gn/T/ipykernel_83285/\u001b[0m\u001b[1;33m1821131272.py\u001b[0m:\u001b[94m12\u001b[0m in \u001b[92m<module>\u001b[0m    \u001b[31m│\u001b[0m\n",
       "\u001b[31m│\u001b[0m                                                                                                  \u001b[31m│\u001b[0m\n",
       "\u001b[31m│\u001b[0m \u001b[3;31m[Errno 2] No such file or directory: \u001b[0m                                                            \u001b[31m│\u001b[0m\n",
       "\u001b[31m│\u001b[0m \u001b[3;31m'/var/folders/6d/v_8150015qz_fxg7lkd8qgxw0000gn/T/ipykernel_83285/1821131272.py'\u001b[0m                 \u001b[31m│\u001b[0m\n",
       "\u001b[31m│\u001b[0m                                                                                                  \u001b[31m│\u001b[0m\n",
       "\u001b[31m│\u001b[0m \u001b[2;33m/Users/gilad/dev/advanced-python-crash-course/2022/env/lib/python3.10/site-packages/pydantic/\u001b[0m\u001b[1;33mmai\u001b[0m \u001b[31m│\u001b[0m\n",
       "\u001b[31m│\u001b[0m \u001b[1;33mn.py\u001b[0m:\u001b[94m342\u001b[0m in \u001b[92m__init__\u001b[0m                                                                             \u001b[31m│\u001b[0m\n",
       "\u001b[31m│\u001b[0m                                                                                                  \u001b[31m│\u001b[0m\n",
       "\u001b[31m│\u001b[0m   \u001b[2m 339 \u001b[0m\u001b[2m│   │   \u001b[0m\u001b[2m# Uses something other than `self` the first arg to allow \"self\" as a settable a\u001b[0m  \u001b[31m│\u001b[0m\n",
       "\u001b[31m│\u001b[0m   \u001b[2m 340 \u001b[0m\u001b[2m│   │   \u001b[0mvalues, fields_set, validation_error = validate_model(__pydantic_self__.\u001b[91m__class_\u001b[0m  \u001b[31m│\u001b[0m\n",
       "\u001b[31m│\u001b[0m   \u001b[2m 341 \u001b[0m\u001b[2m│   │   \u001b[0m\u001b[94mif\u001b[0m validation_error:                                                              \u001b[31m│\u001b[0m\n",
       "\u001b[31m│\u001b[0m \u001b[31m❱ \u001b[0m 342 \u001b[2m│   │   │   \u001b[0m\u001b[94mraise\u001b[0m validation_error                                                        \u001b[31m│\u001b[0m\n",
       "\u001b[31m│\u001b[0m   \u001b[2m 343 \u001b[0m\u001b[2m│   │   \u001b[0m\u001b[94mtry\u001b[0m:                                                                              \u001b[31m│\u001b[0m\n",
       "\u001b[31m│\u001b[0m   \u001b[2m 344 \u001b[0m\u001b[2m│   │   │   \u001b[0mobject_setattr(__pydantic_self__, \u001b[33m'\u001b[0m\u001b[33m__dict__\u001b[0m\u001b[33m'\u001b[0m, values)                         \u001b[31m│\u001b[0m\n",
       "\u001b[31m│\u001b[0m   \u001b[2m 345 \u001b[0m\u001b[2m│   │   \u001b[0m\u001b[94mexcept\u001b[0m \u001b[96mTypeError\u001b[0m \u001b[94mas\u001b[0m e:                                                            \u001b[31m│\u001b[0m\n",
       "\u001b[31m╰──────────────────────────────────────────────────────────────────────────────────────────────────╯\u001b[0m\n",
       "\u001b[1;91mValidationError: \u001b[0m\u001b[1;36m1\u001b[0m validation error for Person\n",
       "name\n",
       "  must be alphanumeric \u001b[1m(\u001b[0m\u001b[33mtype\u001b[0m=\u001b[35massertion_error\u001b[0m\u001b[1m)\u001b[0m\n"
      ]
     },
     "metadata": {},
     "output_type": "display_data"
    }
   ],
   "source": [
    "# Straight from the docs\n",
    "from pydantic import validator\n",
    "\n",
    "class Person(BaseModel):\n",
    "    name: str\n",
    "\n",
    "    @validator('name')\n",
    "    def name_alphanumeric(cls, name):\n",
    "        assert name.isalnum(), 'must be alphanumeric'\n",
    "        return name\n",
    "    \n",
    "Person(name='Bob!')  # ValidationError: name must be alphanumeric"
   ]
  },
  {
   "cell_type": "markdown",
   "id": "7b535c91-fd33-4f97-a969-e03b5662e6c7",
   "metadata": {},
   "source": [
    "With `values` argument, we can access all the fields that already have been defined"
   ]
  },
  {
   "cell_type": "code",
   "execution_count": 45,
   "id": "b6a21be5-9b9e-470e-ab88-e2bde919101a",
   "metadata": {
    "collapsed": true,
    "jupyter": {
     "outputs_hidden": true
    },
    "tags": []
   },
   "outputs": [
    {
     "data": {
      "text/html": [
       "<pre style=\"white-space:pre;overflow-x:auto;line-height:normal;font-family:Menlo,'DejaVu Sans Mono',consolas,'Courier New',monospace\"><span style=\"color: #800000; text-decoration-color: #800000\">╭─────────────────────────────── </span><span style=\"color: #800000; text-decoration-color: #800000; font-weight: bold\">Traceback </span><span style=\"color: #bf7f7f; text-decoration-color: #bf7f7f; font-weight: bold\">(most recent call last)</span><span style=\"color: #800000; text-decoration-color: #800000\"> ────────────────────────────────╮</span>\n",
       "<span style=\"color: #800000; text-decoration-color: #800000\">│</span> <span style=\"color: #bfbf7f; text-decoration-color: #bfbf7f\">/var/folders/6d/v_8150015qz_fxg7lkd8qgxw0000gn/T/ipykernel_83285/</span><span style=\"color: #808000; text-decoration-color: #808000; font-weight: bold\">815947463.py</span>:<span style=\"color: #0000ff; text-decoration-color: #0000ff\">11</span> in <span style=\"color: #00ff00; text-decoration-color: #00ff00\">&lt;module&gt;</span>     <span style=\"color: #800000; text-decoration-color: #800000\">│</span>\n",
       "<span style=\"color: #800000; text-decoration-color: #800000\">│</span>                                                                                                  <span style=\"color: #800000; text-decoration-color: #800000\">│</span>\n",
       "<span style=\"color: #800000; text-decoration-color: #800000\">│</span> <span style=\"color: #800000; text-decoration-color: #800000; font-style: italic\">[Errno 2] No such file or directory: </span>                                                            <span style=\"color: #800000; text-decoration-color: #800000\">│</span>\n",
       "<span style=\"color: #800000; text-decoration-color: #800000\">│</span> <span style=\"color: #800000; text-decoration-color: #800000; font-style: italic\">'/var/folders/6d/v_8150015qz_fxg7lkd8qgxw0000gn/T/ipykernel_83285/815947463.py'</span>                  <span style=\"color: #800000; text-decoration-color: #800000\">│</span>\n",
       "<span style=\"color: #800000; text-decoration-color: #800000\">│</span>                                                                                                  <span style=\"color: #800000; text-decoration-color: #800000\">│</span>\n",
       "<span style=\"color: #800000; text-decoration-color: #800000\">│</span> <span style=\"color: #bfbf7f; text-decoration-color: #bfbf7f\">/Users/gilad/dev/advanced-python-crash-course/2022/env/lib/python3.10/site-packages/pydantic/</span><span style=\"color: #808000; text-decoration-color: #808000; font-weight: bold\">mai</span> <span style=\"color: #800000; text-decoration-color: #800000\">│</span>\n",
       "<span style=\"color: #800000; text-decoration-color: #800000\">│</span> <span style=\"color: #808000; text-decoration-color: #808000; font-weight: bold\">n.py</span>:<span style=\"color: #0000ff; text-decoration-color: #0000ff\">342</span> in <span style=\"color: #00ff00; text-decoration-color: #00ff00\">__init__</span>                                                                             <span style=\"color: #800000; text-decoration-color: #800000\">│</span>\n",
       "<span style=\"color: #800000; text-decoration-color: #800000\">│</span>                                                                                                  <span style=\"color: #800000; text-decoration-color: #800000\">│</span>\n",
       "<span style=\"color: #800000; text-decoration-color: #800000\">│</span>   <span style=\"color: #7f7f7f; text-decoration-color: #7f7f7f\"> 339 │   │   # Uses something other than `self` the first arg to allow \"self\" as a settable a</span>  <span style=\"color: #800000; text-decoration-color: #800000\">│</span>\n",
       "<span style=\"color: #800000; text-decoration-color: #800000\">│</span>   <span style=\"color: #7f7f7f; text-decoration-color: #7f7f7f\"> 340 │   │   </span>values, fields_set, validation_error = validate_model(__pydantic_self__.<span style=\"color: #ff0000; text-decoration-color: #ff0000\">__class_</span>  <span style=\"color: #800000; text-decoration-color: #800000\">│</span>\n",
       "<span style=\"color: #800000; text-decoration-color: #800000\">│</span>   <span style=\"color: #7f7f7f; text-decoration-color: #7f7f7f\"> 341 │   │   </span><span style=\"color: #0000ff; text-decoration-color: #0000ff\">if</span> validation_error:                                                              <span style=\"color: #800000; text-decoration-color: #800000\">│</span>\n",
       "<span style=\"color: #800000; text-decoration-color: #800000\">│</span> <span style=\"color: #800000; text-decoration-color: #800000\">❱ </span> 342 <span style=\"color: #7f7f7f; text-decoration-color: #7f7f7f\">│   │   │   </span><span style=\"color: #0000ff; text-decoration-color: #0000ff\">raise</span> validation_error                                                        <span style=\"color: #800000; text-decoration-color: #800000\">│</span>\n",
       "<span style=\"color: #800000; text-decoration-color: #800000\">│</span>   <span style=\"color: #7f7f7f; text-decoration-color: #7f7f7f\"> 343 │   │   </span><span style=\"color: #0000ff; text-decoration-color: #0000ff\">try</span>:                                                                              <span style=\"color: #800000; text-decoration-color: #800000\">│</span>\n",
       "<span style=\"color: #800000; text-decoration-color: #800000\">│</span>   <span style=\"color: #7f7f7f; text-decoration-color: #7f7f7f\"> 344 │   │   │   </span>object_setattr(__pydantic_self__, <span style=\"color: #808000; text-decoration-color: #808000\">'__dict__'</span>, values)                         <span style=\"color: #800000; text-decoration-color: #800000\">│</span>\n",
       "<span style=\"color: #800000; text-decoration-color: #800000\">│</span>   <span style=\"color: #7f7f7f; text-decoration-color: #7f7f7f\"> 345 │   │   </span><span style=\"color: #0000ff; text-decoration-color: #0000ff\">except</span> <span style=\"color: #00ffff; text-decoration-color: #00ffff\">TypeError</span> <span style=\"color: #0000ff; text-decoration-color: #0000ff\">as</span> e:                                                            <span style=\"color: #800000; text-decoration-color: #800000\">│</span>\n",
       "<span style=\"color: #800000; text-decoration-color: #800000\">╰──────────────────────────────────────────────────────────────────────────────────────────────────╯</span>\n",
       "<span style=\"color: #ff0000; text-decoration-color: #ff0000; font-weight: bold\">ValidationError: </span><span style=\"color: #008080; text-decoration-color: #008080; font-weight: bold\">1</span> validation error for Person\n",
       "last_name\n",
       "  last_name must be different than first_name <span style=\"font-weight: bold\">(</span><span style=\"color: #808000; text-decoration-color: #808000\">type</span>=<span style=\"color: #800080; text-decoration-color: #800080\">assertion_error</span><span style=\"font-weight: bold\">)</span>\n",
       "</pre>\n"
      ],
      "text/plain": [
       "\u001b[31m╭─\u001b[0m\u001b[31m──────────────────────────────\u001b[0m\u001b[31m \u001b[0m\u001b[1;31mTraceback \u001b[0m\u001b[1;2;31m(most recent call last)\u001b[0m\u001b[31m \u001b[0m\u001b[31m───────────────────────────────\u001b[0m\u001b[31m─╮\u001b[0m\n",
       "\u001b[31m│\u001b[0m \u001b[2;33m/var/folders/6d/v_8150015qz_fxg7lkd8qgxw0000gn/T/ipykernel_83285/\u001b[0m\u001b[1;33m815947463.py\u001b[0m:\u001b[94m11\u001b[0m in \u001b[92m<module>\u001b[0m     \u001b[31m│\u001b[0m\n",
       "\u001b[31m│\u001b[0m                                                                                                  \u001b[31m│\u001b[0m\n",
       "\u001b[31m│\u001b[0m \u001b[3;31m[Errno 2] No such file or directory: \u001b[0m                                                            \u001b[31m│\u001b[0m\n",
       "\u001b[31m│\u001b[0m \u001b[3;31m'/var/folders/6d/v_8150015qz_fxg7lkd8qgxw0000gn/T/ipykernel_83285/815947463.py'\u001b[0m                  \u001b[31m│\u001b[0m\n",
       "\u001b[31m│\u001b[0m                                                                                                  \u001b[31m│\u001b[0m\n",
       "\u001b[31m│\u001b[0m \u001b[2;33m/Users/gilad/dev/advanced-python-crash-course/2022/env/lib/python3.10/site-packages/pydantic/\u001b[0m\u001b[1;33mmai\u001b[0m \u001b[31m│\u001b[0m\n",
       "\u001b[31m│\u001b[0m \u001b[1;33mn.py\u001b[0m:\u001b[94m342\u001b[0m in \u001b[92m__init__\u001b[0m                                                                             \u001b[31m│\u001b[0m\n",
       "\u001b[31m│\u001b[0m                                                                                                  \u001b[31m│\u001b[0m\n",
       "\u001b[31m│\u001b[0m   \u001b[2m 339 \u001b[0m\u001b[2m│   │   \u001b[0m\u001b[2m# Uses something other than `self` the first arg to allow \"self\" as a settable a\u001b[0m  \u001b[31m│\u001b[0m\n",
       "\u001b[31m│\u001b[0m   \u001b[2m 340 \u001b[0m\u001b[2m│   │   \u001b[0mvalues, fields_set, validation_error = validate_model(__pydantic_self__.\u001b[91m__class_\u001b[0m  \u001b[31m│\u001b[0m\n",
       "\u001b[31m│\u001b[0m   \u001b[2m 341 \u001b[0m\u001b[2m│   │   \u001b[0m\u001b[94mif\u001b[0m validation_error:                                                              \u001b[31m│\u001b[0m\n",
       "\u001b[31m│\u001b[0m \u001b[31m❱ \u001b[0m 342 \u001b[2m│   │   │   \u001b[0m\u001b[94mraise\u001b[0m validation_error                                                        \u001b[31m│\u001b[0m\n",
       "\u001b[31m│\u001b[0m   \u001b[2m 343 \u001b[0m\u001b[2m│   │   \u001b[0m\u001b[94mtry\u001b[0m:                                                                              \u001b[31m│\u001b[0m\n",
       "\u001b[31m│\u001b[0m   \u001b[2m 344 \u001b[0m\u001b[2m│   │   │   \u001b[0mobject_setattr(__pydantic_self__, \u001b[33m'\u001b[0m\u001b[33m__dict__\u001b[0m\u001b[33m'\u001b[0m, values)                         \u001b[31m│\u001b[0m\n",
       "\u001b[31m│\u001b[0m   \u001b[2m 345 \u001b[0m\u001b[2m│   │   \u001b[0m\u001b[94mexcept\u001b[0m \u001b[96mTypeError\u001b[0m \u001b[94mas\u001b[0m e:                                                            \u001b[31m│\u001b[0m\n",
       "\u001b[31m╰──────────────────────────────────────────────────────────────────────────────────────────────────╯\u001b[0m\n",
       "\u001b[1;91mValidationError: \u001b[0m\u001b[1;36m1\u001b[0m validation error for Person\n",
       "last_name\n",
       "  last_name must be different than first_name \u001b[1m(\u001b[0m\u001b[33mtype\u001b[0m=\u001b[35massertion_error\u001b[0m\u001b[1m)\u001b[0m\n"
      ]
     },
     "metadata": {},
     "output_type": "display_data"
    }
   ],
   "source": [
    "class Person(BaseModel):\n",
    "    first_name: str\n",
    "    last_name: str\n",
    "\n",
    "    @validator('last_name')\n",
    "    def last_name_is_different_than_first_name(cls, last_name, values: dict):\n",
    "        assert last_name != values['first_name'], 'last_name must be different than first_name'\n",
    "        return last_name\n",
    "\n",
    "\n",
    "Person(first_name='Bob', last_name='Bob')  # ValidationError"
   ]
  },
  {
   "cell_type": "code",
   "execution_count": null,
   "id": "fbb979dc-e91e-41e7-b690-5db71b712a8b",
   "metadata": {},
   "outputs": [],
   "source": [
    "class Person(BaseModel):\n",
    "    funny_numbers: list[int]\n",
    "\n",
    "    @validator('funny_numbers', each_item=True)\n",
    "    def each_number_is_positive(cls, number):\n",
    "        print(number)\n",
    "        assert isinstance(number, int) and number > 0, \"must be a positive int\"\n",
    "        return number\n",
    "\n",
    "\n",
    "Person(funny_numbers=[1, 59, -1])\n",
    "# 1\n",
    "# 59\n",
    "# -1\n",
    "# ValidationError: funny_numbers[2] must be a positive int"
   ]
  },
  {
   "cell_type": "code",
   "execution_count": null,
   "id": "4c4af466-adef-41b0-8a5a-95e24e571e7b",
   "metadata": {},
   "outputs": [],
   "source": [
    "class Person(BaseModel):\n",
    "    funny_numbers: list[int]\n",
    "    friends: list[str]\n",
    "\n",
    "    @validator('funny_numbers', 'friends')\n",
    "    def make_sure_has_friends_even_though_loves_funny_numbers(cls, field):\n",
    "        assert field, 'all fields must be truthy'\n",
    "        return field\n",
    "\n",
    "\n",
    "Person(funny_numbers=[-1, 59, 707], friends=[])  # ValidationError"
   ]
  },
  {
   "cell_type": "code",
   "execution_count": null,
   "id": "990530ec-a691-488d-a9c2-72fda86d314c",
   "metadata": {},
   "outputs": [],
   "source": [
    "class Person(BaseModel):\n",
    "    funny_numbers: list[int]\n",
    "    friends: list[str]\n",
    "\n",
    "    @validator('*')\n",
    "    def its_2_40_am(cls, field):\n",
    "        assert field, 'all fields must be truthy'\n",
    "        return field\n",
    "\n",
    "\n",
    "Person(funny_numbers=[-1, 59, 707], friends=[])  # ValidationError"
   ]
  },
  {
   "cell_type": "markdown",
   "id": "5b789e87-3bad-49c1-b760-b535cbc37040",
   "metadata": {},
   "source": [
    "And weirdly, they're also getters. Otherwise the field is set to `None`!"
   ]
  },
  {
   "cell_type": "code",
   "execution_count": 167,
   "id": "71b0c22b-5196-4c53-958a-be3d9e6a7baf",
   "metadata": {},
   "outputs": [
    {
     "data": {
      "text/html": [
       "<pre style=\"white-space:pre;overflow-x:auto;line-height:normal;font-family:Menlo,'DejaVu Sans Mono',consolas,'Courier New',monospace\"><span style=\"color: #800080; text-decoration-color: #800080; font-weight: bold\">YellingPerson</span><span style=\"font-weight: bold\">(</span><span style=\"color: #808000; text-decoration-color: #808000\">name</span>=<span style=\"color: #008000; text-decoration-color: #008000\">'BOB'</span><span style=\"font-weight: bold\">)</span>\n",
       "</pre>\n"
      ],
      "text/plain": [
       "\u001b[1;35mYellingPerson\u001b[0m\u001b[1m(\u001b[0m\u001b[33mname\u001b[0m=\u001b[32m'BOB'\u001b[0m\u001b[1m)\u001b[0m\n"
      ]
     },
     "metadata": {},
     "output_type": "display_data"
    }
   ],
   "source": [
    "class YellingPerson(BaseModel):\n",
    "    name: str\n",
    "    \n",
    "    @validator('name')\n",
    "    def uppercase(cls, name):\n",
    "        return name.upper()\n",
    "    \n",
    "YellingPerson(name='Bob')"
   ]
  },
  {
   "cell_type": "markdown",
   "id": "69d116cc-35da-4afa-a4f5-5569b81f1a76",
   "metadata": {},
   "source": [
    "# Config"
   ]
  },
  {
   "cell_type": "markdown",
   "id": "076d20e3-48d5-47c8-b04d-5f3794d11043",
   "metadata": {},
   "source": [
    "## Serialization config options"
   ]
  },
  {
   "cell_type": "markdown",
   "id": "6b775a4c-6194-4892-ac93-8c3ccec80b9f",
   "metadata": {},
   "source": [
    "### `json_dumps: ( object_dict: dict, *, default ) -> str`\n",
    "Defaults to stdlib `json.dumps`"
   ]
  },
  {
   "cell_type": "code",
   "execution_count": null,
   "id": "bdf49e08-f429-4d1a-bdb7-cf3ac8aadfae",
   "metadata": {},
   "outputs": [],
   "source": [
    "def yell(object_dict: dict, *, default: callable) -> str:\n",
    "    loud_dict = {}\n",
    "    for key, value in object_dict.items():\n",
    "        loud_dict[key] = str(value).upper() + \"!!!\"\n",
    "    return json.dumps(loud_dict, default=default)\n",
    "\n",
    "    \n",
    "\n",
    "class Robot(BaseModel):\n",
    "    name: str\n",
    "    date_of_birth: datetime\n",
    "    \n",
    "    class Config:\n",
    "        json_dumps = yell\n",
    "\n",
    "\n",
    "Robot(name='r2d2',\n",
    "      date_of_birth=datetime(1977, 1, 1)\n",
    "     ).json()"
   ]
  },
  {
   "cell_type": "markdown",
   "id": "42ff3c7c-23e1-422d-be9e-8a85e487293e",
   "metadata": {},
   "source": [
    "### `json_loads: ( stringified_object: str ) -> dict`\n",
    "Defaults to stdlib `json.loads`"
   ]
  },
  {
   "cell_type": "code",
   "execution_count": null,
   "id": "7c8cb2d6-0970-4d82-90d6-7b31cb789093",
   "metadata": {},
   "outputs": [],
   "source": [
    "def yell(object_dict: dict, *, default: callable) -> str:\n",
    "    loud_dict = {}\n",
    "    for key, value in object_dict.items():\n",
    "        loud_dict[key] = str(value).upper() + \"!!!\"\n",
    "    return json.dumps(loud_dict, default=default)\n",
    "\n",
    "\n",
    "def everyone_calm_down(stringified_object: str) -> dict:\n",
    "    calm: str = stringified_object.lower().replace(\"!\", \"\")\n",
    "    return json.loads(calm)\n",
    "\n",
    "\n",
    "class Robot(BaseModel):\n",
    "    name: str\n",
    "    date_of_birth: datetime\n",
    "\n",
    "    class Config:\n",
    "        json_dumps = yell\n",
    "        json_loads = everyone_calm_down\n",
    "\n",
    "\n",
    "stringified = Robot(name=\"r2d2\", date_of_birth=datetime(1977, 1, 1)).json()\n",
    "Robot.parse_raw(stringified)"
   ]
  },
  {
   "cell_type": "markdown",
   "id": "38afe9fb-e564-4428-8a43-883b61451dc7",
   "metadata": {},
   "source": [
    "### `json_encoders: dict[type, callable]`\n",
    "When `Config.json_dumps` fails to convert a value.\n",
    "\n",
    "Defaults to a robust json encoder that does a better job than stdlib's `json.dumps`."
   ]
  },
  {
   "cell_type": "code",
   "execution_count": null,
   "id": "63c64679-fdca-4fea-b93d-2c682dd0bf90",
   "metadata": {},
   "outputs": [],
   "source": [
    "class Robot(BaseModel):\n",
    "    name: str\n",
    "    date_of_birth: datetime\n",
    "    \n",
    "    class Config:\n",
    "        json_encoders = {str:  str.upper,              # ✘ Ignored!\n",
    "                         datetime: datetime.timestamp  # ✔ Used\n",
    "                        }\n",
    "\n",
    "\n",
    "Robot(name='r2d2',                        # Not uppercase\n",
    "      date_of_birth=datetime(1977, 1, 1)  # 220917600.0\n",
    "     ).json()"
   ]
  },
  {
   "cell_type": "code",
   "execution_count": null,
   "id": "cfce6e7b-49f8-4be8-9b96-fcd4e2dd9cc7",
   "metadata": {},
   "outputs": [],
   "source": [
    "class JamesBond(BaseModel):    \n",
    "    class Config:\n",
    "        json_dumps = lambda object_dict, default=None: \"Bond... James Bond\"\n",
    "        \n",
    "\n",
    "class Robot(BaseModel):\n",
    "    name: str\n",
    "    date_of_birth: datetime\n",
    "    owner: JamesBond\n",
    "    \n",
    "    class Config:\n",
    "        json_encoders = {str:  str.upper,               # ✘ Ignored\n",
    "                         datetime: datetime.timestamp,  # ✔ Used\n",
    "                         JamesBond: JamesBond.json      # ✔ Used because models_as_dict=False\n",
    "                        }\n",
    "\n",
    "\n",
    "Robot(name='r2d2',                         \n",
    "      date_of_birth=datetime(1977, 1, 1),\n",
    "      owner=JamesBond()                    # really stupid example\n",
    "     ).json(models_as_dict=False)"
   ]
  },
  {
   "cell_type": "markdown",
   "id": "68f77669-11c9-4e81-a70d-a30e942c3846",
   "metadata": {},
   "source": [
    "## Controlling strictness"
   ]
  },
  {
   "cell_type": "markdown",
   "id": "339702da-5b75-4bc7-b30d-71343f3e8732",
   "metadata": {},
   "source": [
    "### `validate_all`\n",
    "Whether to validate field defaults (default: `False`)"
   ]
  },
  {
   "cell_type": "code",
   "execution_count": null,
   "id": "462177f6-2752-45d2-a9a0-47e2ef9afb77",
   "metadata": {},
   "outputs": [],
   "source": [
    "class Person(BaseModel):\n",
    "    age: int = \"Hello\"\n",
    "\n",
    "Person()  # all good ✔"
   ]
  },
  {
   "cell_type": "code",
   "execution_count": null,
   "id": "49ff9a0c-05a1-4e43-af80-0c377fd09583",
   "metadata": {},
   "outputs": [],
   "source": [
    "class Person(BaseModel):\n",
    "    age: int = \"Hello\"\n",
    "    \n",
    "    class Config:\n",
    "        validate_all = True\n",
    "\n",
    "Person()  # ValidationError: not a valid integer"
   ]
  },
  {
   "cell_type": "markdown",
   "id": "d8f85b40-9f57-4a41-b8df-970649155bfc",
   "metadata": {},
   "source": [
    "### `validate_assignment`\n",
    "Default `False`"
   ]
  },
  {
   "cell_type": "code",
   "execution_count": null,
   "id": "f632b80b-cbd4-4613-afee-6258887c47f6",
   "metadata": {},
   "outputs": [],
   "source": [
    "class Person(BaseModel):\n",
    "    age: int\n",
    "\n",
    "p = Person(age=42)\n",
    "p.age = \"Hello\"  # all good ✔"
   ]
  },
  {
   "cell_type": "code",
   "execution_count": null,
   "id": "53c47272-9792-48ec-8574-884abb7ca47f",
   "metadata": {},
   "outputs": [],
   "source": [
    "class Person(BaseModel):\n",
    "    age: int = \"Hello\"\n",
    "    \n",
    "    class Config:\n",
    "        validate_assignment = True\n",
    "\n",
    "p = Person(age=42)\n",
    "p.age = \"Hello\"  # ValidationError: not a valid integer"
   ]
  },
  {
   "cell_type": "markdown",
   "id": "8aab7547-cbff-404b-b00e-0d2c1d85c1cc",
   "metadata": {},
   "source": [
    "### `extra: Extra`\n",
    "Default `Extra.ignore`"
   ]
  },
  {
   "cell_type": "code",
   "execution_count": 87,
   "id": "cb017e7f-1870-4847-89f2-19dca0a8d677",
   "metadata": {},
   "outputs": [
    {
     "data": {
      "text/html": [
       "<pre style=\"white-space:pre;overflow-x:auto;line-height:normal;font-family:Menlo,'DejaVu Sans Mono',consolas,'Courier New',monospace\"><span style=\"color: #800080; text-decoration-color: #800080; font-weight: bold\">Person</span><span style=\"font-weight: bold\">(</span><span style=\"color: #808000; text-decoration-color: #808000\">age</span>=<span style=\"color: #008080; text-decoration-color: #008080; font-weight: bold\">42</span><span style=\"font-weight: bold\">)</span>\n",
       "</pre>\n"
      ],
      "text/plain": [
       "\u001b[1;35mPerson\u001b[0m\u001b[1m(\u001b[0m\u001b[33mage\u001b[0m=\u001b[1;36m42\u001b[0m\u001b[1m)\u001b[0m\n"
      ]
     },
     "metadata": {},
     "output_type": "display_data"
    }
   ],
   "source": [
    "class Person(BaseModel):\n",
    "    age: int\n",
    "\n",
    "Person(age=42, what=\"no idea\")"
   ]
  },
  {
   "cell_type": "code",
   "execution_count": 88,
   "id": "6d21dcb7-68bd-45d1-97cc-ce27eba9667a",
   "metadata": {},
   "outputs": [
    {
     "data": {
      "text/html": [
       "<pre style=\"white-space:pre;overflow-x:auto;line-height:normal;font-family:Menlo,'DejaVu Sans Mono',consolas,'Courier New',monospace\"><span style=\"color: #800080; text-decoration-color: #800080; font-weight: bold\">Person</span><span style=\"font-weight: bold\">(</span><span style=\"color: #808000; text-decoration-color: #808000\">age</span>=<span style=\"color: #008080; text-decoration-color: #008080; font-weight: bold\">42</span>, <span style=\"color: #808000; text-decoration-color: #808000\">what</span>=<span style=\"color: #008000; text-decoration-color: #008000\">'no idea'</span><span style=\"font-weight: bold\">)</span>\n",
       "</pre>\n"
      ],
      "text/plain": [
       "\u001b[1;35mPerson\u001b[0m\u001b[1m(\u001b[0m\u001b[33mage\u001b[0m=\u001b[1;36m42\u001b[0m, \u001b[33mwhat\u001b[0m=\u001b[32m'no idea'\u001b[0m\u001b[1m)\u001b[0m\n"
      ]
     },
     "metadata": {},
     "output_type": "display_data"
    }
   ],
   "source": [
    "from pydantic import Extra\n",
    "class Person(BaseModel):\n",
    "    age: int\n",
    "    \n",
    "    class Config:\n",
    "        extra = Extra.allow\n",
    "\n",
    "Person(age=42, what=\"no idea\")"
   ]
  },
  {
   "cell_type": "code",
   "execution_count": null,
   "id": "1acc0d36-143c-4b7e-8634-d564c045759b",
   "metadata": {},
   "outputs": [],
   "source": [
    "from pydantic import Extra\n",
    "class Person(BaseModel):\n",
    "    age: int\n",
    "    \n",
    "    class Config:\n",
    "        extra = Extra.forbid\n",
    "\n",
    "Person(age=42, what=\"no idea\")  # ValidationError: extra fields not permitted"
   ]
  },
  {
   "cell_type": "markdown",
   "id": "e0a267ec-d216-4ffc-b5a5-470cdda14b27",
   "metadata": {},
   "source": [
    "### `allow_mutation`\n",
    "Default `True`"
   ]
  },
  {
   "cell_type": "code",
   "execution_count": 91,
   "id": "045c82a5-f67c-4c0a-9d5d-00642c260bba",
   "metadata": {},
   "outputs": [],
   "source": [
    "class Person(BaseModel):\n",
    "    age: int\n",
    "\n",
    "p = Person(age=42)\n",
    "p.age = 100  # all good ✔"
   ]
  },
  {
   "cell_type": "code",
   "execution_count": null,
   "id": "c85c3383-7307-4974-95ce-b947e84e312e",
   "metadata": {},
   "outputs": [],
   "source": [
    "class Person(BaseModel):\n",
    "    age: int\n",
    "    \n",
    "    class Config:\n",
    "        allow_mutation = False\n",
    "\n",
    "p = Person(age=42)\n",
    "p.age = 100  # TypeError: \"Person\" is immutable and does not support item assignment"
   ]
  },
  {
   "cell_type": "markdown",
   "id": "9ae63cb2-249a-4838-a6f5-9d0301eaa9f5",
   "metadata": {},
   "source": [
    "## Other useful configurations"
   ]
  },
  {
   "cell_type": "markdown",
   "id": "81da19cb-0b3d-4b54-8f10-78a1b4ab14f8",
   "metadata": {},
   "source": [
    "### `use_enum_values`\n",
    "Default: `False`"
   ]
  },
  {
   "cell_type": "code",
   "execution_count": 102,
   "id": "490a50f2-e0fc-4bf1-9455-f01515f24901",
   "metadata": {},
   "outputs": [
    {
     "data": {
      "text/html": [
       "<pre style=\"white-space:pre;overflow-x:auto;line-height:normal;font-family:Menlo,'DejaVu Sans Mono',consolas,'Courier New',monospace\"><span style=\"font-weight: bold\">{</span><span style=\"color: #008000; text-decoration-color: #008000\">'ma_ochlim_haiom'</span>: <span style=\"font-weight: bold\">&lt;</span><span style=\"color: #ff00ff; text-decoration-color: #ff00ff; font-weight: bold\">Food.japo:</span><span style=\"color: #000000; text-decoration-color: #000000\"> </span><span style=\"color: #008000; text-decoration-color: #008000\">'japo'</span><span style=\"font-weight: bold\">&gt;}</span>\n",
       "</pre>\n"
      ],
      "text/plain": [
       "\u001b[1m{\u001b[0m\u001b[32m'ma_ochlim_haiom'\u001b[0m: \u001b[1m<\u001b[0m\u001b[1;95mFood.japo:\u001b[0m\u001b[39m \u001b[0m\u001b[32m'japo'\u001b[0m\u001b[1m>\u001b[0m\u001b[1m}\u001b[0m\n"
      ]
     },
     "metadata": {},
     "output_type": "display_data"
    }
   ],
   "source": [
    "from enum import Enum\n",
    "\n",
    "class Food(Enum):\n",
    "    japo = 'japo'\n",
    "    sari = 'sari'\n",
    "\n",
    "class Elad(BaseModel):\n",
    "    ma_ochlim_haiom: Food\n",
    "\n",
    "\n",
    "Elad(ma_ochlim_haiom='japo').dict()"
   ]
  },
  {
   "cell_type": "code",
   "execution_count": 103,
   "id": "fe047b8c-b40a-4c94-8acd-cb1dd55fef34",
   "metadata": {},
   "outputs": [
    {
     "data": {
      "text/html": [
       "<pre style=\"white-space:pre;overflow-x:auto;line-height:normal;font-family:Menlo,'DejaVu Sans Mono',consolas,'Courier New',monospace\"><span style=\"font-weight: bold\">{</span><span style=\"color: #008000; text-decoration-color: #008000\">'ma_ochlim_haiom'</span>: <span style=\"color: #008000; text-decoration-color: #008000\">'japo'</span><span style=\"font-weight: bold\">}</span>\n",
       "</pre>\n"
      ],
      "text/plain": [
       "\u001b[1m{\u001b[0m\u001b[32m'ma_ochlim_haiom'\u001b[0m: \u001b[32m'japo'\u001b[0m\u001b[1m}\u001b[0m\n"
      ]
     },
     "metadata": {},
     "output_type": "display_data"
    }
   ],
   "source": [
    "from enum import Enum\n",
    "\n",
    "class Food(Enum):\n",
    "    japo = 'japo'\n",
    "    sari = 'sari'\n",
    "\n",
    "class Elad(BaseModel):\n",
    "    ma_ochlim_haiom: Food\n",
    "    \n",
    "    class Config:\n",
    "        use_enum_values = True\n",
    "\n",
    "Elad(ma_ochlim_haiom='japo').dict()"
   ]
  },
  {
   "cell_type": "markdown",
   "id": "1bd4a107-13fd-4f05-bc5a-44eb425a53cd",
   "metadata": {},
   "source": [
    "### `orm_mode`\n",
    "Like we've seen before:"
   ]
  },
  {
   "cell_type": "code",
   "execution_count": 106,
   "id": "6b7efdb8-e6b4-45e2-887f-5f3abe5b58ea",
   "metadata": {},
   "outputs": [
    {
     "data": {
      "text/html": [
       "<pre style=\"white-space:pre;overflow-x:auto;line-height:normal;font-family:Menlo,'DejaVu Sans Mono',consolas,'Courier New',monospace\"><span style=\"color: #800080; text-decoration-color: #800080; font-weight: bold\">Person</span><span style=\"font-weight: bold\">(</span><span style=\"color: #808000; text-decoration-color: #808000\">name</span>=<span style=\"color: #008000; text-decoration-color: #008000\">'zorg'</span>, <span style=\"color: #808000; text-decoration-color: #808000\">can_walk</span>=<span style=\"color: #00ff00; text-decoration-color: #00ff00; font-style: italic\">True</span><span style=\"font-weight: bold\">)</span>\n",
       "</pre>\n"
      ],
      "text/plain": [
       "\u001b[1;35mPerson\u001b[0m\u001b[1m(\u001b[0m\u001b[33mname\u001b[0m=\u001b[32m'zorg'\u001b[0m, \u001b[33mcan_walk\u001b[0m=\u001b[3;92mTrue\u001b[0m\u001b[1m)\u001b[0m\n"
      ]
     },
     "metadata": {},
     "output_type": "display_data"
    }
   ],
   "source": [
    "class Person(BaseModel):\n",
    "    name: str\n",
    "    can_walk: bool\n",
    "    \n",
    "    class Config:\n",
    "        orm_mode=True\n",
    "    \n",
    "class Alien:   # Not BaseModel!\n",
    "    def __init__(self, name, can_walk):\n",
    "        self.name = name\n",
    "        self.can_walk = can_walk\n",
    "    \n",
    "    \n",
    "zorg = Alien(name='zorg', can_walk=True)\n",
    "Person.from_orm(zorg)"
   ]
  },
  {
   "cell_type": "markdown",
   "id": "747ca837-121e-4b26-9816-62ffd40f1baf",
   "metadata": {},
   "source": [
    "### `arbitrary_types_allowed`\n",
    "Like `orm_mode`, but on the field level:"
   ]
  },
  {
   "cell_type": "code",
   "execution_count": null,
   "id": "2255ec39-8d69-4f96-8f81-1f840939bdf7",
   "metadata": {},
   "outputs": [],
   "source": [
    "class MyCoolStringComposition:\n",
    "    def __init__(self, string):\n",
    "        self._string = string\n",
    "\n",
    "class Person(BaseModel):\n",
    "    name: MyCoolStringComposition\n",
    "    \n",
    "\n",
    "Person(name=MyCoolStringComposition('bob'))  # RuntimeError"
   ]
  },
  {
   "cell_type": "code",
   "execution_count": 114,
   "id": "354e81e1-5044-4616-aa02-03cae5ab76ea",
   "metadata": {},
   "outputs": [
    {
     "data": {
      "text/html": [
       "<pre style=\"white-space:pre;overflow-x:auto;line-height:normal;font-family:Menlo,'DejaVu Sans Mono',consolas,'Courier New',monospace\"><span style=\"color: #800080; text-decoration-color: #800080; font-weight: bold\">Person</span><span style=\"font-weight: bold\">(</span><span style=\"color: #808000; text-decoration-color: #808000\">name</span>=<span style=\"font-weight: bold\">&lt;</span><span style=\"color: #ff00ff; text-decoration-color: #ff00ff; font-weight: bold\">__main__.MyCoolStringComposition</span><span style=\"color: #000000; text-decoration-color: #000000\"> object at </span><span style=\"color: #008080; text-decoration-color: #008080; font-weight: bold\">0x107306e90</span><span style=\"font-weight: bold\">&gt;)</span>\n",
       "</pre>\n"
      ],
      "text/plain": [
       "\u001b[1;35mPerson\u001b[0m\u001b[1m(\u001b[0m\u001b[33mname\u001b[0m=\u001b[1m<\u001b[0m\u001b[1;95m__main__.MyCoolStringComposition\u001b[0m\u001b[39m object at \u001b[0m\u001b[1;36m0x107306e90\u001b[0m\u001b[1m>\u001b[0m\u001b[1m)\u001b[0m\n"
      ]
     },
     "metadata": {},
     "output_type": "display_data"
    }
   ],
   "source": [
    "class MyCoolStringComposition:\n",
    "    def __init__(self, string):\n",
    "        self._string = string\n",
    "\n",
    "class Person(BaseModel):\n",
    "    name: MyCoolStringComposition\n",
    "    \n",
    "    class Config:\n",
    "        arbitrary_types_allowed = True\n",
    "    \n",
    "\n",
    "Person(name=MyCoolStringComposition('bob'))    # all good ✔"
   ]
  },
  {
   "cell_type": "markdown",
   "id": "0ba56504-f897-4531-a0fb-1fa67946b030",
   "metadata": {},
   "source": [
    "### `smart_union`\n",
    "Default: `False`, which is shitat matzliach. Whatever works first."
   ]
  },
  {
   "cell_type": "code",
   "execution_count": 104,
   "id": "ad605478-fe5e-4138-b4cd-4d12719e3ec9",
   "metadata": {},
   "outputs": [
    {
     "data": {
      "text/html": [
       "<pre style=\"white-space:pre;overflow-x:auto;line-height:normal;font-family:Menlo,'DejaVu Sans Mono',consolas,'Courier New',monospace\"><span style=\"color: #800080; text-decoration-color: #800080; font-weight: bold\">Person</span><span style=\"font-weight: bold\">(</span><span style=\"color: #808000; text-decoration-color: #808000\">personal_id</span>=<span style=\"color: #008000; text-decoration-color: #008000\">'1234'</span><span style=\"font-weight: bold\">)</span>\n",
       "</pre>\n"
      ],
      "text/plain": [
       "\u001b[1;35mPerson\u001b[0m\u001b[1m(\u001b[0m\u001b[33mpersonal_id\u001b[0m=\u001b[32m'1234'\u001b[0m\u001b[1m)\u001b[0m\n"
      ]
     },
     "metadata": {},
     "output_type": "display_data"
    }
   ],
   "source": [
    "class Person(BaseModel):\n",
    "    personal_id: str | int\n",
    "\n",
    "\n",
    "Person(personal_id=1234)"
   ]
  },
  {
   "cell_type": "code",
   "execution_count": 105,
   "id": "ea1d3123-6220-4c10-9e2c-a5c5d104cb66",
   "metadata": {},
   "outputs": [
    {
     "data": {
      "text/html": [
       "<pre style=\"white-space:pre;overflow-x:auto;line-height:normal;font-family:Menlo,'DejaVu Sans Mono',consolas,'Courier New',monospace\"><span style=\"color: #800080; text-decoration-color: #800080; font-weight: bold\">Person</span><span style=\"font-weight: bold\">(</span><span style=\"color: #808000; text-decoration-color: #808000\">personal_id</span>=<span style=\"color: #008080; text-decoration-color: #008080; font-weight: bold\">1234</span><span style=\"font-weight: bold\">)</span>\n",
       "</pre>\n"
      ],
      "text/plain": [
       "\u001b[1;35mPerson\u001b[0m\u001b[1m(\u001b[0m\u001b[33mpersonal_id\u001b[0m=\u001b[1;36m1234\u001b[0m\u001b[1m)\u001b[0m\n"
      ]
     },
     "metadata": {},
     "output_type": "display_data"
    }
   ],
   "source": [
    "class Person(BaseModel):\n",
    "    personal_id: str | int\n",
    "    \n",
    "    class Config:\n",
    "        smart_union = True\n",
    "\n",
    "\n",
    "Person(personal_id=1234)"
   ]
  },
  {
   "cell_type": "markdown",
   "id": "9d6c1244-a4d0-46ff-933b-3a7806369f25",
   "metadata": {},
   "source": [
    "# Settings"
   ]
  },
  {
   "cell_type": "markdown",
   "id": "58d90808-b6e2-40c2-b95b-8b8d080a0c02",
   "metadata": {},
   "source": [
    "Pydantic offers a `BaseSettings` class, that interacts with environment variables, `.env` files and file secrets."
   ]
  },
  {
   "cell_type": "markdown",
   "id": "894af5fa-dce0-4cec-9c73-9fbd051f1c70",
   "metadata": {},
   "source": [
    "### `.dotenv`"
   ]
  },
  {
   "cell_type": "code",
   "execution_count": 169,
   "id": "c866ea9d-7582-4877-836b-9769444ae9dd",
   "metadata": {},
   "outputs": [],
   "source": [
    "from pydantic import BaseSettings\n",
    "\n",
    "class Settings(BaseSettings):\n",
    "    password: str\n",
    "    \n",
    "    class Config:\n",
    "        env_file = '.env'"
   ]
  },
  {
   "cell_type": "code",
   "execution_count": 174,
   "id": "f0997403-d2b4-4969-bc16-adb8820271ca",
   "metadata": {},
   "outputs": [],
   "source": [
    "!echo 'password=1234' > .env"
   ]
  },
  {
   "cell_type": "code",
   "execution_count": 175,
   "id": "cc042ac2-a0c7-46da-9949-f79bb7495b21",
   "metadata": {},
   "outputs": [
    {
     "name": "stdout",
     "output_type": "stream",
     "text": [
      "password=1234\n"
     ]
    }
   ],
   "source": [
    "!cat .env"
   ]
  },
  {
   "cell_type": "code",
   "execution_count": 176,
   "id": "9735d833-088f-481a-832c-8d303a762361",
   "metadata": {},
   "outputs": [
    {
     "data": {
      "text/html": [
       "<pre style=\"white-space:pre;overflow-x:auto;line-height:normal;font-family:Menlo,'DejaVu Sans Mono',consolas,'Courier New',monospace\"><span style=\"color: #800080; text-decoration-color: #800080; font-weight: bold\">Settings</span><span style=\"font-weight: bold\">(</span><span style=\"color: #808000; text-decoration-color: #808000\">password</span>=<span style=\"color: #008000; text-decoration-color: #008000\">'1234'</span><span style=\"font-weight: bold\">)</span>\n",
       "</pre>\n"
      ],
      "text/plain": [
       "\u001b[1;35mSettings\u001b[0m\u001b[1m(\u001b[0m\u001b[33mpassword\u001b[0m=\u001b[32m'1234'\u001b[0m\u001b[1m)\u001b[0m\n"
      ]
     },
     "metadata": {},
     "output_type": "display_data"
    }
   ],
   "source": [
    "Settings()"
   ]
  },
  {
   "cell_type": "markdown",
   "id": "143ee304-04ad-4bcb-a06a-3dc591cd0dab",
   "metadata": {},
   "source": [
    "### Environment variables (take precedence over .env)"
   ]
  },
  {
   "cell_type": "code",
   "execution_count": 179,
   "id": "1988e9a9-79ac-480e-bb78-df6e4d1b7d3d",
   "metadata": {},
   "outputs": [
    {
     "name": "stdout",
     "output_type": "stream",
     "text": [
      "env: password=4321\n"
     ]
    }
   ],
   "source": [
    "%env password=4321"
   ]
  },
  {
   "cell_type": "code",
   "execution_count": 180,
   "id": "a2866722-a235-48d0-80b9-01a8a82a1c5d",
   "metadata": {},
   "outputs": [
    {
     "data": {
      "text/html": [
       "<pre style=\"white-space:pre;overflow-x:auto;line-height:normal;font-family:Menlo,'DejaVu Sans Mono',consolas,'Courier New',monospace\"><span style=\"color: #800080; text-decoration-color: #800080; font-weight: bold\">Settings</span><span style=\"font-weight: bold\">(</span><span style=\"color: #808000; text-decoration-color: #808000\">password</span>=<span style=\"color: #008000; text-decoration-color: #008000\">'4321'</span><span style=\"font-weight: bold\">)</span>\n",
       "</pre>\n"
      ],
      "text/plain": [
       "\u001b[1;35mSettings\u001b[0m\u001b[1m(\u001b[0m\u001b[33mpassword\u001b[0m=\u001b[32m'4321'\u001b[0m\u001b[1m)\u001b[0m\n"
      ]
     },
     "metadata": {},
     "output_type": "display_data"
    }
   ],
   "source": [
    "Settings()"
   ]
  },
  {
   "cell_type": "markdown",
   "id": "e69f03a4-c1cf-4028-83f5-98ce21c17aa6",
   "metadata": {},
   "source": [
    "### Support for multiple `.env` files"
   ]
  },
  {
   "cell_type": "code",
   "execution_count": 200,
   "id": "3e94761b-2ce7-48b7-9ba8-1d54d49dc4fd",
   "metadata": {},
   "outputs": [],
   "source": [
    "class Settings(BaseSettings):\n",
    "    api_key: str\n",
    "    \n",
    "    class Config:\n",
    "        env_file = '.env', '.env.prod'  # .env.prod wins"
   ]
  },
  {
   "cell_type": "code",
   "execution_count": 193,
   "id": "64b50de4-769b-4828-846d-57fe2ae480e4",
   "metadata": {},
   "outputs": [],
   "source": [
    "!echo 'api_key=9999' > .env.prod"
   ]
  },
  {
   "cell_type": "code",
   "execution_count": 194,
   "id": "c479dc90-6f68-4791-bf70-344caa96849c",
   "metadata": {},
   "outputs": [],
   "source": [
    "!echo 'api_key=8888' > .env"
   ]
  },
  {
   "cell_type": "code",
   "execution_count": 195,
   "id": "b960a829-2658-41ea-b022-c5ad2aed5c74",
   "metadata": {},
   "outputs": [
    {
     "name": "stdout",
     "output_type": "stream",
     "text": [
      "api_key=9999\n"
     ]
    }
   ],
   "source": [
    "!cat .env.prod"
   ]
  },
  {
   "cell_type": "code",
   "execution_count": 196,
   "id": "ef103f0e-4643-448d-abe0-0fbcff9b01a1",
   "metadata": {},
   "outputs": [
    {
     "name": "stdout",
     "output_type": "stream",
     "text": [
      "api_key=8888\n"
     ]
    }
   ],
   "source": [
    "!cat .env"
   ]
  },
  {
   "cell_type": "code",
   "execution_count": 199,
   "id": "d534de60-e78a-43b9-b0be-2de96fa2f2bb",
   "metadata": {},
   "outputs": [
    {
     "data": {
      "text/html": [
       "<pre style=\"white-space:pre;overflow-x:auto;line-height:normal;font-family:Menlo,'DejaVu Sans Mono',consolas,'Courier New',monospace\"><span style=\"color: #800080; text-decoration-color: #800080; font-weight: bold\">Settings</span><span style=\"font-weight: bold\">(</span><span style=\"color: #808000; text-decoration-color: #808000\">api_key</span>=<span style=\"color: #008000; text-decoration-color: #008000\">'9999'</span><span style=\"font-weight: bold\">)</span>\n",
       "</pre>\n"
      ],
      "text/plain": [
       "\u001b[1;35mSettings\u001b[0m\u001b[1m(\u001b[0m\u001b[33mapi_key\u001b[0m=\u001b[32m'9999'\u001b[0m\u001b[1m)\u001b[0m\n"
      ]
     },
     "metadata": {},
     "output_type": "display_data"
    }
   ],
   "source": [
    "Settings()"
   ]
  },
  {
   "cell_type": "markdown",
   "id": "0cbaa6c0-dfd2-492d-ad3d-ac87e87ec962",
   "metadata": {},
   "source": [
    "### `BaseSettings` is a `BaseModel` subclass, so you could do dynamic evaluation, e.g:"
   ]
  },
  {
   "cell_type": "code",
   "execution_count": null,
   "id": "9741a35d-9518-4f0b-8a84-0a856e96e451",
   "metadata": {},
   "outputs": [],
   "source": [
    "class Settings(BaseSettings):\n",
    "    prod_db_write_creds: str\n",
    "    \n",
    "    class Config:\n",
    "        env_file = '.env'\n",
    "        \n",
    "    @validator('prod_db_write_creds')\n",
    "    def get_prod_db_write_creds(cls, prod_db_write_creds):\n",
    "        if os.getlogin() == 'gilad':\n",
    "            return real thing\n",
    "        return 'dev-demo-user.aws.qa'"
   ]
  },
  {
   "cell_type": "markdown",
   "id": "79625fd3-0e7d-4295-aa10-19dabc6f17bb",
   "metadata": {},
   "source": [
    "# Exception Handling"
   ]
  },
  {
   "cell_type": "markdown",
   "id": "4b312422-a822-4716-b6c7-398a3e3b9664",
   "metadata": {},
   "source": [
    "### Pydantic's custom errors are nice wrappers with features"
   ]
  },
  {
   "cell_type": "markdown",
   "id": "a8ead9cf-a37b-4719-887c-e18c63fb3d35",
   "metadata": {},
   "source": [
    "They have methods"
   ]
  },
  {
   "cell_type": "markdown",
   "id": "028ef24e-c651-4729-a357-10400c8d1e13",
   "metadata": {},
   "source": [
    "They have attributes"
   ]
  },
  {
   "cell_type": "markdown",
   "id": "b86d7515-05c9-4bf9-abd1-a4ca5beabf5c",
   "metadata": {},
   "source": [
    "They can be inherited from to create very informative errors"
   ]
  },
  {
   "cell_type": "code",
   "execution_count": null,
   "id": "a9e6eb46-4aea-4813-8f5a-8e315fde5032",
   "metadata": {},
   "outputs": [],
   "source": [
    "from pydantic import PydanticValueError, BaseModel, validator, ValidationError\n",
    "\n",
    "\n",
    "class EmptyName(PydanticValueError):\n",
    "    code = 'empty_name'\n",
    "    msg_template = 'Name cannot be empty. Got \"{name}\" while building {cls.__name__}'\n",
    "\n",
    "\n",
    "\n",
    "class Person(BaseModel):\n",
    "    name: str\n",
    "\n",
    "    @validator('name')\n",
    "    def must_have_value(cls, name):\n",
    "        if not name:\n",
    "            raise EmptyName(name=name, cls=cls)\n",
    "        return name\n",
    "\n",
    "\n",
    "try:\n",
    "    Person(name='')\n",
    "except ValidationError as e:\n",
    "    for error in e.errors():\n",
    "        for key, value in error.items():\n",
    "            print(f'{key}: {value}')\n",
    "    \n",
    "    print('raw_errors: ', e.raw_errors)\n",
    "    print('json: ', e.json())"
   ]
  }
 ],
 "metadata": {
  "kernelspec": {
   "display_name": "python_course",
   "language": "python",
   "name": "python_course"
  },
  "language_info": {
   "codemirror_mode": {
    "name": "ipython",
    "version": 3
   },
   "file_extension": ".py",
   "mimetype": "text/x-python",
   "name": "python",
   "nbconvert_exporter": "python",
   "pygments_lexer": "ipython3",
   "version": "3.10.8"
  }
 },
 "nbformat": 4,
 "nbformat_minor": 5
}
